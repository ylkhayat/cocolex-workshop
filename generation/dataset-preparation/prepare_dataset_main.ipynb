{
 "cells": [
  {
   "cell_type": "code",
   "execution_count": 1,
   "metadata": {},
   "outputs": [],
   "source": [
    "from datasets import load_dataset, DatasetDict\n",
    "import numpy as np\n",
    "from tqdm import tqdm\n",
    "import os\n",
    "import json\n",
    "from sentence_transformers import SentenceTransformer, util\n",
    "import torch\n",
    "import argparse\n",
    "import bm25s"
   ]
  },
  {
   "cell_type": "code",
   "execution_count": 2,
   "metadata": {},
   "outputs": [],
   "source": [
    "chunk_size = 300\n",
    "chunk_overlap = 0.5\n",
    "\n",
    "num_proc = os.cpu_count() - 3"
   ]
  },
  {
   "cell_type": "code",
   "execution_count": 5,
   "metadata": {},
   "outputs": [
    {
     "data": {
      "application/vnd.jupyter.widget-view+json": {
       "model_id": "ecfc173ad886490cb75006c7e4e1b22f",
       "version_major": 2,
       "version_minor": 0
      },
      "text/plain": [
       "Downloading readme:   0%|          | 0.00/494 [00:00<?, ?B/s]"
      ]
     },
     "metadata": {},
     "output_type": "display_data"
    },
    {
     "data": {
      "application/vnd.jupyter.widget-view+json": {
       "model_id": "0b066827d39b4e3b95f79c95fa45db46",
       "version_major": 2,
       "version_minor": 0
      },
      "text/plain": [
       "Downloading data:   0%|          | 0.00/211M [00:00<?, ?B/s]"
      ]
     },
     "metadata": {},
     "output_type": "display_data"
    },
    {
     "data": {
      "application/vnd.jupyter.widget-view+json": {
       "model_id": "5ba01aa99ce14f7fbf47a8203fc86697",
       "version_major": 2,
       "version_minor": 0
      },
      "text/plain": [
       "Generating test split:   0%|          | 0/1116 [00:00<?, ? examples/s]"
      ]
     },
     "metadata": {},
     "output_type": "display_data"
    }
   ],
   "source": [
    "dataset = \"echr_qa\"\n",
    "\n",
    "key_field = \"docid\"\n",
    "if dataset == \"clerc\":\n",
    "    original_dataset = load_dataset(\"jhu-clsp/CLERC\", data_files={\"train\": f\"generation/train.jsonl\",  \"test\": f\"generation/test.jsonl\"})\n",
    "    workshop_hf_name = f\"CLERC-generation-workshop\"\n",
    "elif dataset == \"echr\":\n",
    "    workshop_hf_name = f\"ECHR-generation-workshop\"\n",
    "elif dataset == \"echr_qa\":\n",
    "    workshop_hf_name = f\"ECHR_QA-generation-workshop\"\n",
    "else:\n",
    "    raise ValueError(\"Invalid dataset\")\n",
    "current_chosen_dataset = load_dataset(f\"ylkhayat/{workshop_hf_name}\")"
   ]
  },
  {
   "cell_type": "code",
   "execution_count": 6,
   "metadata": {},
   "outputs": [
    {
     "data": {
      "text/plain": [
       "[['001-45580',\n",
       "  '. The following is an outline of the case, as submitted to the European Commission of Human Rights, and of the procedure before the Commission. A. The Application\\n. The applicants are Irish citizens, members of the same family, and reside in Belfast, Northern Ireland. The first applicant was born in 1938 and she is a housewife. The second applicant, born in 1935, is her husband. The third applicant, born in 1964, is her son. The fourth and fifth applicants are her eldest twin daughters, born in 1967. The sixth applicant is her youngest daughter, born in 1970. The applicants were represented before the Commission by Messrs. Madden and Finucane, Solicitors, Belfast.\\n. The application is directed against the United Kingdom. The respondent Government were represented by their Agents, Mrs. A. Glover and Mr. H. Llewellyn, both of the Foreign and Commonwealth Office.\\n. The case concerns the entry into the applicants\\' home by an army team early one morning in 1982, the subsequent arrest of the first applicant, her detention for two hours for questioning and the taking and retention of records about her, including a photograph. It raises issues under Articles 5, 8 and 13 of the Convention. The second, third, fourth, fifth and sixth applicants also originally complained to the Commission of being required to assemble for half an hour in one room of their house while the first applicant prepared to leave with the army. They further complained about the recording and retention of certain personal details about them, such as their names and relationship to the first applicant. They claimed that they had no effective domestic remedies for these matters. However, the Commission declared these complaints inadmissible in its decision of 10 December 1991 (Appendix II to this Report). B. The Proceedings\\n. The application was introduced on 28 September 1988 and registered on 24 October 1988.\\n. After a preliminary examination of the case by the Rapporteur, the Commission considered the admissibility of the application on 5 September 1989. It decided, pursuant to Rule 42 para. 2 (b) of its Rules of Procedure (former version), to give notice of the application to the respondent Government and to invite the parties to submit their written observations on admissibility and merits. The Government\\'s observations were submitted on 7 February 1990, after an extension of the time-limit fixed for that purpose. The applicants replied on 11 April 1990. The applicants withdrew complaints originally made under Article 3 and Article 5 para. 3 of the Convention.\\n. The Commission considered the state of proceedings in the case on 7 September 1990 and decided to invite the parties to submit any comments they had on the significance of the Court\\'s judgment in the case of Fox, Campbell and Hartley of 30 August 1990 (Eur. Court H.R., Series A no. 182) for the admissibility of the application. The applicants submitted their comments on 31 October 1990. The Government submitted their comments on 24 November 1990, after an extension of the time limit.\\n. On 3 September 1991 the Commission decided, in accordance with Rule 50 (b) of the Rules of Procedure, to invite the parties to submit further observations orally at a hearing. The hearing was held on 10 December 1991. The Government were represented by Mr. H. Llewellyn, Agent, Mr. N. Bratza, QC, Counsel, and Mr. R. Weatherup, Counsel. They were assisted by three advisers. The applicants were represented by Mr. R. Weir, SC, Counsel, Mr. S. Treacy, Counsel, and Mr. P. Madden, Solicitor. Following deliberations on the same day, the Commission declared admissible all the first applicant\\'s complaints and the other applicants\\' complaints under Article 8 of the Convention concerning the entry and search of the family home. It declared inadmissible the remainder of the application (para. 4 above).\\n. The text of the Commission\\'s decision on admissibility was sent to the parties on 17 January 1992 and they were invited to submit further information about the case as well as any other evidence or additional observations relating to any aspect of the merits of the application that they wished. On 14 April 1992, after an extension of the time limit, the Government submitted information and further observations. No communication was received from the applicants.\\n. After declaring the case partly admissible, the Commission, acting in accordance with Article 28 para. 1 (b) of the Convention, also placed itself at the disposal of the parties with a view to securing a friendly settlement. It now finds that there is no basis on which such a settlement can be effected. C. The Present Report\\n. The present Report has been drawn up by the Commission in pursuance of Article 31 para. 1 of the Convention and after deliberations and votes in plenary session, the following members being present: MM. C.A. NØRGAARD, President J.A. FROWEIN E. BUSUTTIL A. WEITZEL H.G. SCHERMERS H. DANELIUS Mrs. G.H. THUNE Sir Basil HALL MM. F. MARTINEZ C.L. ROZAKIS Mrs. J. LIDDY MM. J.-C. GEUS M.P. PELLONPÄÄ B. MARXER\\n. The text of this Report was adopted on 17 February 1993 and is now transmitted to the Committee of Ministers of the Council of Europe, in accordance with Article 31 para. 2 of the Convention.\\n. The purpose of the Report, pursuant to Article 31 of the Convention, is: i) to establish the facts, and ii) to state an opinion as to whether the facts found disclose a breach by the State concerned of its obligations under the Convention.\\n. A schedule setting out the history of the proceedings before the Commission is attached hereto as Appendix I and the Commission\\'s decision on the admissibility of the application as Appendix II.\\n. The full text of the parties\\' submissions, together with the documents lodged as exhibits, are held in the archives of the Commission. II. ESTABLISHMENT OF THE FACTS A. The particular circumstances of the case\\n. The first applicant was arrested at her home on 26 July 1982 by a member of the armed forces under section 14 of the Northern Ireland (Emergency Provisions) Act 1978. She was arrested at 07.00 hours and detained continuously until 09.40 hours when she was released without charge. The arrest operation was carried out by Corporal D., a member of the Women\\'s Royal Army Corps. Corporal D. had attended an army briefing at 06.30 hours that day at which she was told that the first applicant was suspected of involvement in the collection of money for the purchase of arms for the IRA in the United States of America, an offence under section 21 of the 1978 Act and section 10 of the Prevention of Terrorism (Temporary Provisions) Act 1976. On 22 June 1982 two of the first applicant\\'s brothers had been convicted of arms offences in the United States of America connected with the purchase of weapons for the IRA. The Corporal was instructed to go to the first applicant\\'s house to arrest her and to bring her back to the army screening centre at Springfield Road in Belfast.\\n. Corporal D., accompanied by four armed soldiers, entered the first applicant\\'s house at 07.00 hours and asked her to get dressed. Corporal D. went upstairs and told the other applicants to get up and assemble in the living room.\\n. The soldiers did not search the contents of the house but recorded details concerning the interior of the home and personal details concerning the applicants.\\n. At 07.30 hours, when the first applicant came downstairs, Corporal D. stated, \"As a member of Her Majesty\\'s Forces I arrest you\". On being asked by the first applicant under what Section, Corporal D. replied, \"Section 14\".\\n. The first applicant was then driven in a landrover to the army screening centre at Springfield Road. She was escorted into a building and asked to sit for a short time in a small cubicle. At 08.05 hours she was taken before Sergeant B. who asked her questions with a view to completing a standard form to record, inter alia, details of the arrest and screening procedure and personal details. The first applicant refused to answer any questions save to give her name. The interview ended four minutes later. She was then examined by a medical orderly and again refused to answer any questions.\\n. At 08.20 hours she was taken to an interview room and questioned by a soldier in civilian clothes in the presence of Corporal D. She was asked, inter alia, about her brothers and her contacts with them, but she still refused to answer questions. She was photographed without her knowledge or consent. This photograph and the personal details about her, her family and her home were kept on record. She was released at 09.45 hours.\\n. The standard record form, called the screening proforma, recorded the first applicant\\'s name, address, nationality, marital and tenancy status, the chronological details about her arrest, the names of the army officers involved, the names of the other applicants and their relationship to her, her physique and her attitude to the interview. Nothing was recorded under the heading \"suspected offence\". It noted that the applicant had refused to answer questions and that no information had been gained from the interview.\\n. Some 18 months later, on 9 February 1984, the first applicant brought an action for false imprisonment and other torts against the Ministry of Defence.\\n. In those proceedings one of the principal allegations made by the first applicant was that her arrest and detention under section 14 of the 1978 Act had been effected unlawfully and for an improper purpose. The applicants\\' allegations were summarised in the judgment of Murray J. given on 25 October 1985: \"The plaintiff\\'s Counsel launched a series of attacks on the legality of the plaintiff\\'s arrest and detention which varied in thrust between the very broad and the very narrow. In the former class, for example, was an attack in which they alleged that the use of s.14 of the EPA in this case was an example of what they called \\'an institutionalised form of unlawful screening\\' by the military authorities, with the intention of obtaining what Counsel termed \\'low level intelligence\\' from the plaintiff, and without (a) any genuine suspicion on the part of those authorities that she had committed a criminal offence or, (b) any genuine intention on their part of questioning her about a criminal offence alleged to have been committed by her. In this connection the plaintiff herself alleged that Sergeant B. actually told her in the centre in so many words that they knew she had not committed any crime but that her files had been lost and they wanted to \\'update\\' them.\"\\n. In support of this case the first applicant\\'s Counsel not only called and examined the applicant herself but extensively cross-examined the two witnesses called on behalf of the defendants, namely Corporal D., who had effected the arrest of the applicant and who had attended the interview of the applicant at Springfield Road RUC Station, and Sergeant B., who had questioned the applicant on her arrival at Springfield Road with a view to completing Part 1 of the form headed \"Screening Proforma\".\\n. As appears from the transcript of her evidence, Corporal D. gave an account of her briefing on the morning of the arrest. She stated that at the briefing she had been told the first applicant\\'s name and address and the grounds on which she was wanted for questioning, namely her suspected involvement in the collection of money for the purchase of weapons from America. She stated that, having been given this briefing, \"... my suspicions were aroused by my briefing, and my belief was that Mrs. Murray was suspected of collecting money to purchase arms.\"\\n. Under cross-examination Corporal D. denied that the purpose of an arrest and detention under section 14 was to gather intelligence: she maintained that the purpose of the arrest was to question a suspected person about an offence. She stated that her suspicion of the first applicant had been formed on the basis of everything she had been told at the briefing and which she had read in a document which had been supplied to her then. Corporal D. stated that she would not have effected the arrest unless she had been given the grounds on which she was expected to arrest the person. Under repeated questioning, Corporal D. maintained that she had been informed at the briefing, and that she had formed the suspicion, that the applicant had been involved in the collection of money for the purchase of arms from America.\\n. Corporal D. was further examined about the interrogation of the first applicant at Springfield Road. She stated that she recalled that questions had been asked of the applicant by the interviewer and that the applicant had refused to answer any questions put to her. She recalled that the interviewer asked a few more questions when he returned to the room after leaving it but that she could not really remember what they were about. Counsel for the defence returned to the question of the interview of the applicant towards the end of his examination of Corporal D. in the following exchange: Q. \"... Now while you were, just going back for a moment to the time when what I might call the interview, that\\'s when the three of you were in the room, and the two occasions you\\'ve said she had to leave, you took her to, she wanted to go to the lavatory. Do you just have no recollection of any of the questions that were asked?\" A. \"I don\\'t remember the questions as they were asked. There was a question regards money. A question regards America.\"\\n. No cross-examination by the first applicant\\'s counsel was directed to this reply of the witness.\\n. Sergeant B. was examined and cross-examined about his completion of Part 1 of the Screening Proforma when standing at the Reception desk. He stated that the first applicant had given her name but refused to give her address or date of birth or any further information. He expressly denied the applicant\\'s allegation that he had said to her that he knew she was not a criminal and that he just wanted to update her files which had been lost. The information previously recorded in 1980 had in any event not been lost since Sergeant B. gave evidence that it had been used to complete the details on the first page of the Proforma when the applicant had refused to answer any questions.\\n. Under cross-examination Sergeant B. did not accept that the main purpose of screening was to gather general information about the background, family and associates of the arrested person. He expressly denied that the members of a family of persons with suspected terrorist connections might be arrested for the purposes of gathering general intelligence or that an associate of a known member of an illegal organisation might be brought in and screened for the purposes of gathering information. Sergeant B. maintained that a person was only arrested and detained if there existed a suspicion against the person accused of involvement in a criminal offence.\\n. The issue of the interview of the first applicant was specifically addressed in the final submission of defence counsel, in which the following exchange is partially recorded in the transcript: \"MR. CAMPBELL My Lord ... your Lordship has the grounds upon which the arresting officer carries out (inaudible) she then gives evidence and is present throughout the interview ... now I talk about the interview on the very last stage. JUDGE At the table? MR. CAMPBELL At the table, and said that in the course of that interview money and arms that these matters were raised, I can\\'t ... hesitate to use the (inaudible) now that is one point. The other point is this, that this was a lady who on her own admission was not going to answer any questions. She agreed during cross-examination that that was the attitude and so one finds that an interview takes place with somebody who is not prepared to answer any questions but at least the questions are raised with her concerning the matter on which she was arrested. JUDGE Is the substance of that then that because of her fairly firm refusal you would say to answer any questions there was never any probing examination of her collecting money for example? MR. CAMPBELL No my Lord because she ... as she said she wasn\\'t going to answer any questions.\"\\n. In his judgment Murray J. gave detailed consideration to the evidence of Corporal D. and Sergeant B., on the one hand, and the first applicant on the other. Murray J. rejected the applicant\\'s claim that she had been told by Sergeant B. that she was not suspected of any offence and that he was just updating his records. He similarly rejected the applicant\\'s claim that Corporal D. at no time genuinely suspected the applicant of having committed an offence. On the basis of the evidence of Corporal D. herself, who was described as a \"transparently honest witness\", the judge stated that he was \"... quite satisfied that on the basis of her briefing at Musgrave Park she genuinely suspected the plaintiff of having been involved in the offence of collecting money in Northern Ireland for arms.\"\\n. Murray J. also rejected the first applicant\\'s claim that section 14 of the 1978 Act had been used for the purpose of screening to gain low level intelligence: he accepted the evidence of Corporal D. and Sergeant B., which had been tested in cross-examination, that the purpose of the applicant\\'s arrest and detention under the section had not been to gather intelligence but to establish facts concerning the offence of which she was suspected. Murray J. also accepted the evidence of Corporal D. that there were questions addressed to the matters of which the applicant was suspected, but found that in a situation in which the applicant had decided not to answer any questions \"... and with the short detention period permitted by the section, there was little that the interviewer or any of the other staff in the centre could do to pursue their suspicions.\"\\n. In the judgment, Murray J. also dealt with the photographing of the first applicant as follows: \"As I have explained, the plaintiff, unknown to herself, was photographed by a hidden camera while in the Centre. When this emerged at the hearing (the applicant\\'s lawyer) asked for leave (which I granted) to amend the Statement of Claim to include that photograph as an additional tort. (The lawyer) argued that the existence of an express power to photograph an arrested person under s.11(4) of the EPA impliedly excludes a power to photograph a person arrested under s.14. I do not think this argument is sound: s.11(4) allows reasonable force to be used to obtain a photograph but I do not think it permissible to reason from this that merely taking a photograph of a person without interfering physically with the person is in any way whatever tortious. In Salmond & Heuston on Torts (18th ed.) in a passage dealing with the invasion of privacy, the learned authors, relying on a passage in the judgment of Greer L.J. in Tolley v. Fry [1930] 1 KB 467 and 478, express the view that merely taking a photograph of a person without in any way defaming him is not actionable. I have always understood this to be the law in this country.\"\\n. The first applicant\\'s action before the High Court was therefore dismissed. An appeal to the Court of Appeal was also dismissed on 20 February 1987.\\n. In the Court of Appeal, the first applicant again challenged the legality of her arrest on the grounds, inter alia \"... (1) that the arresting officer did not have, or was not sufficiently proved to have, the requisite suspicion ; (2) that she did not have sufficiently detailed knowledge or understanding of what was alleged against the plaintiff to warrant the conclusion that it was an offence which would justify arrest.\"\\n. The Court of Appeal unanimously rejected both grounds of the appeal, holding that the judge had found \"... and his finding was amply justified by the evidence, that (Corporal D.) genuinely suspected the plaintiff of having been involved in the offence of collecting money in Northern Ireland for arms to be purchased in America for use by a proscribed organisation.\"\\n. The Court of Appeal further unanimously rejected the first applicant\\'s complaint that the purpose of her arrest and detention, and the whole purport of her questioning, was a fishing expedition unrelated to the matters of which she was suspected and designed to obtain low grade intelligence about the applicant and others. In rejecting this complaint, the Court of Appeal took full account of the evidence which had been adduced on both sides as to the purpose and nature of the interview of the applicant: \"Corporal D. who was present during the interview had very little recollection of the course of the questions. The only other witness as to the conduct of this interview was the plaintiff. Her account also is sketchy, though in somewhat more detail. What is clear from both witnesses is that the plaintiff was deliberately unhelpful and refused to answer most of the questions. What is certain is that she was asked about her brothers who in the previous month had been convicted of offences connected with the purchase of firearms in the USA for use by the IRA and for which offences they had been sentenced to terms of 2 and 3 years imprisonment. It is clear that it was for such a purchase that the plaintiff was suspected of having collected money, as she stated the interviewer asked her whether she was in contact with them. There is no doubt, therefore, that the interviewer did attempt to pursue the subject of the suspicion which had been the occasion for her arrest but was unable to made any headway.\"\\n. The first applicant\\'s appeal to the Court of Appeal also concerned certain related matters such as the legality of the search of the applicant\\'s house, in respect of which the Court of Appeal found that there was a sufficient basis in section 14(3) of the 1978 Act. The Court of Appeal further found that the army\\'s powers included the right to interrogate a detained person and that the \"screening proforma\" contained no information which might not have been relevant to the resolution of the suspicion. As regards the applicant\\'s complaint regarding the taking of a photograph of her, the Court of Appeal stated as follows: \"The complaint that the plaintiff was photographed without her knowledge can be quickly disposed of. While in the reception room she was asked if she would agree to be photographed and she refused. However, it would appear that later, unknown to her, she was secretly photographed and this only became known to her when part 1 of the screening proforma containing that information was produced. The act of taking the photograph involved nothing in the nature of a physical assault. Whether such an act would constitute an invasion of privacy so as to be actionable in the United States is irrelevant, because the plaintiff can only recover damages if it amounts to a tort falling within one of the recognised branches of the law on the topic. According to the common law there is no remedy if someone takes a photograph of another against his will. Reliance was placed on section 11(4) of the Act by counsel for the plaintiff. This provides: \\'Where a person is arrested under this section, an officer of the Royal Ulster Constabulary not below the rank of chief inspector may order him to be photographed and to have his finger and palm prints taken by a constable, and a constable may use such reasonable force as may be necessary for that purpose.\\' This provision gives power to the police to order the taking of finger prints without the necessity of charging the person concerned and applying for an order of the magistrate under article 61 of the Magistrates Courts (Northern Ireland) Order 1981, which contains no comparable provision as to the taking of photographs. The taking of finger prints otherwise than by consent must involve an assault and I am satisfied that section 11(4) was enacted not to legalise the taking of photographs without consent, but to legalise the taking of photographs or finger prints in circumstances where there would otherwise have been an illegal assault. It does not involve the implication that the taking of a photograph without violence and without consent is actionable.\"\\n. The first applicant was granted leave by the Court of Appeal to appeal to the House of Lords. This appeal was rejected in a decision of 25 May 1988.\\n. In the House of Lords, the applicant did not pursue the allegation that she had not been arrested on the basis of a genuine and honest suspicion that she had committed an offence. As Lord Griffiths noted: \"This primary attack failed because the judge held that he was satisfied that Corporal D. was an entirely honest witness and that after her briefing she did suspect the plaintiff of the offences involved in collecting money for the IRA, and thus had the limited power of arrest and detention conferred on members of the armed forces by section 14 of the Act of 1978. No appeal is pursued before your Lordships in respect of this finding of the judge.\"\\n. The applicant did however pursue an allegation in the House of Lords that since she was only lawfully arrested at 07.30 hours she had been unlawfully detained between 07.00 and 07.30 hours. The House of Lords found that a person is arrested from the moment he is subject to restraint and that the first applicant was therefore under arrest from the moment that Corporal D. identified her on entering the house at 07.00 hours. It made no difference that the words of arrest were communicated to the applicant at 07.30 hours. In this respect Lord Griffiths stated as follows: \"... Therefore, the plaintiff submits, the period of detention before arrest was unlawful and the Ministry of Defence liable for the tort of unlawful imprisonment during that period of half an hour whilst she was getting dressed. If the plaintiff had been told she was under arrest the moment she identified herself, it would not have made the slightest difference to the sequence of events before she left the house. It would have been wholly unreasonable to take her off half-clad, to the army centre, and the same half-hour would have elapsed while she gathered herself together and completed her toilet and dressing. It would seem a strange result that in these circumstances, whether or not she has an action for false imprisonment should depend upon whether the words of arrest are spoken on entering or leaving the house, when the practical effect of the difference on the plaintiff is non-existent.\"\\n. The first applicant had also maintained that the failure to inform her that she was arrested until the soldiers were about to leave the house rendered the arrest unlawful. This submission was also rejected by the House of Lords. Lord Griffiths held as follows: \"It is a feature of the very limited power of arrest contained in Section 14 that a member of the armed forces does not have to tell the arrested person the offence of which he is suspected, for it is specifically provided by section 14(2) that it is sufficient if he states that he is effecting the arrest as a member of Her Majesty\\'s forces. Corporal D. was carrying out this arrest in accordance with the procedures in which she had been instructed to make a house arrest pursuant to Section 14. This procedure appears to me to be designed to make the arrest with the least risk of injury to those involved including both the soldiers and the occupants of the house. When arrests are made on suspicion of involvement with the IRA it would be to close one\\'s eyes to the obvious not to appreciate the risk that the arrest may be forcibly resisted. The drill the army follow is to enter the house and search every room for occupants. The occupants are all directed to assemble in one room, and when the person the soldiers have come to arrest has been identified and is ready to leave, the formal words of arrest are spoken just before they leave the house. The army do not carry out a search for property in the house and, in my view, they would not be justified in doing so. The power of search is given \\'for the purpose of arresting a person\\', not for a search for incriminating evidence. It is however a proper exercise of the power of search for the purpose of effecting the arrest to search every room for other occupants of the house in case there may be those there who are disposed to resist the arrest. The search cannot be limited solely to looking for the person to be arrested and must also embrace a search whose object is to secure that the arrest should be peaceable. I also regard it as an entirely reasonable precaution that all the occupants of the house should be asked to assemble in one room. As Corporal D. explained in evidence, this procedure is followed because the soldiers may be distracted by other occupants in the house rushing from one room to another, perhaps in a state of alarm, perhaps for the purpose of raising the alarm and to resist the arrest. In such circumstances a tragic shooting accident might all too easily happen with young, and often relatively inexperienced, armed soldiers operating under conditions of extreme tension. Your Lordships were told that the husband and children either had commenced or were contemplating commencing, actions for false imprisonment arising out of the fact that they were asked to assemble in the living-room for a short period before the plaintiff was taken from the house. That very short period of restraint when they were asked to assemble in the living room was a proper and necessary part of the procedure for effecting the peaceable arrest of the plaintiff. It was a temporary restraint of very short duration imposed not only for the benefit of those effecting the arrest, but also for the protection of the occupants of the house and would be wholly insufficient to found an action for unlawful imprisonment. It was in my opinion entirely reasonable to delay speaking the words of arrest until the party was about to leave the house. If words of arrest are spoken as soon as the house is entered before any precautions have been taken to search the house and find the other occupants, it seems to me that there is a real risk that the alarm may be raised and an attempt made to resist arrest, not only by those within the house but also by summoning assistance from those in the immediate neighbourhood. When soldiers are employed on the difficult and potentially dangerous task of carrying out a house arrest of a person suspected of an offence in connection with the IRA, it is I think essential that they should have been trained in the drill they are to follow. It would be impracticable and I think potentially dangerous to leave it to the individual discretion of the particular soldier making the arrest to devise his own procedures for carrying out this unfamiliar military function. It is in everyone\\'s best interest that the arrest is peaceably effected and I am satisfied that the procedures adopted by the army are sensible, reasonable and designed to bring about the arrest with the minimum of danger and distress to all concerned. I would however add this rider: that if the suspect, for any reason, refuses to accept the fact of restraint in the house he should be informed forthwith that he is under arrest.\"\\n. Before the House of Lords the first applicant also pursued a claim that her period of detention exceeded what was reasonably required to make a decision whether to release the applicant or hand her over to the police. In this regard reliance was placed by the applicant on the fact that the Screening Proforma contained questions which were not directly relevant to the offence of which the applicant was suspected; it was also suggested that the evidence did not show that the questioning of the applicant was directed to the matters of which she was suspected. The allegation was unanimously rejected by the House of Lords. Lord Griffiths observed as follows: \"The member of the forces who carried out the interrogation between 8.20 and 9.35 am was not called as a witness on behalf of the Ministry of Defence. There may have been sound reasons for this decision associated with preserving the confidentiality of interrogating techniques and the identity of the interviewer, but be that as it may, the only evidence of what took place at the interview came from Corporal D. and the plaintiff and it is submitted that this evidence is insufficient to establish that the interview was directed towards an attempt to investigate the suspicion upon which the plaintiff was arrested. Corporal D. was present at that interview, she was not paying close attention but she gave evidence that she remembered questions about money which were obviously directed towards the offences of which the plaintiff was suspected. The plaintiff also said she was questioned about her brothers.\"\\n. The conclusion of the trial judge that the applicant had not been asked unnecessary or unreasonable questions and the conclusion of the Court of Appeal that the interviewer had attempted to pursue with the applicant the suspicion which had been the occasion of the arrest, but had been unable to make any headway, were held by the House of Lords to be justified on the evidence. B. The relevant domestic law and practice 1. Entry and search; arrest and detention\\n. The first applicant was arrested under section 14 of the Northern Ireland (Emergency Provisions) Act 1978, which at the relevant time provided as follows: \"14.- (1) A member of Her Majesty\\'s forces on duty may arrest without warrant, and detain for not more than four hours, a person whom he suspects of committing, having committed or being about to commit any offence. (2) A person effecting an arrest under this section complies with any rule of law requiring him to state the ground of arrest if he states that he is effecting the arrest as a member of Her Majesty\\'s forces. (3) For the purpose of arresting a person under this section a member of Her Majesty\\'s forces may enter and search any premises or other place - (a) where that person is, or (b) if that person is suspected of being a terrorist or of having committed an offence involving the use or possession of an explosive, explosive substance or firearm, where that person is suspected of being.\"\\n. A similar provision had been in force since 1973 and had been considered necessary to deal with terrorist activities in two independent reviews (Report of the Diplock Commission 1972 which recommended such a power and a Committee chaired by Lord Gardiner 1974/1975). Following a further independent review in 1983 by Sir George Baker, who concluded on the suspicion question that the addition of a requirement of reasonableness would not in fact make any difference to the actions of the military, section 14(1) was amended to empower a member of the armed forces to arrest a person \"who he has reasonable grounds to suspect is committing, has committed or is about to commit any offence\". The amendment came into force on 15 June 1987 (section 25 and Schedule 1 of the Northern Ireland (Emergency Provisions) Act 1987).\\n. The scope and exercise of the section 14 powers were considered by the domestic courts in the proceedings in the present case. These proceedings demonstrate that when the legality of an arrest or detention under section 14 is challenged (whether by way of habeas corpus or in proceedings for damages for wrongful arrest or false imprisonment), the burden lies on the military to justify their acts and, in particular, to establish the following elements: (a) compliance with the formal requirements for arrest ; (b) the genuineness of the suspicion on which the arrest was based ; (c) that the powers of arrest and detention were not used for any improper purpose such as screening or intelligence-gathering ; (d) that the power of search was used only to facilitate the arrest and not for the obtaining of incriminating evidence ; (e) that those responsible for the arrest and detention did not exceed the time reasonably required to reach a decision whether to release the detainee or hand him over to the police. 2. Photograph\\n. In the law of Northern Ireland, as in English law, it is lawful to take a photograph of a person without his or her consent, provided no force is used and the photograph is not exploited in such a way as to defame the person concerned (cf. paras. 35 and 40 above).\\n. The common law rule entitling the army to take a photograph equally provides the legal basis for its retention. 3. Screening Proforma\\n. The screening proforma in the present case formed an integral part of the examination of the first applicant on suspicion of her involvement in a terrorist related offence, and the legal authority for recording personal details about her in the proforma derived from the lawfulness of the applicant\\'s arrest, detention and examination under section 14 of the 1978 Act.\\n. Murray J. in his judgment in the High Court expressly upheld the lawfulness of the examination of the applicant by the army as being authorised by, and the correct construction of, section 14 of the 1978 Act. The Court of Appeal and the House of Lords confirmed the lawfulness of the use of the screening proforma in the present case.\\n. The implied lawful authority conferred by section 14 of the 1978 Act to record information about the applicant equally provided the legal basis for the retention of the information. III. OPINION OF THE COMMISSION A. Complaints declared admissible\\n. The Commission has declared admissible the first applicant\\'s complaints that her arrest and detention for two hours by the army were in breach of Article 5 paras. 1 and 2 (Art. 5-1+5-2) of the Convention, for which she had no enforceable right to compensation, contrary to Article 5 para. 5 (Art. 5-5); that the taking and retention of a photograph and personal details about her with the aid of a screening proforma was in breach of Article 8 (Art. 8) of the Convention and that she had no effective domestic remedies for her substantive Convention claims, contrary to Article 13 (Art. 13) of the Convention.\\n. The Commission also declared admissible the complaint made by all the applicants that the entry and search of their home by the army were in breach of Article 8 (Art. 8) of the Convention. B. Points at issue\\n. The issues to be determined are - whether the first applicant\\'s arrest and detention were in violation of Article 5 para. 1 (Art. 5-1) of the Convention ; - whether the first applicant was informed promptly of the reasons for her arrest, as required by Article 5 para. 2 (Art. 5-2) of the Convention ; - whether the first applicant had an enforceable right to compensation for the alleged breaches of Article 5 paras. 1 and 2, under Article 5 para. 5 (Art. 5-1, 5-2, 5-5) of the Convention ; - whether the entry and search of the applicants\\' home and the taking and retention of a photograph and personal details about the first applicant were in violation of Article 8 (Art. 8) of the Convention ; - whether the first applicant had effective domestic remedies, pursuant to Article 13 (Art. 13) of the Convention, for her substantive Convention claims. C. As regards Article 5 para. 1 (Art. 5-1) of the Convention\\n. The relevant part of Article 5 para. 1 (Art. 5-1) of the Convention provides as follows: \"1. Everyone has the right to liberty and security of person. No one shall be deprived of his liberty save in the following cases and in accordance with a procedure prescribed by law: ... (c) the lawful arrest or detention of a person effected for the purpose of bringing him before the competent legal authority on reasonable suspicion of having committed an offence ...\"\\n. The first applicant did not dispute before the Commission that her arrest and detention were \"lawful\" under Northern Irish law and had also been effected in accordance with a procedure prescribed by law, within the meaning of Article 5 para. 1 (Art. 5-1) second sentence. She did, however, complain that her arrest and detention under section 14 of the Northern Ireland (Emergency Provisions) Act 1978 (the 1978 Act) were otherwise in breach of Article 5 para. 1 (Art. 5-1) of the Convention, particularly insofar as they did not satisfy the requirements of Article 5 para. 1 (c) (Art. 5-1-c).\\n. The applicant\\'s first contention was that she was not arrested for the purpose of bringing her before a competent legal authority, but merely for the purpose of interrogating her. Her second contention concerned the absence of any standard of reasonable suspicion in the legislation which authorised her detention. Whilst the arresting officer may have subjectively and honestly suspected the first applicant of having committed an offence, that suspicion has not been shown to have been objective or reasonable, given that section 14 of the 1978 Act did not require the arresting officer to hold a reasonable degree of suspicion. The absence of the requirement of reasonableness was, in her submission, given the Court\\'s judgment in the Fox, Campbell and Hartley case (Eur. Court H.R., Fox, Campbell and Hartley judgment of 30 August 1990, Series A no. 182, pp. 16-18 paras. 34-36), in breach of Article 5 para. 1 (Art. 5-1) of the Convention. The Government contended, inter alia, that, although the legislation did not require reasonable suspicion on arrest, in the present case the arresting officer had held reasonable suspicion that the applicant had committed the criminal offence of fund raising for the IRA, connected with her brothers\\' criminal conviction in the United States of America. They submitted that there existed specific and strong grounds, founded on information received from a reliable source, for the army\\'s suspicions against her. However, the sensitivity of the material underlying the suspicion was such that the Government were unable to disclose it publicly.\\n. The Commission refers to the Court\\'s judgment in the Fox, Campbell and Hartley case in which it noted that the test for lawful arrest, under comparable provisions of the 1978 Act concerning police powers of arrest, was a subjective one of honest suspicion on the part of the arresting officer, whereas Article 5 para. 1 (c) (Art. 5-1-c) of the Convention requires an objective test of reasonable suspicion. This presupposes the existence of facts or information which would satisfy an objective observer that the person concerned may have committed an offence. What may be regarded as reasonable will however depend on the circumstances of a particular case. Whilst terrorist crime presents special problems and the competent authority may arrest someone on the basis of reliable sources which must remain confidential for their protection and future efficacy, nevertheless the exigencies of dealing with terrorist crime cannot justify stretching the notion of \"reasonableness\" to the point where the essence of the Article 5 para. 1 (c) (Art. 5-1-c) safeguard is impaired. Although the Contracting State cannot be asked to reveal its confidential sources of information, the Commission and the Court cannot be satisfied that the requirements of Article 5 para. 1 (Art. 5-1) have been fulfilled unless the Contracting State has furnished at least some specific facts or information capable of showing the Convention organs that there was reasonable suspicion against the person concerned.\\n. Two of the applicants in the Fox, Campbell and Hartley case, Mr. Fox and Ms. Campbell, were arrested on suspicion of being involved with intelligence gathering and courier work for the Provisional IRA. They had previous convictions for terrorist offences. Mr. Hartley was suspected of involvement in a kidnapping incident. The respondent Government had asserted that, although they could not disclose the information or identify the source of the information that led to the applicants\\' arrest, there had existed strong grounds for suggesting that Mr. Fox and Ms. Campbell, at the time of their arrest, were engaged in terrorist information and courier activities and that, in Mr. Hartley\\'s case, there was available to the police material connecting him with a terrorist kidnapping (ibid p. 17 para. 33). The Court accepted that the police held an honest suspicion concerning those applicants\\' involvement in terrorist offences. It also noted the previous convictions of Mr. Fox and Ms. Campbell and that, in confirmation of the police\\'s honest suspicion, the applicants had been questioned on specific terrorist matters. However, in the absence of further material, the Court concluded that the Government\\'s explanations did not meet the objective standard of reasonable suspicion laid down in Article 5 para. 1 (c) (Art. 5-1-c) of the Convention. In view of this finding it did not consider it necessary to go into the question of the purpose of the arrest of those applicants (Fox, Campbell and Hartley judgment on 30 August 1990, op. cit., pp. 15-18 paras. 28-36).\\n. As regards the facts of the present case, the Commission finds that no significant distinction can be drawn between it and the circumstances of the Fox, Campbell and Hartley case. In the present case the Government, without providing any details or corroborating elements, have stated that the army genuinely suspected the first applicant of involvement in a terrorist linked offence because of information received from a reliable source, which had to remain confidential for security purposes. However, the Commission notes that no objective evidence has been invoked in support of the suspicion that the applicant had been involved in collecting money for IRA arms purchases other than her kinship with her convicted brothers. The Commission considers that the Government\\'s explanation in the present case is not materially distinguishable from that provided in the Fox, Campbell and Hartley case (see preceding paragraph). Moreover, the Commission emphasises that the legislation itself, section 14 of the 1978 Act, did not require the arresting army officer to hold a reasonable suspicion, and that it has since been amended to include the reasonableness standard. In these circumstances, the Commission is of the opinion that the elements provided by the Government are insufficient to support the conclusion that there was \"reasonable suspicion\" against the present applicant in accordance with the minimum standard set by Article 5 para. 1 (c) (Art. 5-1-c) of the Convention. In the light of this opinion the Commission does not consider it necessary to go into the first applicant\\'s other complaint under Article 5 para. 1 (c) (Art. 5-1-c) of the Convention concerning the purpose of her arrest. Conclusion\\n. The Commission concludes, by 11 votes to 3, that there has been a violation of Article 5 para. 1 (Art. 5-1) of the Convention in the case of the first applicant. D. As regards Article 5 para. 2 (Art. 5-2) of the Convention\\n. Article 5 para. 2 (Art. 5-2) of the Convention provides as follows: \"Everyone who is arrested shall be informed promptly, in a language which he understands, of the reasons for his arrest and of any charge against him.\"\\n. The first applicant complained that she was not informed promptly of the reasons for her arrest or of any charge against her, as required by Article 5 para. 2 (Art. 5-2) of the Convention. The Government relied on the findings of the Court in the Fox, Campbell and Hartley case: Whilst the applicant was told on arrest that she was being arrested under section 14 of the 1978 Act, thereafter, during her interview with the army, it must have become clear to her why she had been arrested and she must also have become aware of the reasons why she was suspected of unlawful collection of money for the purchase of arms in the United States of America for the IRA, given her close connection with her brothers who had been convicted of arms offences in America. The arresting officer recalled that the applicant had been asked questions about money and America. No challenge by way of cross- examination was launched to that recollection in the domestic courts by the applicant\\'s representative. Moreover, no headway was made on that line of questioning because the applicant had refused to answer any of the questions put to her by the army officers. The Government submitted that Article 5 para. 2 (Art. 5-2) of the Convention does not necessarily require this information to be related in its entirety by the arresting officer at the very moment of the arrest. It suffices that the information be revealed during the course of the ensuing interview.\\n. The Commission notes that the Court held in its Fox, Campbell and Hartley judgment that a mere reference to a comparable section of the 1978 Act on arrest was insufficient information for the purposes of Article 5 para. 2 (Art. 5-2) of the Convention, but that during interrogation there was no reason to suppose that the applicants in that case were unable to deduce from the questions put to them why they had been arrested. On the same basis, the Commission finds that a mere reference to section 14 of the 1978 Act on arrest was insufficient in the present case.\\n. The question remains whether the first applicant was able to understand from her interview why she had been arrested. On this point the arresting officer has indicated in the domestic proceedings that the first applicant had been asked questions about money and America. On the basis of this very vague indication, it is impossible, however, to draw any conclusions as to whether the requirements of Article 5 para. 2 (Art. 5-2) were satisfied.\\n. The Commission has also noted Lord Griffiths\\' statement that the first applicant had been asked questions about her brothers and that \"the interviewer did attempt to pursue the subject of the suspicion which had been the occasion for her arrest but was unable to make any headway\".\\n. In the Commission\\'s opinion, the information provided shows that questions were asked which were related to the suspicions against the applicant. However, it has not been shown that these questions were sufficiently precise to constitute information about the reasons for the applicant\\'s arrest as required by Article 5 para. 2 (Art. 5-2) of the Convention.\\n. Consequently, the Commission cannot find that the right protected by Article 5 para. 2 (Art. 5-2) has been respected. Conclusion\\n. The Commission concludes, by 10 votes to 4, that there has been a violation of Article 5 para. 2 (Art. 5-2) of the Convention in the case of the first applicant. E. As regards Article 5 para. 5 (Art. 5-5) of the Convention\\n. Article 5 para. 5 (Art. 5-5) of the Convention provides as follows: \"Everyone who has been the victim of arrest or detention in contravention of the provisions of this Article shall have an enforceable right to compensation.\"\\n. The first applicant also complained that she had no enforceable right to compensation under domestic law for the alleged breaches of Article 5 paras. 1 and 2 (Art. 5-1, 5-2) of the Convention. The Government contended that as, in their view, there had been no breach of Article 5 paras. 1 and 2 (Art. 5-1, 5-2) of the Convention in the present case, no issue arose under Article 5 para. 5 (Art. 5-5).\\n. The Commission has concluded above (paras. 64 and 72) that the first applicant\\'s arrest and detention were in breach of Article 5 para. 1 (Art. 5-1) of the Convention and that she was not informed of the reasons for her arrest as required by Article 5 para. 2 (Art. 5-2) of the Convention. These violations could not give rise to an enforceable right to compensation before the Northern Irish courts. The Commission recalls that a violation of Article 5 para. 5 (Art. 5-5) was found by the Court in the similar case of Fox, Campbell and Hartley (ibid p. 21 para. 46). There are no elements in the present application to distinguish it from this finding by the Court. Conclusion\\n. The Commission concludes, by 11 votes to 3, that there has been a violation of Article 5 para. 5 (Art. 5-5) of the Convention in the case of the first applicant. F. As regards Article 8 (Art. 8) of the Convention\\n. Article 8 (Art. 8) of the Convention provides as follows: \"1. Everyone has the right to respect for his private and family life, his home and his correspondence. 2. There shall be no interference by a public authority with the exercise of this right except such as is in accordance with the law and is necessary in a democratic society in the interests of national security, public safety or the economic well-being of the country, for the prevention of disorder or crime, for the protection of health or morals, or for the protection of the rights and freedoms of others.\"\\n. The first applicant complained that the manner in which she was treated both in her home and at the screening centre constituted a violation of Article 8 (Art. 8) of the Convention. In particular she complained about the entry into and search of her home, the recording of personal details concerning herself and her family and the retention of those records, including a photograph of her, which was taken without her consent. The other applicants also complained that the entry and search of the family home were in breach of Article 8 (Art. 8) of the Convention. The Government submitted that these measures were necessary for the prevention of crime in the context of the fight against terrorism in Northern Ireland.\\n. The Commission finds that the measures of which the applicants complained constituted interferences with their right to respect for private and family life and the home, ensured by Article 8 para. 1 (Art. 8-1) of the Convention. It remains to be examined whether the interferences were justified under paragraph 2 of that Article or, in other words, whether they were \"in accordance with the law\", whether they pursued one or more legitimate aims under that paragraph, and whether they could be considered necessary in a democratic society for that or those aims.\\n. As regards the lawfulness of the interferences, the Commission notes that the army had lawful authority under section 14 of the Northern Ireland (Emergency Provisions) Act to enter and search the applicants\\' home in effecting the first applicant\\'s arrest. According to the Court of Appeal, this lawful authority extended to the recording of personal details of the kind contained in the screening proforma (see para. 40 above). As regards the taking of a photograph, there exists no statutory law which expressly deals with the matter. However, in the present case the first instance judge stated that he had always understood the law to be that \"merely taking a photograph of a person without in any way defaming him is not actionable\" (see para. 35 above). The Court of Appeal, for its part, stated that \"according to the common law there is no remedy if someone takes a photograph of another against his will\" and that the fact that there are rules about the powers of the police to order the taking of finger prints but not as to the taking of photographs \"does not involve the implication that the taking of a photograph without violence and without consent is actionable\" (see para. 40 above). In these circumstances, the Commission is satisfied that the taking of a photograph of the applicant had a sufficiently clear basis in domestic law. It notes that the situation is materially different from that which was at issue in the Malone case where the scope and manner of exercise of the relevant discretion conferred on the public authorities in the interception of telephone communications were found not to be sufficiently clear (Eur. Court H.R., Malone judgment of 2 August 1984, Series A no. 82, p.36, para. 79).\\n. The Commission is further of the opinion that these measures pursued the legitimate aim of the prevention of crime, to be seen particularly in the context of the fight against terrorist crime in Northern Ireland. The question remains, however, whether the interferences were proportionate to that aim and were thereby necessary, within the meaning of Article 8 para. 2 (Art. 8-2) of the Convention.\\n. The Commission refers to its findings in the case of Brogan and Others concerning the situation in Northern Ireland (Nos. 11209/84, 11234/84, 11266/84 and 11386/85, Brogan, Coyle, McFadden and Tracey v. the United Kingdom, Comm. Report 14.5.87 paras. 80 and 106): \"80. It is against the background of a continuing terrorist threat in Northern Ireland and the particular problems confronting the security forces in bringing those responsible for terrorist acts to justice that the issues in the present case must be examined. In such a situation the Convention organs must remain vigilant that a proper balance is struck between the protection of individual rights and the need to defend democratic society against the threats posed by organised terrorism. In the Commission\\'s opinion it is inherent in the whole of the Convention that a fair balance has to be struck between the general interest of the community and the interests of the individual... 106. ... In so doing, the Commission takes into account that the struggle against terrorism may require a particular measure of sacrifice by each citizen in order to protect the community as a whole against such crimes. Moreover, the Commission also bears in mind the context in which the applicants were arrested and the reality of problems presented by the arrest and detention of suspected terrorists which have been alluded to by the Government ... and which may not be present in ordinary criminal cases.\"\\n. As regards the facts of the present case the Commission notes the conclusions of the domestic courts that the army held genuine suspicions about the first applicant\\'s involvement in the unlawful collection of money for buying arms in the United States of America for the IRA. The Commission also notes the findings of those courts that the entry, search and arrest procedures used by the army pursuant to section 14 of the 1978 Act were sensible and reasonable, being designed to effect an \"arrest with the minimum of danger and distress to all concerned\" (para. 44 above).\\n. Against the Northern Irish terrorist background and in the light of the facts of the present case, the Commission considers that the entry and search of the applicants\\' home and the taking and retention of a photograph and personal details about the first applicant were not disproportionate to the legitimate aim of the prevention of crime. In the Commission\\'s opinion these measures may, therefore, be considered as necessary under Article 8 para. 2 (Art. 8-2) of the Convention. Conclusion\\n. The Commission concludes, by 13 votes to 1, that there has been no violation of Article 8 (Art. 8) of the Convention. G. As regards Article 13 (Art. 13) of the Convention\\n. Article 13 (Art. 13) of the Convention provides as follows: \"Everyone whose rights and freedoms as set forth in this Convention are violated shall have an effective remedy before a national authority notwithstanding that the violation has been committed by persons acting in an official capacity.\"\\n. The first applicant complained that she had no effective domestic remedy for her Convention claims under Articles 5 and 8 (Art. 5, 8) of the Convention, contrary to Article 13 (Art. 13). The Government contended, as regards the complaint under Article 5 (Art. 5-4), that paragraph 4 of that provision is the lex specialis on remedies, but no complaint under that paragraph had been made by the first applicant. As regards the complaint under Article 8 (Art. 8), the Government submitted that it was either unarguable and therefore no remedy under Article 13 (Art. 13) was required, or it was unsubstantiated because remedies do anyway exist in domestic law by way of a claim for damages for trespass, wrongful arrest or wrongful imprisonment.\\n. The Commission considers that the first applicant\\'s complaint has three aspects: first regarding her arrest and detention and the lack of information about the reasons for the arrest, secondly regarding the entry and search of her home, and thirdly regarding the taking and retention of a photograph and personal details about her. 1. Arrest, detention and lack of information about the reasons for arrest\\n. As regards the remedies in relation to the first applicant\\'s arrest and detention and the lack of information given to her about the reasons for her arrest, the Commission notes that Article 5 (Art. 5) of the Convention provides two specific remedial channels: Article 5 para. 4 (Art. 5-4) which envisages the judicial determination of the lawfulness of detention and release in the event of unlawful detention, and Article 5 para. 5 (Art. 5-5) which envisages the payment of compensation if the arrest or detention was unlawful. The first applicant has made no complaint under Article 5 para. 4 (Art. 5-4) of the Convention and the Commission has concluded above (para. 76) that there has been a violation of Article 5 para. 5 (Art. 5-5) in her case. In the light of this conclusion the Commission does not deem it necessary to examine the first applicant\\'s complaint again under Article 13 (Art. 13) of the Convention because no separate issue arises under this provision (cf. Eur. Court H.R., Fox, Campbell and Hartley judgment of 30 August 1990, Series A no. 182, p. 21 para. 47). Conclusion\\n. The Commission concludes, by 13 votes to 1, that it is not necessary to examine further the first applicant\\'s complaint concerning remedies for arrest, detention and the lack of information about the reasons for arrest under Article 13 (Art. 13) of the Convention. 2. Entry and search\\n. As regards the entry and search of the first applicant\\'s home the Commission refers to its decision on admissibility in the present case concerning a similar complaint of the other applicants (Appendix II, The Law, para. 3 under B. The other applicants, point (b)). The Commission recalls that domestic law provides a remedy for the tort of unlawful trespass to property. If the first applicant had sued the army on this basis, no doubt they would have argued in defence that they had had lawful authority for their actions under section 14 (3) of the Northern Ireland (Emergency Provisions) Act 1978. Given the apparent weakness of her case, the first applicant would probably have had little prospect of succeeding in such an action. However, this does not mean that the necessary domestic law structures do not exist. Article 13 (Art. 13) of the Convention is not concerned with the outcome of such procedures; what is relevant is only whether an effective remedy exists. Conclusion\\n. The Commission concludes, by a unanimous vote, that there has been no violation of Article 13 (Art. 13) of the Convention in the case of the first applicant concerning the entry and search of her home. 3. Taking and retention of photograph and personal details\\n. As regards the first applicant\\'s complaint concerning the taking and retention of a photograph of her, the Commission notes that, according to the judgments of the domestic courts in the present case, the mere taking of a photograph of a person, without the use of force and without using the photograph in such a way as to defame the person concerned, is lawful under Northern Irish law. The domestic courts also confirmed the lawfulness of the recording and retention of personal details about the first applicant in a screening proforma. The Commission considers that, insofar as the first applicant\\'s complaint is directed at the contents of the law, Article 13 (Art. 13) did not give her a right to a remedy (see Eur. Court H.R., James and Others judgment of 21 February 1986, Series A no. 98, p. 47 paras. 85-86). If, on the other hand, the first applicant can be understood as complaining of the manner in which the domestic law was applied in her case, the Commission finds that she could bring an action before the Northern Irish courts and that the guarantee contained in Article 13 (Art. 13) was respected. Conclusion\\n. The Commission concludes, by 10 votes to 4, that there has been no violation of Article 13 (Art. 13) of the Convention in the case of the first applicant as regards the taking and retention of a photograph and personal details about her. H. RECAPITULATION\\n. The Commission concludes, by 11 votes to 3, that there has been a violation of Article 5 para. 1 (Art. 5-1) of the Convention in the case of the first applicant (para. 64 above).\\n. The Commission concludes, by 10 votes to 4, that there has been a violation of Article 5 para. 2 (Art. 5-2) of the Convention in the case of the first applicant (para. 72 above).\\n. The Commission concludes, by 11 votes to 3, that there has been a violation of Article 5 para. 5 (Art. 5-5) of the Convention in the case of the first applicant (para. 76 above).\\n. The Commission concludes, by 13 votes to 1, that there has been no violation of Article 8 (Art. 8) of the Convention (para. 85 above).\\n. The Commission concludes, by 13 votes to 1, that it is not necessary to examine further the first applicant\\'s complaint concerning remedies for arrest, detention and the lack of information about the reasons for arrest under Article 13 (Art. 13) of the Convention (para. 90 above).\\n. The Commission concludes, by a unanimous vote, that there has been no violation of Article 13 (Art. 13) of the Convention in the case of the first applicant concerning the entry and search of her home (para. 92 above).\\n\\n101.\\n\\xa0 \\nThe Commission concludes, by 10 votes to 4, that there has been\\nno violation of Article 13 (Art. 13) of the Convention in the case of\\nthe first applicant as regards the taking and retention of a photograph\\nand personal details about her (para. 94 above).\\n\\xa0\\nSecretary to the Commission\\n\\xa0\\xa0\\xa0\\xa0\\xa0\\xa0\\xa0\\xa0\\xa0\\xa0\\xa0\\xa0\\xa0\\xa0\\xa0 \\nPresident of the Commission\\n\\xa0\\n\\xa0\\xa0\\xa0\\xa0\\xa0 \\n(H.C. KRÜGER)\\n\\xa0\\xa0\\xa0\\xa0\\xa0\\xa0\\xa0\\xa0\\xa0\\xa0\\xa0\\xa0\\xa0\\xa0\\xa0\\xa0\\xa0\\xa0\\xa0\\xa0\\xa0\\xa0\\xa0\\xa0\\xa0\\xa0\\xa0\\xa0\\xa0\\xa0 \\n(C.A. NØRGAARD)\\n\\xa0\\n\\xa0\\xa0\\xa0\\xa0\\xa0\\xa0\\xa0\\xa0\\xa0\\xa0\\xa0 \\nPARTLY DISSENTING OPINION OF MR. H.G. SCHERMERS\\n\\xa0\\n\\xa0\\xa0\\xa0\\xa0\\xa0 \\nUnlike the majority of the Commission I do not find a violation\\nof Article 5.\\n\\xa0 \\nIn this respect I support the views e']]"
      ]
     },
     "execution_count": 6,
     "metadata": {},
     "output_type": "execute_result"
    }
   ],
   "source": [
    "resources = current_chosen_dataset['test'].to_dict()\n",
    "\n",
    "resources['citations'][0]"
   ]
  },
  {
   "cell_type": "code",
   "execution_count": 10,
   "metadata": {},
   "outputs": [],
   "source": [
    "# def chunk_document_into_passages_overlap_split(document_id: str, text: str, max_len: int, overlap: float):\n",
    "#     if max_len <= 0:\n",
    "#         raise ValueError(\"max_len must be a positive integer\")\n",
    "#     if not (0 <= overlap < 1):\n",
    "#         raise ValueError(\"overlap must be between 0 (inclusive) and 1 (exclusive)\")\n",
    "\n",
    "#     words = text.split()\n",
    "#     chunks = []\n",
    "#     step = int(max_len * (1 - overlap))\n",
    "#     last_index = 0\n",
    "#     for index, i in enumerate(range(0, len(words), step)):\n",
    "#         current_splits = [document_id]\n",
    "#         if i == 0:\n",
    "#             second_split = words[i:i+max_len]\n",
    "#             last_index = i+max_len\n",
    "#             splits = [\"\", \" \".join(second_split)]\n",
    "#         else:\n",
    "#             first_split = words[last_index-step:last_index]\n",
    "#             second_split = words[last_index:last_index+step]\n",
    "#             last_index = last_index+step\n",
    "#             splits = [\" \".join(first_split), \" \".join(second_split)]\n",
    "#         if splits:\n",
    "#             current_splits.extend(splits)\n",
    "#             chunks.append(current_splits)\n",
    "#     return chunks\n",
    "\n",
    "# def chunk_citations_overlap_split(record):\n",
    "#     chunks = []\n",
    "#     for citation_id, citation in record['citations']:\n",
    "#         chunks.extend(chunk_document_into_passages_overlap_split(citation_id, citation, chunk_size, chunk_overlap))\n",
    "#     return chunks\n",
    "\n",
    "# if 'oracle_documents_passages_overlap_split' not in current_chosen_dataset.column_names['train'] or 'oracle_documents_passages_overlap_split' not in current_chosen_dataset.column_names['test']:\n",
    "#     print(f\"[*] adding oracle_documents_passages_overlap_split to {workshop_hf_name}\")\n",
    "#     if \"citations\" not in current_chosen_dataset.column_names['train'] or \"citations\" not in current_chosen_dataset.column_names['test']:\n",
    "#         current_chosen_dataset = DatasetDict({\n",
    "#             'train': current_chosen_dataset['train'].add_column(name=\"citations\", column=original_dataset['train']['citations']),\n",
    "#             'test': current_chosen_dataset['test'].add_column(name=\"citations\", column=original_dataset['test']['citations'])\n",
    "#         })\n",
    "#     current_chosen_dataset = current_chosen_dataset.map(lambda record: {'oracle_documents_passages_overlap_split': chunk_citations_overlap_split(record)})\n",
    "#     current_chosen_dataset = current_chosen_dataset.select_columns(['docid', 'previous_text', 'gold_text', 'citations' ,'oracle_documents_passages', 'oracle_documents_passages_overlap_split'])\n",
    "#     current_chosen_dataset.push_to_hub(f\"ylkhayat/{workshop_hf_name}\")\n",
    "# else:\n",
    "#     print(f\"[!] oracle_documents_passages_overlap_split already exists in {workshop_hf_name}\")"
   ]
  },
  {
   "cell_type": "code",
   "execution_count": 11,
   "metadata": {},
   "outputs": [
    {
     "name": "stdout",
     "output_type": "stream",
     "text": [
      "[*] adding oracle_documents_passages to ECHR-generation-workshop\n"
     ]
    },
    {
     "data": {
      "application/vnd.jupyter.widget-view+json": {
       "model_id": "485c47617f6b4d6abef3ae3c0a7b15dd",
       "version_major": 2,
       "version_minor": 0
      },
      "text/plain": [
       "Map (num_proc=45):   0%|          | 0/5000 [00:00<?, ? examples/s]"
      ]
     },
     "metadata": {},
     "output_type": "display_data"
    },
    {
     "data": {
      "application/vnd.jupyter.widget-view+json": {
       "model_id": "27e8c01123154f8a8684211ccf06d147",
       "version_major": 2,
       "version_minor": 0
      },
      "text/plain": [
       "Map (num_proc=45):   0%|          | 0/1000 [00:00<?, ? examples/s]"
      ]
     },
     "metadata": {},
     "output_type": "display_data"
    },
    {
     "data": {
      "application/vnd.jupyter.widget-view+json": {
       "model_id": "d8599a3ad3e3411b8163a0739746ff1c",
       "version_major": 2,
       "version_minor": 0
      },
      "text/plain": [
       "Uploading the dataset shards:   0%|          | 0/6 [00:00<?, ?it/s]"
      ]
     },
     "metadata": {},
     "output_type": "display_data"
    },
    {
     "data": {
      "application/vnd.jupyter.widget-view+json": {
       "model_id": "98a4b48ca64b4d9f854b5e214b8021eb",
       "version_major": 2,
       "version_minor": 0
      },
      "text/plain": [
       "Creating parquet from Arrow format:   0%|          | 0/1 [00:00<?, ?ba/s]"
      ]
     },
     "metadata": {},
     "output_type": "display_data"
    },
    {
     "data": {
      "application/vnd.jupyter.widget-view+json": {
       "model_id": "613dbe299eb24a998d6f07dbea5ae5c2",
       "version_major": 2,
       "version_minor": 0
      },
      "text/plain": [
       "Creating parquet from Arrow format:   0%|          | 0/1 [00:00<?, ?ba/s]"
      ]
     },
     "metadata": {},
     "output_type": "display_data"
    },
    {
     "data": {
      "application/vnd.jupyter.widget-view+json": {
       "model_id": "662dd0b7e10d40e4b193831100d1d9f6",
       "version_major": 2,
       "version_minor": 0
      },
      "text/plain": [
       "Creating parquet from Arrow format:   0%|          | 0/1 [00:00<?, ?ba/s]"
      ]
     },
     "metadata": {},
     "output_type": "display_data"
    },
    {
     "data": {
      "application/vnd.jupyter.widget-view+json": {
       "model_id": "98099739aeee4408a109f1095a62e37a",
       "version_major": 2,
       "version_minor": 0
      },
      "text/plain": [
       "Creating parquet from Arrow format:   0%|          | 0/1 [00:00<?, ?ba/s]"
      ]
     },
     "metadata": {},
     "output_type": "display_data"
    },
    {
     "data": {
      "application/vnd.jupyter.widget-view+json": {
       "model_id": "d5498c08cddd4e5f8f932c8691d7d4c4",
       "version_major": 2,
       "version_minor": 0
      },
      "text/plain": [
       "Creating parquet from Arrow format:   0%|          | 0/1 [00:00<?, ?ba/s]"
      ]
     },
     "metadata": {},
     "output_type": "display_data"
    },
    {
     "data": {
      "application/vnd.jupyter.widget-view+json": {
       "model_id": "3e6e2936e0f24377a7438d735e451faa",
       "version_major": 2,
       "version_minor": 0
      },
      "text/plain": [
       "Creating parquet from Arrow format:   0%|          | 0/1 [00:00<?, ?ba/s]"
      ]
     },
     "metadata": {},
     "output_type": "display_data"
    },
    {
     "data": {
      "application/vnd.jupyter.widget-view+json": {
       "model_id": "4d385173e52c4f71bbac1c3a36b7dd5e",
       "version_major": 2,
       "version_minor": 0
      },
      "text/plain": [
       "Uploading the dataset shards:   0%|          | 0/2 [00:00<?, ?it/s]"
      ]
     },
     "metadata": {},
     "output_type": "display_data"
    },
    {
     "data": {
      "application/vnd.jupyter.widget-view+json": {
       "model_id": "d854ed1b65e047a7bfed094b55e907d8",
       "version_major": 2,
       "version_minor": 0
      },
      "text/plain": [
       "Creating parquet from Arrow format:   0%|          | 0/1 [00:00<?, ?ba/s]"
      ]
     },
     "metadata": {},
     "output_type": "display_data"
    },
    {
     "data": {
      "application/vnd.jupyter.widget-view+json": {
       "model_id": "ce71eae2030b49d796887aebac7ad685",
       "version_major": 2,
       "version_minor": 0
      },
      "text/plain": [
       "Creating parquet from Arrow format:   0%|          | 0/1 [00:00<?, ?ba/s]"
      ]
     },
     "metadata": {},
     "output_type": "display_data"
    },
    {
     "data": {
      "application/vnd.jupyter.widget-view+json": {
       "model_id": "fd03c9490b0b4b219b5ce866c451c8de",
       "version_major": 2,
       "version_minor": 0
      },
      "text/plain": [
       "README.md:   0%|          | 0.00/521 [00:00<?, ?B/s]"
      ]
     },
     "metadata": {},
     "output_type": "display_data"
    },
    {
     "data": {
      "text/plain": [
       "CommitInfo(commit_url='https://huggingface.co/datasets/ylkhayat/ECHR-generation-workshop/commit/a3b8b935570af329bda488250b54272ff082a76d', commit_message='Upload dataset', commit_description='', oid='a3b8b935570af329bda488250b54272ff082a76d', pr_url=None, repo_url=RepoUrl('https://huggingface.co/datasets/ylkhayat/ECHR-generation-workshop', endpoint='https://huggingface.co', repo_type='dataset', repo_id='ylkhayat/ECHR-generation-workshop'), pr_revision=None, pr_num=None)"
      ]
     },
     "execution_count": 11,
     "metadata": {},
     "output_type": "execute_result"
    }
   ],
   "source": [
    "def chunk_document_into_passages(document_id: str, text: str, max_len: int, overlap: float):\n",
    "    if max_len <= 0:\n",
    "        raise ValueError(\"max_len must be a positive integer\")\n",
    "    if not (0 <= overlap < 1):\n",
    "        raise ValueError(\"overlap must be between 0 (inclusive) and 1 (exclusive)\")\n",
    "\n",
    "    words = text.split()\n",
    "    chunks = []\n",
    "    step = int(max_len * (1 - overlap))\n",
    "    for i in range(0, len(words), step):\n",
    "        chunk_words = words[i:i+max_len]\n",
    "        if chunk_words:\n",
    "            chunk_text = ' '.join(chunk_words)\n",
    "            chunks.append([document_id, chunk_text])\n",
    "    return chunks\n",
    "\n",
    "def chunk_citations(record):\n",
    "    chunks = []\n",
    "    for citation_id, citation in record['citations']:\n",
    "        chunks.extend(chunk_document_into_passages(citation_id, citation, chunk_size, chunk_overlap))\n",
    "    return chunks\n",
    "\n",
    "if 'oracle_documents_passages' not in current_chosen_dataset.column_names['train'] or 'oracle_documents_passages' not in current_chosen_dataset.column_names['test']:\n",
    "    print(f\"[*] adding oracle_documents_passages to {workshop_hf_name}\")\n",
    "    current_chosen_dataset = current_chosen_dataset.map(lambda record: {'oracle_documents_passages': chunk_citations(record)}, num_proc=num_proc)\n",
    "else:\n",
    "    print(f\"[!] oracle_documents_passages already exists in {workshop_hf_name}\")\n",
    "# current_chosen_dataset = current_chosen_dataset.select_columns([key_field, 'previous_text', 'gold_text', 'citations' , 'oracle_documents_passages'])\n",
    "current_chosen_dataset = current_chosen_dataset.select_columns([key_field, 'previous_text', 'gold_text', 'citations' , 'oracle_documents_passages', 'oracle_documents_oracle_passages'])\n",
    "current_chosen_dataset.push_to_hub(workshop_hf_name)"
   ]
  },
  {
   "cell_type": "markdown",
   "metadata": {},
   "source": [
    "# Create the BM25 Oracle Setup"
   ]
  },
  {
   "cell_type": "code",
   "execution_count": 12,
   "metadata": {},
   "outputs": [],
   "source": [
    "import bm25s\n",
    "import Stemmer \n",
    "stemmer = Stemmer.Stemmer(\"english\")"
   ]
  },
  {
   "cell_type": "code",
   "execution_count": 13,
   "metadata": {},
   "outputs": [
    {
     "data": {
      "application/vnd.jupyter.widget-view+json": {
       "model_id": "94ede8a8f24e418fa36f38468e21d03f",
       "version_major": 2,
       "version_minor": 0
      },
      "text/plain": [
       "Downloading readme:   0%|          | 0.00/595 [00:00<?, ?B/s]"
      ]
     },
     "metadata": {},
     "output_type": "display_data"
    },
    {
     "name": "stderr",
     "output_type": "stream",
     "text": [
      "Using the latest cached version of the dataset since ylkhayat/ECHR-generation-workshop couldn't be found on the Hugging Face Hub\n",
      "Parameter 'function'=<function retrieve_top_passages at 0x7f13ec151ab0> of the transform datasets.arrow_dataset.Dataset._map_single couldn't be hashed properly, a random hash was used instead. Make sure your transforms and parameters are serializable with pickle or dill for the dataset fingerprinting and caching to work. If you reuse this transform, the caching mechanism will consider it to be different from the previous calls and recompute everything. This warning is only showed once. Subsequent hashing failures won't be showed.\n"
     ]
    },
    {
     "name": "stdout",
     "output_type": "stream",
     "text": [
      "[!] ECHR-generation-workshop not found in bm25_oracle_passages_oracle_documents\n",
      "[*] adding top_10_passages to ECHR-generation-workshop\n"
     ]
    },
    {
     "data": {
      "application/vnd.jupyter.widget-view+json": {
       "model_id": "f7f5a34d6e1544a2b142bce3b7fdec57",
       "version_major": 2,
       "version_minor": 0
      },
      "text/plain": [
       "Map (num_proc=45):   0%|          | 0/5000 [00:00<?, ? examples/s]"
      ]
     },
     "metadata": {},
     "output_type": "display_data"
    },
    {
     "data": {
      "application/vnd.jupyter.widget-view+json": {
       "model_id": "ca6e805c1fdf455090e6db378d66ddb4",
       "version_major": 2,
       "version_minor": 0
      },
      "text/plain": [
       "Map (num_proc=45):   0%|          | 0/1000 [00:00<?, ? examples/s]"
      ]
     },
     "metadata": {},
     "output_type": "display_data"
    },
    {
     "data": {
      "application/vnd.jupyter.widget-view+json": {
       "model_id": "90e3ea0405c7433d8f92f0156c6d3cff",
       "version_major": 2,
       "version_minor": 0
      },
      "text/plain": [
       "Uploading the dataset shards:   0%|          | 0/6 [00:00<?, ?it/s]"
      ]
     },
     "metadata": {},
     "output_type": "display_data"
    },
    {
     "data": {
      "application/vnd.jupyter.widget-view+json": {
       "model_id": "3f47bed43c9a447db9b272ff8aef4bb6",
       "version_major": 2,
       "version_minor": 0
      },
      "text/plain": [
       "Creating parquet from Arrow format:   0%|          | 0/1 [00:00<?, ?ba/s]"
      ]
     },
     "metadata": {},
     "output_type": "display_data"
    },
    {
     "data": {
      "application/vnd.jupyter.widget-view+json": {
       "model_id": "3a094998d83542f6b3d4f1eb307f5ace",
       "version_major": 2,
       "version_minor": 0
      },
      "text/plain": [
       "Creating parquet from Arrow format:   0%|          | 0/1 [00:00<?, ?ba/s]"
      ]
     },
     "metadata": {},
     "output_type": "display_data"
    },
    {
     "data": {
      "application/vnd.jupyter.widget-view+json": {
       "model_id": "26399ba262fa46e3b1b32d850910d1c3",
       "version_major": 2,
       "version_minor": 0
      },
      "text/plain": [
       "Creating parquet from Arrow format:   0%|          | 0/1 [00:00<?, ?ba/s]"
      ]
     },
     "metadata": {},
     "output_type": "display_data"
    },
    {
     "data": {
      "application/vnd.jupyter.widget-view+json": {
       "model_id": "436b791e785445afab3c46a328d8f86b",
       "version_major": 2,
       "version_minor": 0
      },
      "text/plain": [
       "Creating parquet from Arrow format:   0%|          | 0/1 [00:00<?, ?ba/s]"
      ]
     },
     "metadata": {},
     "output_type": "display_data"
    },
    {
     "data": {
      "application/vnd.jupyter.widget-view+json": {
       "model_id": "12dd5cb2e37f484d901bd5042dfaa3a5",
       "version_major": 2,
       "version_minor": 0
      },
      "text/plain": [
       "Creating parquet from Arrow format:   0%|          | 0/1 [00:00<?, ?ba/s]"
      ]
     },
     "metadata": {},
     "output_type": "display_data"
    },
    {
     "data": {
      "application/vnd.jupyter.widget-view+json": {
       "model_id": "8ef57ab8ca584cb1be9790a80ef649b4",
       "version_major": 2,
       "version_minor": 0
      },
      "text/plain": [
       "Creating parquet from Arrow format:   0%|          | 0/1 [00:00<?, ?ba/s]"
      ]
     },
     "metadata": {},
     "output_type": "display_data"
    },
    {
     "data": {
      "application/vnd.jupyter.widget-view+json": {
       "model_id": "730f6274ad2440b7b4c0c7ff68cc0848",
       "version_major": 2,
       "version_minor": 0
      },
      "text/plain": [
       "Uploading the dataset shards:   0%|          | 0/2 [00:00<?, ?it/s]"
      ]
     },
     "metadata": {},
     "output_type": "display_data"
    },
    {
     "data": {
      "application/vnd.jupyter.widget-view+json": {
       "model_id": "46903a18aa5641bd8539cdd909a17ab0",
       "version_major": 2,
       "version_minor": 0
      },
      "text/plain": [
       "Creating parquet from Arrow format:   0%|          | 0/1 [00:00<?, ?ba/s]"
      ]
     },
     "metadata": {},
     "output_type": "display_data"
    },
    {
     "data": {
      "application/vnd.jupyter.widget-view+json": {
       "model_id": "bd86c744f7fb48f6ae5f0d4d4c4012be",
       "version_major": 2,
       "version_minor": 0
      },
      "text/plain": [
       "Creating parquet from Arrow format:   0%|          | 0/1 [00:00<?, ?ba/s]"
      ]
     },
     "metadata": {},
     "output_type": "display_data"
    },
    {
     "data": {
      "application/vnd.jupyter.widget-view+json": {
       "model_id": "2879fbcef9d9402bbecda9b48b515139",
       "version_major": 2,
       "version_minor": 0
      },
      "text/plain": [
       "README.md:   0%|          | 0.00/595 [00:00<?, ?B/s]"
      ]
     },
     "metadata": {},
     "output_type": "display_data"
    },
    {
     "name": "stdout",
     "output_type": "stream",
     "text": [
      "\"74969/01\\ncontact with all the persons concerned. It follows from these considerations that the Court's task is not to substitute itself for the domestic authorities in the exercise of their responsibilities regarding custody and access issues, but rather to review, in the light of the Convention, the decisions taken by those authorities in the exercise of their power of appreciation (see Sahin and Sommerfeld v. Germany [GC], nos. 30943/96 and 31871/96, \\u00a7 64 and \\u00a7 62 respectively, ECHR 2003- VIII, and T.P. and K.M. v. the United Kingdom [GC], no. 28945/95, \\u00a7 71, ECHR 2001-V ). 42. The margin of appreciation to be accorded to the competent national authorities will vary in accordance with the nature of the issues and the importance of the interests at stake. In particular when deciding on custody, the Court has recognised that the authorities enjoy a wide margin of appreciation. However, a stricter scrutiny is called for as regards any further limitations, such as restrictions placed by those authorities on parental rights of access, and as regards any legal safeguards designed to secure an effective protection of the right of parents and children to respect for their family life. Such further limitations entail the danger that the family relations between a young child and one or both parents would be effectively curtailed (see Elsholz v. Germany [GC], no. 25735/94, \\u00a7 49, ECHR 2000-VIII, and Kutzner v. Germany, no. 46544/99, \\u00a7 67, ECHR 2002-I ). 43. Article 8 requires that the domestic authorities should strike a fair balance between the interests of the child and those of the parents and that, in the balancing process, particular importance should be attached to the best interests of the child which, depending on their nature and seriousness, may override those of the parents. In particular, a parent cannot be\"\n"
     ]
    }
   ],
   "source": [
    "top_k = 10\n",
    "data_dir = \"bm25_oracle_passages_oracle_documents\"\n",
    "from datasets import DatasetDict\n",
    "\n",
    "\n",
    "create = False\n",
    "def retrieve_top_passages(entry):\n",
    "    query = entry['gold_text']\n",
    "    all_passages = entry['oracle_documents_passages']\n",
    "    all_passages_text = [f\"{passage_arr[0]}\\n{passage_arr[1]}\" for passage_arr in all_passages]\n",
    "    corpus_tokens = bm25s.tokenize(all_passages_text, stopwords=\"en\", stemmer=stemmer)\n",
    "    retriever = bm25s.BM25()\n",
    "    retriever.index(corpus_tokens)\n",
    "    query_tokens = bm25s.tokenize(query, stemmer=stemmer)\n",
    "    results, _ = retriever.retrieve(query_tokens, corpus=all_passages_text, k=top_k)\n",
    "    results = results.squeeze(0)\n",
    "    return {f\"top_{top_k}_passages\": results}  \n",
    "try:\n",
    "    new_dataset = load_dataset(f\"ylkhayat/{workshop_hf_name}\", data_dir=data_dir)\n",
    "except:\n",
    "    print(f\"[!] {workshop_hf_name} not found in {data_dir}\")\n",
    "    create = True\n",
    "\n",
    "if create or f\"top_{top_k}_passages\" not in current_chosen_dataset.column_names['train'] or f\"top_{top_k}_passages\" not in current_chosen_dataset.column_names['test']:\n",
    "    print(f\"[*] adding top_{top_k}_passages to {workshop_hf_name}\")\n",
    "    new_dataset = DatasetDict({split: current_chosen_dataset[split] for split in current_chosen_dataset.keys()})\n",
    "    new_dataset = new_dataset.map(retrieve_top_passages, num_proc=num_proc)\n",
    "    new_dataset.push_to_hub(f\"ylkhayat/{workshop_hf_name}\", data_dir=data_dir)\n",
    "else:\n",
    "    print(f\"[!] top_{top_k}_passages already exists in {workshop_hf_name}\")\n",
    "print(json.dumps(new_dataset['train'][0][f\"top_{top_k}_passages\"][0], indent=4)) "
   ]
  },
  {
   "cell_type": "markdown",
   "metadata": {},
   "source": [
    "# Create the BM25 Setup"
   ]
  },
  {
   "cell_type": "code",
   "execution_count": 14,
   "metadata": {},
   "outputs": [
    {
     "data": {
      "application/vnd.jupyter.widget-view+json": {
       "model_id": "6318a6eb33544db9b3b427e82b0d57b5",
       "version_major": 2,
       "version_minor": 0
      },
      "text/plain": [
       "Downloading readme:   0%|          | 0.00/708 [00:00<?, ?B/s]"
      ]
     },
     "metadata": {},
     "output_type": "display_data"
    },
    {
     "name": "stderr",
     "output_type": "stream",
     "text": [
      "Using the latest cached version of the dataset since ylkhayat/ECHR-generation-workshop couldn't be found on the Hugging Face Hub\n"
     ]
    },
    {
     "name": "stdout",
     "output_type": "stream",
     "text": [
      "[!] ECHR-generation-workshop not found in bm25_relevant_passages_oracle_documents\n",
      "[*] adding top_10_passages to ECHR-generation-workshop\n"
     ]
    },
    {
     "data": {
      "application/vnd.jupyter.widget-view+json": {
       "model_id": "9f313d4ff88c49979bf160164912c0c8",
       "version_major": 2,
       "version_minor": 0
      },
      "text/plain": [
       "Map (num_proc=45):   0%|          | 0/5000 [00:00<?, ? examples/s]"
      ]
     },
     "metadata": {},
     "output_type": "display_data"
    },
    {
     "data": {
      "application/vnd.jupyter.widget-view+json": {
       "model_id": "2a998628606d4b518ae2f36ddc0ced03",
       "version_major": 2,
       "version_minor": 0
      },
      "text/plain": [
       "Map (num_proc=45):   0%|          | 0/1000 [00:00<?, ? examples/s]"
      ]
     },
     "metadata": {},
     "output_type": "display_data"
    },
    {
     "data": {
      "application/vnd.jupyter.widget-view+json": {
       "model_id": "c860e309c06d4dd8b07b309cd0bc5a0d",
       "version_major": 2,
       "version_minor": 0
      },
      "text/plain": [
       "Uploading the dataset shards:   0%|          | 0/6 [00:00<?, ?it/s]"
      ]
     },
     "metadata": {},
     "output_type": "display_data"
    },
    {
     "data": {
      "application/vnd.jupyter.widget-view+json": {
       "model_id": "b2cc932d565b4afbb39a48aeee3d9dfb",
       "version_major": 2,
       "version_minor": 0
      },
      "text/plain": [
       "Creating parquet from Arrow format:   0%|          | 0/1 [00:00<?, ?ba/s]"
      ]
     },
     "metadata": {},
     "output_type": "display_data"
    },
    {
     "data": {
      "application/vnd.jupyter.widget-view+json": {
       "model_id": "7dbc39e95c6f4f0d9bab843ff90b6a75",
       "version_major": 2,
       "version_minor": 0
      },
      "text/plain": [
       "Creating parquet from Arrow format:   0%|          | 0/1 [00:00<?, ?ba/s]"
      ]
     },
     "metadata": {},
     "output_type": "display_data"
    },
    {
     "data": {
      "application/vnd.jupyter.widget-view+json": {
       "model_id": "900d494c433a4d199af317c91377c5df",
       "version_major": 2,
       "version_minor": 0
      },
      "text/plain": [
       "Creating parquet from Arrow format:   0%|          | 0/1 [00:00<?, ?ba/s]"
      ]
     },
     "metadata": {},
     "output_type": "display_data"
    },
    {
     "data": {
      "application/vnd.jupyter.widget-view+json": {
       "model_id": "bc439406b8b74f2ab2d6d25a0a9569f8",
       "version_major": 2,
       "version_minor": 0
      },
      "text/plain": [
       "Creating parquet from Arrow format:   0%|          | 0/1 [00:00<?, ?ba/s]"
      ]
     },
     "metadata": {},
     "output_type": "display_data"
    },
    {
     "data": {
      "application/vnd.jupyter.widget-view+json": {
       "model_id": "bb40fd55bac64035bf9740aba0c2e407",
       "version_major": 2,
       "version_minor": 0
      },
      "text/plain": [
       "Creating parquet from Arrow format:   0%|          | 0/1 [00:00<?, ?ba/s]"
      ]
     },
     "metadata": {},
     "output_type": "display_data"
    },
    {
     "data": {
      "application/vnd.jupyter.widget-view+json": {
       "model_id": "70c4999aaf92403d871c30cb2c4ca214",
       "version_major": 2,
       "version_minor": 0
      },
      "text/plain": [
       "Creating parquet from Arrow format:   0%|          | 0/1 [00:00<?, ?ba/s]"
      ]
     },
     "metadata": {},
     "output_type": "display_data"
    },
    {
     "data": {
      "application/vnd.jupyter.widget-view+json": {
       "model_id": "d797fa93d9544ede8054aafa3777a34e",
       "version_major": 2,
       "version_minor": 0
      },
      "text/plain": [
       "Uploading the dataset shards:   0%|          | 0/2 [00:00<?, ?it/s]"
      ]
     },
     "metadata": {},
     "output_type": "display_data"
    },
    {
     "data": {
      "application/vnd.jupyter.widget-view+json": {
       "model_id": "248bd854c2504acfa4eac27cdc828eb2",
       "version_major": 2,
       "version_minor": 0
      },
      "text/plain": [
       "Creating parquet from Arrow format:   0%|          | 0/1 [00:00<?, ?ba/s]"
      ]
     },
     "metadata": {},
     "output_type": "display_data"
    },
    {
     "data": {
      "application/vnd.jupyter.widget-view+json": {
       "model_id": "f1c891b8b5884b7c99dec7147ea44c07",
       "version_major": 2,
       "version_minor": 0
      },
      "text/plain": [
       "Creating parquet from Arrow format:   0%|          | 0/1 [00:00<?, ?ba/s]"
      ]
     },
     "metadata": {},
     "output_type": "display_data"
    },
    {
     "data": {
      "application/vnd.jupyter.widget-view+json": {
       "model_id": "7b44b5e7499143d3b7dd3ed3a369ee10",
       "version_major": 2,
       "version_minor": 0
      },
      "text/plain": [
       "README.md:   0%|          | 0.00/708 [00:00<?, ?B/s]"
      ]
     },
     "metadata": {},
     "output_type": "display_data"
    },
    {
     "name": "stdout",
     "output_type": "stream",
     "text": [
      "\"74969/01\\nTHIRD SECTION CASE OF G\\u00d6RG\\u00dcL\\u00dc v. GERMANY (Application no. 74969/01) FINAL 26/05/2004 JUDGMENT This version was rectified in accordance with Rule 81 of the Rules of Court on 24 May 2005 STRASBOURG 26 February 2004 This judgment will become final in the circumstances set out in Article 44 \\u00a7 2 of the Convention. It may be subject to editorial revision. In the case of G\\u00f6rg\\u00fcl\\u00fc v. Germany, The European Court of Human Rights (Third Section), sitting as a Chamber composed of: Mr L. Caflisch, President, Mr G. Ress, Mr P. K\\u016bris, Mr B. Zupan\\u010di\\u010d, Mr J. Hedigan, Mrs M. Tsatsa-Nikolovska, Mr K. Traja, judges, and Mr V. Berger, Section Registrar, Having deliberated in private on 20 March 2003 and 5 February 2004, Delivers the following judgment, which was adopted on the last \\u2011 mentioned date: PROCEDURE 1. The case originated in an application (no. 74969/01) against the Federal Republic of Germany lodged with the Court under Article 34 of the Convention for the Protection of Human Rights and Fundamental Freedoms (\\u201cthe Convention\\u201d) by a Turkish national of Zaza origin, Kazim G\\u00f6rg\\u00fcl\\u00fc (\\u201cthe applicant\\u201d), on 18 September 2001. 2. The applicant, who had been granted legal aid, was represented by Ms A. Zeycan, a lawyer practising in Bochum. After admissibility he was also represented by Mr P. Koeppel, a lawyer practising in Munich. The German Government (\\u201cthe Government\\u201d) were represented by their Agent, Mr K. Stoltenberg, Ministerialdirigent. 3. The applicant alleged in particular that a court decision refusing him access to and custody of his son violated his right to respect for his family life under Article 8 of the Convention. He also complained about the unfairness of the court proceedings under Article 6 \\u00a7 1 of the Convention. 4. The application was allocated to the Third Section of the Court\"\n"
     ]
    }
   ],
   "source": [
    "top_k = 10\n",
    "data_dir = \"bm25_relevant_passages_oracle_documents\"\n",
    "\n",
    "create = False\n",
    "def retrieve_top_passages(entry):\n",
    "    query = entry['previous_text']\n",
    "    all_passages = entry['oracle_documents_passages']\n",
    "    all_passages_text = [f\"{passage_arr[0]}\\n{passage_arr[1]}\" for passage_arr in all_passages]\n",
    "    corpus_tokens = bm25s.tokenize(all_passages_text, stopwords=\"en\", stemmer=stemmer)\n",
    "    retriever = bm25s.BM25()\n",
    "    retriever.index(corpus_tokens)\n",
    "    query_tokens = bm25s.tokenize(query, stemmer=stemmer)\n",
    "    results, _ = retriever.retrieve(query_tokens, corpus=all_passages_text, k=top_k)\n",
    "    results = results.squeeze(0)\n",
    "    return {f\"top_{top_k}_passages\": results}  \n",
    "\n",
    "try:\n",
    "    new_dataset = load_dataset(f\"ylkhayat/{workshop_hf_name}\", data_dir=data_dir)\n",
    "except:\n",
    "    print(f\"[!] {workshop_hf_name} not found in {data_dir}\")\n",
    "    create = True\n",
    "    \n",
    "if create or f\"top_{top_k}_passages\" not in current_chosen_dataset.column_names['train'] or f\"top_{top_k}_passages\" not in current_chosen_dataset.column_names['test']:\n",
    "    print(f\"[*] adding top_{top_k}_passages to {workshop_hf_name}\")\n",
    "    new_dataset = DatasetDict({split: current_chosen_dataset[split] for split in current_chosen_dataset.keys()})\n",
    "    new_dataset = new_dataset.map(retrieve_top_passages, num_proc=num_proc)\n",
    "    new_dataset.push_to_hub(f\"ylkhayat/{workshop_hf_name}\", data_dir=data_dir)\n",
    "else:\n",
    "    print(f\"[!] top_{top_k}_passages already exists in {workshop_hf_name}\")\n",
    "print(json.dumps(new_dataset['train'][0][f\"top_{top_k}_passages\"][0], indent=4)) "
   ]
  },
  {
   "cell_type": "markdown",
   "metadata": {},
   "source": [
    "# Create the Dense Oracle Setup"
   ]
  },
  {
   "cell_type": "markdown",
   "metadata": {},
   "source": [
    "# Create the Dense Setup"
   ]
  },
  {
   "cell_type": "code",
   "execution_count": null,
   "metadata": {},
   "outputs": [],
   "source": [
    "from transformers import AutoTokenizer, AutoModel\n",
    "from datasets import load_dataset, DatasetDict\n",
    "import torch\n",
    "import json\n",
    "import faiss\n",
    "import numpy as np\n",
    "\n",
    "top_k = 10\n",
    "\n",
    "encoder_name = \"jhu-clsp/LegalBERT-DPR-CLERC-ft\"\n",
    "tokenizer = AutoTokenizer.from_pretrained(encoder_name)\n",
    "model = AutoModel.from_pretrained(encoder_name)\n",
    "# model = torch.compile(model)\n",
    "device = torch.device(\"cuda:0\" if torch.cuda.is_available() else \"cpu\")\n",
    "model.to(device)\n",
    "\n",
    "clean_encoder_name = encoder_name.replace(\"/\", \"_\")\n",
    "data_dir = \"dense_oracle_passages_oracle_documents\"\n",
    "data_dir = f\"{data_dir}/{clean_encoder_name}\"\n",
    "\n",
    "def normalize_embeddings(embeddings):\n",
    "    return embeddings / torch.norm(embeddings, p=2, dim=1, keepdim=True)\n",
    "\n",
    "\n",
    "def embed_texts(texts, tokenizer, model):\n",
    "    inputs = tokenizer(texts, return_tensors=\"pt\", padding=True, truncation=True, max_length=model.config.max_position_embeddings).to(device)\n",
    "    attention_mask = inputs['attention_mask']\n",
    "    with torch.no_grad():\n",
    "        token_embeddings = model(**inputs).last_hidden_state\n",
    "        input_mask_expanded = attention_mask.unsqueeze(-1).expand(token_embeddings.size()).float()\n",
    "        sum_embeddings = torch.sum(token_embeddings * input_mask_expanded, dim=1)\n",
    "        sum_mask = torch.clamp(input_mask_expanded.sum(dim=1), min=1e-9)\n",
    "        embeddings = sum_embeddings / sum_mask\n",
    "    embeddings = normalize_embeddings(embeddings)\n",
    "    return embeddings\n",
    "\n",
    "\n",
    "def retrieve_top_passages_batch(entries):\n",
    "    all_queries = entries['gold_text']\n",
    "    all_passages_batch = entries['oracle_documents_passages']\n",
    "    all_passages_text = [passage[1] for passages in all_passages_batch for passage in passages]\n",
    "    query_embeddings = embed_texts(all_queries, tokenizer, model)  # Shape: (batch_size, dim)\n",
    "    passage_embeddings = embed_texts(all_passages_text, tokenizer, model)  # Shape: (total_passages, dim)\n",
    "    dim = passage_embeddings.size(1)\n",
    "    # index = faiss.IndexFlatL2(dim)\n",
    "    index = faiss.IndexFlatIP(dim)\n",
    "    index.add(passage_embeddings.cpu().numpy())  # FAISS requires NumPy arrays here\n",
    "    distances, indices = index.search(query_embeddings.cpu().numpy(), top_k)\n",
    "    top_passages_batch = [[all_passages_text[index] for index in index_arr] for index_arr in indices]\n",
    "    return {f\"top_{top_k}_passages\": top_passages_batch}\n",
    "\n",
    "try:\n",
    "    new_dataset = load_dataset(f\"ylkhayat/{workshop_hf_name}\", data_dir=data_dir)\n",
    "except:\n",
    "    print(f\"[!] {workshop_hf_name} not found in {data_dir}\")\n",
    "    create = True\n",
    "    \n",
    "\n",
    "if create or f\"top_{top_k}_passages\" not in current_chosen_dataset.column_names['train'] or f\"top_{top_k}_passages\" not in current_chosen_dataset.column_names['test']:\n",
    "    print(f\"[*] adding top_{top_k}_passages to {workshop_hf_name}\")\n",
    "    new_dataset = DatasetDict({split: current_chosen_dataset[split] for split in current_chosen_dataset.keys()})\n",
    "    new_dataset = new_dataset.map(\n",
    "        lambda batch: retrieve_top_passages_batch(batch),\n",
    "        batched=True,\n",
    "        batch_size=4\n",
    "    )\n",
    "    new_dataset.push_to_hub(f\"ylkhayat/{workshop_hf_name}\", data_dir=data_dir)\n",
    "else:\n",
    "    print(f\"[!] top_{top_k}_passages already exists in {workshop_hf_name}\")\n",
    "print(json.dumps(new_dataset['train'][0][f\"top_{top_k}_passages\"][0], indent=4))"
   ]
  },
  {
   "cell_type": "code",
   "execution_count": null,
   "metadata": {},
   "outputs": [],
   "source": [
    "\n",
    "dataset_bm25_oracle_passages_oracle_documents = load_dataset(f\"ylkhayat/{workshop_hf_name}\", data_dir=\"bm25_oracle_passages_oracle_documents\")\n",
    "print(\"===================================\")\n",
    "print(dataset_bm25_oracle_passages_oracle_documents['train'][0]['gold_text'])\n",
    "print(dataset_bm25_oracle_passages_oracle_documents['train'][0]['top_10_passages'][0])\n",
    "\n",
    "dataset_bm25_relevant_passages_oracle_documents = load_dataset(f\"ylkhayat/{workshop_hf_name}\", data_dir=\"bm25_relevant_passages_oracle_documents\")\n",
    "print(\"===================================\")\n",
    "print(dataset_bm25_relevant_passages_oracle_documents['train'][0]['previous_text'])\n",
    "print(dataset_bm25_relevant_passages_oracle_documents['train'][0]['top_10_passages'][0])\n",
    "\n",
    "dataset_dense_oracle_passages_oracle_documents = load_dataset(f\"ylkhayat/{workshop_hf_name}\", data_dir=\"dense_oracle_passages_oracle_documents\")\n",
    "print(\"===================================\")\n",
    "print(dataset_dense_oracle_passages_oracle_documents['train'][0]['gold_text'])\n",
    "print(dataset_dense_oracle_passages_oracle_documents['train'][0]['top_10_passages'][0])\n"
   ]
  },
  {
   "cell_type": "code",
   "execution_count": null,
   "metadata": {},
   "outputs": [],
   "source": [
    "# from transformers import AutoTokenizer, AutoModel\n",
    "# import torch\n",
    "# import faiss\n",
    "# import numpy as np\n",
    "\n",
    "# encoder_name = \"jhu-clsp/LegalBERT-DPR-CLERC-ft\"\n",
    "# tokenizer = AutoTokenizer.from_pretrained(encoder_name)\n",
    "# model = AutoModel.from_pretrained(encoder_name)\n",
    "# device = torch.device(\"cuda:0\" if torch.cuda.is_available() else \"cpu\")\n",
    "# model.to(device)\n",
    "\n",
    "# top_k = 10\n",
    "# data_dir = \"dense_oracle_passages_oracle_documents\"\n",
    "\n",
    "# def embed_passages(passages, tokenizer, model):\n",
    "#     inputs = tokenizer(passages, return_tensors=\"pt\", padding=True, truncation=True, max_length=model.config.max_position_embeddings).to(device)\n",
    "#     with torch.no_grad():\n",
    "#         embeddings = model(**inputs).pooler_output\n",
    "#     return embeddings.cpu().numpy()\n",
    "\n",
    "# def retrieve_top_passages(entry):\n",
    "#     query = entry['gold_text']\n",
    "#     all_passages = entry['oracle_documents_passages']\n",
    "#     all_passages_text = [f\"{passage_arr[0]}\\n{passage_arr[1]}\" for passage_arr in all_passages]\n",
    "    \n",
    "#     passage_embeddings = embed_passages(all_passages_text, tokenizer, model)\n",
    "#     query_embedding = embed_passages([query], tokenizer, model).squeeze(0)\n",
    "\n",
    "#     dim = passage_embeddings.shape[1]\n",
    "#     index = faiss.IndexFlatL2(dim)\n",
    "#     index.add(passage_embeddings)\n",
    "    \n",
    "#     # Retrieve top-k similar passages\n",
    "#     distances, indices = index.search(np.expand_dims(query_embedding, axis=0), top_k)\n",
    "#     top_passages = [all_passages_text[idx] for idx in indices[0]]\n",
    "    \n",
    "#     return {f\"top_{top_k}_passages\": top_passages}\n",
    "\n",
    "# try:\n",
    "#     workshop_hf_name = f\"CLERC-generation-workshop\"\n",
    "#     new_dataset = load_dataset(f\"ylkhayat/{workshop_hf_name}\", data_dir=data_dir)\n",
    "# except:\n",
    "#     print(f\"[!] {workshop_hf_name} not found in {data_dir}\")\n",
    "#     create = True\n",
    "    \n",
    "# if create or f\"top_{top_k}_passages\" not in current_chosen_dataset.column_names['train'] or f\"top_{top_k}_passages\" not in current_chosen_dataset.column_names['test']:\n",
    "#     print(f\"[*] adding top_{top_k}_passages to {workshop_hf_name}\")\n",
    "#     new_dataset = DatasetDict({split: current_chosen_dataset[split] for split in current_chosen_dataset.keys()})\n",
    "#     new_dataset = new_dataset.map(retrieve_top_passages, num_proc=num_proc)\n",
    "#     new_dataset.push_to_hub(f\"ylkhayat/{workshop_hf_name}\", data_dir=data_dir)\n",
    "# else:\n",
    "#     print(f\"[!] top_{top_k}_passages already exists in {workshop_hf_name}\")\n",
    "# print(json.dumps(new_dataset['train'][0][f\"top_{top_k}_passages\"][0], indent=4)) "
   ]
  }
 ],
 "metadata": {
  "kernelspec": {
   "display_name": "retrieval",
   "language": "python",
   "name": "python3"
  },
  "language_info": {
   "codemirror_mode": {
    "name": "ipython",
    "version": 3
   },
   "file_extension": ".py",
   "mimetype": "text/x-python",
   "name": "python",
   "nbconvert_exporter": "python",
   "pygments_lexer": "ipython3",
   "version": "3.10.15"
  }
 },
 "nbformat": 4,
 "nbformat_minor": 2
}
