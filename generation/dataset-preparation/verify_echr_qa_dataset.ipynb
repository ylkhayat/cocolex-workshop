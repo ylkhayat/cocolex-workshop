{
 "cells": [
  {
   "cell_type": "code",
   "execution_count": null,
   "metadata": {},
   "outputs": [
    {
     "data": {
      "application/vnd.jupyter.widget-view+json": {
       "model_id": "882745cba9ea4dde95844998be252a3a",
       "version_major": 2,
       "version_minor": 0
      },
      "text/plain": [
       "Downloading data:   0%|          | 0.00/139M [00:00<?, ?B/s]"
      ]
     },
     "metadata": {},
     "output_type": "display_data"
    },
    {
     "data": {
      "application/vnd.jupyter.widget-view+json": {
       "model_id": "00388bc8fc8f4a9eae34a3024b6795f2",
       "version_major": 2,
       "version_minor": 0
      },
      "text/plain": [
       "Downloading data:   0%|          | 0.00/144M [00:00<?, ?B/s]"
      ]
     },
     "metadata": {},
     "output_type": "display_data"
    },
    {
     "data": {
      "application/vnd.jupyter.widget-view+json": {
       "model_id": "2dc1db7944d04d1f88e11a7435f45843",
       "version_major": 2,
       "version_minor": 0
      },
      "text/plain": [
       "Generating test split: 0 examples [00:00, ? examples/s]"
      ]
     },
     "metadata": {},
     "output_type": "display_data"
    },
    {
     "data": {
      "application/vnd.jupyter.widget-view+json": {
       "model_id": "1e0645b2eb5f4a3092ac400cfaa53936",
       "version_major": 2,
       "version_minor": 0
      },
      "text/plain": [
       "Downloading data:   0%|          | 0.00/145M [00:00<?, ?B/s]"
      ]
     },
     "metadata": {},
     "output_type": "display_data"
    },
    {
     "data": {
      "application/vnd.jupyter.widget-view+json": {
       "model_id": "2b986824a0594bb99108086b7d03210a",
       "version_major": 2,
       "version_minor": 0
      },
      "text/plain": [
       "Downloading data:   0%|          | 0.00/150M [00:00<?, ?B/s]"
      ]
     },
     "metadata": {},
     "output_type": "display_data"
    },
    {
     "data": {
      "application/vnd.jupyter.widget-view+json": {
       "model_id": "a2ebb7f54ce144bea4e6e927b1e87cbe",
       "version_major": 2,
       "version_minor": 0
      },
      "text/plain": [
       "Generating test split: 0 examples [00:00, ? examples/s]"
      ]
     },
     "metadata": {},
     "output_type": "display_data"
    },
    {
     "data": {
      "application/vnd.jupyter.widget-view+json": {
       "model_id": "25be5773c5d6476b86aaf0506b71e1df",
       "version_major": 2,
       "version_minor": 0
      },
      "text/plain": [
       "Downloading data:   0%|          | 0.00/146M [00:00<?, ?B/s]"
      ]
     },
     "metadata": {},
     "output_type": "display_data"
    },
    {
     "data": {
      "application/vnd.jupyter.widget-view+json": {
       "model_id": "ca94fd7b100c4646af980a5a76176aa7",
       "version_major": 2,
       "version_minor": 0
      },
      "text/plain": [
       "Downloading data:   0%|          | 0.00/150M [00:00<?, ?B/s]"
      ]
     },
     "metadata": {},
     "output_type": "display_data"
    },
    {
     "data": {
      "application/vnd.jupyter.widget-view+json": {
       "model_id": "64da908fa84a44a9a59dc66d4bc63800",
       "version_major": 2,
       "version_minor": 0
      },
      "text/plain": [
       "Generating test split: 0 examples [00:00, ? examples/s]"
      ]
     },
     "metadata": {},
     "output_type": "display_data"
    }
   ],
   "source": [
    "from datasets import load_dataset\n",
    "\n",
    "dataset_url = \"ylkhayat/ECHR_QA-generation-workshop\"\n",
    "base_dataset = load_dataset(dataset_url, data_dir=\"data\")\n",
    "bop_dataset = load_dataset(dataset_url, data_dir=\"bm25_oracle_passages_oracle_documents\")\n",
    "brp_dataset = load_dataset(dataset_url, data_dir=\"bm25_relevant_passages_oracle_documents\")\n",
    "bnop_dataset = load_dataset(dataset_url, data_dir=\"bm25_noisy_oracle_passages_oracle_documents\")"
   ]
  },
  {
   "cell_type": "code",
   "execution_count": null,
   "metadata": {},
   "outputs": [],
   "source": [
    "from datasets import load_dataset\n",
    "\n",
    "def load_parquet_dataset(data_dir):\n",
    "    workshop_hf_name = \"ECHR_QA-generation-workshop\"\n",
    "    url=f\"https://huggingface.co/datasets/ylkhayat/{workshop_hf_name}/resolve/main/{data_dir}/\"\n",
    "    current_chosen_dataset = load_dataset(\"parquet\", data_files={\"test\": [f\"{url}test-00000-of-00002.parquet\", f\"{url}test-00001-of-00002.parquet\"]})\n",
    "    return current_chosen_dataset\n",
    "\n",
    "dataset_url = \"ylkhayat/ECHR_QA-generation-workshop\"\n",
    "base_dataset = load_parquet_dataset(data_dir=\"data\")\n",
    "bop_dataset = load_parquet_dataset(data_dir=\"bm25_oracle_passages_oracle_documents\")\n",
    "brp_dataset = load_parquet_dataset(data_dir=\"bm25_relevant_passages_oracle_documents\")\n",
    "bnop_dataset = load_parquet_dataset(data_dir=\"bm25_noisy_oracle_passages_oracle_documents\")"
   ]
  },
  {
   "cell_type": "code",
   "execution_count": 4,
   "metadata": {},
   "outputs": [
    {
     "name": "stdout",
     "output_type": "stream",
     "text": [
      "[\"001-45580\\n91. As regards the entry and search of the first applicant's home the Commission refers to its decision on admissibility in the present case concerning a similar complaint of the other applicants (Appendix II, The Law, para. 3 under B. The other applicants, point (b)). The Commission recalls that domestic law provides a remedy for the tort of unlawful trespass to property. If the first applicant had sued the army on this basis, no doubt they would have argued in defence that they had had lawful authority for their actions under section 14 (3) of the Northern Ireland (Emergency Provisions) Act 1978. Given the apparent weakness of her case, the first applicant would probably have had little prospect of succeeding in such an action. However, this does not mean that the necessary domestic law structures do not exist. Article 13 (Art. 13) of the Convention is not concerned with the outcome of such procedures; what is relevant is only whether an effective remedy exists. Conclusion\"]\n",
      "['001-45580\\n79. The Commission finds that the measures of which the applicants complained constituted interferences with their right to respect for private and family life and the home, ensured by Article 8 para. 1 (Art. 8-1) of the Convention. It remains to be examined whether the interferences were justified under paragraph 2 of that Article or, in other words, whether they were \"in accordance with the law\", whether they pursued one or more legitimate aims under that paragraph, and whether they could be considered necessary in a democratic society for that or those aims.', '001-45580\\n81. The Commission is further of the opinion that these measures pursued the legitimate aim of the prevention of crime, to be seen particularly in the context of the fight against terrorist crime in Northern Ireland. The question remains, however, whether the interferences were proportionate to that aim and were thereby necessary, within the meaning of Article 8 para. 2 (Art. 8-2) of the Convention.', '001-45580\\n77. Article 8 (Art. 8) of the Convention provides as follows: \"1. Everyone has the right to respect for his private and family life, his home and his correspondence. 2. There shall be no interference by a public authority with the exercise of this right except such as is in accordance with the law and is necessary in a democratic society in the interests of national security, public safety or the economic well-being of the country, for the prevention of disorder or crime, for the protection of health or morals, or for the protection of the rights and freedoms of others.\"', \"001-45580\\n84. Against the Northern Irish terrorist background and in the light of the facts of the present case, the Commission considers that the entry and search of the applicants' home and the taking and retention of a photograph and personal details about the first applicant were not disproportionate to the legitimate aim of the prevention of crime. In the Commission's opinion these measures may, therefore, be considered as necessary under Article 8 para. 2 (Art. 8-2) of the Convention. Conclusion\", '001-45580\\n40. The first applicant\\'s appeal to the Court of Appeal also concerned certain related matters such as the legality of the search of the applicant\\'s house, in respect of which the Court of Appeal found that there was a sufficient basis in section 14(3) of the 1978 Act. The Court of Appeal further found that the army\\'s powers included the right to interrogate a detained person and that the \"screening proforma\" contained no information which might not have been relevant to the resolution of the suspicion. As regards the applicant\\'s complaint regarding the taking of a photograph of her, the Court of Appeal stated as follows: \"The complaint that the plaintiff was photographed without her knowledge can be quickly disposed of. While in the reception room she was asked if she would agree to be photographed and she refused. However, it would appear that later, unknown to her, she was secretly photographed and this only became known to her when part 1 of the screening proforma containing that information was produced. The act of taking the photograph involved nothing in the nature of a physical assault. Whether such an act would constitute an invasion of privacy so as to be actionable in the United States is irrelevant, because the plaintiff can only recover damages if it amounts to a tort falling within one of the recognised branches of the law on the topic. According to the common law there is no remedy if someone takes a photograph of another against his will. Reliance was placed on section 11(4) of the Act by counsel for the plaintiff. This provides: \\'Where a person is arrested under this section, an officer of the Royal Ulster Constabulary not below the rank of chief inspector may order him to be photographed and to have his finger and palm prints taken by a constable, and a constable may use such reasonable force as may be necessary for that purpose.\\' This provision gives power to the police to order the taking of finger prints without the necessity of charging the person concerned and applying for an order of the magistrate under article 61 of the Magistrates Courts (Northern Ireland) Order 1981, which contains no comparable provision as to the taking of photographs. The taking of finger prints otherwise than by consent must involve an assault and I am satisfied that section 11(4) was enacted not to legalise the taking of photographs without consent, but to legalise the taking of photographs or finger prints in circumstances where there would otherwise have been an illegal assault. It does not involve the implication that the taking of a photograph without violence and without consent is actionable.\"', '001-45580\\n82. The Commission refers to its findings in the case of Brogan and Others concerning the situation in Northern Ireland (Nos. 11209/84, 11234/84, 11266/84 and 11386/85, Brogan, Coyle, McFadden and Tracey v. the United Kingdom, Comm. Report 14.5.87 paras. 80 and 106): \"80. It is against the background of a continuing terrorist threat in Northern Ireland and the particular problems confronting the security forces in bringing those responsible for terrorist acts to justice that the issues in the present case must be examined. In such a situation the Convention organs must remain vigilant that a proper balance is struck between the protection of individual rights and the need to defend democratic society against the threats posed by organised terrorism. In the Commission\\'s opinion it is inherent in the whole of the Convention that a fair balance has to be struck between the general interest of the community and the interests of the individual... 106. ... In so doing, the Commission takes into account that the struggle against terrorism may require a particular measure of sacrifice by each citizen in order to protect the community as a whole against such crimes. Moreover, the Commission also bears in mind the context in which the applicants were arrested and the reality of problems presented by the arrest and detention of suspected terrorists which have been alluded to by the Government ... and which may not be present in ordinary criminal cases.\"', '001-45580\\n49. The scope and exercise of the section 14 powers were considered by the domestic courts in the proceedings in the present case. These proceedings demonstrate that when the legality of an arrest or detention under section 14 is challenged (whether by way of habeas corpus or in proceedings for damages for wrongful arrest or false imprisonment), the burden lies on the military to justify their acts and, in particular, to establish the following elements: (a) compliance with the formal requirements for arrest ; (b) the genuineness of the suspicion on which the arrest was based ; (c) that the powers of arrest and detention were not used for any improper purpose such as screening or intelligence-gathering ; (d) that the power of search was used only to facilitate the arrest and not for the obtaining of incriminating evidence ; (e) that those responsible for the arrest and detention did not exceed the time reasonably required to reach a decision whether to release the detainee or hand him over to the police. 2. Photograph', \"001-45580\\n89. As regards the remedies in relation to the first applicant's arrest and detention and the lack of information given to her about the reasons for her arrest, the Commission notes that Article 5 (Art. 5) of the Convention provides two specific remedial channels: Article 5 para. 4 (Art. 5-4) which envisages the judicial determination of the lawfulness of detention and release in the event of unlawful detention, and Article 5 para. 5 (Art. 5-5) which envisages the payment of compensation if the arrest or detention was unlawful. The first applicant has made no complaint under Article 5 para. 4 (Art. 5-4) of the Convention and the Commission has concluded above (para. 76) that there has been a violation of Article 5 para. 5 (Art. 5-5) in her case. In the light of this conclusion the Commission does not deem it necessary to examine the first applicant's complaint again under Article 13 (Art. 13) of the Convention because no separate issue arises under this provision (cf. Eur. Court H.R., Fox, Campbell and Hartley judgment of 30 August 1990, Series A no. 182, p. 21 para. 47). Conclusion\", \"001-45580\\n57. The issues to be determined are - whether the first applicant's arrest and detention were in violation of Article 5 para. 1 (Art. 5-1) of the Convention ; - whether the first applicant was informed promptly of the reasons for her arrest, as required by Article 5 para. 2 (Art. 5-2) of the Convention ; - whether the first applicant had an enforceable right to compensation for the alleged breaches of Article 5 paras. 1 and 2, under Article 5 para. 5 (Art. 5-1, 5-2, 5-5) of the Convention ; - whether the entry and search of the applicants' home and the taking and retention of a photograph and personal details about the first applicant were in violation of Article 8 (Art. 8) of the Convention ; - whether the first applicant had effective domestic remedies, pursuant to Article 13 (Art. 13) of the Convention, for her substantive Convention claims. C. As regards Article 5 para. 1 (Art. 5-1) of the Convention\", \"001-45580\\n91. As regards the entry and search of the first applicant's home the Commission refers to its decision on admissibility in the present case concerning a similar complaint of the other applicants (Appendix II, The Law, para. 3 under B. The other applicants, point (b)). The Commission recalls that domestic law provides a remedy for the tort of unlawful trespass to property. If the first applicant had sued the army on this basis, no doubt they would have argued in defence that they had had lawful authority for their actions under section 14 (3) of the Northern Ireland (Emergency Provisions) Act 1978. Given the apparent weakness of her case, the first applicant would probably have had little prospect of succeeding in such an action. However, this does not mean that the necessary domestic law structures do not exist. Article 13 (Art. 13) of the Convention is not concerned with the outcome of such procedures; what is relevant is only whether an effective remedy exists. Conclusion\"]\n",
      "['001-45580\\n77. Article 8 (Art. 8) of the Convention provides as follows: \"1. Everyone has the right to respect for his private and family life, his home and his correspondence. 2. There shall be no interference by a public authority with the exercise of this right except such as is in accordance with the law and is necessary in a democratic society in the interests of national security, public safety or the economic well-being of the country, for the prevention of disorder or crime, for the protection of health or morals, or for the protection of the rights and freedoms of others.\"', '001-45580\\n79. The Commission finds that the measures of which the applicants complained constituted interferences with their right to respect for private and family life and the home, ensured by Article 8 para. 1 (Art. 8-1) of the Convention. It remains to be examined whether the interferences were justified under paragraph 2 of that Article or, in other words, whether they were \"in accordance with the law\", whether they pursued one or more legitimate aims under that paragraph, and whether they could be considered necessary in a democratic society for that or those aims.', '001-45580\\n82. The Commission refers to its findings in the case of Brogan and Others concerning the situation in Northern Ireland (Nos. 11209/84, 11234/84, 11266/84 and 11386/85, Brogan, Coyle, McFadden and Tracey v. the United Kingdom, Comm. Report 14.5.87 paras. 80 and 106): \"80. It is against the background of a continuing terrorist threat in Northern Ireland and the particular problems confronting the security forces in bringing those responsible for terrorist acts to justice that the issues in the present case must be examined. In such a situation the Convention organs must remain vigilant that a proper balance is struck between the protection of individual rights and the need to defend democratic society against the threats posed by organised terrorism. In the Commission\\'s opinion it is inherent in the whole of the Convention that a fair balance has to be struck between the general interest of the community and the interests of the individual... 106. ... In so doing, the Commission takes into account that the struggle against terrorism may require a particular measure of sacrifice by each citizen in order to protect the community as a whole against such crimes. Moreover, the Commission also bears in mind the context in which the applicants were arrested and the reality of problems presented by the arrest and detention of suspected terrorists which have been alluded to by the Government ... and which may not be present in ordinary criminal cases.\"', '001-45580\\n81. The Commission is further of the opinion that these measures pursued the legitimate aim of the prevention of crime, to be seen particularly in the context of the fight against terrorist crime in Northern Ireland. The question remains, however, whether the interferences were proportionate to that aim and were thereby necessary, within the meaning of Article 8 para. 2 (Art. 8-2) of the Convention.', '001-45580\\n40. The first applicant\\'s appeal to the Court of Appeal also concerned certain related matters such as the legality of the search of the applicant\\'s house, in respect of which the Court of Appeal found that there was a sufficient basis in section 14(3) of the 1978 Act. The Court of Appeal further found that the army\\'s powers included the right to interrogate a detained person and that the \"screening proforma\" contained no information which might not have been relevant to the resolution of the suspicion. As regards the applicant\\'s complaint regarding the taking of a photograph of her, the Court of Appeal stated as follows: \"The complaint that the plaintiff was photographed without her knowledge can be quickly disposed of. While in the reception room she was asked if she would agree to be photographed and she refused. However, it would appear that later, unknown to her, she was secretly photographed and this only became known to her when part 1 of the screening proforma containing that information was produced. The act of taking the photograph involved nothing in the nature of a physical assault. Whether such an act would constitute an invasion of privacy so as to be actionable in the United States is irrelevant, because the plaintiff can only recover damages if it amounts to a tort falling within one of the recognised branches of the law on the topic. According to the common law there is no remedy if someone takes a photograph of another against his will. Reliance was placed on section 11(4) of the Act by counsel for the plaintiff. This provides: \\'Where a person is arrested under this section, an officer of the Royal Ulster Constabulary not below the rank of chief inspector may order him to be photographed and to have his finger and palm prints taken by a constable, and a constable may use such reasonable force as may be necessary for that purpose.\\' This provision gives power to the police to order the taking of finger prints without the necessity of charging the person concerned and applying for an order of the magistrate under article 61 of the Magistrates Courts (Northern Ireland) Order 1981, which contains no comparable provision as to the taking of photographs. The taking of finger prints otherwise than by consent must involve an assault and I am satisfied that section 11(4) was enacted not to legalise the taking of photographs without consent, but to legalise the taking of photographs or finger prints in circumstances where there would otherwise have been an illegal assault. It does not involve the implication that the taking of a photograph without violence and without consent is actionable.\"', '001-45580\\n80. As regards the lawfulness of the interferences, the Commission notes that the army had lawful authority under section 14 of the Northern Ireland (Emergency Provisions) Act to enter and search the applicants\\' home in effecting the first applicant\\'s arrest. According to the Court of Appeal, this lawful authority extended to the recording of personal details of the kind contained in the screening proforma (see para. 40 above). As regards the taking of a photograph, there exists no statutory law which expressly deals with the matter. However, in the present case the first instance judge stated that he had always understood the law to be that \"merely taking a photograph of a person without in any way defaming him is not actionable\" (see para. 35 above). The Court of Appeal, for its part, stated that \"according to the common law there is no remedy if someone takes a photograph of another against his will\" and that the fact that there are rules about the powers of the police to order the taking of finger prints but not as to the taking of photographs \"does not involve the implication that the taking of a photograph without violence and without consent is actionable\" (see para. 40 above). In these circumstances, the Commission is satisfied that the taking of a photograph of the applicant had a sufficiently clear basis in domestic law. It notes that the situation is materially different from that which was at issue in the Malone case where the scope and manner of exercise of the relevant discretion conferred on the public authorities in the interception of telephone communications were found not to be sufficiently clear (Eur. Court H.R., Malone judgment of 2 August 1984, Series A no. 82, p.36, para. 79).', '001-45580\\n58. The relevant part of Article 5 para. 1 (Art. 5-1) of the Convention provides as follows: \"1. Everyone has the right to liberty and security of person. No one shall be deprived of his liberty save in the following cases and in accordance with a procedure prescribed by law... (c) the lawful arrest or detention of a person effected for the purpose of bringing him before the competent legal authority on reasonable suspicion of having committed an offence ...\"', \"001-45580\\n84. Against the Northern Irish terrorist background and in the light of the facts of the present case, the Commission considers that the entry and search of the applicants' home and the taking and retention of a photograph and personal details about the first applicant were not disproportionate to the legitimate aim of the prevention of crime. In the Commission's opinion these measures may, therefore, be considered as necessary under Article 8 para. 2 (Art. 8-2) of the Convention. Conclusion\", '001-45580\\n61. The Commission refers to the Court\\'s judgment in the Fox, Campbell and Hartley case in which it noted that the test for lawful arrest, under comparable provisions of the 1978 Act concerning police powers of arrest, was a subjective one of honest suspicion on the part of the arresting officer, whereas Article 5 para. 1 (c) (Art. 5-1-c) of the Convention requires an objective test of reasonable suspicion. This presupposes the existence of facts or information which would satisfy an objective observer that the person concerned may have committed an offence. What may be regarded as reasonable will however depend on the circumstances of a particular case. Whilst terrorist crime presents special problems and the competent authority may arrest someone on the basis of reliable sources which must remain confidential for their protection and future efficacy, nevertheless the exigencies of dealing with terrorist crime cannot justify stretching the notion of \"reasonableness\" to the point where the essence of the Article 5 para. 1 (c) (Art. 5-1-c) safeguard is impaired. Although the Contracting State cannot be asked to reveal its confidential sources of information, the Commission and the Court cannot be satisfied that the requirements of Article 5 para. 1 (Art. 5-1) have been fulfilled unless the Contracting State has furnished at least some specific facts or information capable of showing the Convention organs that there was reasonable suspicion against the person concerned.', \"001-45580\\n93. As regards the first applicant's complaint concerning the taking and retention of a photograph of her, the Commission notes that, according to the judgments of the domestic courts in the present case, the mere taking of a photograph of a person, without the use of force and without using the photograph in such a way as to defame the person concerned, is lawful under Northern Irish law. The domestic courts also confirmed the lawfulness of the recording and retention of personal details about the first applicant in a screening proforma. The Commission considers that, insofar as the first applicant's complaint is directed at the contents of the law, Article 13 (Art. 13) did not give her a right to a remedy (see Eur. Court H.R., James and Others judgment of 21 February 1986, Series A no. 98, p. 47 paras. 85-86). If, on the other hand, the first applicant can be understood as complaining of the manner in which the domestic law was applied in her case, the Commission finds that she could bring an action before the Northern Irish courts and that the guarantee contained in Article 13 (Art. 13) was respected. Conclusion\"]\n"
     ]
    }
   ],
   "source": [
    "print(bop_dataset['test']['top_k_passages'][0])\n",
    "print(brp_dataset['test']['top_10_passages'][0])\n",
    "print(bnop_dataset['test']['top_10_passages'][0])"
   ]
  },
  {
   "cell_type": "code",
   "execution_count": null,
   "metadata": {},
   "outputs": [],
   "source": []
  }
 ],
 "metadata": {
  "kernelspec": {
   "display_name": "retrieval",
   "language": "python",
   "name": "python3"
  },
  "language_info": {
   "codemirror_mode": {
    "name": "ipython",
    "version": 3
   },
   "file_extension": ".py",
   "mimetype": "text/x-python",
   "name": "python",
   "nbconvert_exporter": "python",
   "pygments_lexer": "ipython3",
   "version": "3.10.15"
  }
 },
 "nbformat": 4,
 "nbformat_minor": 2
}
