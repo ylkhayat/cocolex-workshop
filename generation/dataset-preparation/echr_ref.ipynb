{
 "cells": [
  {
   "cell_type": "code",
   "execution_count": null,
   "id": "47df6914-bda5-4899-8f43-01d17af1c464",
   "metadata": {},
   "outputs": [],
   "source": [
    "# This introduces TUM Legal Tech's scrape of the HUDOC website, stored in a MongoDB on the chair's server. \n",
    "# This portion is restricted to the English language judgements.\n",
    "# Website URL: https://hudoc.echr.coe.int/#{%22documentcollectionid2%22:[%22GRANDCHAMBER%22,%22CHAMBER%22]}\n",
    "\n",
    "# written by Rashid Haddad, HiWi at TUM Legal Tech Chair"
   ]
  },
  {
   "cell_type": "code",
   "execution_count": 1,
   "id": "705973ac-28f0-4af6-8799-80d6ffe230ea",
   "metadata": {},
   "outputs": [],
   "source": [
    "from pymongo import MongoClient\n",
    "import re\n",
    "import pandas as pd\n",
    "\n",
    "# db connection setup\n",
    "URI = \"mongodb://%s:%s@f27se1.in.tum.de:27017/echr\" % (\"echr_read\", \"echr_read\")# local\n",
    "# URI = \"mongodb://%s:%s@localhost:27017/echr\" % (\"echr_read\", \"echr_read\") # server\n",
    "client = MongoClient(URI)\n",
    "database = client['echr']\n",
    "# db setup\n",
    "hejud = database[\"hejud\"]"
   ]
  },
  {
   "cell_type": "code",
   "execution_count": null,
   "id": "a19dff46",
   "metadata": {},
   "outputs": [],
   "source": []
  },
  {
   "cell_type": "code",
   "execution_count": 2,
   "id": "ab3d81fe-73aa-4db4-9858-0184177ad0ff",
   "metadata": {},
   "outputs": [
    {
     "name": "stdout",
     "output_type": "stream",
     "text": [
      "False\n",
      "True\n",
      "True\n",
      "True\n",
      "True\n",
      "True\n",
      "False\n",
      "True\n",
      "True\n",
      "False\n",
      "True\n",
      "True\n",
      "False\n",
      "True\n",
      "True\n",
      "True\n",
      "True\n",
      "True\n",
      "True\n",
      "True\n",
      "True\n",
      "False\n",
      "True\n",
      "True\n",
      "True\n"
     ]
    }
   ],
   "source": [
    "# Getting an example document. NOTE (!!!): Because not all documents include all fields, might need to rerun this to find\n",
    "# a useful document.\n",
    "# doc = hejud.find_one() # one way, doesn't randomly sample\n",
    "\n",
    "# Sample at random:\n",
    "docs = hejud.aggregate([{ '$sample': { 'size': 25 } }])\n",
    "docs = list(docs)\n",
    "\n",
    "\n",
    "for doc in docs:\n",
    "    print('THE LAW' in doc['PCR_REMAINDER_REMAINDER'])\n",
    "doc = docs[0]"
   ]
  },
  {
   "cell_type": "code",
   "execution_count": 3,
   "id": "74cf1e6b-c9d4-4ad1-becb-dd9394ad5163",
   "metadata": {},
   "outputs": [
    {
     "name": "stdout",
     "output_type": "stream",
     "text": [
      "dict_keys(['_id', 'originatingbody', 'ECHRRanking', 'appnoparts', 'representedby', 'sharepointid', 'typedescription', 'resolutionnumber', 'nonviolation', 'scl', 'organisations', 'documentcollectionid', 'judges', 'courts', 'conclusion', 'documentcollectionid2', 'meetingnumber', 'externalsources', 'doctypebranch', 'appno', 'respondent', 'application', 'importance', 'extractedappno', 'kpdateAsText', 'rulesofcourt', 'ecli', 'isplaceholder', 'Rank', 'violation', 'publishedby', 'judgementdate', 'dmdocnumber', 'sclappnos', 'separateopinion', 'doctype', 'languageisocode', 'introductiondate', 'reportdate', 'kpthesaurus', 'issue', 'applicability', 'languagenumber', 'docname', 'article', 'counter', 'kpdate', 'referencedate', 'doctext_html', 'doctext_pdf', 'scl_array', 'doc_text', 'pdf', 'html', 'START', 'PROCEDURE', 'INTRODUCTION', 'PROCEDURE_AND_FACTS', 'FACTS', 'RELEVANT_LEGAL_FRAMEWORK', 'RELEVANT_DOMESTIC_LAW', 'LAW', 'PROCEEDINGS_BEFORE_THE_COMMISSION', 'FINAL_SUBMISSIONS_MADE_TO_THE_COURT_BY_THE_GOVERNMENT', 'FINAL_SUBMISSIONS_TO_THE_COURT', 'COURT_CONCLUSION', 'SEPARATE_OPINION', 'SUPPLEMENTARY_OBSERVATIONS', 'FULL_TEXT', 'sentences', 'FACTS_segmented', 'FACTS_segmented_no_headers', 'FACTS_segmented_new', 'FACTS_segmented_no_headers_new', 'PCR_FACTS', 'PCR_REMAINDER', 'PCR_CONCLUSION', 'PCR_REMAINDER_REMAINDER', 'SCL_EXTRACTIONS', 'articles_from_conclusion', 'articles_from_header_sentences', 'articles_merged', 'V_DOT_EXTRACTIONS', 'SCL_APPNO_DIRECT', 'APPNO_DIRECT', 'APPNOS_MERGE', 'APPNOS_MERGE2', 'split_votes', 'parsed', 'NEW_LAW_SECTION'])\n"
     ]
    }
   ],
   "source": [
    "# Note: Earlier ones are original from the database. Fields post 'START' field have been added in postprocessing. Rashid's work begins\n",
    "# at field 'sentences' and those are the most accurate.\n",
    "print(doc.keys())"
   ]
  },
  {
   "cell_type": "code",
   "execution_count": 4,
   "id": "ea67051f-bc64-4554-9d15-dd16c8f01489",
   "metadata": {},
   "outputs": [
    {
     "name": "stdout",
     "output_type": "stream",
     "text": [
      "001-57580\n",
      "['7151/75', '7152/75']\n",
      "CASE OF SPORRONG AND LÖNNROTH v. SWEDEN\n"
     ]
    }
   ],
   "source": [
    "# From the original metadata, the most important fields when working with ECHR data are:\n",
    "print(doc['_id'])\n",
    "print(doc['appno'])\n",
    "print(doc['docname'])"
   ]
  },
  {
   "cell_type": "code",
   "execution_count": 22,
   "id": "4df137a2-cc74-45ca-8fcf-97006fe1c72d",
   "metadata": {},
   "outputs": [],
   "source": [
    "# The db is structured into docs which mirror the pages on the HUDOC website. A case has a unique application number,\n",
    "# but can be linked to multiple such documents if there were revisions."
   ]
  },
  {
   "cell_type": "code",
   "execution_count": 23,
   "id": "b265b2e0-2d0e-4f40-a9a4-783209eaec5a",
   "metadata": {},
   "outputs": [],
   "source": [
    "# I have parsed the html carefully and the resulting fields are the fairest compromise between granularity and\n",
    "# error rate. Unfortunately, the documents had deceptively similar, but not perfectly consistent structure. I\n",
    "# handled as many exceptions as possible.\n",
    "\n",
    "# Overall, the lowest common denominator was to preserve sentence level splits, where a sentence is most commonly a paragraph\n",
    "# from the case. A paragraph typically begins with a number, other than the document and section headers. Note that subparagraphs\n",
    "# can include their own numbering systems."
   ]
  },
  {
   "cell_type": "code",
   "execution_count": null,
   "id": "99dc4f5a-28fe-4afe-ab23-dcf16929ee2e",
   "metadata": {},
   "outputs": [],
   "source": [
    "# In the event that you would like to draw upon the original html, refer to:\n",
    "print(doc['html'])"
   ]
  },
  {
   "cell_type": "code",
   "execution_count": null,
   "id": "a3988b65-08a9-486c-9991-9bf74f4470b7",
   "metadata": {},
   "outputs": [],
   "source": [
    "# Most likely, you would like to access one abstraction level higher: the sentence level plain text.\n",
    "# This is preserved as a list of strings.\n",
    "\n",
    "print(doc['sentences'])"
   ]
  },
  {
   "cell_type": "code",
   "execution_count": null,
   "id": "00771270-ebb5-4216-957a-916c59dbd3c9",
   "metadata": {},
   "outputs": [],
   "source": [
    "# The advantage of the ECHR judgements is that they have distinct sections for facts, legal reasoning, etc.\n",
    "# The breakpoints are somewhat regular (common headers), and I handled most exceptions. The following fields encode lists\n",
    "# of strings for each section:\n",
    "print([doc_key for doc_key in doc.keys() if \"REMAINDER\" in doc_key])\n",
    "# Facts\n",
    "print(doc['PCR_FACTS'])\n",
    "# Law\n",
    "print(doc['PCR_REMAINDER_REMAINDER'])\n",
    "# Conclusion\n",
    "print(doc['PCR_CONCLUSION'])"
   ]
  },
  {
   "cell_type": "code",
   "execution_count": null,
   "id": "4a40cc6e-6556-4ed8-bf87-82c0f6a61908",
   "metadata": {},
   "outputs": [],
   "source": [
    "# ECHR judgements cite prior cases if they are relevant. The citation structure is only somewhat consistent.\n",
    "# A lot of effort was invested to parse a citation graph accross the documents. The precision and recall are 0.86 and 0.89 respectively.\n",
    "# The various mining strategies and their precursors are stored in the following fields:\n",
    "\n",
    "# Strasbourg case law citations (the scrape included these citations in a metadata page, which appear to be manually extracted from the doc.\n",
    "# Some include appnos, which we stored in APPNO_DIRECT. Others required more sophisticated, error prone matching.\n",
    "# print(doc['SCL_EXTRACTIONS'])\n",
    "# print(doc['SCL_APPNO_DIRECT'])\n",
    "\n",
    "# Citations from the text, whenever v. occured. Not all citations included a defendant, so v. was not a sufficient indicator of a citation.\n",
    "# print(doc['V_DOT_EXTRACTIONS'])\n",
    "\n",
    "# Citations where the appnos are mentioned. Also not consistently available. Occasionally erroneous when referring to a different case\n",
    "# numbering system, like from a national court (mostly dealt with).\n",
    "# print(doc['APPNO_DIRECT'])\n",
    "\n",
    "\n",
    "# A merged set of these strategies. This is the final list of cases cited by a given case.\n",
    "# print(doc['APPNOS_MERGE'])\n",
    "print(doc['APPNOS_MERGE2'])\n",
    "# print(doc['APPNO_DIRECT'])\n"
   ]
  },
  {
   "cell_type": "code",
   "execution_count": null,
   "id": "a9aca55c-ac5f-4c11-8396-d646845e6fd1",
   "metadata": {},
   "outputs": [],
   "source": [
    "# Judgements are made at the article level for each article that is believed to be violated.\n",
    "# The list of such alleged article violations has been mined and stored at:\n",
    "print(doc['articles_merged'])\n",
    "\n",
    "# The set originates from to mining strategies of different sections. For the components, see:\n",
    "# print(doc['articles_from_conclusion'])\n",
    "# print(doc['articles_from_header_sentences'])"
   ]
  },
  {
   "cell_type": "code",
   "execution_count": null,
   "id": "f28ab7ba-589c-430e-a477-7ed2c404a420",
   "metadata": {},
   "outputs": [],
   "source": [
    "# Judgements are made by a vote of multiple judges for each article. The outcome of these votes has been mined and stored at:\n",
    "print(doc['split_votes'])"
   ]
  },
  {
   "cell_type": "code",
   "execution_count": null,
   "id": "ace4ce66-0093-4682-95a7-c3eb2aac96ba",
   "metadata": {},
   "outputs": [],
   "source": []
  }
 ],
 "metadata": {
  "kernelspec": {
   "display_name": "retrieval",
   "language": "python",
   "name": "python3"
  },
  "language_info": {
   "codemirror_mode": {
    "name": "ipython",
    "version": 3
   },
   "file_extension": ".py",
   "mimetype": "text/x-python",
   "name": "python",
   "nbconvert_exporter": "python",
   "pygments_lexer": "ipython3",
   "version": "3.10.15"
  }
 },
 "nbformat": 4,
 "nbformat_minor": 5
}
