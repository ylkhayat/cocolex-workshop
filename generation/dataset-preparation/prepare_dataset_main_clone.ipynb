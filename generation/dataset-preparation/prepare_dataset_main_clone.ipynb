{
 "cells": [
  {
   "cell_type": "code",
   "execution_count": 10,
   "metadata": {},
   "outputs": [],
   "source": [
    "from datasets import load_dataset, DatasetDict\n",
    "import numpy as np\n",
    "from tqdm import tqdm\n",
    "import os\n",
    "import json\n",
    "from sentence_transformers import SentenceTransformer, util\n",
    "import torch\n",
    "import argparse\n",
    "import bm25s"
   ]
  },
  {
   "cell_type": "code",
   "execution_count": 11,
   "metadata": {},
   "outputs": [],
   "source": [
    "chunk_size = 300\n",
    "chunk_overlap = 0.0\n",
    "\n",
    "num_proc = os.cpu_count() - 3"
   ]
  },
  {
   "cell_type": "code",
   "execution_count": 12,
   "metadata": {},
   "outputs": [
    {
     "data": {
      "application/vnd.jupyter.widget-view+json": {
       "model_id": "956e50b2f56c4183aa92b780b4a5f41b",
       "version_major": 2,
       "version_minor": 0
      },
      "text/plain": [
       "README.md:   0%|          | 0.00/590 [00:00<?, ?B/s]"
      ]
     },
     "metadata": {},
     "output_type": "display_data"
    },
    {
     "data": {
      "application/vnd.jupyter.widget-view+json": {
       "model_id": "c4c2fea93b824dfa864b6d0b0221fa57",
       "version_major": 2,
       "version_minor": 0
      },
      "text/plain": [
       "train-00000-of-00001.parquet:   0%|          | 0.00/837k [00:00<?, ?B/s]"
      ]
     },
     "metadata": {},
     "output_type": "display_data"
    },
    {
     "data": {
      "application/vnd.jupyter.widget-view+json": {
       "model_id": "1d610b98578640658ad075e4d004aa9f",
       "version_major": 2,
       "version_minor": 0
      },
      "text/plain": [
       "test-00000-of-00001.parquet:   0%|          | 0.00/21.6M [00:00<?, ?B/s]"
      ]
     },
     "metadata": {},
     "output_type": "display_data"
    },
    {
     "data": {
      "application/vnd.jupyter.widget-view+json": {
       "model_id": "8f3422de26414be683b69811c767b7a5",
       "version_major": 2,
       "version_minor": 0
      },
      "text/plain": [
       "Generating train split:   0%|          | 0/1000 [00:00<?, ? examples/s]"
      ]
     },
     "metadata": {},
     "output_type": "display_data"
    },
    {
     "data": {
      "application/vnd.jupyter.widget-view+json": {
       "model_id": "df9af7550a0c4a75b260e7014d4f1f5d",
       "version_major": 2,
       "version_minor": 0
      },
      "text/plain": [
       "Generating test split:   0%|          | 0/4182 [00:00<?, ? examples/s]"
      ]
     },
     "metadata": {},
     "output_type": "display_data"
    }
   ],
   "source": [
    "dataset = \"cuad\"\n",
    "\n",
    "key_field = \"docid\"\n",
    "if dataset == \"clerc\":\n",
    "    original_dataset = load_dataset(\"jhu-clsp/CLERC\", data_files={\"train\": f\"generation/train.jsonl\",  \"test\": f\"generation/test.jsonl\"})\n",
    "    workshop_hf_name = f\"CLERC-generation-workshop\"\n",
    "elif dataset == \"echr\":\n",
    "    workshop_hf_name = f\"ECHR-generation-workshop\"\n",
    "elif dataset == \"echr_qa\":\n",
    "    workshop_hf_name = f\"ECHR_QA-generation-workshop\"\n",
    "elif dataset == \"obli_qa\":\n",
    "    workshop_hf_name = f\"OBLI_QA-generation-workshop\"\n",
    "elif dataset == \"cuad\":\n",
    "    workshop_hf_name = f\"CUAD-generation-workshop\"\n",
    "else:\n",
    "    raise ValueError(\"Invalid dataset\")\n",
    "current_chosen_dataset = load_dataset(f\"ylkhayat/{workshop_hf_name}\", data_dir=\"data\")"
   ]
  },
  {
   "cell_type": "code",
   "execution_count": 13,
   "metadata": {},
   "outputs": [
    {
     "data": {
      "text/plain": [
       "DatasetDict({\n",
       "    train: Dataset({\n",
       "        features: ['docid', 'previous_text', 'gold_text', 'citations', 'oracle_documents_passages'],\n",
       "        num_rows: 1000\n",
       "    })\n",
       "    test: Dataset({\n",
       "        features: ['docid', 'previous_text', 'gold_text', 'citations', 'oracle_documents_passages'],\n",
       "        num_rows: 4182\n",
       "    })\n",
       "})"
      ]
     },
     "execution_count": 13,
     "metadata": {},
     "output_type": "execute_result"
    }
   ],
   "source": [
    "current_chosen_dataset"
   ]
  },
  {
   "cell_type": "code",
   "execution_count": 5,
   "metadata": {},
   "outputs": [],
   "source": [
    "# def chunk_document_into_passages_overlap_split(document_id: str, text: str, max_len: int, overlap: float):\n",
    "#     if max_len <= 0:\n",
    "#         raise ValueError(\"max_len must be a positive integer\")\n",
    "#     if not (0 <= overlap < 1):\n",
    "#         raise ValueError(\"overlap must be between 0 (inclusive) and 1 (exclusive)\")\n",
    "\n",
    "#     words = text.split()\n",
    "#     chunks = []\n",
    "#     step = int(max_len * (1 - overlap))\n",
    "#     last_index = 0\n",
    "#     for index, i in enumerate(range(0, len(words), step)):\n",
    "#         current_splits = [document_id]\n",
    "#         if i == 0:\n",
    "#             second_split = words[i:i+max_len]\n",
    "#             last_index = i+max_len\n",
    "#             splits = [\"\", \" \".join(second_split)]\n",
    "#         else:\n",
    "#             first_split = words[last_index-step:last_index]\n",
    "#             second_split = words[last_index:last_index+step]\n",
    "#             last_index = last_index+step\n",
    "#             splits = [\" \".join(first_split), \" \".join(second_split)]\n",
    "#         if splits:\n",
    "#             current_splits.extend(splits)\n",
    "#             chunks.append(current_splits)\n",
    "#     return chunks\n",
    "\n",
    "# def chunk_citations_overlap_split(record):\n",
    "#     chunks = []\n",
    "#     for citation_id, citation in record['citations']:\n",
    "#         chunks.extend(chunk_document_into_passages_overlap_split(citation_id, citation, chunk_size, chunk_overlap))\n",
    "#     return chunks\n",
    "\n",
    "# if 'oracle_documents_passages_overlap_split' not in current_chosen_dataset.column_names['train'] or 'oracle_documents_passages_overlap_split' not in current_chosen_dataset.column_names['test']:\n",
    "#     print(f\"[*] adding oracle_documents_passages_overlap_split to {workshop_hf_name}\")\n",
    "#     if \"citations\" not in current_chosen_dataset.column_names['train'] or \"citations\" not in current_chosen_dataset.column_names['test']:\n",
    "#         current_chosen_dataset = DatasetDict({\n",
    "#             'train': current_chosen_dataset['train'].add_column(name=\"citations\", column=original_dataset['train']['citations']),\n",
    "#             'test': current_chosen_dataset['test'].add_column(name=\"citations\", column=original_dataset['test']['citations'])\n",
    "#         })\n",
    "#     current_chosen_dataset = current_chosen_dataset.map(lambda record: {'oracle_documents_passages_overlap_split': chunk_citations_overlap_split(record)})\n",
    "#     current_chosen_dataset = current_chosen_dataset.select_columns(['docid', 'previous_text', 'gold_text', 'citations' ,'oracle_documents_passages', 'oracle_documents_passages_overlap_split'])\n",
    "#     current_chosen_dataset.push_to_hub(f\"ylkhayat/{workshop_hf_name}\")\n",
    "# else:\n",
    "#     print(f\"[!] oracle_documents_passages_overlap_split already exists in {workshop_hf_name}\")"
   ]
  },
  {
   "cell_type": "code",
   "execution_count": 6,
   "metadata": {},
   "outputs": [],
   "source": [
    "# def chunk_document_into_passages(document_id: str, text: str, max_len: int, overlap: float):\n",
    "#     if max_len <= 0:\n",
    "#         raise ValueError(\"max_len must be a positive integer\")\n",
    "#     if not (0 <= overlap < 1):\n",
    "#         raise ValueError(\"overlap must be between 0 (inclusive) and 1 (exclusive)\")\n",
    "\n",
    "#     words = text.split()\n",
    "#     chunks = []\n",
    "#     step = int(max_len * (1 - overlap))\n",
    "#     for i in range(0, len(words), step):\n",
    "#         chunk_words = words[i:i+max_len]\n",
    "#         if chunk_words:\n",
    "#             chunk_text = ' '.join(chunk_words)\n",
    "#             chunks.append([document_id, chunk_text])\n",
    "#     return chunks\n",
    "\n",
    "# def chunk_citations(record):\n",
    "#     chunks = []\n",
    "#     for citation_id, citation in record['citations']:\n",
    "#         chunks.extend(chunk_document_into_passages(citation_id, citation, chunk_size, chunk_overlap))\n",
    "#     return chunks\n",
    "\n",
    "# if 'oracle_documents_passages' not in current_chosen_dataset.column_names['train'] or 'oracle_documents_passages' not in current_chosen_dataset.column_names['test']:\n",
    "#     print(f\"[*] adding oracle_documents_passages to {workshop_hf_name}\")\n",
    "#     current_chosen_dataset = current_chosen_dataset.map(lambda record: {'oracle_documents_passages': chunk_citations(record)}, num_proc=num_proc)\n",
    "# else:\n",
    "#     print(f\"[!] oracle_documents_passages already exists in {workshop_hf_name}\")\n",
    "# # current_chosen_dataset = current_chosen_dataset.select_columns([key_field, 'previous_text', 'gold_text', 'citations' , 'oracle_documents_passages'])\n",
    "# current_chosen_dataset = current_chosen_dataset.select_columns([key_field, 'previous_text', 'gold_text', 'citations' , 'oracle_documents_passages', 'oracle_documents_oracle_passages'])\n",
    "# current_chosen_dataset.push_to_hub(workshop_hf_name)"
   ]
  },
  {
   "cell_type": "code",
   "execution_count": 7,
   "metadata": {},
   "outputs": [],
   "source": [
    "# import spacy\n",
    "\n",
    "# nlp = spacy.load(\"en_core_web_sm\")\n",
    "\n",
    "# def chunk_document_into_passages(document_id: str, text: str, max_len: int = 300, overlap: float = 0.0):\n",
    "#     if max_len <= 0:\n",
    "#         raise ValueError(\"max_len must be a positive integer\")\n",
    "#     if not (0 <= overlap < 1):\n",
    "#         raise ValueError(\"overlap must be between 0 (inclusive) and 1 (exclusive)\")\n",
    "\n",
    "#     doc = nlp(text)\n",
    "#     sentences = [sent.text.strip() for sent in doc.sents if sent.text.strip()]\n",
    "\n",
    "#     chunks = []\n",
    "#     chunk_text = \"\"\n",
    "#     overlap_len = int(overlap * max_len)\n",
    "\n",
    "#     for sentence in sentences:\n",
    "#         to_add = sentence\n",
    "#         while to_add:\n",
    "#             available = max_len - len(chunk_text)\n",
    "#             if len(to_add) <= available:\n",
    "#                 if chunk_text:\n",
    "#                     chunk_text += \" \" + to_add\n",
    "#                 else:\n",
    "#                     chunk_text = to_add\n",
    "#                 to_add = \"\"\n",
    "#             else:\n",
    "#                 part = to_add[:available]\n",
    "#                 remainder = to_add[available:].strip()\n",
    "#                 if chunk_text:\n",
    "#                     chunk_text += \" \" + part\n",
    "#                 else:\n",
    "#                     chunk_text = part\n",
    "#                 chunks.append([document_id, chunk_text])\n",
    "#                 if overlap_len > 0:\n",
    "#                     overlap_str = chunk_text[-overlap_len:].strip()\n",
    "#                     chunk_text = overlap_str\n",
    "#                 else:\n",
    "#                     chunk_text = \"\"\n",
    "#                 to_add = remainder\n",
    "#     if chunk_text:\n",
    "#         chunks.append([document_id, chunk_text])\n",
    "#     return chunks\n",
    "\n",
    "# def chunk_citations(record):\n",
    "#     chunks = []\n",
    "#     for citation_id, citation in record['citations']:\n",
    "#         chunks.extend(chunk_document_into_passages(citation_id, citation, chunk_size, chunk_overlap))\n",
    "#     return chunks\n",
    "\n",
    "# if 'oracle_documents_passages' not in current_chosen_dataset.column_names['train'] or 'oracle_documents_passages' not in current_chosen_dataset.column_names['test']:\n",
    "#     print(f\"[*] adding oracle_documents_passages to {workshop_hf_name}\")\n",
    "#     current_chosen_dataset = current_chosen_dataset.map(lambda record: {'oracle_documents_passages': chunk_citations(record)}, num_proc=num_proc)\n",
    "# else:\n",
    "#     print(f\"[!] oracle_documents_passages already exists in {workshop_hf_name}\")\n",
    "# # current_chosen_dataset = current_chosen_dataset.select_columns([key_field, 'previous_text', 'gold_text', 'citations' , 'oracle_documents_passages'])\n",
    "# current_chosen_dataset = current_chosen_dataset.select_columns([key_field, 'previous_text', 'gold_text', 'citations' , 'oracle_documents_passages'])\n",
    "# current_chosen_dataset.push_to_hub(workshop_hf_name, data_dir=\"data\")"
   ]
  },
  {
   "cell_type": "code",
   "execution_count": 15,
   "metadata": {},
   "outputs": [
    {
     "name": "stdout",
     "output_type": "stream",
     "text": [
      "Collecting en-core-web-lg==3.7.1\n",
      "  Downloading https://github.com/explosion/spacy-models/releases/download/en_core_web_lg-3.7.1/en_core_web_lg-3.7.1-py3-none-any.whl (587.7 MB)\n",
      "\u001b[2K     \u001b[90m━━━━━━━━━━━━━━━━━━━━━━━━━━━━━━━━━━━━━━━\u001b[0m \u001b[32m587.7/587.7 MB\u001b[0m \u001b[31m3.0 MB/s\u001b[0m eta \u001b[36m0:00:00\u001b[0m00:01\u001b[0m00:02\u001b[0m\n",
      "\u001b[?25hRequirement already satisfied: spacy<3.8.0,>=3.7.2 in /srv/elkhyo/anaconda3/envs/retrieval/lib/python3.10/site-packages (from en-core-web-lg==3.7.1) (3.7.5)\n",
      "Requirement already satisfied: spacy-legacy<3.1.0,>=3.0.11 in /home/elkhyo/.local/lib/python3.10/site-packages (from spacy<3.8.0,>=3.7.2->en-core-web-lg==3.7.1) (3.0.12)\n",
      "Requirement already satisfied: spacy-loggers<2.0.0,>=1.0.0 in /home/elkhyo/.local/lib/python3.10/site-packages (from spacy<3.8.0,>=3.7.2->en-core-web-lg==3.7.1) (1.0.5)\n",
      "Requirement already satisfied: murmurhash<1.1.0,>=0.28.0 in /home/elkhyo/.local/lib/python3.10/site-packages (from spacy<3.8.0,>=3.7.2->en-core-web-lg==3.7.1) (1.0.10)\n",
      "Requirement already satisfied: cymem<2.1.0,>=2.0.2 in /home/elkhyo/.local/lib/python3.10/site-packages (from spacy<3.8.0,>=3.7.2->en-core-web-lg==3.7.1) (2.0.8)\n",
      "Requirement already satisfied: preshed<3.1.0,>=3.0.2 in /home/elkhyo/.local/lib/python3.10/site-packages (from spacy<3.8.0,>=3.7.2->en-core-web-lg==3.7.1) (3.0.9)\n",
      "Requirement already satisfied: thinc<8.3.0,>=8.2.2 in /srv/elkhyo/anaconda3/envs/retrieval/lib/python3.10/site-packages (from spacy<3.8.0,>=3.7.2->en-core-web-lg==3.7.1) (8.2.5)\n",
      "Requirement already satisfied: wasabi<1.2.0,>=0.9.1 in /srv/elkhyo/anaconda3/envs/retrieval/lib/python3.10/site-packages (from spacy<3.8.0,>=3.7.2->en-core-web-lg==3.7.1) (1.1.3)\n",
      "Requirement already satisfied: srsly<3.0.0,>=2.4.3 in /home/elkhyo/.local/lib/python3.10/site-packages (from spacy<3.8.0,>=3.7.2->en-core-web-lg==3.7.1) (2.4.8)\n",
      "Requirement already satisfied: catalogue<2.1.0,>=2.0.6 in /home/elkhyo/.local/lib/python3.10/site-packages (from spacy<3.8.0,>=3.7.2->en-core-web-lg==3.7.1) (2.0.10)\n",
      "Requirement already satisfied: weasel<0.5.0,>=0.1.0 in /home/elkhyo/.local/lib/python3.10/site-packages (from spacy<3.8.0,>=3.7.2->en-core-web-lg==3.7.1) (0.4.1)\n",
      "Requirement already satisfied: typer<1.0.0,>=0.3.0 in /srv/elkhyo/anaconda3/envs/retrieval/lib/python3.10/site-packages (from spacy<3.8.0,>=3.7.2->en-core-web-lg==3.7.1) (0.14.0)\n",
      "Requirement already satisfied: tqdm<5.0.0,>=4.38.0 in /srv/elkhyo/anaconda3/envs/retrieval/lib/python3.10/site-packages (from spacy<3.8.0,>=3.7.2->en-core-web-lg==3.7.1) (4.66.5)\n",
      "Requirement already satisfied: requests<3.0.0,>=2.13.0 in /home/elkhyo/.local/lib/python3.10/site-packages (from spacy<3.8.0,>=3.7.2->en-core-web-lg==3.7.1) (2.32.3)\n",
      "Requirement already satisfied: pydantic!=1.8,!=1.8.1,<3.0.0,>=1.7.4 in /srv/elkhyo/anaconda3/envs/retrieval/lib/python3.10/site-packages (from spacy<3.8.0,>=3.7.2->en-core-web-lg==3.7.1) (2.10.2)\n",
      "Requirement already satisfied: jinja2 in /srv/elkhyo/anaconda3/envs/retrieval/lib/python3.10/site-packages (from spacy<3.8.0,>=3.7.2->en-core-web-lg==3.7.1) (3.1.4)\n",
      "Requirement already satisfied: setuptools in /srv/elkhyo/anaconda3/envs/retrieval/lib/python3.10/site-packages (from spacy<3.8.0,>=3.7.2->en-core-web-lg==3.7.1) (75.1.0)\n",
      "Requirement already satisfied: packaging>=20.0 in /srv/elkhyo/anaconda3/envs/retrieval/lib/python3.10/site-packages (from spacy<3.8.0,>=3.7.2->en-core-web-lg==3.7.1) (24.1)\n",
      "Requirement already satisfied: langcodes<4.0.0,>=3.2.0 in /srv/elkhyo/anaconda3/envs/retrieval/lib/python3.10/site-packages (from spacy<3.8.0,>=3.7.2->en-core-web-lg==3.7.1) (3.5.0)\n",
      "Requirement already satisfied: numpy>=1.19.0 in /srv/elkhyo/anaconda3/envs/retrieval/lib/python3.10/site-packages (from spacy<3.8.0,>=3.7.2->en-core-web-lg==3.7.1) (1.26.4)\n",
      "Requirement already satisfied: language-data>=1.2 in /home/elkhyo/.local/lib/python3.10/site-packages (from langcodes<4.0.0,>=3.2.0->spacy<3.8.0,>=3.7.2->en-core-web-lg==3.7.1) (1.2.0)\n",
      "Requirement already satisfied: annotated-types>=0.6.0 in /srv/elkhyo/anaconda3/envs/retrieval/lib/python3.10/site-packages (from pydantic!=1.8,!=1.8.1,<3.0.0,>=1.7.4->spacy<3.8.0,>=3.7.2->en-core-web-lg==3.7.1) (0.7.0)\n",
      "Requirement already satisfied: pydantic-core==2.27.1 in /srv/elkhyo/anaconda3/envs/retrieval/lib/python3.10/site-packages (from pydantic!=1.8,!=1.8.1,<3.0.0,>=1.7.4->spacy<3.8.0,>=3.7.2->en-core-web-lg==3.7.1) (2.27.1)\n",
      "Requirement already satisfied: typing-extensions>=4.12.2 in /srv/elkhyo/anaconda3/envs/retrieval/lib/python3.10/site-packages (from pydantic!=1.8,!=1.8.1,<3.0.0,>=1.7.4->spacy<3.8.0,>=3.7.2->en-core-web-lg==3.7.1) (4.12.2)\n",
      "Requirement already satisfied: charset-normalizer<4,>=2 in /home/elkhyo/.local/lib/python3.10/site-packages (from requests<3.0.0,>=2.13.0->spacy<3.8.0,>=3.7.2->en-core-web-lg==3.7.1) (3.4.0)\n",
      "Requirement already satisfied: idna<4,>=2.5 in /srv/elkhyo/anaconda3/envs/retrieval/lib/python3.10/site-packages (from requests<3.0.0,>=2.13.0->spacy<3.8.0,>=3.7.2->en-core-web-lg==3.7.1) (3.7)\n",
      "Requirement already satisfied: urllib3<3,>=1.21.1 in /srv/elkhyo/anaconda3/envs/retrieval/lib/python3.10/site-packages (from requests<3.0.0,>=2.13.0->spacy<3.8.0,>=3.7.2->en-core-web-lg==3.7.1) (2.2.3)\n",
      "Requirement already satisfied: certifi>=2017.4.17 in /srv/elkhyo/anaconda3/envs/retrieval/lib/python3.10/site-packages (from requests<3.0.0,>=2.13.0->spacy<3.8.0,>=3.7.2->en-core-web-lg==3.7.1) (2024.8.30)\n",
      "Requirement already satisfied: blis<0.8.0,>=0.7.8 in /srv/elkhyo/anaconda3/envs/retrieval/lib/python3.10/site-packages (from thinc<8.3.0,>=8.2.2->spacy<3.8.0,>=3.7.2->en-core-web-lg==3.7.1) (0.7.11)\n",
      "Requirement already satisfied: confection<1.0.0,>=0.0.1 in /srv/elkhyo/anaconda3/envs/retrieval/lib/python3.10/site-packages (from thinc<8.3.0,>=8.2.2->spacy<3.8.0,>=3.7.2->en-core-web-lg==3.7.1) (0.1.5)\n",
      "Requirement already satisfied: click>=8.0.0 in /srv/elkhyo/anaconda3/envs/retrieval/lib/python3.10/site-packages (from typer<1.0.0,>=0.3.0->spacy<3.8.0,>=3.7.2->en-core-web-lg==3.7.1) (8.1.7)\n",
      "Requirement already satisfied: shellingham>=1.3.0 in /home/elkhyo/.local/lib/python3.10/site-packages (from typer<1.0.0,>=0.3.0->spacy<3.8.0,>=3.7.2->en-core-web-lg==3.7.1) (1.5.4)\n",
      "Requirement already satisfied: rich>=10.11.0 in /home/elkhyo/.local/lib/python3.10/site-packages (from typer<1.0.0,>=0.3.0->spacy<3.8.0,>=3.7.2->en-core-web-lg==3.7.1) (13.9.2)\n",
      "Requirement already satisfied: cloudpathlib<1.0.0,>=0.7.0 in /home/elkhyo/.local/lib/python3.10/site-packages (from weasel<0.5.0,>=0.1.0->spacy<3.8.0,>=3.7.2->en-core-web-lg==3.7.1) (0.19.0)\n",
      "Requirement already satisfied: smart-open<8.0.0,>=5.2.1 in /srv/elkhyo/anaconda3/envs/retrieval/lib/python3.10/site-packages (from weasel<0.5.0,>=0.1.0->spacy<3.8.0,>=3.7.2->en-core-web-lg==3.7.1) (5.2.1)\n",
      "Requirement already satisfied: MarkupSafe>=2.0 in /home/elkhyo/.local/lib/python3.10/site-packages (from jinja2->spacy<3.8.0,>=3.7.2->en-core-web-lg==3.7.1) (3.0.1)\n",
      "Requirement already satisfied: marisa-trie>=0.7.7 in /home/elkhyo/.local/lib/python3.10/site-packages (from language-data>=1.2->langcodes<4.0.0,>=3.2.0->spacy<3.8.0,>=3.7.2->en-core-web-lg==3.7.1) (1.2.1)\n",
      "Requirement already satisfied: markdown-it-py>=2.2.0 in /home/elkhyo/.local/lib/python3.10/site-packages (from rich>=10.11.0->typer<1.0.0,>=0.3.0->spacy<3.8.0,>=3.7.2->en-core-web-lg==3.7.1) (3.0.0)\n",
      "Requirement already satisfied: pygments<3.0.0,>=2.13.0 in /srv/elkhyo/anaconda3/envs/retrieval/lib/python3.10/site-packages (from rich>=10.11.0->typer<1.0.0,>=0.3.0->spacy<3.8.0,>=3.7.2->en-core-web-lg==3.7.1) (2.15.1)\n",
      "Requirement already satisfied: mdurl~=0.1 in /home/elkhyo/.local/lib/python3.10/site-packages (from markdown-it-py>=2.2.0->rich>=10.11.0->typer<1.0.0,>=0.3.0->spacy<3.8.0,>=3.7.2->en-core-web-lg==3.7.1) (0.1.2)\n",
      "Installing collected packages: en-core-web-lg\n",
      "Successfully installed en-core-web-lg-3.7.1\n",
      "\u001b[38;5;2m✔ Download and installation successful\u001b[0m\n",
      "You can now load the package via spacy.load('en_core_web_lg')\n"
     ]
    }
   ],
   "source": [
    "!python -m spacy download en_core_web_lg"
   ]
  },
  {
   "cell_type": "code",
   "execution_count": null,
   "metadata": {},
   "outputs": [],
   "source": [
    "import spacy\n",
    "\n",
    "nlp = spacy.load(\"en_core_web_sm\")\n",
    "\n",
    "def chunk_document_into_passages(document_id: str, text: str, max_len: int = 300, overlap: float = 0.0):\n",
    "    if max_len <= 0:\n",
    "        raise ValueError(\"max_len must be a positive integer\")\n",
    "    if not (0 <= overlap < 1):\n",
    "        raise ValueError(\"overlap must be between 0 (inclusive) and 1 (exclusive)\")\n",
    "\n",
    "    doc = nlp(text)\n",
    "    # Directly extracting sentences (already split by the sentencizer)\n",
    "    # Using strip once at extraction\n",
    "    sentences = [sent.text.strip() for sent in doc.sents if sent.text.strip()]\n",
    "\n",
    "    chunks = []\n",
    "    chunk_words = []  # Instead of building chunk_text as string, accumulate in a list\n",
    "    overlap_len = int(overlap * max_len)\n",
    "    current_length = 0\n",
    "\n",
    "    for sentence in sentences:\n",
    "        sent_len = len(sentence)\n",
    "        start_idx = 0\n",
    "        # Process the sentence possibly in parts if needed\n",
    "        while start_idx < sent_len:\n",
    "            available = max_len - current_length\n",
    "            # If the current chunk has space\n",
    "            if sent_len - start_idx <= available:\n",
    "                # Append the entire remainder of sentence to current chunk\n",
    "                if chunk_words:\n",
    "                    chunk_words.append(sentence[start_idx:])\n",
    "                    current_length += (sent_len - start_idx) + 1\n",
    "                else:\n",
    "                    chunk_words.append(sentence[start_idx:])\n",
    "                    current_length += (sent_len - start_idx)\n",
    "                start_idx = sent_len\n",
    "            else:\n",
    "                # Need to cut the sentence\n",
    "                part = sentence[start_idx:start_idx+available].rstrip()\n",
    "                chunk_words.append(part)\n",
    "                # Finalize this chunk\n",
    "                chunk_text = \" \".join(chunk_words).strip()\n",
    "                chunks.append([document_id, chunk_text])\n",
    "\n",
    "                # Handle overlap\n",
    "                if overlap_len > 0:\n",
    "                    # Keep last overlap_len characters as next chunk start\n",
    "                    overlap_str = chunk_text[-overlap_len:].strip()\n",
    "                    chunk_words = [overlap_str] if overlap_str else []\n",
    "                    current_length = len(overlap_str)\n",
    "                else:\n",
    "                    chunk_words = []\n",
    "                    current_length = 0\n",
    "\n",
    "                start_idx += available\n",
    "\n",
    "    # Add the last chunk if any\n",
    "    if chunk_words:\n",
    "        chunk_text = \" \".join(chunk_words).strip()\n",
    "        if chunk_text:\n",
    "            chunks.append([document_id, chunk_text])\n",
    "\n",
    "    return chunks\n",
    "\n",
    "\n",
    "def chunk_citations(record):\n",
    "    # Assuming chunk_size and chunk_overlap are defined somewhere\n",
    "    # If not, define them outside. For example:\n",
    "    # chunk_size = 300\n",
    "    # chunk_overlap = 0.0\n",
    "    chunks = []\n",
    "    for citation_id, citation in record['citations']:\n",
    "        chunks.extend(chunk_document_into_passages(citation_id, citation, max_len=chunk_size, overlap=chunk_overlap))\n",
    "    return chunks"
   ]
  },
  {
   "cell_type": "code",
   "execution_count": 17,
   "metadata": {},
   "outputs": [
    {
     "name": "stdout",
     "output_type": "stream",
     "text": [
      "[\n",
      "    [\n",
      "        \"REFERENCE\",\n",
      "        \"Exhibit 10.16 SUPPLY CONTRACT Contract No: Date: The buyer/End-User: Shenzhen LOHAS Supply Chain Management Co., Ltd. ADD: Tel No. : Fax No. : The seller: ADD: The Contract is concluded and signed by the Buyer and Seller on , in Hong Kong. 1. General provisions 1.1 This is a framework agreement, the\"\n",
      "    ],\n",
      "    [\n",
      "        \"REFERENCE\",\n",
      "        \"terms and conditions are applied to all purchase orders which signed by this agreement (hereinafter referred to as the \\\"order\\\"). 1.2 If the provisions of the agreement are inconsistent with the order, the order shall prevail. Not stated in order content will be subject to the provisions of agreement. Any modification, supplementary, give up should been written records, only to be valid by buyers and sellers authorized representative signature and confirmation, otherwise will be deemed invalid\"\n",
      "    ],\n",
      "    [\n",
      "        \"REFERENCE\",\n",
      "        \". 2. The agreement and order 2.1 During the validity term of this agreement, The buyer entrust SHENZHEN Y\"\n",
      "    ],\n",
      "    [\n",
      "        \"REFERENCE\",\n",
      "        \"ICHANGTAI IMPORT AND EXPORT TRADE CO., LTD or SHENZHEN LEHEYUAN TRADING CO, LTD (hereinafter referred to as the \\\"entrusted party\\\" or \\\"YICHANGTAI\\\" or \\\"LEHEYUAN\\\"), to purchase the products specified in this agreement from the seller in the form of orders. 2.2 The seller shall be confirmed within three\"\n",
      "    ],\n",
      "    [\n",
      "        \"REFERENCE\",\n",
      "        \"working days after receipt of order. If the seller finds order is not acceptable or need to modify, should note entrusted party in two working days after receipt of the order, If the seller did not confirm orders in time or notice not accept orders or modifications, the seller is deemed to have been\"\n",
      "    ],\n",
      "    [\n",
      "        \"REFERENCE\",\n",
      "        \"accepted the order. The orders become effective once the seller accepts, any party shall not unilaterally cancel the order before the two sides agreed . 2.3 If the seller puts forward amendments or not accept orders, the seller shall be in the form of a written notice to entrusted party, entrusted pa\"\n",
      "    ],\n",
      "    [\n",
      "        \"REFERENCE\",\n",
      "        \"rty accept the modified by written consent, the modified orders to be taken effect. 2.4 Seller's note, only the buyer entrust the entrusted party issued orders, the product delivery and payment has the force of law. 1\\n\\nSource: LOHA CO. LTD., F-1, 12/9/2019\\n\\n\\n\\n\\n\\n3. GOODS AND COUNTRY OF ORIGIN: 4. Spec\"\n",
      "    ],\n",
      "    [\n",
      "        \"REFERENCE\",\n",
      "        \"ific order: The products quantity, unit price, specifications, delivery time and transportation, specific content shall be subject to the purchase order issued by entrusted party which is commissioned the buyer. 5. PACKING: To be packed in new strong wooden case(s) /carton(s), suitable for long dista\"\n",
      "    ],\n",
      "    [\n",
      "        \"REFERENCE\",\n",
      "        \"nce transportation and for the change of climate, well protected against rough handling, moisture, rain, corrosion, shocks, rust, and freezing. The seller shall be liable for any damage and loss of the commodity, expenses incurred on account of improper packing, and any damage attributable to inadequ\"\n",
      "    ],\n",
      "    [\n",
      "        \"REFERENCE\",\n",
      "        \"ate or improper protective measures taken by the seller in regard to the packing. One full set of technical All wooden material of shipping package must be treated as the requirements of Entry-Exit Inspection and Quarantine Bureau of China, by the agent whom is certified by the government where the g\"\n",
      "    ],\n",
      "    [\n",
      "        \"REFERENCE\",\n",
      "        \"oods is exported. And the goods must be marked with the IPPC stamps, which are certified by the government agent of Botanical-Inspection and Quarantine Bureau. 6. SHIPPING MARK: The Sellers shall mark on each package with fadeless paint the package number, gross weight, net weight, measurements and t\"\n",
      "    ],\n",
      "    [\n",
      "        \"REFERENCE\",\n",
      "        \"he wordings: \\\"KEEP AWAY FROM MOISTURE\\\",\\\"HANDLE WITH CARE\\\" \\\"THIS SIDE UP\\\" etc. and the shipping mark on each package with fadeless paint. 7. DATE OF SHIPMENT: According to specific order by YICHANGTAI or LEHEYUAN. 8. PORT OF SHIPMENT:\\n\\n2\\n\\nSource: LOHA CO. LTD., F-1, 12/9/2019\\n\\n\\n\\n\\n\\n9. PORT OF DESTINATI\"\n",
      "    ],\n",
      "    [\n",
      "        \"REFERENCE\",\n",
      "        \"ON: SHENZHEN, GUANGDONG, CHINA 10. INSURANCE: To be covered by the Seller for 110% invoice value against All Risks and War Risk. 11. PAYMENT: Under Letter of Credit or T/T: Under the Letter of Credit: The Buyer shall open an irrevocable letter of credit with the bank within 30 days after signing the\"\n",
      "    ],\n",
      "    [\n",
      "        \"REFERENCE\",\n",
      "        \"contract, in favor of the Seller, for 100% value of the total contract value. The letter of credit should state that partial shipments are allowed. The Buyer's agent agrees to pay for the goods in accordance with the actual amount of the goods shipped. 80% of the system value being shipped will be pa\"\n",
      "    ],\n",
      "    [\n",
      "        \"REFERENCE\",\n",
      "        \"id against the documents stipulated in Clause 12.1. The remaining 20% of the system value being shipped will be paid against the documents stipulated in Clause 12.2. The Letter of Credit shall be valid until 90 days after the latest shipment is effected. Under the T/T The trustee of the buyer remitte\"\n",
      "    ],\n",
      "    [\n",
      "        \"REFERENCE\",\n",
      "        \"d the goods to the seller by telegraphic transfer in batches as agreed upon after signing each order. 12. DOCUMENTS: 12.1 (1) Invoice in 5 originals indicating contract number and Shipping Mark (in case of more than one shipping mark, the invoice shall be issued separately). (2) One certificate of or\"\n",
      "    ],\n",
      "    [\n",
      "        \"REFERENCE\",\n",
      "        \"igin of the goods. (3) Four original copies of the packing list. (4) Certificate of Quality and Quantity in 1 original issued by the agriculture products base. (5) One copy of insurance coverage (6) Copy of cable/letter to the transportation department of Buyer advising of particulars as to shipment\"\n",
      "    ],\n",
      "    [\n",
      "        \"REFERENCE\",\n",
      "        \"immediately after shipment is made. 3\\n\\nSource: LOHA CO. LTD., F-1, 12/9/2019\\n\\n\\n\\n\\n\\n12.2 (1) Invoice in 3 originals indicating contract number and L/C number. (2) Final acceptance certificate signed by the Buyer and the Seller. 13. SHIPMENT: CIP The seller shall contract on usual terms at his own expen\"\n",
      "    ],\n",
      "    [\n",
      "        \"REFERENCE\",\n",
      "        \"ses for the carriage of the goods to the agreed point at the named place of destination and bear all risks and expenses until the goods have been delivered to the port of destination. The Sellers shall ship the goods within the shipment time from the port of shipment to the port of destination. Trans\"\n",
      "    ],\n",
      "    [\n",
      "        \"REFERENCE\",\n",
      "        \"shipment is allowed. Partial Shipment is allowed. In case the goods are to be dispatched by parcel post/sea-freight, the Sellers shall, 3 days before the time of delivery, inform the Buyers by cable/letter of the estimated date of delivery, Contract No., commodity, invoiced value, etc. The sellers sh\"\n",
      "    ],\n",
      "    [\n",
      "        \"REFERENCE\",\n",
      "        \"all, immediately after dispatch of the goods, advise the Buyers by cable/letter of the Contract No., commodity, invoiced value and date of dispatch for the Buyers. 14. SHIPPING ADVICE: The seller shall within 72 hours after the shipment of the goods, advise the shipping department of buyer by fax or\"\n",
      "    ],\n",
      "    [\n",
      "        \"REFERENCE\",\n",
      "        \"E-mail of Contract No., goods name, quantity, value, number of packages, gross weight, measurements and the estimated arrival time of the goods at the destination. 15. GUARANTEE OF QUALITY: The Sellers guarantee that the commodity hereof is complies in all respects with the quality and specification\"\n",
      "    ],\n",
      "    [\n",
      "        \"REFERENCE\",\n",
      "        \"stipulated in this Contract. 16. CLAIMS: Within 7 days after the arrival of the goods at destination, should the quality, specification, or quantity be found not in conformity with the stipulations of the Contract except those claims for which the insurance company or the owners of the vessel are lia\"\n",
      "    ],\n",
      "    [\n",
      "        \"REFERENCE\",\n",
      "        \"ble, the Buyers, on the strength of the Inspection Certificate issued by the China Commodity Inspection Bureau, have the right to claim for replacement with new goods, or for compensation, and all the expenses (such as inspection charges, freight for returning the goods and for sending the replaceme\"\n",
      "    ],\n",
      "    [\n",
      "        \"REFERENCE\",\n",
      "        \"nt, insurance premium, storage and loading and unloading charges etc.) shall be borne by the Sellers. The Certificate so issued shall be accepted as the base of a claim. The Sellers, in accordance with the Buyers' claim, shall be responsible for the immediate elimination of the defect(s), complete or\"\n",
      "    ],\n",
      "    [\n",
      "        \"REFERENCE\",\n",
      "        \"partial replacement of the commodity or shall devaluate the commodity according to the state of defect(s). Where necessary, the Buyers shall be at liberty to eliminate the defect(s) themselves at the Sellers' expenses. If the Sellers fail to answer the Buyers within one weeks after receipt of the af\"\n",
      "    ],\n",
      "    [\n",
      "        \"REFERENCE\",\n",
      "        \"oresaid claim, the claim shall be reckoned as having been accepted by the Sellers. 4\\n\\nSource: LOHA CO. LTD., F-1, 12/9/2019\\n\\n\\n\\n\\n\\n17. FORCE MAJEURE: The Sellers shall not be held responsible for the delay in shipment or non-delivery, of the goods due to Force Majeure, which might occur during the proc\"\n",
      "    ],\n",
      "    [\n",
      "        \"REFERENCE\",\n",
      "        \"ess of manufacturing or in the course of loading or transit. The Sellers shall advise the Buyers immediately of the occurrence mentioned above and within fourteen days thereafter, the Sellers shall send by airmail to the Buyers a certificate of the accident issued by the competent government authorit\"\n",
      "    ],\n",
      "    [\n",
      "        \"REFERENCE\",\n",
      "        \"ies, Chamber of Commerce or registered notary public of the place where the accident occurs as evidence thereof. Under such circumstances the Sellers, however, are still under the obligation to take all necessary measures to hasten the delivery of the goods. In case the accident lasts for more than 1\"\n",
      "    ],\n",
      "    [\n",
      "        \"REFERENCE\",\n",
      "        \"0 weeks, the Buyers shall have the right to cancel the Contract. 18. LATE DELIVERY AND PENALTY: Should the Sellers fail to make delivery on time as stipulated in the Contract, with exception of Force Majeure causes specified in Clause 17 of this Contract, the Buyers shall agree to postpone the delive\"\n",
      "    ],\n",
      "    [\n",
      "        \"REFERENCE\",\n",
      "        \"ry on condition that the Sellers agree to pay a penalty which shall be deducted by the paying bank from the payment. The penalty, however, shall not exceed 5% of the total value of the goods involved in the late delivery. The rate of penalty is charged at 0.5% for every seven days, odd days less than\"\n",
      "    ],\n",
      "    [\n",
      "        \"REFERENCE\",\n",
      "        \"seven days should be counted as seven days. In case the Sellers fail to make delivery ten weeks later than the time of shipment stipulated in the Contract, the Buyers have the right to cancel the contract and the Sellers, in spite of the cancellation, shall still pay the aforesaid penalty to the Buy\"\n",
      "    ],\n",
      "    [\n",
      "        \"REFERENCE\",\n",
      "        \"ers without delay, the seller should refund the money received and pay the 30% of the total goods price of the penalty 19. ARBITRATION: All disputes in connection with this Contract or the execution thereof shall be settled friendly through negotiations. In case no settlement can be reached, the case\"\n",
      "    ],\n",
      "    [\n",
      "        \"REFERENCE\",\n",
      "        \"may then be submitted for arbitration to the Foreign Economic and Trade Arbitration Committee of the China Beijing Council for the Promotion of International Trade in accordance with its Provisional Rules of Procedures by the said Arbitration Committee. The Arbitration shall take place in Beijing an\"\n",
      "    ],\n",
      "    [\n",
      "        \"REFERENCE\",\n",
      "        \"d the decision of the Arbitration Committee shall be final and binding upon both parties; neither party shall seek recourse to a law court nor other authorities to appeal for revision of the decision. Arbitration fee shall be borne by the losing party. 20. This final price is the confidential informa\"\n",
      "    ],\n",
      "    [\n",
      "        \"REFERENCE\",\n",
      "        \"tion. Dissemination, distribution or duplication of this price is strictly prohibited. 5\\n\\nSource: LOHA CO. LTD., F-1, 12/9/2019\\n\\n\\n\\n\\n\\n21. Law application It will be governed by the law of the People's Republic of China ,otherwise it is governed by United Nations Convention on Contract for the Internat\"\n",
      "    ],\n",
      "    [\n",
      "        \"REFERENCE\",\n",
      "        \"ional Sale of Goods. 22. <<Incoterms 2000>> The terms in the contract are based on (INCOTERMS 2000) of the International Chamber of Commerce. 23. The Contract is valid for 5 years, beginning from and ended on . This Contract is made out in three originals in both Chinese and English, each language be\"\n",
      "    ],\n",
      "    [\n",
      "        \"REFERENCE\",\n",
      "        \"ing legally of the equal effect. Conflicts between these two languages arising there from, if any, shall be subject to Chinese version. One copy for the Sellers, two copies for the Buyers. The Contract becomes effective after signed by both parties. THE BUYER: THE SELLER: SIGNATURE: SIGNATURE: 6\\n\\nSou\"\n",
      "    ],\n",
      "    [\n",
      "        \"REFERENCE\",\n",
      "        \"rce: LOHA CO. LTD., F-1, 12/9/2019\"\n",
      "    ]\n",
      "]\n"
     ]
    }
   ],
   "source": [
    "print(json.dumps(chunk_citations(current_chosen_dataset['test'][0]), indent=4))"
   ]
  },
  {
   "cell_type": "code",
   "execution_count": 8,
   "metadata": {},
   "outputs": [
    {
     "name": "stdout",
     "output_type": "stream",
     "text": [
      "[*] adding oracle_documents_passages to CUAD-generation-workshop\n"
     ]
    },
    {
     "data": {
      "application/vnd.jupyter.widget-view+json": {
       "model_id": "764ce51803564a8bae903ed31066d9a0",
       "version_major": 2,
       "version_minor": 0
      },
      "text/plain": [
       "Map (num_proc=45):   0%|          | 0/1000 [00:00<?, ? examples/s]"
      ]
     },
     "metadata": {},
     "output_type": "display_data"
    },
    {
     "data": {
      "application/vnd.jupyter.widget-view+json": {
       "model_id": "88ffdf2815da41a886ae0612f3d353bb",
       "version_major": 2,
       "version_minor": 0
      },
      "text/plain": [
       "Map (num_proc=45):   0%|          | 0/4182 [00:00<?, ? examples/s]"
      ]
     },
     "metadata": {},
     "output_type": "display_data"
    },
    {
     "data": {
      "application/vnd.jupyter.widget-view+json": {
       "model_id": "51733783fb7a4550985fecaf18597b20",
       "version_major": 2,
       "version_minor": 0
      },
      "text/plain": [
       "Uploading the dataset shards:   0%|          | 0/1 [00:00<?, ?it/s]"
      ]
     },
     "metadata": {},
     "output_type": "display_data"
    },
    {
     "data": {
      "application/vnd.jupyter.widget-view+json": {
       "model_id": "9cede846e31f4a888404a7e6a140f86f",
       "version_major": 2,
       "version_minor": 0
      },
      "text/plain": [
       "Creating parquet from Arrow format:   0%|          | 0/1 [00:00<?, ?ba/s]"
      ]
     },
     "metadata": {},
     "output_type": "display_data"
    },
    {
     "data": {
      "application/vnd.jupyter.widget-view+json": {
       "model_id": "0c56cccf6ecc43489817718c14c0e3b1",
       "version_major": 2,
       "version_minor": 0
      },
      "text/plain": [
       "Uploading the dataset shards:   0%|          | 0/1 [00:00<?, ?it/s]"
      ]
     },
     "metadata": {},
     "output_type": "display_data"
    },
    {
     "data": {
      "application/vnd.jupyter.widget-view+json": {
       "model_id": "079b82a33b0a48138becc424d4f0b9e7",
       "version_major": 2,
       "version_minor": 0
      },
      "text/plain": [
       "Creating parquet from Arrow format:   0%|          | 0/5 [00:00<?, ?ba/s]"
      ]
     },
     "metadata": {},
     "output_type": "display_data"
    },
    {
     "data": {
      "text/plain": [
       "CommitInfo(commit_url='https://huggingface.co/datasets/ylkhayat/CUAD-generation-workshop/commit/ccc2bebbaf9069a98d154ee76efa63a7bd6129b2', commit_message='Upload dataset', commit_description='', oid='ccc2bebbaf9069a98d154ee76efa63a7bd6129b2', pr_url=None, repo_url=RepoUrl('https://huggingface.co/datasets/ylkhayat/CUAD-generation-workshop', endpoint='https://huggingface.co', repo_type='dataset', repo_id='ylkhayat/CUAD-generation-workshop'), pr_revision=None, pr_num=None)"
      ]
     },
     "execution_count": 8,
     "metadata": {},
     "output_type": "execute_result"
    }
   ],
   "source": [
    "if 'oracle_documents_passages' not in current_chosen_dataset.column_names['train'] or 'oracle_documents_passages' not in current_chosen_dataset.column_names['test']:\n",
    "    print(f\"[*] adding oracle_documents_passages to {workshop_hf_name}\")\n",
    "    # Use parallel processing with num_proc if dataset is large. Increase num_proc as needed.\n",
    "    current_chosen_dataset = current_chosen_dataset.map(\n",
    "        lambda record: {'oracle_documents_passages': chunk_citations(record)},\n",
    "        num_proc=num_proc\n",
    "    )\n",
    "else:\n",
    "    print(f\"[!] oracle_documents_passages already exists in {workshop_hf_name}\")\n",
    "\n",
    "current_chosen_dataset = current_chosen_dataset.select_columns([key_field, 'previous_text', 'gold_text', 'citations', 'oracle_documents_passages'])\n",
    "current_chosen_dataset.push_to_hub(workshop_hf_name, data_dir=\"data\")"
   ]
  },
  {
   "cell_type": "code",
   "execution_count": 9,
   "metadata": {},
   "outputs": [
    {
     "name": "stdout",
     "output_type": "stream",
     "text": [
      "{\n",
      "    \"docid\": \"LohaCompanyltd_20191209_F-1_EX-10.16_11917878_EX-10.16_Supply Agreement__Document Name\",\n",
      "    \"previous_text\": \"Highlight the parts (if any) of this contract related to \\\"Document Name\\\" that should be reviewed by a lawyer. Details: The name of the contract\",\n",
      "    \"gold_text\": \"Highlights:\\n- SUPPLY CONTRACT\",\n",
      "    \"citations\": [\n",
      "        [\n",
      "            \"REFERENCE\",\n",
      "            \"Exhibit 10.16 SUPPLY CONTRACT Contract No: Date: The buyer/End-User: Shenzhen LOHAS Supply Chain Management Co., Ltd. ADD: Tel No. : Fax No. : The seller: ADD: The Contract is concluded and signed by the Buyer and Seller on , in Hong Kong. 1. General provisions 1.1 This is a framework agreement, the terms and conditions are applied to all purchase orders which signed by this agreement (hereinafter referred to as the \\\"order\\\"). 1.2 If the provisions of the agreement are inconsistent with the order, the order shall prevail. Not stated in order content will be subject to the provisions of agreement. Any modification, supplementary, give up should been written records, only to be valid by buyers and sellers authorized representative signature and confirmation, otherwise will be deemed invalid. 2. The agreement and order 2.1 During the validity term of this agreement, The buyer entrust SHENZHEN YICHANGTAI IMPORT AND EXPORT TRADE CO., LTD or SHENZHEN LEHEYUAN TRADING CO, LTD (hereinafter referred to as the \\\"entrusted party\\\" or \\\"YICHANGTAI\\\" or \\\"LEHEYUAN\\\"), to purchase the products specified in this agreement from the seller in the form of orders. 2.2 The seller shall be confirmed within three working days after receipt of order. If the seller finds order is not acceptable or need to modify, should note entrusted party in two working days after receipt of the order, If the seller did not confirm orders in time or notice not accept orders or modifications, the seller is deemed to have been accepted the order. The orders become effective once the seller accepts, any party shall not unilaterally cancel the order before the two sides agreed . 2.3 If the seller puts forward amendments or not accept orders, the seller shall be in the form of a written notice to entrusted party, entrusted party accept the modified by written consent, the modified orders to be taken effect. 2.4 Seller's note, only the buyer entrust the entrusted party issued orders, the product delivery and payment has the force of law.\\n\\n1\\n\\nSource: LOHA CO. LTD., F-1, 12/9/2019\\n\\n\\n\\n\\n\\n3. GOODS AND COUNTRY OF ORIGIN: 4. Specific order: The products quantity, unit price, specifications, delivery time and transportation, specific content shall be subject to the purchase order issued by entrusted party which is commissioned the buyer. 5. PACKING: To be packed in new strong wooden case(s) /carton(s), suitable for long distance transportation and for the change of climate, well protected against rough handling, moisture, rain, corrosion, shocks, rust, and freezing. The seller shall be liable for any damage and loss of the commodity, expenses incurred on account of improper packing, and any damage attributable to inadequate or improper protective measures taken by the seller in regard to the packing. One full set of technical All wooden material of shipping package must be treated as the requirements of Entry-Exit Inspection and Quarantine Bureau of China, by the agent whom is certified by the government where the goods is exported. And the goods must be marked with the IPPC stamps, which are certified by the government agent of Botanical-Inspection and Quarantine Bureau. 6. SHIPPING MARK: The Sellers shall mark on each package with fadeless paint the package number, gross weight, net weight, measurements and the wordings: \\\"KEEP AWAY FROM MOISTURE\\\",\\\"HANDLE WITH CARE\\\" \\\"THIS SIDE UP\\\" etc. and the shipping mark on each package with fadeless paint. 7. DATE OF SHIPMENT: According to specific order by YICHANGTAI or LEHEYUAN. 8. PORT OF SHIPMENT:\\n\\n2\\n\\nSource: LOHA CO. LTD., F-1, 12/9/2019\\n\\n\\n\\n\\n\\n9. PORT OF DESTINATION: SHENZHEN, GUANGDONG, CHINA 10. INSURANCE: To be covered by the Seller for 110% invoice value against All Risks and War Risk. 11. PAYMENT: Under Letter of Credit or T/T: Under the Letter of Credit: The Buyer shall open an irrevocable letter of credit with the bank within 30 days after signing the contract, in favor of the Seller, for 100% value of the total contract value. The letter of credit should state that partial shipments are allowed. The Buyer's agent agrees to pay for the goods in accordance with the actual amount of the goods shipped. 80% of the system value being shipped will be paid against the documents stipulated in Clause 12.1. The remaining 20% of the system value being shipped will be paid against the documents stipulated in Clause 12.2. The Letter of Credit shall be valid until 90 days after the latest shipment is effected. Under the T/T The trustee of the buyer remitted the goods to the seller by telegraphic transfer in batches as agreed upon after signing each order. 12. DOCUMENTS: 12.1 (1) Invoice in 5 originals indicating contract number and Shipping Mark (in case of more than one shipping mark, the invoice shall be issued separately). (2) One certificate of origin of the goods. (3) Four original copies of the packing list. (4) Certificate of Quality and Quantity in 1 original issued by the agriculture products base. (5) One copy of insurance coverage (6) Copy of cable/letter to the transportation department of Buyer advising of particulars as to shipment immediately after shipment is made.\\n\\n3\\n\\nSource: LOHA CO. LTD., F-1, 12/9/2019\\n\\n\\n\\n\\n\\n12.2 (1) Invoice in 3 originals indicating contract number and L/C number. (2) Final acceptance certificate signed by the Buyer and the Seller. 13. SHIPMENT: CIP The seller shall contract on usual terms at his own expenses for the carriage of the goods to the agreed point at the named place of destination and bear all risks and expenses until the goods have been delivered to the port of destination. The Sellers shall ship the goods within the shipment time from the port of shipment to the port of destination. Transshipment is allowed. Partial Shipment is allowed. In case the goods are to be dispatched by parcel post/sea-freight, the Sellers shall, 3 days before the time of delivery, inform the Buyers by cable/letter of the estimated date of delivery, Contract No., commodity, invoiced value, etc. The sellers shall, immediately after dispatch of the goods, advise the Buyers by cable/letter of the Contract No., commodity, invoiced value and date of dispatch for the Buyers. 14. SHIPPING ADVICE: The seller shall within 72 hours after the shipment of the goods, advise the shipping department of buyer by fax or E-mail of Contract No., goods name, quantity, value, number of packages, gross weight, measurements and the estimated arrival time of the goods at the destination. 15. GUARANTEE OF QUALITY: The Sellers guarantee that the commodity hereof is complies in all respects with the quality and specification stipulated in this Contract. 16. CLAIMS: Within 7 days after the arrival of the goods at destination, should the quality, specification, or quantity be found not in conformity with the stipulations of the Contract except those claims for which the insurance company or the owners of the vessel are liable, the Buyers, on the strength of the Inspection Certificate issued by the China Commodity Inspection Bureau, have the right to claim for replacement with new goods, or for compensation, and all the expenses (such as inspection charges, freight for returning the goods and for sending the replacement, insurance premium, storage and loading and unloading charges etc.) shall be borne by the Sellers. The Certificate so issued shall be accepted as the base of a claim. The Sellers, in accordance with the Buyers' claim, shall be responsible for the immediate elimination of the defect(s), complete or partial replacement of the commodity or shall devaluate the commodity according to the state of defect(s). Where necessary, the Buyers shall be at liberty to eliminate the defect(s) themselves at the Sellers' expenses. If the Sellers fail to answer the Buyers within one weeks after receipt of the aforesaid claim, the claim shall be reckoned as having been accepted by the Sellers.\\n\\n4\\n\\nSource: LOHA CO. LTD., F-1, 12/9/2019\\n\\n\\n\\n\\n\\n17. FORCE MAJEURE: The Sellers shall not be held responsible for the delay in shipment or non-delivery, of the goods due to Force Majeure, which might occur during the process of manufacturing or in the course of loading or transit. The Sellers shall advise the Buyers immediately of the occurrence mentioned above and within fourteen days thereafter, the Sellers shall send by airmail to the Buyers a certificate of the accident issued by the competent government authorities, Chamber of Commerce or registered notary public of the place where the accident occurs as evidence thereof. Under such circumstances the Sellers, however, are still under the obligation to take all necessary measures to hasten the delivery of the goods. In case the accident lasts for more than 10 weeks, the Buyers shall have the right to cancel the Contract. 18. LATE DELIVERY AND PENALTY: Should the Sellers fail to make delivery on time as stipulated in the Contract, with exception of Force Majeure causes specified in Clause 17 of this Contract, the Buyers shall agree to postpone the delivery on condition that the Sellers agree to pay a penalty which shall be deducted by the paying bank from the payment. The penalty, however, shall not exceed 5% of the total value of the goods involved in the late delivery. The rate of penalty is charged at 0.5% for every seven days, odd days less than seven days should be counted as seven days. In case the Sellers fail to make delivery ten weeks later than the time of shipment stipulated in the Contract, the Buyers have the right to cancel the contract and the Sellers, in spite of the cancellation, shall still pay the aforesaid penalty to the Buyers without delay, the seller should refund the money received and pay the 30% of the total goods price of the penalty 19. ARBITRATION: All disputes in connection with this Contract or the execution thereof shall be settled friendly through negotiations. In case no settlement can be reached, the case may then be submitted for arbitration to the Foreign Economic and Trade Arbitration Committee of the China Beijing Council for the Promotion of International Trade in accordance with its Provisional Rules of Procedures by the said Arbitration Committee. The Arbitration shall take place in Beijing and the decision of the Arbitration Committee shall be final and binding upon both parties; neither party shall seek recourse to a law court nor other authorities to appeal for revision of the decision. Arbitration fee shall be borne by the losing party. 20. This final price is the confidential information. Dissemination, distribution or duplication of this price is strictly prohibited.\\n\\n5\\n\\nSource: LOHA CO. LTD., F-1, 12/9/2019\\n\\n\\n\\n\\n\\n21. Law application It will be governed by the law of the People's Republic of China ,otherwise it is governed by United Nations Convention on Contract for the International Sale of Goods. 22. <<Incoterms 2000>> The terms in the contract are based on (INCOTERMS 2000) of the International Chamber of Commerce. 23. The Contract is valid for 5 years, beginning from and ended on . This Contract is made out in three originals in both Chinese and English, each language being legally of the equal effect. Conflicts between these two languages arising there from, if any, shall be subject to Chinese version. One copy for the Sellers, two copies for the Buyers. The Contract becomes effective after signed by both parties. THE BUYER: THE SELLER: SIGNATURE: SIGNATURE: 6\\n\\nSource: LOHA CO. LTD., F-1, 12/9/2019\"\n",
      "        ]\n",
      "    ],\n",
      "    \"oracle_documents_passages\": [\n",
      "        [\n",
      "            \"REFERENCE\",\n",
      "            \"Exhibit 10.16 SUPPLY CONTRACT Contract No: Date: The buyer/End-User: Shenzhen LOHAS Supply Chain Management Co., Ltd. ADD: Tel No. : Fax No. : The seller: ADD: The Contract is concluded and signed by the Buyer and Seller on , in Hong Kong. 1. General provisions 1.1 This is a framework agreement, the\"\n",
      "        ],\n",
      "        [\n",
      "            \"REFERENCE\",\n",
      "            \"terms and conditions are applied to all purchase orders which signed by this agreement (hereinafter referred to as the \\\"order\\\"). 1.2 If the provisions of the agreement are inconsistent with the order, the order shall prevail. Not stated in order content will be subject to the provisions of agreement. Any modification, supplementary, give up should been written records, only to be valid by buyers and sellers authorized representative signature and confirmation, otherwise will be deemed invalid\"\n",
      "        ],\n",
      "        [\n",
      "            \"REFERENCE\",\n",
      "            \". 2. The agreement and order 2.1 During the validity term of this agreement, The buyer entrust SHENZHEN Y\"\n",
      "        ],\n",
      "        [\n",
      "            \"REFERENCE\",\n",
      "            \"ICHANGTAI IMPORT AND EXPORT TRADE CO., LTD or SHENZHEN LEHEYUAN TRADING CO, LTD (hereinafter referred to as the \\\"entrusted party\\\" or \\\"YICHANGTAI\\\" or \\\"LEHEYUAN\\\"), to purchase the products specified in this agreement from the seller in the form of orders. 2.2 The seller shall be confirmed within three\"\n",
      "        ],\n",
      "        [\n",
      "            \"REFERENCE\",\n",
      "            \"working days after receipt of order. If the seller finds order is not acceptable or need to modify, should note entrusted party in two working days after receipt of the order, If the seller did not confirm orders in time or notice not accept orders or modifications, the seller is deemed to have been\"\n",
      "        ],\n",
      "        [\n",
      "            \"REFERENCE\",\n",
      "            \"accepted the order. The orders become effective once the seller accepts, any party shall not unilaterally cancel the order before the two sides agreed . 2.3 If the seller puts forward amendments or not accept orders, the seller shall be in the form of a written notice to entrusted party, entrusted pa\"\n",
      "        ],\n",
      "        [\n",
      "            \"REFERENCE\",\n",
      "            \"rty accept the modified by written consent, the modified orders to be taken effect. 2.4 Seller's note, only the buyer entrust the entrusted party issued orders, the product delivery and payment has the force of law. 1\\n\\nSource: LOHA CO. LTD., F-1, 12/9/2019\\n\\n\\n\\n\\n\\n3. GOODS AND COUNTRY OF ORIGIN: 4. Spec\"\n",
      "        ],\n",
      "        [\n",
      "            \"REFERENCE\",\n",
      "            \"ific order: The products quantity, unit price, specifications, delivery time and transportation, specific content shall be subject to the purchase order issued by entrusted party which is commissioned the buyer. 5. PACKING: To be packed in new strong wooden case(s) /carton(s), suitable for long dista\"\n",
      "        ],\n",
      "        [\n",
      "            \"REFERENCE\",\n",
      "            \"nce transportation and for the change of climate, well protected against rough handling, moisture, rain, corrosion, shocks, rust, and freezing. The seller shall be liable for any damage and loss of the commodity, expenses incurred on account of improper packing, and any damage attributable to inadequ\"\n",
      "        ],\n",
      "        [\n",
      "            \"REFERENCE\",\n",
      "            \"ate or improper protective measures taken by the seller in regard to the packing. One full set of technical All wooden material of shipping package must be treated as the requirements of Entry-Exit Inspection and Quarantine Bureau of China, by the agent whom is certified by the government where the g\"\n",
      "        ],\n",
      "        [\n",
      "            \"REFERENCE\",\n",
      "            \"oods is exported. And the goods must be marked with the IPPC stamps, which are certified by the government agent of Botanical-Inspection and Quarantine Bureau. 6. SHIPPING MARK: The Sellers shall mark on each package with fadeless paint the package number, gross weight, net weight, measurements and t\"\n",
      "        ],\n",
      "        [\n",
      "            \"REFERENCE\",\n",
      "            \"he wordings: \\\"KEEP AWAY FROM MOISTURE\\\",\\\"HANDLE WITH CARE\\\" \\\"THIS SIDE UP\\\" etc. and the shipping mark on each package with fadeless paint. 7. DATE OF SHIPMENT: According to specific order by YICHANGTAI or LEHEYUAN. 8. PORT OF SHIPMENT:\\n\\n2\\n\\nSource: LOHA CO. LTD., F-1, 12/9/2019\\n\\n\\n\\n\\n\\n9. PORT OF DESTINATI\"\n",
      "        ],\n",
      "        [\n",
      "            \"REFERENCE\",\n",
      "            \"ON: SHENZHEN, GUANGDONG, CHINA 10. INSURANCE: To be covered by the Seller for 110% invoice value against All Risks and War Risk. 11. PAYMENT: Under Letter of Credit or T/T: Under the Letter of Credit: The Buyer shall open an irrevocable letter of credit with the bank within 30 days after signing the\"\n",
      "        ],\n",
      "        [\n",
      "            \"REFERENCE\",\n",
      "            \"contract, in favor of the Seller, for 100% value of the total contract value. The letter of credit should state that partial shipments are allowed. The Buyer's agent agrees to pay for the goods in accordance with the actual amount of the goods shipped. 80% of the system value being shipped will be pa\"\n",
      "        ],\n",
      "        [\n",
      "            \"REFERENCE\",\n",
      "            \"id against the documents stipulated in Clause 12.1. The remaining 20% of the system value being shipped will be paid against the documents stipulated in Clause 12.2. The Letter of Credit shall be valid until 90 days after the latest shipment is effected. Under the T/T The trustee of the buyer remitte\"\n",
      "        ],\n",
      "        [\n",
      "            \"REFERENCE\",\n",
      "            \"d the goods to the seller by telegraphic transfer in batches as agreed upon after signing each order. 12. DOCUMENTS: 12.1 (1) Invoice in 5 originals indicating contract number and Shipping Mark (in case of more than one shipping mark, the invoice shall be issued separately). ( 2) One certificate of o\"\n",
      "        ],\n",
      "        [\n",
      "            \"REFERENCE\",\n",
      "            \"rigin of the goods. ( 3) Four original copies of the packing list. ( 4) Certificate of Quality and Quantity in 1 original issued by the agriculture products base. ( 5) One copy of insurance coverage (6) Copy of cable/letter to the transportation department of Buyer advising of particulars as to shipm\"\n",
      "        ],\n",
      "        [\n",
      "            \"REFERENCE\",\n",
      "            \"ent immediately after shipment is made. 3\\n\\nSource: LOHA CO. LTD., F-1, 12/9/2019\\n\\n\\n\\n\\n\\n12.2 (1) Invoice in 3 originals indicating contract number and L/C number. ( 2) Final acceptance certificate signed by the Buyer and the Seller. 13. SHIPMENT: CIP The seller shall contract on usual terms at his own\"\n",
      "        ],\n",
      "        [\n",
      "            \"REFERENCE\",\n",
      "            \"expenses for the carriage of the goods to the agreed point at the named place of destination and bear all risks and expenses until the goods have been delivered to the port of destination. The Sellers shall ship the goods within the shipment time from the port of shipment to the port of destination.\"\n",
      "        ],\n",
      "        [\n",
      "            \"REFERENCE\",\n",
      "            \"Transshipment is allowed. Partial Shipment is allowed. In case the goods are to be dispatched by parcel post/sea-freight, the Sellers shall, 3 days before the time of delivery, inform the Buyers by cable/letter of the estimated date of delivery, Contract No., commodity, invoiced value, etc. The selle\"\n",
      "        ],\n",
      "        [\n",
      "            \"REFERENCE\",\n",
      "            \"rs shall, immediately after dispatch of the goods, advise the Buyers by cable/letter of the Contract No., commodity, invoiced value and date of dispatch for the Buyers. 14. SHIPPING ADVICE: The seller shall within 72 hours after the shipment of the goods, advise the shipping department of buyer by fa\"\n",
      "        ],\n",
      "        [\n",
      "            \"REFERENCE\",\n",
      "            \"x or E-mail of Contract No., goods name, quantity, value, number of packages, gross weight, measurements and the estimated arrival time of the goods at the destination. 15. GUARANTEE OF QUALITY: The Sellers guarantee that the commodity hereof is complies in all respects with the quality and specifica\"\n",
      "        ],\n",
      "        [\n",
      "            \"REFERENCE\",\n",
      "            \"tion stipulated in this Contract. 16. CLAIMS: Within 7 days after the arrival of the goods at destination, should the quality, specification, or quantity be found not in conformity with the stipulations of the Contract except those claims for which the insurance company or the owners of the vessel ar\"\n",
      "        ],\n",
      "        [\n",
      "            \"REFERENCE\",\n",
      "            \"e liable, the Buyers, on the strength of the Inspection Certificate issued by the China Commodity Inspection Bureau, have the right to claim for replacement with new goods, or for compensation, and all the expenses (such as inspection charges, freight for returning the goods and for sending the repl\"\n",
      "        ],\n",
      "        [\n",
      "            \"REFERENCE\",\n",
      "            \"acement, insurance premium, storage and loading and unloading charges etc.) shall be borne by the Sellers. The Certificate so issued shall be accepted as the base of a claim. The Sellers, in accordance with the Buyers' claim, shall be responsible for the immediate elimination of the defect(s), comple\"\n",
      "        ],\n",
      "        [\n",
      "            \"REFERENCE\",\n",
      "            \"te or partial replacement of the commodity or shall devaluate the commodity according to the state of defect(s). Where necessary, the Buyers shall be at liberty to eliminate the defect(s) themselves at the Sellers' expenses. If the Sellers fail to answer the Buyers within one weeks after receipt of t\"\n",
      "        ],\n",
      "        [\n",
      "            \"REFERENCE\",\n",
      "            \"he aforesaid claim, the claim shall be reckoned as having been accepted by the Sellers. 4\\n\\nSource: LOHA CO. LTD., F-1, 12/9/2019\\n\\n\\n\\n\\n\\n17. FORCE MAJEURE: The Sellers shall not be held responsible for the delay in shipment or non-delivery, of the goods due to Force Majeure, which might occur during the\"\n",
      "        ],\n",
      "        [\n",
      "            \"REFERENCE\",\n",
      "            \"process of manufacturing or in the course of loading or transit. The Sellers shall advise the Buyers immediately of the occurrence mentioned above and within fourteen days thereafter, the Sellers shall send by airmail to the Buyers a certificate of the accident issued by the competent government aut\"\n",
      "        ],\n",
      "        [\n",
      "            \"REFERENCE\",\n",
      "            \"horities, Chamber of Commerce or registered notary public of the place where the accident occurs as evidence thereof. Under such circumstances the Sellers, however, are still under the obligation to take all necessary measures to hasten the delivery of the goods. In case the accident lasts for more t\"\n",
      "        ],\n",
      "        [\n",
      "            \"REFERENCE\",\n",
      "            \"han 10 weeks, the Buyers shall have the right to cancel the Contract. 18. LATE DELIVERY AND PENALTY: Should the Sellers fail to make delivery on time as stipulated in the Contract, with exception of Force Majeure causes specified in Clause 17 of this Contract, the Buyers shall agree to postpone the d\"\n",
      "        ],\n",
      "        [\n",
      "            \"REFERENCE\",\n",
      "            \"elivery on condition that the Sellers agree to pay a penalty which shall be deducted by the paying bank from the payment. The penalty, however, shall not exceed 5% of the total value of the goods involved in the late delivery. The rate of penalty is charged at 0.5% for every seven days, odd days less\"\n",
      "        ],\n",
      "        [\n",
      "            \"REFERENCE\",\n",
      "            \"than seven days should be counted as seven days. In case the Sellers fail to make delivery ten weeks later than the time of shipment stipulated in the Contract, the Buyers have the right to cancel the contract and the Sellers, in spite of the cancellation, shall still pay the aforesaid penalty to th\"\n",
      "        ],\n",
      "        [\n",
      "            \"REFERENCE\",\n",
      "            \"e Buyers without delay, the seller should refund the money received and pay the 30% of the total goods price of the penalty 19. ARBITRATION: All disputes in connection with this Contract or the execution thereof shall be settled friendly through negotiations. In case no settlement can be reached, the\"\n",
      "        ],\n",
      "        [\n",
      "            \"REFERENCE\",\n",
      "            \"case may then be submitted for arbitration to the Foreign Economic and Trade Arbitration Committee of the China Beijing Council for the Promotion of International Trade in accordance with its Provisional Rules of Procedures by the said Arbitration Committee. The Arbitration shall take place in Beiji\"\n",
      "        ],\n",
      "        [\n",
      "            \"REFERENCE\",\n",
      "            \"ng and the decision of the Arbitration Committee shall be final and binding upon both parties; neither party shall seek recourse to a law court nor other authorities to appeal for revision of the decision. Arbitration fee shall be borne by the losing party. 20. This final price is the confidential in\"\n",
      "        ],\n",
      "        [\n",
      "            \"REFERENCE\",\n",
      "            \"formation. Dissemination, distribution or duplication of this price is strictly prohibited. 5\\n\\nSource: LOHA CO. LTD., F-1, 12/9/2019\\n\\n\\n\\n\\n\\n21. Law application It will be governed by the law of the People's Republic of China ,otherwise it is governed by United Nations Convention on Contract for the Int\"\n",
      "        ],\n",
      "        [\n",
      "            \"REFERENCE\",\n",
      "            \"ernational Sale of Goods. 22. <<Incoterms 2000>> The terms in the contract are based on (INCOTERMS 2000) of the International Chamber of Commerce. 23. The Contract is valid for 5 years, beginning from and ended on . This Contract is made out in three originals in both Chinese and English, each langua\"\n",
      "        ],\n",
      "        [\n",
      "            \"REFERENCE\",\n",
      "            \"ge being legally of the equal effect. Conflicts between these two languages arising there from, if any, shall be subject to Chinese version. One copy for the Sellers, two copies for the Buyers. The Contract becomes effective after signed by both parties. THE BUYER: THE SELLER: SIGNATURE: SIGNATURE: 6\"\n",
      "        ],\n",
      "        [\n",
      "            \"REFERENCE\",\n",
      "            \"Source: LOHA CO. LTD., F-1, 12/9/2019\"\n",
      "        ]\n",
      "    ]\n",
      "}\n"
     ]
    }
   ],
   "source": [
    "print(json.dumps(current_chosen_dataset['test'][0], indent=4))"
   ]
  },
  {
   "cell_type": "code",
   "execution_count": 8,
   "metadata": {},
   "outputs": [],
   "source": [
    "import bm25s\n",
    "import Stemmer \n",
    "stemmer = Stemmer.Stemmer(\"english\")"
   ]
  },
  {
   "cell_type": "markdown",
   "metadata": {},
   "source": [
    "# Create the BM25 Oracle Setup"
   ]
  },
  {
   "cell_type": "code",
   "execution_count": 9,
   "metadata": {},
   "outputs": [
    {
     "name": "stderr",
     "output_type": "stream",
     "text": [
      "Parameter 'function'=<function retrieve_top_passages at 0x7f7031e76c20> of the transform datasets.arrow_dataset.Dataset._map_single couldn't be hashed properly, a random hash was used instead. Make sure your transforms and parameters are serializable with pickle or dill for the dataset fingerprinting and caching to work. If you reuse this transform, the caching mechanism will consider it to be different from the previous calls and recompute everything. This warning is only showed once. Subsequent hashing failures won't be showed.\n"
     ]
    },
    {
     "name": "stdout",
     "output_type": "stream",
     "text": [
      "[*] adding top_10_passages to OBLI_QA-generation-workshop\n"
     ]
    },
    {
     "data": {
      "application/vnd.jupyter.widget-view+json": {
       "model_id": "617e3a5ceab248cb96886de66811c4c5",
       "version_major": 2,
       "version_minor": 0
      },
      "text/plain": [
       "Map (num_proc=45):   0%|          | 0/1000 [00:00<?, ? examples/s]"
      ]
     },
     "metadata": {},
     "output_type": "display_data"
    },
    {
     "data": {
      "application/vnd.jupyter.widget-view+json": {
       "model_id": "2400a47d8e0b42fd9d3d9602e30aae7f",
       "version_major": 2,
       "version_minor": 0
      },
      "text/plain": [
       "Map (num_proc=45):   0%|          | 0/2786 [00:00<?, ? examples/s]"
      ]
     },
     "metadata": {},
     "output_type": "display_data"
    },
    {
     "data": {
      "application/vnd.jupyter.widget-view+json": {
       "model_id": "3bf9d6cdfce749989ebe8d23c02412f8",
       "version_major": 2,
       "version_minor": 0
      },
      "text/plain": [
       "Uploading the dataset shards:   0%|          | 0/3 [00:00<?, ?it/s]"
      ]
     },
     "metadata": {},
     "output_type": "display_data"
    },
    {
     "data": {
      "application/vnd.jupyter.widget-view+json": {
       "model_id": "0e5b4666db4043fc94f83e4dbf42c9c2",
       "version_major": 2,
       "version_minor": 0
      },
      "text/plain": [
       "Creating parquet from Arrow format:   0%|          | 0/1 [00:00<?, ?ba/s]"
      ]
     },
     "metadata": {},
     "output_type": "display_data"
    },
    {
     "data": {
      "application/vnd.jupyter.widget-view+json": {
       "model_id": "996617ecdbac4becb3202f94f4c18423",
       "version_major": 2,
       "version_minor": 0
      },
      "text/plain": [
       "Creating parquet from Arrow format:   0%|          | 0/1 [00:00<?, ?ba/s]"
      ]
     },
     "metadata": {},
     "output_type": "display_data"
    },
    {
     "data": {
      "application/vnd.jupyter.widget-view+json": {
       "model_id": "b5a2d8df379f44b4a334dbf6b586a624",
       "version_major": 2,
       "version_minor": 0
      },
      "text/plain": [
       "Creating parquet from Arrow format:   0%|          | 0/1 [00:00<?, ?ba/s]"
      ]
     },
     "metadata": {},
     "output_type": "display_data"
    },
    {
     "data": {
      "application/vnd.jupyter.widget-view+json": {
       "model_id": "11f8b5de3cfa4732b917e0419ef72440",
       "version_major": 2,
       "version_minor": 0
      },
      "text/plain": [
       "Uploading the dataset shards:   0%|          | 0/6 [00:00<?, ?it/s]"
      ]
     },
     "metadata": {},
     "output_type": "display_data"
    },
    {
     "data": {
      "application/vnd.jupyter.widget-view+json": {
       "model_id": "10480bc32de74d6ca0e96b672c65d3c1",
       "version_major": 2,
       "version_minor": 0
      },
      "text/plain": [
       "Creating parquet from Arrow format:   0%|          | 0/1 [00:00<?, ?ba/s]"
      ]
     },
     "metadata": {},
     "output_type": "display_data"
    },
    {
     "data": {
      "application/vnd.jupyter.widget-view+json": {
       "model_id": "9118ac60417e4f26b901d5de0a8a7bc3",
       "version_major": 2,
       "version_minor": 0
      },
      "text/plain": [
       "Creating parquet from Arrow format:   0%|          | 0/1 [00:00<?, ?ba/s]"
      ]
     },
     "metadata": {},
     "output_type": "display_data"
    },
    {
     "data": {
      "application/vnd.jupyter.widget-view+json": {
       "model_id": "39363e27a4864d368e4885eac326f834",
       "version_major": 2,
       "version_minor": 0
      },
      "text/plain": [
       "Creating parquet from Arrow format:   0%|          | 0/1 [00:00<?, ?ba/s]"
      ]
     },
     "metadata": {},
     "output_type": "display_data"
    },
    {
     "data": {
      "application/vnd.jupyter.widget-view+json": {
       "model_id": "76a3ae15d1b049588d4f03b2ff797acd",
       "version_major": 2,
       "version_minor": 0
      },
      "text/plain": [
       "Creating parquet from Arrow format:   0%|          | 0/1 [00:00<?, ?ba/s]"
      ]
     },
     "metadata": {},
     "output_type": "display_data"
    },
    {
     "data": {
      "application/vnd.jupyter.widget-view+json": {
       "model_id": "910058d2c4a442a1ae3bfa7558b7898a",
       "version_major": 2,
       "version_minor": 0
      },
      "text/plain": [
       "Creating parquet from Arrow format:   0%|          | 0/1 [00:00<?, ?ba/s]"
      ]
     },
     "metadata": {},
     "output_type": "display_data"
    },
    {
     "data": {
      "application/vnd.jupyter.widget-view+json": {
       "model_id": "7b1e734371a74345bdaf4d54d66f6624",
       "version_major": 2,
       "version_minor": 0
      },
      "text/plain": [
       "Creating parquet from Arrow format:   0%|          | 0/1 [00:00<?, ?ba/s]"
      ]
     },
     "metadata": {},
     "output_type": "display_data"
    },
    {
     "name": "stdout",
     "output_type": "stream",
     "text": [
      "\"1\\n14. SUSPICIOUS ACTIVITY/TRANSACTION REPORTS\\n14.1 Application and definitions\\nIn this Chapter \\\"money laundering\\\" and \\u201cterrorist financing\\\" means the criminal offences defined in Federal AML Legislation.\\n14.2 Internal reporting requirements\\n14.2.1 A Relevant Person must establish and maintain policies, procedures, systems and controls in order to monitor and detect suspicious activity or Transactions in relation to potential money laundering or terrorist financing.\\n14.2.2 A Relevant Person must have policies, procedures, systems and controls to ensure that whenever any Employee, acting in the ordinary course of his employment, either:\\n(a)\\tknows;\\n(b)\\tsuspects; or\\n(c)\\thas reasonable grounds for knowing or suspecting,\\nthat a Person is engaged in or attempting money laundering or terrorist financing, that Employee promptly notifies the Relevant Person's MLRO and provides the MLRO with all relevant details.\\n14.2.3 A Relevant Person must have policies and procedures to ensure that disciplinary action can be taken against any Employee who fails to make such a report.\\n14.2.3.Guidance\\n14.2.3.Guidance.1. Circumstances that might give rise to suspicion or reasonable grounds for suspicion of money laundering or terrorist financing include:\\n(a)\\tTransactions which have no apparent purpose, which make no obvious economic sense, or which are designed or structured to avoid detection;\\n(b)\\tTransactions requested by a Person without reasonable explanation, which are out of the ordinary range of services normally requested or are outside the experience of a Relevant Person in relation to a particular customer;\\n(c)\\twhere the size or pattern of Transactions, without reasonable explanation, is out of line with any pattern that has previously emerged or may have been deliberately structured to avoid detection;\\n(d)\\ta customer's refusal to provide the information requested without reasonable explanation;\\n(e)\\twhere a customer who has just entered into a business relationship uses the relationship for a single Transaction or for only a very short period of time;\\n(f)\\textensive use of offshore accounts, companies or structures in circumstances where the customer's economic needs do not support such requirements;\\n(g)\\tunnecessary routing of funds through third-party accounts; or\\n(h)\\tunusual Transactions without an apparently profitable motive.\\n14.2.3.Guidance.2. CDD measures form the basis for recognising suspicious activity or Transactions. Sufficient guidance must therefore be given to the Relevant Person's Employees to enable them to form a suspicion or to recognise when they have reasonable grounds to suspect that money laundering or terrorist financing is taking place. This should involve training that will enable relevant Employees to seek and assess the information that is required for them to judge whether a Person is involved in suspicious activity or Transactions related to money laundering or terrorist financing.\\n14.2.3.Guidance.3. Where appropriate, a Relevant Person should also utilise the methods described in paragraph 1 above to detect a range of Financial Crimes, including fraud. Bearing in mind the evolving nature of Financial Crime and the methods used to further it, a Relevant Person should apply best practice when determining which behaviours would be considered suspicious and what measures are required to detect suspicious activity and Transactions. Such practices may include, but are not limited to, incorporating the analysis of customer behaviour metrics into the monitoring of suspicious activity and Transactions.\\n14.2.3.Guidance.4. The requirement for Employees to notify the Relevant Person's MLRO should include situations when no business relationship was developed because the circumstances were suspicious.\\n14.2.3.Guidance.5. A Relevant Person may allow its Employees to consult with their line managers before sending a report to the MLRO. The Regulator would expect that such consultation does not prevent making a report whenever an Employee has stated that he has knowledge, suspicion or reasonable grounds for knowing or suspecting that a Person may be involved in money laundering. Whether or not an Employee consults with his line manager or other Employees, the responsibility remains with the Employee to decide for himself whether a notification to the MLRO should be made.\\n14.2.3.Guidance.6. An Employee, including the MLRO, who considers that a Person has engaged in or is engaging in activity or Transactions that he knows or suspects to be suspicious would not be expected to know the exact nature of the criminal offence or that the particular funds were definitely those arising from the crime of money laundering or terrorist financing.\\n14.2.3.Guidance.7. Activity or Transactions that appear unusual are not necessarily suspicious. Even customers with a stable and predictable Transaction profile will have periodic Transactions that are unusual for them. Many customers will, for perfectly good reasons, have an erratic pattern of Transactions or account activity. So the unusual is, in the first instance, only a basis for further inquiry, which may in turn require judgement as to whether it is suspicious. A Transaction or activity may not be suspicious at the time, but if suspicions are raised later, an obligation to report it then arises.\\n14.2.3.Guidance.8. Effective CDD measures may provide the basis for recognising unusual and suspicious activity and Transactions. Refusal to provide documentation to support CDD or refusal to disclose a beneficial owner may be considered suspicious activity. Where there is a customer relationship, suspicious activity will often be one that is inconsistent with a customer's known legitimate activity, or with the normal business activities for that type of account or customer. Therefore, the key to recognising \\\"suspicious activity\\\" is knowing enough about the customer and the customer's normal expected activities to recognise when their activity is abnormal.\\n14.2.3.Guidance.9. A Relevant Person may consider implementing policies and procedures whereby disciplinary action is taken against an Employee who fails to notify the Relevant Person's MLRO.\\n14.2.3.Guidance.10. Relevant Persons should comply with guidance issued by the EOCN with regard to identifying and reporting suspicious activity and Transactions relating to money laundering, terrorist financing and proliferation financing.\\n14.3 Suspicious Activity/Transaction Reports\\n14.3.1 A Relevant Person must ensure that where the Relevant Person's MLRO receives an internal notification of suspicious activity under Rule \\u200e14.2.2, the MLRO, without delay:\\n(a)\\tinvestigates and documents the circumstances in relation to which the notification made under Rule \\u200e14.2.2 was made;\\n(b)\\tdetermines whether in accordance with Federal AML Legislation a SAR/STR must be made and documents such determination; and\\n(c)\\tif required, make a SAR/STR as soon as practicable.\\n14.3.2 The MLRO must, following receipt of an internal notification of suspicious activity under Rule \\u200e14.2.2, document:\\n(a)\\tthe steps taken to investigate the circumstances in relation to which the internal notification is made; and\\n(b)\\twhere no external SAR/STR is made, the reasons why no such report was made.\\n14.3.3 Where, following a notification to the MLRO of suspicious activity under \\u200e14.2.2, no SAR/STR is made, a Relevant Person must record the reasons for not making a SAR/STR.\\n14.3.4 A Relevant Person must ensure that if the MLRO decides to make a SAR/STR, his decision is made independently and is not subject to the consent or approval of any other Person.\\n14.3.5 Relevant Persons are required to register on goAML upon receipt of their Financial Services Permission, Recognition Order or registration licence in order to submit SAR/STRs.\\n14.3.5.Guidance\\n14.3.5.Guidance.1. Relevant Persons are reminded that the failure to report suspicions of money laundering or terrorist financing may constitute a criminal offence that is punishable under the laws of the U.A.E.\\n14.3.5.Guidance.2. Relevant Persons should comply with guidance issued by the EOCN regarding reporting suspicious activity and Transactions relating to money laundering, terrorist financing and proliferation financing.\\n14.3.5.Guidance.3. SARs/STRs under Federal AML Legislation should be submitted to the FIU via goAML. The dedicated mechanism for registering and reporting on goAML is available on the Regulator\\u2019s website. Failure to register on goAML may lead to the Regulator taking action.\\n14.3.5.Guidance.4. In the preparation of a SAR/STR, if a Relevant Person knows or assumes that the funds which form the subject of the report do not belong to a customer but to a third party, this fact and the details of the Relevant Person's proposed course of further action in relation to the case should be included in the report.\\n14.3.5.Guidance.5. If a Relevant Person has filed a SAR/STR, the FIU may instruct the Relevant Person on how to continue its business relationship, including effecting any Transaction with a Person. If the customer in question expresses his wish to move the funds before the Relevant Person receives instruction from the FIU on how to proceed, the Relevant Person should immediately contact the FIU for further instructions.\\n14.4 Suspension of Transactions and \\u201cno tipping-off\\u201d requirement\\n14.4.1 A Relevant Person must not carry out Transactions that it knows or suspects or has reasonable grounds for knowing or suspecting to be related to money laundering or terrorist financing until it has informed the FIU pursuant to Rule \\u200e14.3.1.\\n14.4.1.Guidance\\n14.4.1.Guidance.1. Relevant Persons are reminded that in accordance with Federal AML Legislation, Relevant Persons or any of their Employees must not tip off any Person, that is, inform any Person that he is being scrutinised, or investigated by any other competent authority, for possible involvement in suspicious Transactions or activity related to money laundering or terrorist financing.\\n14.4.1.Guidance.2. If a Relevant Person reasonably believes that performing CDD measures will tip off a customer or potential customer, it may choose not to pursue that process and should file a Suspicious Activity/Transaction Report. Relevant Persons should ensure that their Employees are aware of and sensitive to these issues when considering the CDD measures.\\n14.5 Record-keeping\\n14.5.1 All relevant details of any notification to the MLRO under Rule \\u200e14.2 or Suspicious Activity/Transaction Reports filed pursuant to Rule \\u200e14.3 must be kept for at least six years from the date on which the report was made.\\n14.6 Freezing of assets\\n14.6.Guidance \\nThe Regulator has certain powers under FSMR to impose a requirement restricting an Authorised Person or Recognised Body from disposing of or transferring property including, for example, assets or other funds suspected of relating to money laundering. It may also apply to the ADGM Courts for an order restraining a Person from transferring or disposing of any assets suspected of relating to money laundering or terrorist financing. In cases involving suspected money laundering or terrorist financing, the Regulator will usually take such action in coordination with the FIU.\\n\\n\"\n"
     ]
    }
   ],
   "source": [
    "top_k = 10\n",
    "# data_dir = \"bm25_noisy_oracle_passages_oracle_documents\" only for echr_qa\n",
    "data_dir = \"bm25_oracle_passages_oracle_documents\"\n",
    "\n",
    "from datasets import DatasetDict\n",
    "\n",
    "\n",
    "create = True\n",
    "def retrieve_top_passages(entry):\n",
    "    query = entry['gold_text']\n",
    "    all_passages = entry['oracle_documents_passages']\n",
    "    all_passages_text = [f\"{passage_arr[0]}\\n{passage_arr[1]}\" for passage_arr in all_passages]\n",
    "    corpus_tokens = bm25s.tokenize(all_passages_text, stopwords=\"en\", stemmer=stemmer)\n",
    "    retriever = bm25s.BM25()\n",
    "    retriever.index(corpus_tokens)\n",
    "    query_tokens = bm25s.tokenize(query, stemmer=stemmer)\n",
    "    local_top_k = top_k if top_k <= len(all_passages_text) else len(all_passages_text)\n",
    "    results, _ = retriever.retrieve(query_tokens, corpus=all_passages_text, k=local_top_k)\n",
    "    results = results.squeeze(0)\n",
    "    return {f\"top_{top_k}_passages\": results}  \n",
    "try:\n",
    "    if not create:\n",
    "        new_dataset = load_dataset(f\"ylkhayat/{workshop_hf_name}\", data_dir=data_dir)\n",
    "except:\n",
    "    print(f\"[!] {workshop_hf_name} not found in {data_dir}\")\n",
    "    create = True\n",
    "\n",
    "if create or f\"top_{top_k}_passages\" not in current_chosen_dataset.column_names['test']:\n",
    "    print(f\"[*] adding top_{top_k}_passages to {workshop_hf_name}\")\n",
    "    new_dataset = DatasetDict({split: current_chosen_dataset[split] for split in current_chosen_dataset.keys()})\n",
    "    new_dataset = new_dataset.map(retrieve_top_passages, num_proc=num_proc)\n",
    "    new_dataset.push_to_hub(f\"ylkhayat/{workshop_hf_name}\", data_dir=data_dir)\n",
    "else:\n",
    "    print(f\"[!] top_{top_k}_passages already exists in {workshop_hf_name}\")\n",
    "print(json.dumps(new_dataset['test'][0][f\"top_{top_k}_passages\"][0], indent=4)) "
   ]
  },
  {
   "cell_type": "markdown",
   "metadata": {},
   "source": [
    "# Create the BM25 Relevant Setup"
   ]
  },
  {
   "cell_type": "code",
   "execution_count": 10,
   "metadata": {},
   "outputs": [
    {
     "name": "stdout",
     "output_type": "stream",
     "text": [
      "[*] adding top_10_passages to OBLI_QA-generation-workshop\n"
     ]
    },
    {
     "data": {
      "application/vnd.jupyter.widget-view+json": {
       "model_id": "2183fea7ec114acc87f227091d634ce3",
       "version_major": 2,
       "version_minor": 0
      },
      "text/plain": [
       "Map (num_proc=45):   0%|          | 0/1000 [00:00<?, ? examples/s]"
      ]
     },
     "metadata": {},
     "output_type": "display_data"
    },
    {
     "data": {
      "application/vnd.jupyter.widget-view+json": {
       "model_id": "5ff615a71fc042609404013b09cb559c",
       "version_major": 2,
       "version_minor": 0
      },
      "text/plain": [
       "Map (num_proc=45):   0%|          | 0/2786 [00:00<?, ? examples/s]"
      ]
     },
     "metadata": {},
     "output_type": "display_data"
    },
    {
     "data": {
      "application/vnd.jupyter.widget-view+json": {
       "model_id": "45db170250a54e0bad0e549ba887e2c0",
       "version_major": 2,
       "version_minor": 0
      },
      "text/plain": [
       "Uploading the dataset shards:   0%|          | 0/3 [00:00<?, ?it/s]"
      ]
     },
     "metadata": {},
     "output_type": "display_data"
    },
    {
     "data": {
      "application/vnd.jupyter.widget-view+json": {
       "model_id": "93cfc7bd17264b5fbef398315a051cab",
       "version_major": 2,
       "version_minor": 0
      },
      "text/plain": [
       "Creating parquet from Arrow format:   0%|          | 0/1 [00:00<?, ?ba/s]"
      ]
     },
     "metadata": {},
     "output_type": "display_data"
    },
    {
     "data": {
      "application/vnd.jupyter.widget-view+json": {
       "model_id": "bc39b993274545f7ad2d6aef6b4d5d20",
       "version_major": 2,
       "version_minor": 0
      },
      "text/plain": [
       "Creating parquet from Arrow format:   0%|          | 0/1 [00:00<?, ?ba/s]"
      ]
     },
     "metadata": {},
     "output_type": "display_data"
    },
    {
     "data": {
      "application/vnd.jupyter.widget-view+json": {
       "model_id": "2291c37320004411888124aea00aa1e3",
       "version_major": 2,
       "version_minor": 0
      },
      "text/plain": [
       "Creating parquet from Arrow format:   0%|          | 0/1 [00:00<?, ?ba/s]"
      ]
     },
     "metadata": {},
     "output_type": "display_data"
    },
    {
     "data": {
      "application/vnd.jupyter.widget-view+json": {
       "model_id": "d7d85b26000a41feb9b9d7e77864be53",
       "version_major": 2,
       "version_minor": 0
      },
      "text/plain": [
       "Uploading the dataset shards:   0%|          | 0/6 [00:00<?, ?it/s]"
      ]
     },
     "metadata": {},
     "output_type": "display_data"
    },
    {
     "data": {
      "application/vnd.jupyter.widget-view+json": {
       "model_id": "0f67645619cc42fe89c8f29a2b240914",
       "version_major": 2,
       "version_minor": 0
      },
      "text/plain": [
       "Creating parquet from Arrow format:   0%|          | 0/1 [00:00<?, ?ba/s]"
      ]
     },
     "metadata": {},
     "output_type": "display_data"
    },
    {
     "data": {
      "application/vnd.jupyter.widget-view+json": {
       "model_id": "3a7a2977a6434fa98473e86d66aaaa56",
       "version_major": 2,
       "version_minor": 0
      },
      "text/plain": [
       "Creating parquet from Arrow format:   0%|          | 0/1 [00:00<?, ?ba/s]"
      ]
     },
     "metadata": {},
     "output_type": "display_data"
    },
    {
     "data": {
      "application/vnd.jupyter.widget-view+json": {
       "model_id": "1265383e75664a29a2bb91c79c21148d",
       "version_major": 2,
       "version_minor": 0
      },
      "text/plain": [
       "Creating parquet from Arrow format:   0%|          | 0/1 [00:00<?, ?ba/s]"
      ]
     },
     "metadata": {},
     "output_type": "display_data"
    },
    {
     "data": {
      "application/vnd.jupyter.widget-view+json": {
       "model_id": "b55de266fc3e44dab3d76fb347fd47fc",
       "version_major": 2,
       "version_minor": 0
      },
      "text/plain": [
       "Creating parquet from Arrow format:   0%|          | 0/1 [00:00<?, ?ba/s]"
      ]
     },
     "metadata": {},
     "output_type": "display_data"
    },
    {
     "data": {
      "application/vnd.jupyter.widget-view+json": {
       "model_id": "81b6e4c0827f48f08ae9f09dfd7e4ca2",
       "version_major": 2,
       "version_minor": 0
      },
      "text/plain": [
       "Creating parquet from Arrow format:   0%|          | 0/1 [00:00<?, ?ba/s]"
      ]
     },
     "metadata": {},
     "output_type": "display_data"
    },
    {
     "data": {
      "application/vnd.jupyter.widget-view+json": {
       "model_id": "f5c76dec06534c128143fefd191f30c7",
       "version_major": 2,
       "version_minor": 0
      },
      "text/plain": [
       "Creating parquet from Arrow format:   0%|          | 0/1 [00:00<?, ?ba/s]"
      ]
     },
     "metadata": {},
     "output_type": "display_data"
    },
    {
     "data": {
      "application/vnd.jupyter.widget-view+json": {
       "model_id": "3a8cc3154abd4845bfae963adcd76bf7",
       "version_major": 2,
       "version_minor": 0
      },
      "text/plain": [
       "README.md:   0%|          | 0.00/709 [00:00<?, ?B/s]"
      ]
     },
     "metadata": {},
     "output_type": "display_data"
    },
    {
     "name": "stdout",
     "output_type": "stream",
     "text": [
      "\"1\\n9. AML/TFS COMPLIANCE AND THIRD PARTIES\\n9.1 Reliance on a third party\\n9.1.1\\n9.1.1.(1) A Relevant Person may rely on the following third parties to conduct one or more of the elements of CDD on its behalf:\\n(a)\\tan Authorised Person or Recognised Body;\\n(b)\\ta law firm, notary, or other independent legal business, accounting firm, audit firm or insolvency practitioner or an equivalent Person in another jurisdiction;\\n(c)\\ta Financial Institution;\\n(d)\\ta member of the Relevant Person's Group; or\\n(e)\\tother specialised utilities for the provision of outsourced AML/TFS services.\\n9.1.1.(2) In (1), a Relevant Person may rely on the information previously obtained by a third party which covers one or more elements of CDD.\\n9.1.1.(3) Where a Relevant Person seeks to rely on a Person in (1) it may only do so if and to the extent that:\\n(a)\\tit immediately obtains the necessary CDD information from the third party in (1);\\n(b)\\tit takes adequate steps to satisfy itself that certified copies of the documents used to undertake the relevant elements of CDD will be available from the third party on request without delay;\\n(c)\\tthe Person in (1)(b) to (d) is subject to regulation, including AML/TFS compliance requirements, by a Non-ADGM Financial Services Regulator or other competent authority in a country with AML/TFS regulations which are equivalent to the standards set out in the FATF Recommendations and it is supervised for compliance with such regulations;\\n(d)\\tthe Person in (1) has not relied on any exception from the requirement to conduct any relevant elements of CDD which the Relevant Person seeks to rely on; and\\n(e)\\tin relation to (2), the information is up to date.\\n9.1.1.(4) Where a Relevant Person relies on a member of its Group to conduct one or more of the elements of CDD on its behalf, such Group member need not meet the condition in (3)(c) if:\\n(a)\\tthe Group is subject to policies and requirements equivalent to FATF standards, either:\\n(i)\\twhere the Group applies and implements a Group-wide policy on CDD and record-keeping which is equivalent to the standards set by FATF; or\\n(ii)\\twhere the effective implementation of those CDD and record-keeping requirements and AML/TFS programmes are supervised at Group level by a Non-ADGM Financial Services Regulator or other competent authority in a jurisdiction with AML/TFS regulations that are equivalent to the standards set out in the FATF Recommendations;\\n(b)\\tno exception from identification obligations has been applied in the original identification process; and\\n(c)\\ta written statement is received from the introducing member of the Relevant Person's Group confirming that:\\n(i)\\tthe customer has been identified in accordance with the relevant standards under (4)(a) and (b);\\n(ii)\\tany identification evidence can be accessed by the Relevant Person without delay; and\\n(iii)\\tthe identification evidence will be kept for at least six years.\\n9.1.1.(5) If a Relevant Person is not reasonably satisfied that a customer or Beneficial Owners has been identified and verified by a third party in a manner consistent with these Rules, the Relevant Person must immediately perform the CDD itself with respect to any deficiencies identified.\\n(6)\\tNotwithstanding the Relevant Person's reliance on a Person in \\u200e9.1.1(1), the Relevant Person remains responsible for compliance with, and liable for any failure to meet the CDD requirements in the AML Rulebook.\\n9.1.2\\n9.1.2.(1) When assessing under Rule \\u200e9.1.1(3) or (4) if AML/TFS regulations in another jurisdiction are equivalent to FATF standards, a Relevant Person must take into account factors including, but not limited to:\\n(a)\\tmutual evaluations, assessment reports or follow-up reports published by FATF, the IMF, the World Bank, the OECD or other International Organisations;\\n(b)\\tmembership of FATF or other international or regional groups such as the MENAFATF or the Gulf Co-operation Council;\\n(c)\\tcontextual factors such as political stability or the level of corruption in the jurisdiction;\\n(d)\\tevidence of recent criticism of the jurisdiction, including in:\\n(i)\\tFATF advisory notices;\\n(ii)\\tpublic assessments of the jurisdiction\\u2019s AML/TFS regimes by organisations referred to in (a); or\\n(iii)\\treports by other relevant non-government organisations or specialist commercial organisations;\\n(e)\\twhether adequate arrangements exist for co-operation between the AML/TFS regulator in that jurisdiction and the Regulator.\\n9.1.2.(2) A Relevant Person making an assessment under (1) must rely only on sources of information that are reliable and up to date.\\n9.1.2.(3) A Relevant Person must keep adequate records of how it made its assessment, including the sources and materials considered.\\n9.1.2.Guidance\\n9.1.2.Guidance.1. In complying with Rule \\u200e\\u200e9.1.1(3)(a), \\\"immediately obtaining the necessary CDD information\\\" means obtaining all relevant CDD information, and not just basic information such as name and address. However, compliance can be achieved by having the information sent in an email or other appropriate means. For the avoidance of doubt, it does not necessarily require a Relevant Person to immediately obtain the underlying certified documents used by the third party to undertake its CDD because under Rule \\u200e9.1.1(3)(b), these need only be available on request without delay.\\n9.1.2.Guidance.2. The Regulator would expect a Relevant Person, in complying with Rule \\u200e\\u200e9.1.1(5), to fill any gaps in the CDD process as soon as it becomes aware that a customer or Beneficial Owners has not been identified and verified by the third party in a manner consistent with these Rules.\\n9.1.2.Guidance.3. If a Relevant Person acquires another business, either in whole or in substantial part, the Regulator would permit the Relevant Person to rely on the CDD conducted by the business it is acquiring, but would expect the Relevant Person to have done the following:\\n(a)\\tas part of its due diligence for the acquisition, to have taken a reasonable sample of the prospective customers to assess the quality of the CDD undertaken; and\\n(b)\\tto have undertaken CDD on all the customers to cover any deficiencies identified in (a) as soon as possible following the acquisition, prioritising high-risk customers.\\n9.1.2.Guidance.4. Where the legislative framework of a jurisdiction (such as secrecy or data protection legislation) prevents a Relevant Person from having access to CDD information upon request without delay as referred to in Rule \\u200e9.1.1(3)(b), the Relevant Person should undertake the relevant CDD itself and should not seek to rely on the relevant third party.\\n9.1.2.Guidance.5. If a Relevant Person relies on a third party located in a foreign jurisdiction to conduct one or more elements of CDD on its behalf, the Relevant Person must ensure that the foreign jurisdiction has AML/TFS regulations which are equivalent to the standards in the FATF Recommendations (see Rule \\u200e9.1.1(3)(c)).\\n9.1.2.Guidance.6. Relevant Persons should follow directives issued by the NAMLCFTC. For example, Relevant Persons are prohibited from using third parties located in Jurisdictions Subject to a Call for Action to perform CDD.\\n9.2 Business partner identification\\n9.2.1\\n9.2.1.(1) Prior to establishing the business relationship, a Relevant Person must establish and verify the identity of its business partners by obtaining sufficient and satisfactory evidence of the identity of any business partner it relies upon in carrying on its Regulated Activities.\\n(a)\\tA Relevant Person must maintain accurate and up-to-date information and conduct ongoing due diligence on its business partners, throughout the course of the business relationship.\\n(b)\\tIf at any time a Relevant Person becomes aware that it lacks sufficient information or documentation concerning a business partner's identification, or develops a concern about the accuracy of its current information or documentation, it must promptly obtain appropriate material to verify such business partner's identity.\\n9.2.1.(2) In the context of this Rule, a 'business partner' includes:\\n(a)\\ta third party as specified in Rule \\u200e9.1.1(1);\\n(b)\\ta member of the Relevant Person's Group;\\n(c)\\ta Correspondent Bank; or\\n(d)\\tany other service provider.\\n9.2.1.(3) A Relevant Person that establishes, operates or maintains a Correspondent Account for a Correspondent Banking Client must ensure that it has arrangements to:\\n(a)\\tconduct due diligence in respect of the opening of a Correspondent Account for a Correspondent Banking Client, including measures to identify:\\n(i)\\tits ownership and management structure;\\n(ii)\\tits major business activities and customer base;\\n(iii)\\tits location; and\\n(iv)\\tthe intended purpose of the Correspondent Account;\\n(b)\\tidentify all third parties that will use the Correspondent Account; and\\n(c)\\tmonitor Transactions processed through a Correspondent Account that has been opened by a Correspondent Banking Client, in order to detect and report any suspicion of money laundering.\\n9.2.1.Guidance \\nUnder (2)(d), service providers include agents that directly facilitate the activities of Authorised Persons in servicing their clients, as distinct from other service providers that provide purely ancillary services, such as IT, facilities management etc. to an Authorised Person.\\n9.2.2 A Relevant Person must not:\\n9.2.2.(1) establish a correspondent banking relationship with a Shell Bank;\\n9.2.2.(2) establish or keep anonymous accounts or accounts in false names; or\\n9.2.2.(3) maintain a nominee account which is held in the name of one Person, but controlled by or held for the benefit of another Person whose identity has not been disclosed to the Relevant Person.\\n9.2.2.Guidance\\n9.2.2.Guidance.1. \\\"Know your business partner\\\" is as important as \\\"Know Your Customer\\\". A Relevant Person is therefore required to verify the identity of a prospective business partner and to obtain evidence of it. The same documentation that is used to identify customers should be obtained from the business partner prior to conducting any business.\\n9.2.2.Guidance.2. A Relevant Person should verify whether any secrecy or data protection law exists in the country of incorporation of the business partner that would prevent access to relevant data.\\n9.2.2.Guidance.3. The requirement to identify the business partner is meant to cover only those business partners who may pose any relevant money laundering risks to the Relevant Person. Hence, a Relevant Person would not be required to establish and verify the identity of, for example, its maintenance or cleaning service.\\n9.2.2.Guidance.4. The Regulator may take into account the identity of a Relevant Person's business partner and the nature of their relationship in considering the fitness and propriety of a Relevant Person.\\n9.2.2.Guidance.5. Before entering into a business relationship, a Relevant Person should conduct a due diligence investigation, which includes ensuring that the business partner is an existing Person authorised to conduct the kind of business in question and, if applicable, verifying that this Person is duly regulated by a Financial Services Regulator or other relevant regulatory authority or regulator. In accordance with \\\"The Wolfsberg Anti-Money Laundering Principles for Correspondent Banking\\\", the Relevant Person should take into account, and verify the nature of:\\n(a)\\tthe business to be conducted and the major business activities of the business partner;\\n(b)\\tthe jurisdiction where the business partner is located as well as that of its parent; and\\n(c)\\tthe transparency and the nature of the ownership and the management structure.\\n9.2.2.Guidance.6. A Relevant Person may also gather information about the reputation of the business partner, including whether it has been subject to investigation or regulatory action in relation to money laundering.\\n9.2.2.Guidance.7. A Relevant Person should adopt a risk-based approach when verifying its business partners' identities. Depending on the money laundering risks assessment of the Relevant Person's business partner, the Relevant Person should decide the level of detail of the business partner identification and verification process.\\n9.2.2.Guidance.8. A Relevant Person should have in place specific arrangements to ensure that adequate due diligence and identification measures with regard to the business relationship are taken.\\n9.2.2.Guidance.9. The Relevant Person should conduct regular reviews of the relationship with its business partners.\\n9.2.2.Guidance.10. The Senior Management or Governing Body of a Relevant Person should give its approval before it establishes any new correspondent banking relationships.\\n9.2.2.Guidance.11. A Relevant Person should also have arrangements to guard against establishing a business relationship with business partners who permit their accounts to be used by Shell Banks; further details on the definition of Shell Banks are set out in Guidance 2 to Rule \\u200e10.2.2.\\n9.3 Outsourcing and agents\\n9.3.1 A Relevant Person which outsources any one or more elements of its CDD to a service provider (including those within its Group) remains responsible for compliance with, and liable for any failure to meet, such obligations.\\n9.3.1A Prior to appointing a service provider to undertake CDD, a Relevant Person must undertake an initial assurance assessment to evaluate the suitability of the service provider and must ensure that the service provider's obligations are clearly documented in a binding agreement.\\n9.3.1B After engaging a service provider the Relevant Person must undertake periodic assurance assessments to ensure that the services provided meet the obligations recorded in the binding agreement and allow it to meet all the requirements that it is subject to.\\n\\n9.3.1B.Guidance\\n9.3.1B.Guidance.1. The use by a Relevant Person of a service provider\\u2019s eKYC System that enables a Relevant Person to undertake eKYC constitutes outsourcing for the purposes of Rule \\u200e9.3.1.\\n9.3.1B.Guidance.2. When undertaking an assurance assessment of an eKYC System for the purpose of Rule \\u200e9.3.1A, a Relevant Person should seek to establish that the eKYC System is reliable and independent, and allows the Relevant Person to comply with all applicable Rules of the Regulator. In addition, a Relevant Person should consider applying guidance on assurance standards issued by the Regulator, competent U.A.E. authorities, FATF, and other relevant standard setting bodies.\\n9.3.1B.Guidance.3. In limited circumstances, a Relevant Person may place reliance on the assurance assessment of the eKYC System conducted entirely by another entity. Such circumstances comprise the following.\\n(a)\\tWhere an assurance assessment of the eKYC System has been undertaken by a Related entity and specifically addresses the Rules and Regulations applicable to the Relevant Person. In such circumstances, the Relevant Person remains responsible for the eKYC System\\u2019s compliance with applicable Rules and Laws and it should maintain a copy of the assessment.\\n(b)\\tWhere the eKYC System has been authorised by a competent authority of the U.A.E. or a competent authority in a jurisdiction with AML/TFS laws equivalent to the U.A.E. In such circumstances, the eKYC system should be authorised for use in CDD. Further, the Relevant Person should undertake its own review to ensure that any use of the relevant eKYC System is appropriate and enables compliance with all Rules and Regulations applicable to the Relevant Person.\\n(c)\\tWhere a Relevant Person chooses to employ a third party to assist in its own assurance assessment of the eKYC System, it should ensure that a competent and independent firm with relevant expertise and resources be employed. The Relevant Person remains wholly responsible for the eKYC System\\u2019s compliance with, and any failure to meet, the Rules and Regulations applicable to the Relevant Person.\\n9.3.1B.Guidance.4. In complying with Rule \\u200e9.3.1, a Relevant Person should ensure that the service provider can be replaced with minimal disruption in the event the outsourcing arrangement is terminated.\\n9.3.1B.Guidance.5. An Authorised Person is also required to comply with the outsourcing obligations in GEN 3.3.31 and 3.3.32 and PRU 6.8. A Recognised Body is also required to comply with the outsourcing obligations in MIR 2.14.\\n9.3.2 Authorised Persons Providing Money Services\\n9.3.2.(1) An Authorised Person that is engaged in Providing Money Services must:\\n(b)\\tmaintain a complete, current and accurate register of all agents and members of its Group it uses to conduct its operations and make that register available to the Regulator upon request;\\n(c)\\tinclude all agents and members of its Group identified in (a) as part of its AML/TFS compliance programme and monitor the compliance of such agents and members of its Group with the requirements of its AML/TFS programme;\\n(d)\\tcomply with all AML/TFS requirements imposed in all jurisdictions within which it operates and ensure the compliance of its agents and members of its Group operating on its behalf with all AML/TFS requirements in the jurisdictions in which they are operating;\\n(e)\\twhen executing a Payment Transaction, assess and consider all relevant information, including information about the Payer and the Payee, including any beneficiary as may be applicable, and require its agents and members of its Group, as appropriate, to determine whether a Suspicious Activity/Transaction Report should be filed by it or its agents or a member of its Group; and\\n(f)\\twhere appropriate, ensure that the relevant equivalent of a Suspicious Activity/Transaction Report is filed in all other jurisdictions related to a suspicious Payment Transaction and make available to all authorities responsible for AML/TFS compliance all transaction information related to the suspicious transaction.\\n9.3.2.(2) An Authorised Person making an assessment under (1) must rely upon current sources of information when making such assessment and must keep adequate records concerning such assessments, including all sources and materials considered, for a period of at least six years.\\n9.3.2.Guidance \\nAgents directly facilitate the activities of Authorised Persons in servicing their clients, as distinct from other service providers that provide purely ancillary services, such as IT, facilities management etc. to an Authorised Person.\\n\\n\"\n"
     ]
    }
   ],
   "source": [
    "top_k = 10\n",
    "data_dir = \"bm25_relevant_passages_oracle_documents\"\n",
    "\n",
    "create = True\n",
    "def retrieve_top_passages(entry):\n",
    "    query = entry['previous_text']\n",
    "    all_passages = entry['oracle_documents_passages']\n",
    "    all_passages_text = [f\"{passage_arr[0]}\\n{passage_arr[1]}\" for passage_arr in all_passages]\n",
    "    corpus_tokens = bm25s.tokenize(all_passages_text, stopwords=\"en\", stemmer=stemmer)\n",
    "    retriever = bm25s.BM25()\n",
    "    retriever.index(corpus_tokens)\n",
    "    query_tokens = bm25s.tokenize(query, stemmer=stemmer)\n",
    "    local_top_k = top_k if top_k <= len(all_passages_text) else len(all_passages_text)\n",
    "\n",
    "    results, _ = retriever.retrieve(query_tokens, corpus=all_passages_text, k=local_top_k)\n",
    "    results = results.squeeze(0)\n",
    "    return {f\"top_{top_k}_passages\": results}  \n",
    "\n",
    "try:\n",
    "    if not create:\n",
    "        new_dataset = load_dataset(f\"ylkhayat/{workshop_hf_name}\", data_dir=data_dir)\n",
    "except:\n",
    "    print(f\"[!] {workshop_hf_name} not found in {data_dir}\")\n",
    "    create = True\n",
    "    \n",
    "if create or f\"top_{top_k}_passages\" not in current_chosen_dataset.column_names['train'] or f\"top_{top_k}_passages\" not in current_chosen_dataset.column_names['test']:\n",
    "    print(f\"[*] adding top_{top_k}_passages to {workshop_hf_name}\")\n",
    "    new_dataset = DatasetDict({split: current_chosen_dataset[split] for split in current_chosen_dataset.keys()})\n",
    "    new_dataset = new_dataset.map(retrieve_top_passages, num_proc=num_proc)\n",
    "    new_dataset.push_to_hub(f\"ylkhayat/{workshop_hf_name}\", data_dir=data_dir)\n",
    "else:\n",
    "    print(f\"[!] top_{top_k}_passages already exists in {workshop_hf_name}\")\n",
    "print(json.dumps(new_dataset['test'][0][f\"top_{top_k}_passages\"][0], indent=4)) "
   ]
  },
  {
   "cell_type": "markdown",
   "metadata": {},
   "source": [
    "# Create the Dense Oracle Setup"
   ]
  },
  {
   "cell_type": "markdown",
   "metadata": {},
   "source": [
    "# Create the Dense Setup"
   ]
  },
  {
   "cell_type": "code",
   "execution_count": null,
   "metadata": {},
   "outputs": [],
   "source": [
    "from transformers import AutoTokenizer, AutoModel\n",
    "from datasets import load_dataset, DatasetDict\n",
    "import torch\n",
    "import json\n",
    "import faiss\n",
    "import numpy as np\n",
    "\n",
    "top_k = 10\n",
    "\n",
    "encoder_name = \"jhu-clsp/LegalBERT-DPR-CLERC-ft\"\n",
    "tokenizer = AutoTokenizer.from_pretrained(encoder_name)\n",
    "model = AutoModel.from_pretrained(encoder_name)\n",
    "# model = torch.compile(model)\n",
    "device = torch.device(\"cuda:0\" if torch.cuda.is_available() else \"cpu\")\n",
    "model.to(device)\n",
    "\n",
    "clean_encoder_name = encoder_name.replace(\"/\", \"_\")\n",
    "data_dir = \"dense_oracle_passages_oracle_documents\"\n",
    "data_dir = f\"{data_dir}/{clean_encoder_name}\"\n",
    "\n",
    "def normalize_embeddings(embeddings):\n",
    "    return embeddings / torch.norm(embeddings, p=2, dim=1, keepdim=True)\n",
    "\n",
    "\n",
    "def embed_texts(texts, tokenizer, model):\n",
    "    inputs = tokenizer(texts, return_tensors=\"pt\", padding=True, truncation=True, max_length=model.config.max_position_embeddings).to(device)\n",
    "    attention_mask = inputs['attention_mask']\n",
    "    with torch.no_grad():\n",
    "        token_embeddings = model(**inputs).last_hidden_state\n",
    "        input_mask_expanded = attention_mask.unsqueeze(-1).expand(token_embeddings.size()).float()\n",
    "        sum_embeddings = torch.sum(token_embeddings * input_mask_expanded, dim=1)\n",
    "        sum_mask = torch.clamp(input_mask_expanded.sum(dim=1), min=1e-9)\n",
    "        embeddings = sum_embeddings / sum_mask\n",
    "    embeddings = normalize_embeddings(embeddings)\n",
    "    return embeddings\n",
    "\n",
    "\n",
    "def retrieve_top_passages_batch(entries):\n",
    "    all_queries = entries['gold_text']\n",
    "    all_passages_batch = entries['oracle_documents_passages']\n",
    "    all_passages_text = [passage[1] for passages in all_passages_batch for passage in passages]\n",
    "    query_embeddings = embed_texts(all_queries, tokenizer, model)  # Shape: (batch_size, dim)\n",
    "    passage_embeddings = embed_texts(all_passages_text, tokenizer, model)  # Shape: (total_passages, dim)\n",
    "    dim = passage_embeddings.size(1)\n",
    "    # index = faiss.IndexFlatL2(dim)\n",
    "    index = faiss.IndexFlatIP(dim)\n",
    "    index.add(passage_embeddings.cpu().numpy())  # FAISS requires NumPy arrays here\n",
    "    distances, indices = index.search(query_embeddings.cpu().numpy(), top_k)\n",
    "    top_passages_batch = [[all_passages_text[index] for index in index_arr] for index_arr in indices]\n",
    "    return {f\"top_{top_k}_passages\": top_passages_batch}\n",
    "\n",
    "try:\n",
    "    new_dataset = load_dataset(f\"ylkhayat/{workshop_hf_name}\", data_dir=data_dir)\n",
    "except:\n",
    "    print(f\"[!] {workshop_hf_name} not found in {data_dir}\")\n",
    "    create = True\n",
    "    \n",
    "\n",
    "if create or f\"top_{top_k}_passages\" not in current_chosen_dataset.column_names['train'] or f\"top_{top_k}_passages\" not in current_chosen_dataset.column_names['test']:\n",
    "    print(f\"[*] adding top_{top_k}_passages to {workshop_hf_name}\")\n",
    "    new_dataset = DatasetDict({split: current_chosen_dataset[split] for split in current_chosen_dataset.keys()})\n",
    "    new_dataset = new_dataset.map(\n",
    "        lambda batch: retrieve_top_passages_batch(batch),\n",
    "        batched=True,\n",
    "        batch_size=4\n",
    "    )\n",
    "    new_dataset.push_to_hub(f\"ylkhayat/{workshop_hf_name}\", data_dir=data_dir)\n",
    "else:\n",
    "    print(f\"[!] top_{top_k}_passages already exists in {workshop_hf_name}\")\n",
    "print(json.dumps(new_dataset['train'][0][f\"top_{top_k}_passages\"][0], indent=4))"
   ]
  },
  {
   "cell_type": "code",
   "execution_count": null,
   "metadata": {},
   "outputs": [],
   "source": [
    "\n",
    "dataset_bm25_oracle_passages_oracle_documents = load_dataset(f\"ylkhayat/{workshop_hf_name}\", data_dir=\"bm25_oracle_passages_oracle_documents\")\n",
    "print(\"===================================\")\n",
    "print(dataset_bm25_oracle_passages_oracle_documents['train'][0]['gold_text'])\n",
    "print(dataset_bm25_oracle_passages_oracle_documents['train'][0]['top_10_passages'][0])\n",
    "\n",
    "dataset_bm25_relevant_passages_oracle_documents = load_dataset(f\"ylkhayat/{workshop_hf_name}\", data_dir=\"bm25_relevant_passages_oracle_documents\")\n",
    "print(\"===================================\")\n",
    "print(dataset_bm25_relevant_passages_oracle_documents['train'][0]['previous_text'])\n",
    "print(dataset_bm25_relevant_passages_oracle_documents['train'][0]['top_10_passages'][0])\n",
    "\n",
    "dataset_dense_oracle_passages_oracle_documents = load_dataset(f\"ylkhayat/{workshop_hf_name}\", data_dir=\"dense_oracle_passages_oracle_documents\")\n",
    "print(\"===================================\")\n",
    "print(dataset_dense_oracle_passages_oracle_documents['train'][0]['gold_text'])\n",
    "print(dataset_dense_oracle_passages_oracle_documents['train'][0]['top_10_passages'][0])\n"
   ]
  },
  {
   "cell_type": "code",
   "execution_count": null,
   "metadata": {},
   "outputs": [],
   "source": [
    "# from transformers import AutoTokenizer, AutoModel\n",
    "# import torch\n",
    "# import faiss\n",
    "# import numpy as np\n",
    "\n",
    "# encoder_name = \"jhu-clsp/LegalBERT-DPR-CLERC-ft\"\n",
    "# tokenizer = AutoTokenizer.from_pretrained(encoder_name)\n",
    "# model = AutoModel.from_pretrained(encoder_name)\n",
    "# device = torch.device(\"cuda:0\" if torch.cuda.is_available() else \"cpu\")\n",
    "# model.to(device)\n",
    "\n",
    "# top_k = 10\n",
    "# data_dir = \"dense_oracle_passages_oracle_documents\"\n",
    "\n",
    "# def embed_passages(passages, tokenizer, model):\n",
    "#     inputs = tokenizer(passages, return_tensors=\"pt\", padding=True, truncation=True, max_length=model.config.max_position_embeddings).to(device)\n",
    "#     with torch.no_grad():\n",
    "#         embeddings = model(**inputs).pooler_output\n",
    "#     return embeddings.cpu().numpy()\n",
    "\n",
    "# def retrieve_top_passages(entry):\n",
    "#     query = entry['gold_text']\n",
    "#     all_passages = entry['oracle_documents_passages']\n",
    "#     all_passages_text = [f\"{passage_arr[0]}\\n{passage_arr[1]}\" for passage_arr in all_passages]\n",
    "    \n",
    "#     passage_embeddings = embed_passages(all_passages_text, tokenizer, model)\n",
    "#     query_embedding = embed_passages([query], tokenizer, model).squeeze(0)\n",
    "\n",
    "#     dim = passage_embeddings.shape[1]\n",
    "#     index = faiss.IndexFlatL2(dim)\n",
    "#     index.add(passage_embeddings)\n",
    "    \n",
    "#     # Retrieve top-k similar passages\n",
    "#     distances, indices = index.search(np.expand_dims(query_embedding, axis=0), top_k)\n",
    "#     top_passages = [all_passages_text[idx] for idx in indices[0]]\n",
    "    \n",
    "#     return {f\"top_{top_k}_passages\": top_passages}\n",
    "\n",
    "# try:\n",
    "#     workshop_hf_name = f\"CLERC-generation-workshop\"\n",
    "#     new_dataset = load_dataset(f\"ylkhayat/{workshop_hf_name}\", data_dir=data_dir)\n",
    "# except:\n",
    "#     print(f\"[!] {workshop_hf_name} not found in {data_dir}\")\n",
    "#     create = True\n",
    "    \n",
    "# if create or f\"top_{top_k}_passages\" not in current_chosen_dataset.column_names['train'] or f\"top_{top_k}_passages\" not in current_chosen_dataset.column_names['test']:\n",
    "#     print(f\"[*] adding top_{top_k}_passages to {workshop_hf_name}\")\n",
    "#     new_dataset = DatasetDict({split: current_chosen_dataset[split] for split in current_chosen_dataset.keys()})\n",
    "#     new_dataset = new_dataset.map(retrieve_top_passages, num_proc=num_proc)\n",
    "#     new_dataset.push_to_hub(f\"ylkhayat/{workshop_hf_name}\", data_dir=data_dir)\n",
    "# else:\n",
    "#     print(f\"[!] top_{top_k}_passages already exists in {workshop_hf_name}\")\n",
    "# print(json.dumps(new_dataset['train'][0][f\"top_{top_k}_passages\"][0], indent=4)) "
   ]
  }
 ],
 "metadata": {
  "kernelspec": {
   "display_name": "retrieval",
   "language": "python",
   "name": "python3"
  },
  "language_info": {
   "codemirror_mode": {
    "name": "ipython",
    "version": 3
   },
   "file_extension": ".py",
   "mimetype": "text/x-python",
   "name": "python",
   "nbconvert_exporter": "python",
   "pygments_lexer": "ipython3",
   "version": "3.10.15"
  }
 },
 "nbformat": 4,
 "nbformat_minor": 2
}
