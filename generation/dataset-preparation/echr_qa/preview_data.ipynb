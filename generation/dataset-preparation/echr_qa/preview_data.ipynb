{
 "cells": [
  {
   "cell_type": "code",
   "execution_count": null,
   "metadata": {},
   "outputs": [],
   "source": [
    "from datasets import load_dataset\n",
    "\n",
    "workshop_hf_name = \"ylkhayat/{dataset_name}-generation-workshop\"\n",
    "split = \"test\"\n",
    "setup = \"bm25_relevant_passages_oracle_documents\"\n",
    "dataset_repo_name_prefix = \"ECHR_QA\"\n",
    "workshop_hf_name = workshop_hf_name.format(dataset_name=dataset_repo_name_prefix)\n",
    "url=f\"https://huggingface.co/datasets/{workshop_hf_name}/resolve/main/{setup}/\"\n",
    "current_dataset = load_dataset(\"parquet\", data_files={split: f\"{url}{split}*.parquet\"})[split]"
   ]
  },
  {
   "cell_type": "code",
   "execution_count": null,
   "metadata": {},
   "outputs": [],
   "source": [
    "import json\n",
    "\n",
    "\n",
    "print(json.dumps({\n",
    "    \"top_10_passages\": current_dataset[3][\"top_10_passages\"],\n",
    "    \"citations\": current_dataset[3][\"citations\"],\n",
    "    \"gold_text\": current_dataset[3][\"gold_text\"],\n",
    "    \"previous_text\": current_dataset[3][\"previous_text\"]\n",
    "}, indent=2))"
   ]
  },
  {
   "cell_type": "code",
   "execution_count": null,
   "metadata": {},
   "outputs": [],
   "source": []
  }
 ],
 "metadata": {
  "kernelspec": {
   "display_name": "retrieval",
   "language": "python",
   "name": "python3"
  },
  "language_info": {
   "codemirror_mode": {
    "name": "ipython",
    "version": 3
   },
   "file_extension": ".py",
   "mimetype": "text/x-python",
   "name": "python",
   "nbconvert_exporter": "python",
   "pygments_lexer": "ipython3",
   "version": "3.10.15"
  }
 },
 "nbformat": 4,
 "nbformat_minor": 2
}
