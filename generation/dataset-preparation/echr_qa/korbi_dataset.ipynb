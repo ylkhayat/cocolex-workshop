{
 "cells": [
  {
   "cell_type": "code",
   "execution_count": 1,
   "metadata": {},
   "outputs": [],
   "source": [
    "from datasets import load_dataset\n",
    "\n",
    "# path = \"https://drive.usercontent.google.com/download?id=11EqyBH_hV35g44GVeLSyWpgVLy59J2QC&export=download&authuser=0\"\n",
    "# korbi_ds = load_dataset(\"webdataset\", data_files={\"train\": path}, split=\"train\")"
   ]
  },
  {
   "cell_type": "code",
   "execution_count": 2,
   "metadata": {},
   "outputs": [],
   "source": [
    "# !gdown --id 11EqyBH_hV35g44GVeLSyWpgVLy59J2QC"
   ]
  },
  {
   "cell_type": "code",
   "execution_count": 1,
   "metadata": {},
   "outputs": [],
   "source": [
    "# import pandas as pd\n",
    "# import tarfile\n",
    "\n",
    "\n",
    "# tar_path = '../data/echr-embeddings.tar.gz'\n",
    "\n",
    "# # Open the tar.gz file\n",
    "# with tarfile.open(tar_path, 'r:gz') as tar:\n",
    "#     tar.extractall()\n",
    "\n",
    "\n"
   ]
  },
  {
   "cell_type": "code",
   "execution_count": null,
   "metadata": {},
   "outputs": [],
   "source": [
    "# !pip install chromadb"
   ]
  },
  {
   "cell_type": "code",
   "execution_count": null,
   "metadata": {},
   "outputs": [],
   "source": [
    "import chromadb\n",
    "client = chromadb.PersistentClient(path=\"echr-qa-experiments/data/chroma_gtr_t5_xl_db\")"
   ]
  },
  {
   "cell_type": "code",
   "execution_count": null,
   "metadata": {},
   "outputs": [],
   "source": [
    "collections = client.list_collections()\n",
    "print(\"Collections in the database:\")\n",
    "for collection in collections:\n",
    "    print(f\"- {collection.name}\")\n",
    "    "
   ]
  },
  {
   "cell_type": "code",
   "execution_count": 3,
   "metadata": {},
   "outputs": [],
   "source": [
    "collection_name = collections[0].name  # Or specify the collection name directly\n",
    "collection = client.get_collection(name=collection_name)\n",
    "\n",
    "# Retrieve all items in the collection (be cautious if the collection is large)\n",
    "results = collection.get()"
   ]
  },
  {
   "cell_type": "code",
   "execution_count": null,
   "metadata": {},
   "outputs": [],
   "source": [
    "results.keys()"
   ]
  },
  {
   "cell_type": "code",
   "execution_count": null,
   "metadata": {},
   "outputs": [],
   "source": [
    "import pandas as pd\n",
    "\n",
    "# Prepare data for the DataFrame\n",
    "data = {\n",
    "    'id': results['ids'],\n",
    "    'document': results.get('documents', [None] * len(results['ids'])),\n",
    "    'embedding': results.get('embeddings', [None] * len(results['ids'])),\n",
    "    'metadata': results.get('metadatas', [None] * len(results['ids'])),\n",
    "    \n",
    "}\n",
    "\n",
    "df = pd.DataFrame(data)\n",
    "df.head(1)"
   ]
  },
  {
   "cell_type": "code",
   "execution_count": null,
   "metadata": {},
   "outputs": [],
   "source": [
    "df.head(10)"
   ]
  },
  {
   "cell_type": "code",
   "execution_count": 7,
   "metadata": {},
   "outputs": [],
   "source": [
    "from tqdm import tqdm\n",
    "import json\n",
    "import pandas as pd\n",
    "import re\n",
    "\n",
    "metadata_df = pd.json_normalize(df['metadata'])\n",
    "df = pd.concat([df.drop('metadata', axis=1), metadata_df], axis=1)"
   ]
  },
  {
   "cell_type": "code",
   "execution_count": 8,
   "metadata": {},
   "outputs": [],
   "source": [
    "df.sort_values(by=['case_id', 'paragraph_number'], inplace=True)\n",
    "\n",
    "cases = []\n",
    "grouped = df.groupby('case_id')"
   ]
  },
  {
   "cell_type": "code",
   "execution_count": null,
   "metadata": {},
   "outputs": [],
   "source": [
    "for case_id, group in tqdm(grouped):\n",
    "    case_name = group['case_name'].iloc[0]\n",
    "    paragraphs = []\n",
    "    \n",
    "    for i, (_, row) in enumerate(group.iterrows()):\n",
    "        print(row['document'])\n",
    "        if i == 20:\n",
    "            break\n",
    "    break"
   ]
  },
  {
   "cell_type": "code",
   "execution_count": null,
   "metadata": {},
   "outputs": [],
   "source": [
    "for case_id, group in tqdm(grouped):\n",
    "    case_name = group['case_name'].iloc[0]\n",
    "    paragraphs = []\n",
    "    \n",
    "    for i, (_, row) in enumerate(group.iterrows()):\n",
    "        document = row['document']\n",
    "        if i == 0:\n",
    "            paragraphs.append(document)\n",
    "        else:\n",
    "            pattern = r'^.*?§\\s*'\n",
    "            document_cleaned = re.sub('^' + pattern, '', document)\n",
    "            paragraphs.append(document_cleaned)\n",
    "    cases.append({'case_id': case_id, 'paragraphs': paragraphs})"
   ]
  },
  {
   "cell_type": "code",
   "execution_count": 11,
   "metadata": {},
   "outputs": [],
   "source": [
    "# Save the results to a JSONL file\n",
    "with open('cases_paragraphs.jsonl', 'w', encoding='utf-8') as f:\n",
    "    for case in cases:\n",
    "        f.write(json.dumps(case) + '\\n')"
   ]
  },
  {
   "cell_type": "code",
   "execution_count": null,
   "metadata": {},
   "outputs": [],
   "source": [
    "cases[0]"
   ]
  },
  {
   "cell_type": "code",
   "execution_count": null,
   "metadata": {},
   "outputs": [],
   "source": []
  }
 ],
 "metadata": {
  "kernelspec": {
   "display_name": "retrieval",
   "language": "python",
   "name": "python3"
  },
  "language_info": {
   "codemirror_mode": {
    "name": "ipython",
    "version": 3
   },
   "file_extension": ".py",
   "mimetype": "text/x-python",
   "name": "python",
   "nbconvert_exporter": "python",
   "pygments_lexer": "ipython3",
   "version": "3.10.15"
  }
 },
 "nbformat": 4,
 "nbformat_minor": 2
}
