{
 "cells": [
  {
   "cell_type": "code",
   "execution_count": 1,
   "metadata": {},
   "outputs": [],
   "source": [
    "from datasets import load_dataset\n",
    "\n",
    "# path = \"https://drive.usercontent.google.com/download?id=11EqyBH_hV35g44GVeLSyWpgVLy59J2QC&export=download&authuser=0\"\n",
    "# korbi_ds = load_dataset(\"webdataset\", data_files={\"train\": path}, split=\"train\")"
   ]
  },
  {
   "cell_type": "code",
   "execution_count": 2,
   "metadata": {},
   "outputs": [],
   "source": [
    "# !gdown --id 11EqyBH_hV35g44GVeLSyWpgVLy59J2QC"
   ]
  },
  {
   "cell_type": "code",
   "execution_count": 1,
   "metadata": {},
   "outputs": [],
   "source": [
    "import pandas as pd\n",
    "import tarfile\n",
    "\n",
    "\n",
    "tar_path = '../data/echr-embeddings.tar.gz'\n",
    "\n",
    "# Open the tar.gz file\n",
    "with tarfile.open(tar_path, 'r:gz') as tar:\n",
    "    tar.extractall()\n",
    "\n",
    "\n"
   ]
  },
  {
   "cell_type": "code",
   "execution_count": 3,
   "metadata": {},
   "outputs": [
    {
     "name": "stdout",
     "output_type": "stream",
     "text": [
      "Collecting chromadb\n",
      "  Downloading chromadb-0.5.21-py3-none-any.whl.metadata (6.8 kB)\n",
      "Collecting build>=1.0.3 (from chromadb)\n",
      "  Downloading build-1.2.2.post1-py3-none-any.whl.metadata (6.5 kB)\n",
      "Requirement already satisfied: pydantic>=1.9 in /srv/elkhyo/anaconda3/envs/retrieval/lib/python3.10/site-packages (from chromadb) (2.10.2)\n",
      "Collecting chroma-hnswlib==0.7.6 (from chromadb)\n",
      "  Downloading chroma_hnswlib-0.7.6-cp310-cp310-manylinux_2_17_x86_64.manylinux2014_x86_64.whl.metadata (252 bytes)\n",
      "Collecting fastapi>=0.95.2 (from chromadb)\n",
      "  Downloading fastapi-0.115.6-py3-none-any.whl.metadata (27 kB)\n",
      "Collecting uvicorn>=0.18.3 (from uvicorn[standard]>=0.18.3->chromadb)\n",
      "  Using cached uvicorn-0.32.1-py3-none-any.whl.metadata (6.6 kB)\n",
      "Requirement already satisfied: numpy>=1.22.5 in /srv/elkhyo/anaconda3/envs/retrieval/lib/python3.10/site-packages (from chromadb) (1.26.4)\n",
      "Collecting posthog>=2.4.0 (from chromadb)\n",
      "  Downloading posthog-3.7.4-py2.py3-none-any.whl.metadata (2.0 kB)\n",
      "Requirement already satisfied: typing_extensions>=4.5.0 in /srv/elkhyo/anaconda3/envs/retrieval/lib/python3.10/site-packages (from chromadb) (4.12.2)\n",
      "Requirement already satisfied: onnxruntime>=1.14.1 in /srv/elkhyo/anaconda3/envs/retrieval/lib/python3.10/site-packages (from chromadb) (1.20.0)\n",
      "Collecting opentelemetry-api>=1.2.0 (from chromadb)\n",
      "  Downloading opentelemetry_api-1.28.2-py3-none-any.whl.metadata (1.4 kB)\n",
      "Collecting opentelemetry-exporter-otlp-proto-grpc>=1.2.0 (from chromadb)\n",
      "  Downloading opentelemetry_exporter_otlp_proto_grpc-1.28.2-py3-none-any.whl.metadata (2.2 kB)\n",
      "Collecting opentelemetry-instrumentation-fastapi>=0.41b0 (from chromadb)\n",
      "  Downloading opentelemetry_instrumentation_fastapi-0.49b2-py3-none-any.whl.metadata (2.1 kB)\n",
      "Collecting opentelemetry-sdk>=1.2.0 (from chromadb)\n",
      "  Downloading opentelemetry_sdk-1.28.2-py3-none-any.whl.metadata (1.5 kB)\n",
      "Requirement already satisfied: tokenizers<=0.20.3,>=0.13.2 in /srv/elkhyo/anaconda3/envs/retrieval/lib/python3.10/site-packages (from chromadb) (0.20.1)\n",
      "Collecting pypika>=0.48.9 (from chromadb)\n",
      "  Downloading PyPika-0.48.9.tar.gz (67 kB)\n",
      "  Installing build dependencies ... \u001b[?25ldone\n",
      "\u001b[?25h  Getting requirements to build wheel ... \u001b[?25ldone\n",
      "\u001b[?25h  Preparing metadata (pyproject.toml) ... \u001b[?25ldone\n",
      "\u001b[?25hRequirement already satisfied: tqdm>=4.65.0 in /srv/elkhyo/anaconda3/envs/retrieval/lib/python3.10/site-packages (from chromadb) (4.66.5)\n",
      "Requirement already satisfied: overrides>=7.3.1 in /srv/elkhyo/anaconda3/envs/retrieval/lib/python3.10/site-packages (from chromadb) (7.4.0)\n",
      "Collecting importlib-resources (from chromadb)\n",
      "  Downloading importlib_resources-6.4.5-py3-none-any.whl.metadata (4.0 kB)\n",
      "Collecting grpcio>=1.58.0 (from chromadb)\n",
      "  Downloading grpcio-1.68.1-cp310-cp310-manylinux_2_17_x86_64.manylinux2014_x86_64.whl.metadata (3.9 kB)\n",
      "Collecting bcrypt>=4.0.1 (from chromadb)\n",
      "  Downloading bcrypt-4.2.1-cp39-abi3-manylinux_2_28_x86_64.whl.metadata (9.8 kB)\n",
      "Requirement already satisfied: typer>=0.9.0 in /srv/elkhyo/anaconda3/envs/retrieval/lib/python3.10/site-packages (from chromadb) (0.14.0)\n",
      "Collecting kubernetes>=28.1.0 (from chromadb)\n",
      "  Downloading kubernetes-31.0.0-py2.py3-none-any.whl.metadata (1.5 kB)\n",
      "Requirement already satisfied: tenacity>=8.2.3 in /srv/elkhyo/anaconda3/envs/retrieval/lib/python3.10/site-packages (from chromadb) (8.2.3)\n",
      "Requirement already satisfied: PyYAML>=6.0.0 in /srv/elkhyo/anaconda3/envs/retrieval/lib/python3.10/site-packages (from chromadb) (6.0.2)\n",
      "Collecting mmh3>=4.0.1 (from chromadb)\n",
      "  Downloading mmh3-5.0.1-cp310-cp310-manylinux_2_5_x86_64.manylinux1_x86_64.manylinux_2_17_x86_64.manylinux2014_x86_64.whl.metadata (14 kB)\n",
      "Collecting orjson>=3.9.12 (from chromadb)\n",
      "  Downloading orjson-3.10.12-cp310-cp310-manylinux_2_17_x86_64.manylinux2014_x86_64.whl.metadata (41 kB)\n",
      "Requirement already satisfied: httpx>=0.27.0 in /srv/elkhyo/anaconda3/envs/retrieval/lib/python3.10/site-packages (from chromadb) (0.27.0)\n",
      "Requirement already satisfied: rich>=10.11.0 in /home/elkhyo/.local/lib/python3.10/site-packages (from chromadb) (13.9.2)\n",
      "Requirement already satisfied: packaging>=19.1 in /srv/elkhyo/anaconda3/envs/retrieval/lib/python3.10/site-packages (from build>=1.0.3->chromadb) (24.1)\n",
      "Collecting pyproject_hooks (from build>=1.0.3->chromadb)\n",
      "  Downloading pyproject_hooks-1.2.0-py3-none-any.whl.metadata (1.3 kB)\n",
      "Requirement already satisfied: tomli>=1.1.0 in /home/elkhyo/.local/lib/python3.10/site-packages (from build>=1.0.3->chromadb) (2.0.2)\n",
      "Collecting starlette<0.42.0,>=0.40.0 (from fastapi>=0.95.2->chromadb)\n",
      "  Using cached starlette-0.41.3-py3-none-any.whl.metadata (6.0 kB)\n",
      "Requirement already satisfied: anyio in /srv/elkhyo/anaconda3/envs/retrieval/lib/python3.10/site-packages (from httpx>=0.27.0->chromadb) (4.6.2)\n",
      "Requirement already satisfied: certifi in /srv/elkhyo/anaconda3/envs/retrieval/lib/python3.10/site-packages (from httpx>=0.27.0->chromadb) (2024.8.30)\n",
      "Requirement already satisfied: httpcore==1.* in /srv/elkhyo/anaconda3/envs/retrieval/lib/python3.10/site-packages (from httpx>=0.27.0->chromadb) (1.0.2)\n",
      "Requirement already satisfied: idna in /srv/elkhyo/anaconda3/envs/retrieval/lib/python3.10/site-packages (from httpx>=0.27.0->chromadb) (3.7)\n",
      "Requirement already satisfied: sniffio in /srv/elkhyo/anaconda3/envs/retrieval/lib/python3.10/site-packages (from httpx>=0.27.0->chromadb) (1.3.0)\n",
      "Requirement already satisfied: h11<0.15,>=0.13 in /home/elkhyo/.local/lib/python3.10/site-packages (from httpcore==1.*->httpx>=0.27.0->chromadb) (0.14.0)\n",
      "Requirement already satisfied: six>=1.9.0 in /srv/elkhyo/anaconda3/envs/retrieval/lib/python3.10/site-packages (from kubernetes>=28.1.0->chromadb) (1.16.0)\n",
      "Requirement already satisfied: python-dateutil>=2.5.3 in /srv/elkhyo/anaconda3/envs/retrieval/lib/python3.10/site-packages (from kubernetes>=28.1.0->chromadb) (2.9.0.post0)\n",
      "Requirement already satisfied: google-auth>=1.0.1 in /srv/elkhyo/anaconda3/envs/retrieval/lib/python3.10/site-packages (from kubernetes>=28.1.0->chromadb) (2.35.0)\n",
      "Requirement already satisfied: websocket-client!=0.40.0,!=0.41.*,!=0.42.*,>=0.32.0 in /srv/elkhyo/anaconda3/envs/retrieval/lib/python3.10/site-packages (from kubernetes>=28.1.0->chromadb) (1.8.0)\n",
      "Requirement already satisfied: requests in /home/elkhyo/.local/lib/python3.10/site-packages (from kubernetes>=28.1.0->chromadb) (2.32.3)\n",
      "Requirement already satisfied: requests-oauthlib in /srv/elkhyo/anaconda3/envs/retrieval/lib/python3.10/site-packages (from kubernetes>=28.1.0->chromadb) (2.0.0)\n",
      "Requirement already satisfied: oauthlib>=3.2.2 in /srv/elkhyo/anaconda3/envs/retrieval/lib/python3.10/site-packages (from kubernetes>=28.1.0->chromadb) (3.2.2)\n",
      "Requirement already satisfied: urllib3>=1.24.2 in /srv/elkhyo/anaconda3/envs/retrieval/lib/python3.10/site-packages (from kubernetes>=28.1.0->chromadb) (2.2.3)\n",
      "Collecting durationpy>=0.7 (from kubernetes>=28.1.0->chromadb)\n",
      "  Downloading durationpy-0.9-py3-none-any.whl.metadata (338 bytes)\n",
      "Requirement already satisfied: coloredlogs in /srv/elkhyo/anaconda3/envs/retrieval/lib/python3.10/site-packages (from onnxruntime>=1.14.1->chromadb) (15.0.1)\n",
      "Requirement already satisfied: flatbuffers in /srv/elkhyo/anaconda3/envs/retrieval/lib/python3.10/site-packages (from onnxruntime>=1.14.1->chromadb) (24.3.25)\n",
      "Requirement already satisfied: protobuf in /srv/elkhyo/anaconda3/envs/retrieval/lib/python3.10/site-packages (from onnxruntime>=1.14.1->chromadb) (4.25.3)\n",
      "Requirement already satisfied: sympy in /srv/elkhyo/anaconda3/envs/retrieval/lib/python3.10/site-packages (from onnxruntime>=1.14.1->chromadb) (1.13.1)\n",
      "Collecting deprecated>=1.2.6 (from opentelemetry-api>=1.2.0->chromadb)\n",
      "  Downloading Deprecated-1.2.15-py2.py3-none-any.whl.metadata (5.5 kB)\n",
      "Requirement already satisfied: importlib-metadata<=8.5.0,>=6.0 in /srv/elkhyo/anaconda3/envs/retrieval/lib/python3.10/site-packages (from opentelemetry-api>=1.2.0->chromadb) (7.0.1)\n",
      "Collecting googleapis-common-protos~=1.52 (from opentelemetry-exporter-otlp-proto-grpc>=1.2.0->chromadb)\n",
      "  Downloading googleapis_common_protos-1.66.0-py2.py3-none-any.whl.metadata (1.5 kB)\n",
      "Collecting opentelemetry-exporter-otlp-proto-common==1.28.2 (from opentelemetry-exporter-otlp-proto-grpc>=1.2.0->chromadb)\n",
      "  Downloading opentelemetry_exporter_otlp_proto_common-1.28.2-py3-none-any.whl.metadata (1.8 kB)\n",
      "Collecting opentelemetry-proto==1.28.2 (from opentelemetry-exporter-otlp-proto-grpc>=1.2.0->chromadb)\n",
      "  Downloading opentelemetry_proto-1.28.2-py3-none-any.whl.metadata (2.3 kB)\n",
      "Collecting protobuf (from onnxruntime>=1.14.1->chromadb)\n",
      "  Downloading protobuf-5.29.1-cp38-abi3-manylinux2014_x86_64.whl.metadata (592 bytes)\n",
      "Collecting opentelemetry-instrumentation-asgi==0.49b2 (from opentelemetry-instrumentation-fastapi>=0.41b0->chromadb)\n",
      "  Downloading opentelemetry_instrumentation_asgi-0.49b2-py3-none-any.whl.metadata (1.9 kB)\n",
      "Collecting opentelemetry-instrumentation==0.49b2 (from opentelemetry-instrumentation-fastapi>=0.41b0->chromadb)\n",
      "  Downloading opentelemetry_instrumentation-0.49b2-py3-none-any.whl.metadata (6.1 kB)\n",
      "Collecting opentelemetry-semantic-conventions==0.49b2 (from opentelemetry-instrumentation-fastapi>=0.41b0->chromadb)\n",
      "  Downloading opentelemetry_semantic_conventions-0.49b2-py3-none-any.whl.metadata (2.3 kB)\n",
      "Collecting opentelemetry-util-http==0.49b2 (from opentelemetry-instrumentation-fastapi>=0.41b0->chromadb)\n",
      "  Downloading opentelemetry_util_http-0.49b2-py3-none-any.whl.metadata (2.5 kB)\n",
      "Requirement already satisfied: wrapt<2.0.0,>=1.0.0 in /home/elkhyo/.local/lib/python3.10/site-packages (from opentelemetry-instrumentation==0.49b2->opentelemetry-instrumentation-fastapi>=0.41b0->chromadb) (1.16.0)\n",
      "Collecting asgiref~=3.0 (from opentelemetry-instrumentation-asgi==0.49b2->opentelemetry-instrumentation-fastapi>=0.41b0->chromadb)\n",
      "  Downloading asgiref-3.8.1-py3-none-any.whl.metadata (9.3 kB)\n",
      "Collecting monotonic>=1.5 (from posthog>=2.4.0->chromadb)\n",
      "  Downloading monotonic-1.6-py2.py3-none-any.whl.metadata (1.5 kB)\n",
      "Collecting backoff>=1.10.0 (from posthog>=2.4.0->chromadb)\n",
      "  Downloading backoff-2.2.1-py3-none-any.whl.metadata (14 kB)\n",
      "Requirement already satisfied: annotated-types>=0.6.0 in /srv/elkhyo/anaconda3/envs/retrieval/lib/python3.10/site-packages (from pydantic>=1.9->chromadb) (0.7.0)\n",
      "Requirement already satisfied: pydantic-core==2.27.1 in /srv/elkhyo/anaconda3/envs/retrieval/lib/python3.10/site-packages (from pydantic>=1.9->chromadb) (2.27.1)\n",
      "Requirement already satisfied: markdown-it-py>=2.2.0 in /home/elkhyo/.local/lib/python3.10/site-packages (from rich>=10.11.0->chromadb) (3.0.0)\n",
      "Requirement already satisfied: pygments<3.0.0,>=2.13.0 in /srv/elkhyo/anaconda3/envs/retrieval/lib/python3.10/site-packages (from rich>=10.11.0->chromadb) (2.15.1)\n",
      "Requirement already satisfied: huggingface-hub<1.0,>=0.16.4 in /srv/elkhyo/anaconda3/envs/retrieval/lib/python3.10/site-packages (from tokenizers<=0.20.3,>=0.13.2->chromadb) (0.26.2)\n",
      "Requirement already satisfied: click>=8.0.0 in /srv/elkhyo/anaconda3/envs/retrieval/lib/python3.10/site-packages (from typer>=0.9.0->chromadb) (8.1.7)\n",
      "Requirement already satisfied: shellingham>=1.3.0 in /home/elkhyo/.local/lib/python3.10/site-packages (from typer>=0.9.0->chromadb) (1.5.4)\n",
      "Collecting httptools>=0.6.3 (from uvicorn[standard]>=0.18.3->chromadb)\n",
      "  Using cached httptools-0.6.4-cp310-cp310-manylinux_2_5_x86_64.manylinux1_x86_64.manylinux_2_17_x86_64.manylinux2014_x86_64.whl.metadata (3.6 kB)\n",
      "Collecting python-dotenv>=0.13 (from uvicorn[standard]>=0.18.3->chromadb)\n",
      "  Using cached python_dotenv-1.0.1-py3-none-any.whl.metadata (23 kB)\n",
      "Collecting uvloop!=0.15.0,!=0.15.1,>=0.14.0 (from uvicorn[standard]>=0.18.3->chromadb)\n",
      "  Using cached uvloop-0.21.0-cp310-cp310-manylinux_2_17_x86_64.manylinux2014_x86_64.whl.metadata (4.9 kB)\n",
      "Collecting watchfiles>=0.13 (from uvicorn[standard]>=0.18.3->chromadb)\n",
      "  Downloading watchfiles-1.0.0-cp310-cp310-manylinux_2_17_x86_64.manylinux2014_x86_64.whl.metadata (4.9 kB)\n",
      "Collecting websockets>=10.4 (from uvicorn[standard]>=0.18.3->chromadb)\n",
      "  Using cached websockets-14.1-cp310-cp310-manylinux_2_5_x86_64.manylinux1_x86_64.manylinux_2_17_x86_64.manylinux2014_x86_64.whl.metadata (6.7 kB)\n",
      "Requirement already satisfied: cachetools<6.0,>=2.0.0 in /srv/elkhyo/anaconda3/envs/retrieval/lib/python3.10/site-packages (from google-auth>=1.0.1->kubernetes>=28.1.0->chromadb) (5.3.3)\n",
      "Requirement already satisfied: pyasn1-modules>=0.2.1 in /srv/elkhyo/anaconda3/envs/retrieval/lib/python3.10/site-packages (from google-auth>=1.0.1->kubernetes>=28.1.0->chromadb) (0.2.8)\n",
      "Requirement already satisfied: rsa<5,>=3.1.4 in /srv/elkhyo/anaconda3/envs/retrieval/lib/python3.10/site-packages (from google-auth>=1.0.1->kubernetes>=28.1.0->chromadb) (4.9)\n",
      "Requirement already satisfied: filelock in /home/elkhyo/.local/lib/python3.10/site-packages (from huggingface-hub<1.0,>=0.16.4->tokenizers<=0.20.3,>=0.13.2->chromadb) (3.13.1)\n",
      "Requirement already satisfied: fsspec>=2023.5.0 in /srv/elkhyo/anaconda3/envs/retrieval/lib/python3.10/site-packages (from huggingface-hub<1.0,>=0.16.4->tokenizers<=0.20.3,>=0.13.2->chromadb) (2024.6.1)\n",
      "Requirement already satisfied: zipp>=0.5 in /srv/elkhyo/anaconda3/envs/retrieval/lib/python3.10/site-packages (from importlib-metadata<=8.5.0,>=6.0->opentelemetry-api>=1.2.0->chromadb) (3.20.2)\n",
      "Requirement already satisfied: mdurl~=0.1 in /home/elkhyo/.local/lib/python3.10/site-packages (from markdown-it-py>=2.2.0->rich>=10.11.0->chromadb) (0.1.2)\n",
      "Requirement already satisfied: charset-normalizer<4,>=2 in /home/elkhyo/.local/lib/python3.10/site-packages (from requests->kubernetes>=28.1.0->chromadb) (3.4.0)\n",
      "Requirement already satisfied: exceptiongroup>=1.0.2 in /srv/elkhyo/anaconda3/envs/retrieval/lib/python3.10/site-packages (from anyio->httpx>=0.27.0->chromadb) (1.2.0)\n",
      "Requirement already satisfied: humanfriendly>=9.1 in /srv/elkhyo/anaconda3/envs/retrieval/lib/python3.10/site-packages (from coloredlogs->onnxruntime>=1.14.1->chromadb) (10.0)\n",
      "Requirement already satisfied: mpmath<1.4,>=1.1.0 in /home/elkhyo/.local/lib/python3.10/site-packages (from sympy->onnxruntime>=1.14.1->chromadb) (1.3.0)\n",
      "Requirement already satisfied: pyasn1<0.5.0,>=0.4.6 in /srv/elkhyo/anaconda3/envs/retrieval/lib/python3.10/site-packages (from pyasn1-modules>=0.2.1->google-auth>=1.0.1->kubernetes>=28.1.0->chromadb) (0.4.8)\n",
      "Downloading chromadb-0.5.21-py3-none-any.whl (628 kB)\n",
      "\u001b[2K   \u001b[90m━━━━━━━━━━━━━━━━━━━━━━━━━━━━━━━━━━━━━━━━\u001b[0m \u001b[32m628.3/628.3 kB\u001b[0m \u001b[31m4.1 MB/s\u001b[0m eta \u001b[36m0:00:00\u001b[0m\n",
      "\u001b[?25hDownloading chroma_hnswlib-0.7.6-cp310-cp310-manylinux_2_17_x86_64.manylinux2014_x86_64.whl (2.4 MB)\n",
      "\u001b[2K   \u001b[90m━━━━━━━━━━━━━━━━━━━━━━━━━━━━━━━━━━━━━━━━\u001b[0m \u001b[32m2.4/2.4 MB\u001b[0m \u001b[31m15.7 MB/s\u001b[0m eta \u001b[36m0:00:00\u001b[0m\n",
      "\u001b[?25hDownloading bcrypt-4.2.1-cp39-abi3-manylinux_2_28_x86_64.whl (278 kB)\n",
      "Downloading build-1.2.2.post1-py3-none-any.whl (22 kB)\n",
      "Downloading fastapi-0.115.6-py3-none-any.whl (94 kB)\n",
      "Downloading grpcio-1.68.1-cp310-cp310-manylinux_2_17_x86_64.manylinux2014_x86_64.whl (5.9 MB)\n",
      "\u001b[2K   \u001b[90m━━━━━━━━━━━━━━━━━━━━━━━━━━━━━━━━━━━━━━━━\u001b[0m \u001b[32m5.9/5.9 MB\u001b[0m \u001b[31m29.2 MB/s\u001b[0m eta \u001b[36m0:00:00\u001b[0m\n",
      "\u001b[?25hDownloading kubernetes-31.0.0-py2.py3-none-any.whl (1.9 MB)\n",
      "\u001b[2K   \u001b[90m━━━━━━━━━━━━━━━━━━━━━━━━━━━━━━━━━━━━━━━━\u001b[0m \u001b[32m1.9/1.9 MB\u001b[0m \u001b[31m13.6 MB/s\u001b[0m eta \u001b[36m0:00:00\u001b[0m\n",
      "\u001b[?25hDownloading mmh3-5.0.1-cp310-cp310-manylinux_2_5_x86_64.manylinux1_x86_64.manylinux_2_17_x86_64.manylinux2014_x86_64.whl (93 kB)\n",
      "Downloading opentelemetry_api-1.28.2-py3-none-any.whl (64 kB)\n",
      "Downloading opentelemetry_exporter_otlp_proto_grpc-1.28.2-py3-none-any.whl (18 kB)\n",
      "Downloading opentelemetry_exporter_otlp_proto_common-1.28.2-py3-none-any.whl (18 kB)\n",
      "Downloading opentelemetry_proto-1.28.2-py3-none-any.whl (55 kB)\n",
      "Downloading opentelemetry_instrumentation_fastapi-0.49b2-py3-none-any.whl (12 kB)\n",
      "Downloading opentelemetry_instrumentation-0.49b2-py3-none-any.whl (30 kB)\n",
      "Downloading opentelemetry_instrumentation_asgi-0.49b2-py3-none-any.whl (16 kB)\n",
      "Downloading opentelemetry_semantic_conventions-0.49b2-py3-none-any.whl (159 kB)\n",
      "Downloading opentelemetry_util_http-0.49b2-py3-none-any.whl (6.9 kB)\n",
      "Downloading opentelemetry_sdk-1.28.2-py3-none-any.whl (118 kB)\n",
      "Downloading orjson-3.10.12-cp310-cp310-manylinux_2_17_x86_64.manylinux2014_x86_64.whl (131 kB)\n",
      "Downloading posthog-3.7.4-py2.py3-none-any.whl (54 kB)\n",
      "Using cached uvicorn-0.32.1-py3-none-any.whl (63 kB)\n",
      "Downloading importlib_resources-6.4.5-py3-none-any.whl (36 kB)\n",
      "Downloading backoff-2.2.1-py3-none-any.whl (15 kB)\n",
      "Downloading Deprecated-1.2.15-py2.py3-none-any.whl (9.9 kB)\n",
      "Downloading durationpy-0.9-py3-none-any.whl (3.5 kB)\n",
      "Downloading googleapis_common_protos-1.66.0-py2.py3-none-any.whl (221 kB)\n",
      "Using cached httptools-0.6.4-cp310-cp310-manylinux_2_5_x86_64.manylinux1_x86_64.manylinux_2_17_x86_64.manylinux2014_x86_64.whl (442 kB)\n",
      "Downloading monotonic-1.6-py2.py3-none-any.whl (8.2 kB)\n",
      "Downloading protobuf-5.29.1-cp38-abi3-manylinux2014_x86_64.whl (319 kB)\n",
      "Using cached python_dotenv-1.0.1-py3-none-any.whl (19 kB)\n",
      "Using cached starlette-0.41.3-py3-none-any.whl (73 kB)\n",
      "Using cached uvloop-0.21.0-cp310-cp310-manylinux_2_17_x86_64.manylinux2014_x86_64.whl (3.8 MB)\n",
      "Downloading watchfiles-1.0.0-cp310-cp310-manylinux_2_17_x86_64.manylinux2014_x86_64.whl (442 kB)\n",
      "Using cached websockets-14.1-cp310-cp310-manylinux_2_5_x86_64.manylinux1_x86_64.manylinux_2_17_x86_64.manylinux2014_x86_64.whl (168 kB)\n",
      "Downloading pyproject_hooks-1.2.0-py3-none-any.whl (10 kB)\n",
      "Downloading asgiref-3.8.1-py3-none-any.whl (23 kB)\n",
      "Building wheels for collected packages: pypika\n",
      "  Building wheel for pypika (pyproject.toml) ... \u001b[?25ldone\n",
      "\u001b[?25h  Created wheel for pypika: filename=PyPika-0.48.9-py2.py3-none-any.whl size=53725 sha256=5cd6c049e2a585c2b542415ddfaff7943b11cb000762697f3896d29b3236cdc4\n",
      "  Stored in directory: /srv/elkhyo/wheels/e1/26/51/d0bffb3d2fd82256676d7ad3003faea3bd6dddc9577af665f4\n",
      "Successfully built pypika\n",
      "Installing collected packages: pypika, monotonic, durationpy, websockets, uvloop, uvicorn, python-dotenv, pyproject_hooks, protobuf, orjson, opentelemetry-util-http, mmh3, importlib-resources, httptools, grpcio, deprecated, chroma-hnswlib, bcrypt, backoff, asgiref, watchfiles, starlette, posthog, opentelemetry-proto, opentelemetry-api, googleapis-common-protos, build, opentelemetry-semantic-conventions, opentelemetry-exporter-otlp-proto-common, kubernetes, fastapi, opentelemetry-sdk, opentelemetry-instrumentation, opentelemetry-instrumentation-asgi, opentelemetry-exporter-otlp-proto-grpc, opentelemetry-instrumentation-fastapi, chromadb\n",
      "  Attempting uninstall: protobuf\n",
      "    Found existing installation: protobuf 4.25.3\n",
      "    Uninstalling protobuf-4.25.3:\n",
      "      Successfully uninstalled protobuf-4.25.3\n",
      "  Attempting uninstall: bcrypt\n",
      "    Found existing installation: bcrypt 3.2.0\n",
      "    Uninstalling bcrypt-3.2.0:\n",
      "      Successfully uninstalled bcrypt-3.2.0\n",
      "Successfully installed asgiref-3.8.1 backoff-2.2.1 bcrypt-4.2.1 build-1.2.2.post1 chroma-hnswlib-0.7.6 chromadb-0.5.21 deprecated-1.2.15 durationpy-0.9 fastapi-0.115.6 googleapis-common-protos-1.66.0 grpcio-1.68.1 httptools-0.6.4 importlib-resources-6.4.5 kubernetes-31.0.0 mmh3-5.0.1 monotonic-1.6 opentelemetry-api-1.28.2 opentelemetry-exporter-otlp-proto-common-1.28.2 opentelemetry-exporter-otlp-proto-grpc-1.28.2 opentelemetry-instrumentation-0.49b2 opentelemetry-instrumentation-asgi-0.49b2 opentelemetry-instrumentation-fastapi-0.49b2 opentelemetry-proto-1.28.2 opentelemetry-sdk-1.28.2 opentelemetry-semantic-conventions-0.49b2 opentelemetry-util-http-0.49b2 orjson-3.10.12 posthog-3.7.4 protobuf-5.29.1 pypika-0.48.9 pyproject_hooks-1.2.0 python-dotenv-1.0.1 starlette-0.41.3 uvicorn-0.32.1 uvloop-0.21.0 watchfiles-1.0.0 websockets-14.1\n"
     ]
    }
   ],
   "source": [
    "!pip install chromadb"
   ]
  },
  {
   "cell_type": "code",
   "execution_count": 45,
   "metadata": {},
   "outputs": [],
   "source": [
    "import chromadb\n",
    "client = chromadb.PersistentClient(path=\"echr-qa-experiments/data/chroma_gtr_t5_xl_db\")"
   ]
  },
  {
   "cell_type": "code",
   "execution_count": 74,
   "metadata": {},
   "outputs": [
    {
     "name": "stdout",
     "output_type": "stream",
     "text": [
      "Collections in the database:\n",
      "- langchain\n"
     ]
    }
   ],
   "source": [
    "collections = client.list_collections()\n",
    "print(\"Collections in the database:\")\n",
    "for collection in collections:\n",
    "    print(f\"- {collection.name}\")\n",
    "    "
   ]
  },
  {
   "cell_type": "code",
   "execution_count": 75,
   "metadata": {},
   "outputs": [],
   "source": [
    "collection_name = collections[0].name  # Or specify the collection name directly\n",
    "collection = client.get_collection(name=collection_name)\n",
    "\n",
    "# Retrieve all items in the collection (be cautious if the collection is large)\n",
    "results = collection.get()"
   ]
  },
  {
   "cell_type": "code",
   "execution_count": 76,
   "metadata": {},
   "outputs": [
    {
     "data": {
      "text/plain": [
       "dict_keys(['ids', 'embeddings', 'documents', 'uris', 'data', 'metadatas', 'included'])"
      ]
     },
     "execution_count": 76,
     "metadata": {},
     "output_type": "execute_result"
    }
   ],
   "source": [
    "results.keys()"
   ]
  },
  {
   "cell_type": "code",
   "execution_count": 77,
   "metadata": {},
   "outputs": [
    {
     "data": {
      "text/html": [
       "<div>\n",
       "<style scoped>\n",
       "    .dataframe tbody tr th:only-of-type {\n",
       "        vertical-align: middle;\n",
       "    }\n",
       "\n",
       "    .dataframe tbody tr th {\n",
       "        vertical-align: top;\n",
       "    }\n",
       "\n",
       "    .dataframe thead th {\n",
       "        text-align: right;\n",
       "    }\n",
       "</style>\n",
       "<table border=\"1\" class=\"dataframe\">\n",
       "  <thead>\n",
       "    <tr style=\"text-align: right;\">\n",
       "      <th></th>\n",
       "      <th>id</th>\n",
       "      <th>document</th>\n",
       "      <th>embedding</th>\n",
       "      <th>metadata</th>\n",
       "    </tr>\n",
       "  </thead>\n",
       "  <tbody>\n",
       "    <tr>\n",
       "      <th>0</th>\n",
       "      <td>f8be7518-ab80-43f6-8ac9-2e728fae1794</td>\n",
       "      <td>CASE OF POPOVIC v. SERBIA; § 2: As of 3 June 2...</td>\n",
       "      <td>None</td>\n",
       "      <td>{'case_id': '001-95845', 'case_name': 'CASE OF...</td>\n",
       "    </tr>\n",
       "  </tbody>\n",
       "</table>\n",
       "</div>"
      ],
      "text/plain": [
       "                                     id  \\\n",
       "0  f8be7518-ab80-43f6-8ac9-2e728fae1794   \n",
       "\n",
       "                                            document embedding  \\\n",
       "0  CASE OF POPOVIC v. SERBIA; § 2: As of 3 June 2...      None   \n",
       "\n",
       "                                            metadata  \n",
       "0  {'case_id': '001-95845', 'case_name': 'CASE OF...  "
      ]
     },
     "execution_count": 77,
     "metadata": {},
     "output_type": "execute_result"
    }
   ],
   "source": [
    "import pandas as pd\n",
    "\n",
    "# Prepare data for the DataFrame\n",
    "data = {\n",
    "    'id': results['ids'],\n",
    "    'document': results.get('documents', [None] * len(results['ids'])),\n",
    "    'embedding': results.get('embeddings', [None] * len(results['ids'])),\n",
    "    'metadata': results.get('metadatas', [None] * len(results['ids'])),\n",
    "    \n",
    "}\n",
    "\n",
    "df = pd.DataFrame(data)\n",
    "df.head(1)"
   ]
  },
  {
   "cell_type": "code",
   "execution_count": 78,
   "metadata": {},
   "outputs": [
    {
     "data": {
      "text/html": [
       "<div>\n",
       "<style scoped>\n",
       "    .dataframe tbody tr th:only-of-type {\n",
       "        vertical-align: middle;\n",
       "    }\n",
       "\n",
       "    .dataframe tbody tr th {\n",
       "        vertical-align: top;\n",
       "    }\n",
       "\n",
       "    .dataframe thead th {\n",
       "        text-align: right;\n",
       "    }\n",
       "</style>\n",
       "<table border=\"1\" class=\"dataframe\">\n",
       "  <thead>\n",
       "    <tr style=\"text-align: right;\">\n",
       "      <th></th>\n",
       "      <th>id</th>\n",
       "      <th>document</th>\n",
       "      <th>embedding</th>\n",
       "      <th>metadata</th>\n",
       "    </tr>\n",
       "  </thead>\n",
       "  <tbody>\n",
       "    <tr>\n",
       "      <th>0</th>\n",
       "      <td>f8be7518-ab80-43f6-8ac9-2e728fae1794</td>\n",
       "      <td>CASE OF POPOVIC v. SERBIA; § 2: As of 3 June 2...</td>\n",
       "      <td>None</td>\n",
       "      <td>{'case_id': '001-95845', 'case_name': 'CASE OF...</td>\n",
       "    </tr>\n",
       "    <tr>\n",
       "      <th>1</th>\n",
       "      <td>fa2e6b9b-095a-4747-8cb4-3cf69e77a9b4</td>\n",
       "      <td>CASE OF POPOVIC v. SERBIA; § 3: The applicant ...</td>\n",
       "      <td>None</td>\n",
       "      <td>{'case_id': '001-95845', 'case_name': 'CASE OF...</td>\n",
       "    </tr>\n",
       "    <tr>\n",
       "      <th>2</th>\n",
       "      <td>862b2e99-1b26-4540-9538-c622240013d4</td>\n",
       "      <td>CASE OF POPOVIC v. SERBIA; § 4: On 13 July 200...</td>\n",
       "      <td>None</td>\n",
       "      <td>{'case_id': '001-95845', 'case_name': 'CASE OF...</td>\n",
       "    </tr>\n",
       "    <tr>\n",
       "      <th>3</th>\n",
       "      <td>f798e109-71b8-438e-b2ed-36e1072873e3</td>\n",
       "      <td>CASE OF POPOVIC v. SERBIA; § 5: On 23 October ...</td>\n",
       "      <td>None</td>\n",
       "      <td>{'case_id': '001-95845', 'case_name': 'CASE OF...</td>\n",
       "    </tr>\n",
       "    <tr>\n",
       "      <th>4</th>\n",
       "      <td>448cb674-5587-4fd1-b650-364b6e37bfb5</td>\n",
       "      <td>CASE OF POPOVIC v. SERBIA; § 6: In a separate ...</td>\n",
       "      <td>None</td>\n",
       "      <td>{'case_id': '001-95845', 'case_name': 'CASE OF...</td>\n",
       "    </tr>\n",
       "    <tr>\n",
       "      <th>5</th>\n",
       "      <td>6be128c9-89fe-4683-8a1d-b4960d47cb5f</td>\n",
       "      <td>CASE OF POPOVIC v. SERBIA; § 7: On 16 November...</td>\n",
       "      <td>None</td>\n",
       "      <td>{'case_id': '001-95845', 'case_name': 'CASE OF...</td>\n",
       "    </tr>\n",
       "    <tr>\n",
       "      <th>6</th>\n",
       "      <td>b3db55dd-a9e6-4afe-8482-e4f6c9f35ede</td>\n",
       "      <td>CASE OF POPOVIC v. SERBIA; § 8: On 18 May 1990...</td>\n",
       "      <td>None</td>\n",
       "      <td>{'case_id': '001-95845', 'case_name': 'CASE OF...</td>\n",
       "    </tr>\n",
       "    <tr>\n",
       "      <th>7</th>\n",
       "      <td>4f09ecd6-879d-45e8-886e-7a494ba393cf</td>\n",
       "      <td>CASE OF POPOVIC v. SERBIA; § 9: At the hearing...</td>\n",
       "      <td>None</td>\n",
       "      <td>{'case_id': '001-95845', 'case_name': 'CASE OF...</td>\n",
       "    </tr>\n",
       "    <tr>\n",
       "      <th>8</th>\n",
       "      <td>9cf46186-7e55-4b16-b0fb-d889ea9bc527</td>\n",
       "      <td>CASE OF POPOVIC v. SERBIA; § 10: Following a r...</td>\n",
       "      <td>None</td>\n",
       "      <td>{'case_id': '001-95845', 'case_name': 'CASE OF...</td>\n",
       "    </tr>\n",
       "    <tr>\n",
       "      <th>9</th>\n",
       "      <td>16d8c9e0-3a50-4157-b846-1df1a086380b</td>\n",
       "      <td>CASE OF POPOVIC v. SERBIA; § 11: On 3 March 20...</td>\n",
       "      <td>None</td>\n",
       "      <td>{'case_id': '001-95845', 'case_name': 'CASE OF...</td>\n",
       "    </tr>\n",
       "  </tbody>\n",
       "</table>\n",
       "</div>"
      ],
      "text/plain": [
       "                                     id  \\\n",
       "0  f8be7518-ab80-43f6-8ac9-2e728fae1794   \n",
       "1  fa2e6b9b-095a-4747-8cb4-3cf69e77a9b4   \n",
       "2  862b2e99-1b26-4540-9538-c622240013d4   \n",
       "3  f798e109-71b8-438e-b2ed-36e1072873e3   \n",
       "4  448cb674-5587-4fd1-b650-364b6e37bfb5   \n",
       "5  6be128c9-89fe-4683-8a1d-b4960d47cb5f   \n",
       "6  b3db55dd-a9e6-4afe-8482-e4f6c9f35ede   \n",
       "7  4f09ecd6-879d-45e8-886e-7a494ba393cf   \n",
       "8  9cf46186-7e55-4b16-b0fb-d889ea9bc527   \n",
       "9  16d8c9e0-3a50-4157-b846-1df1a086380b   \n",
       "\n",
       "                                            document embedding  \\\n",
       "0  CASE OF POPOVIC v. SERBIA; § 2: As of 3 June 2...      None   \n",
       "1  CASE OF POPOVIC v. SERBIA; § 3: The applicant ...      None   \n",
       "2  CASE OF POPOVIC v. SERBIA; § 4: On 13 July 200...      None   \n",
       "3  CASE OF POPOVIC v. SERBIA; § 5: On 23 October ...      None   \n",
       "4  CASE OF POPOVIC v. SERBIA; § 6: In a separate ...      None   \n",
       "5  CASE OF POPOVIC v. SERBIA; § 7: On 16 November...      None   \n",
       "6  CASE OF POPOVIC v. SERBIA; § 8: On 18 May 1990...      None   \n",
       "7  CASE OF POPOVIC v. SERBIA; § 9: At the hearing...      None   \n",
       "8  CASE OF POPOVIC v. SERBIA; § 10: Following a r...      None   \n",
       "9  CASE OF POPOVIC v. SERBIA; § 11: On 3 March 20...      None   \n",
       "\n",
       "                                            metadata  \n",
       "0  {'case_id': '001-95845', 'case_name': 'CASE OF...  \n",
       "1  {'case_id': '001-95845', 'case_name': 'CASE OF...  \n",
       "2  {'case_id': '001-95845', 'case_name': 'CASE OF...  \n",
       "3  {'case_id': '001-95845', 'case_name': 'CASE OF...  \n",
       "4  {'case_id': '001-95845', 'case_name': 'CASE OF...  \n",
       "5  {'case_id': '001-95845', 'case_name': 'CASE OF...  \n",
       "6  {'case_id': '001-95845', 'case_name': 'CASE OF...  \n",
       "7  {'case_id': '001-95845', 'case_name': 'CASE OF...  \n",
       "8  {'case_id': '001-95845', 'case_name': 'CASE OF...  \n",
       "9  {'case_id': '001-95845', 'case_name': 'CASE OF...  "
      ]
     },
     "execution_count": 78,
     "metadata": {},
     "output_type": "execute_result"
    }
   ],
   "source": [
    "df.head(10)"
   ]
  },
  {
   "cell_type": "code",
   "execution_count": 79,
   "metadata": {},
   "outputs": [],
   "source": [
    "from tqdm import tqdm\n",
    "import json\n",
    "import pandas as pd\n",
    "import re\n",
    "\n",
    "metadata_df = pd.json_normalize(df['metadata'])\n",
    "df = pd.concat([df.drop('metadata', axis=1), metadata_df], axis=1)"
   ]
  },
  {
   "cell_type": "code",
   "execution_count": 80,
   "metadata": {},
   "outputs": [],
   "source": [
    "df.sort_values(by=['case_id', 'paragraph_number'], inplace=True)\n",
    "\n",
    "cases = []\n",
    "grouped = df.groupby('case_id')"
   ]
  },
  {
   "cell_type": "code",
   "execution_count": 91,
   "metadata": {},
   "outputs": [
    {
     "name": "stderr",
     "output_type": "stream",
     "text": [
      "  0%|          | 0/16254 [00:00<?, ?it/s]"
     ]
    },
    {
     "name": "stdout",
     "output_type": "stream",
     "text": [
      "CASE OF BİÇER AND OTHERS v. TURKEY; § 1: The case originated in an application (no. 19441/04) against the Republic of Turkey lodged with the Court under Article 34 of the Convention for the Protection of Human Rights and Fundamental Freedoms (“the Convention”) by five Turkish nationals, Mrs Züleyha Biçer, Mrs Birsen Ergünhan, Mr Ahmet Karaçakıl, Mrs Hacer Dalgıç and Mrs Hayriye Savruk (“the applicants”), on 4 May 2004.\n",
      "CASE OF BİÇER AND OTHERS v. TURKEY; § 2: The applicants were represented by Ms S.E. Altaş and Mr N. Altaş, lawyers practising in İstanbul. The Turkish Government (“the Government”) were represented by their Agent.\n",
      "CASE OF BİÇER AND OTHERS v. TURKEY; § 3: On 28 November 2008 the President of the Second Section decided to give notice of the application to the Government. It was also decided to rule on the admissibility and merits of the application at the same time (Article 29 § 3).\n",
      "CASE OF BİÇER AND OTHERS v. TURKEY; § 4: The applicants were born in 1933, 1938, 1952, 1948 and 1945 respectively, and live in Balıkesir and .\n",
      "CASE OF BİÇER AND OTHERS v. TURKEY; § 5: On 8 December 1972 the applicants' mother lodged a case with the Gönen Civil Court against the Treasury and the Office of the Headman of the Paşaçiftlik village (muhtarlık), requesting that plots of land nos. 117, 130, 135, 168, 274, 438, 494, 497 and 578 be registered in her name. Six other persons intervened in the case, laying claim to the same plots.\n",
      "CASE OF BİÇER AND OTHERS v. TURKEY; § 6: On 28 March 1977 the  delivered a decision of nonjurisdiction and transferred the case to the .\n",
      "CASE OF BİÇER AND OTHERS v. TURKEY; § 7: On an unspecified date the applicants' mother died. On 24 October 1984 the applicants informed the first-instance court that they wished to become parties to the proceedings, as heirs.\n",
      "CASE OF BİÇER AND OTHERS v. TURKEY; § 8: On 18 March 2005 the court dismissed the applicants' case and held that the land should have been registered in the name of the interveners' heirs.\n",
      "CASE OF BİÇER AND OTHERS v. TURKEY; § 9: On 22 June 2006 the Court of Cassation quashed the judgment of the first-instance court.\n",
      "CASE OF BİÇER AND OTHERS v. TURKEY; § 10: On 4 March 2007 the first-instance court resumed the examination of the case following its remittal by the Court of Cassation.\n",
      "CASE OF BİÇER AND OTHERS v. TURKEY; § 11: On 28 January 2009 the last hearing was held.\n",
      "CASE OF BİÇER AND OTHERS v. TURKEY; § 12: According to the information submitted to the case file in June 2009, the proceedings are currently pending before the .\n",
      "CASE OF BİÇER AND OTHERS v. TURKEY; § 13: The applicants complained that the length of the proceedings had been incompatible with the “reasonable time” requirement of Article 6 § 1 of the Convention.\n",
      "CASE OF BİÇER AND OTHERS v. TURKEY; § 14: The Government argued that the case was complex.\n",
      "CASE OF BİÇER AND OTHERS v. TURKEY; § 15: The period to be taken into consideration began on 8 December 1972, when the applicants' mother initiated proceedings before the . The proceedings are still pending before the . They have thus lasted well over 36 years.\n",
      "CASE OF BİÇER AND OTHERS v. TURKEY; § 16: The Court's jurisdiction ratione temporis only permits it to consider the period of 23 years that has elapsed after 28 January 1987, the date of deposit of 's declaration recognising the right of individual petition to the European Commission of Human Rights. It must nevertheless take account of the state of the proceedings at that time (see Şahiner v. , no. 29279/95, § 21, ECHR 2001IX). On that crucial date, the proceedings had already lasted more than 14 years.\n",
      "CASE OF BİÇER AND OTHERS v. TURKEY; § 17: The Government first submitted that the whole application was outside the Court's competence ratione temporis.\n",
      "CASE OF BİÇER AND OTHERS v. TURKEY; § 18: The Court notes, apart from the considerations above, that it has already dismissed such an objection in its Şahiner judgment (cited above, § 16). It finds no particular circumstances in the instant case which would require it to depart from that finding. Accordingly, the Court rejects this objection.\n",
      "CASE OF BİÇER AND OTHERS v. TURKEY; § 19: The Government further argued that the applicant could not be considered to have exhausted domestic remedies as the civil proceedings were still pending before the first-instance court.\n",
      "CASE OF BİÇER AND OTHERS v. TURKEY; § 20: The Court notes that, according to its case-law, complaints concerning the length of proceedings can be brought before it prior to the final termination of the proceedings in question (see, among many others, Plaksin v. Russia, no. 14949/02, §§ 34-35, 30 April 2004). Accordingly, the Government's objection regarding non-exhaustion must be dismissed. It further notes that this part of the application is not inadmissible on any other grounds. It must, therefore, be declared admissible.\n",
      "CASE OF BİÇER AND OTHERS v. TURKEY; § 21: The Government submitted that the length of the proceedings had not exceeded the reasonable time requirement. They argued that the applicants' case had been a complex one, having included several interveners and parcels, whose owners had to be determined. The Government further stated that the conduct of the parties had contributed to the undue delays in the proceedings.\n"
     ]
    },
    {
     "name": "stderr",
     "output_type": "stream",
     "text": [
      "\n"
     ]
    }
   ],
   "source": [
    "for case_id, group in tqdm(grouped):\n",
    "    case_name = group['case_name'].iloc[0]\n",
    "    paragraphs = []\n",
    "    \n",
    "    for i, (_, row) in enumerate(group.iterrows()):\n",
    "        print(row['document'])\n",
    "        if i == 20:\n",
    "            break\n",
    "    break"
   ]
  },
  {
   "cell_type": "code",
   "execution_count": 82,
   "metadata": {},
   "outputs": [
    {
     "name": "stderr",
     "output_type": "stream",
     "text": [
      "100%|██████████| 16254/16254 [00:40<00:00, 404.33it/s]\n"
     ]
    }
   ],
   "source": [
    "for case_id, group in tqdm(grouped):\n",
    "    case_name = group['case_name'].iloc[0]\n",
    "    paragraphs = []\n",
    "    \n",
    "    for i, (_, row) in enumerate(group.iterrows()):\n",
    "        document = row['document']\n",
    "        if i == 0:\n",
    "            paragraphs.append(document)\n",
    "        else:\n",
    "            pattern = r'^.*?§\\s*'\n",
    "            document_cleaned = re.sub('^' + pattern, '', document)\n",
    "            paragraphs.append(document_cleaned)\n",
    "    content = '\\n'.join(paragraphs)\n",
    "    cases.append({'case_id': case_id, 'content': content})"
   ]
  },
  {
   "cell_type": "code",
   "execution_count": 83,
   "metadata": {},
   "outputs": [],
   "source": [
    "# Save the results to a JSONL file\n",
    "with open('cases_content.jsonl', 'w', encoding='utf-8') as f:\n",
    "    for case in cases:\n",
    "        f.write(json.dumps(case) + '\\n')"
   ]
  },
  {
   "cell_type": "code",
   "execution_count": 92,
   "metadata": {},
   "outputs": [
    {
     "data": {
      "text/plain": [
       "'001-100018'"
      ]
     },
     "execution_count": 92,
     "metadata": {},
     "output_type": "execute_result"
    }
   ],
   "source": [
    "cases[0]['case_id']"
   ]
  },
  {
   "cell_type": "code",
   "execution_count": null,
   "metadata": {},
   "outputs": [],
   "source": []
  }
 ],
 "metadata": {
  "kernelspec": {
   "display_name": "retrieval",
   "language": "python",
   "name": "python3"
  },
  "language_info": {
   "codemirror_mode": {
    "name": "ipython",
    "version": 3
   },
   "file_extension": ".py",
   "mimetype": "text/x-python",
   "name": "python",
   "nbconvert_exporter": "python",
   "pygments_lexer": "ipython3",
   "version": "3.10.15"
  }
 },
 "nbformat": 4,
 "nbformat_minor": 2
}
