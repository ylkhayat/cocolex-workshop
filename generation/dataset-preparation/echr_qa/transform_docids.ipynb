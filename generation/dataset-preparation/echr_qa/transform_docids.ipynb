{
 "cells": [
  {
   "cell_type": "code",
   "execution_count": null,
   "metadata": {},
   "outputs": [],
   "source": [
    "import os\n",
    "import jsonlines\n",
    "from tqdm import tqdm\n",
    "\n",
    "base_dir = '/srv/elkhyo/lexquo/generation/basement/echr_qa'\n",
    "\n",
    "for root, dirs, files in os.walk(base_dir):\n",
    "    if 'generations' in dirs:\n",
    "        generations_dir = os.path.join(root, 'generations')\n",
    "        for file_name in tqdm(os.listdir(generations_dir), desc=\"Processing files\"):\n",
    "            if file_name.endswith('.jsonl'):\n",
    "                file_path = os.path.join(generations_dir, file_name)\n",
    "                with jsonlines.open(file_path, mode='r') as reader:\n",
    "                    records = list(reader)\n",
    "                \n",
    "                for record in records:\n",
    "                    if 'meta' in record and 'docid' in record['meta']:\n",
    "                        record['meta']['docid'] = str(record['meta']['docid'])\n",
    "                        \n",
    "                with jsonlines.open(file_path, mode='w') as writer:\n",
    "                    writer.write_all(records)"
   ]
  },
  {
   "cell_type": "code",
   "execution_count": null,
   "metadata": {},
   "outputs": [],
   "source": [
    "from datasets import load_dataset, Value\n",
    "\n",
    "\n",
    "split = \"test\"\n",
    "workshop_hf_name = \"ylkhayat/{dataset_name}-generation-workshop\"\n",
    "dataset_repo_name_prefix = \"ECHR_QA\"\n",
    "workshop_hf_name = workshop_hf_name.format(dataset_name=dataset_repo_name_prefix)\n",
    "setups = [\n",
    "    \"data\",\n",
    "    \"bm25_noisy_oracle_passages_oracle_documents\",\n",
    "    \"bm25_oracle_passages_oracle_documents\",\n",
    "    \"bm25_relevant_passages_oracle_documents\"\n",
    "    ]\n",
    "for setup in setups:\n",
    "    url=f\"https://huggingface.co/datasets/{workshop_hf_name}/resolve/main/{setup}/\"\n",
    "    current_dataset = load_dataset(\"parquet\", data_files={split: f\"{url}{split}*.parquet\"})[split]\n",
    "    current_dataset = current_dataset.cast_column(\"docid\", Value(dtype='string', id=None))\n",
    "    current_dataset = current_dataset.push_to_hub(workshop_hf_name, data_dir=setup)\n"
   ]
  }
 ],
 "metadata": {
  "kernelspec": {
   "display_name": "retrieval",
   "language": "python",
   "name": "python3"
  },
  "language_info": {
   "codemirror_mode": {
    "name": "ipython",
    "version": 3
   },
   "file_extension": ".py",
   "mimetype": "text/x-python",
   "name": "python",
   "nbconvert_exporter": "python",
   "pygments_lexer": "ipython3",
   "version": "3.10.15"
  }
 },
 "nbformat": 4,
 "nbformat_minor": 2
}
