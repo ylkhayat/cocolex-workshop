{
 "cells": [
  {
   "cell_type": "code",
   "execution_count": 2,
   "id": "47df6914-bda5-4899-8f43-01d17af1c464",
   "metadata": {},
   "outputs": [
    {
     "name": "stderr",
     "output_type": "stream",
     "text": [
      "Repo card metadata block was not found. Setting CardData to empty.\n"
     ]
    },
    {
     "data": {
      "text/plain": [
       "Dataset({\n",
       "    features: ['appno', 'date', 'citations', 'facts', 'law'],\n",
       "    num_rows: 15729\n",
       "})"
      ]
     },
     "execution_count": 2,
     "metadata": {},
     "output_type": "execute_result"
    }
   ],
   "source": [
    "from datasets import load_dataset\n",
    "from more_itertools import windowed_complete\n",
    "from tqdm import tqdm\n",
    "import ast\n",
    "import os\n",
    "\n",
    "\n",
    "num_proc = os.cpu_count() - 5\n",
    "\n",
    "ecthr_dataset = load_dataset(\"RashidHaddad/ECTHR-PCR\")\n",
    "def parse_strings_to_arrays(example):\n",
    "    example['facts'] = ast.literal_eval(example['facts']) if isinstance(example['facts'], str) else example['facts']\n",
    "    example['law'] = ast.literal_eval(example['law']) if isinstance(example['law'], str) else example['law']\n",
    "    example['citations'] = ast.literal_eval(example['citations']) if isinstance(example['citations'], str) else example['citations']\n",
    "    return example\n",
    "\n",
    "ecthr_dataset = ecthr_dataset.map(parse_strings_to_arrays, num_proc=num_proc)['train']\n",
    "ecthr_dataset"
   ]
  },
  {
   "cell_type": "code",
   "execution_count": 3,
   "id": "561c58cb",
   "metadata": {},
   "outputs": [
    {
     "data": {
      "text/plain": [
       "{'appno': '214/56',\n",
       " 'date': '1962-03-27T00:00:00',\n",
       " 'citations': [],\n",
       " 'facts': ['I',\n",
       "  '1. Mr. Raymond De Becker, journalist and writer of Belgian nationality, presently living in Paris, was condemned to death by the Brussels Conseil de Guerre on 24th July 1946 on the ground that between 13th June 1940 and 5th October 1943 he had collaborated with the German authorities in Belgium in various ways and capacities, principally in the exercise of his functions as general editor of the Belgian daily newspaper Le Soir (Articles 66, 113, 117 and 118 bis of the Belgian Penal Code).',\n",
       "  'De Becker was, in particular, found guilty of having \"participated in the enemy ’ s transformation of legal institutions or organisations, of having undermined the loyalty of Belgian citizens to the King and the State in time of war\" and of having \"furthered the enemy ’ s policy and designs\"; of having \"deliberately directed, practised, incited, promoted and encouraged propaganda against resistance to the enemy and the enemy ’ s allies ...\"; of having by his writings \"directly incited Belgian nationals to commit the crime of taking up arms against their country\" or its allies \"by knowingly performing on behalf of the enemy such tasks as fighting, transport, mounting guard and other tasks normally carried out by the enemy forces and their auxiliary services, ... with the effect intended\" and of having \"directly as well as through intermediaries or acting himself as an intermediary, supplied the enemies of the State with troops and manpower\".',\n",
       "  'The judgment of the Conseil de Guerre carried with it, inter alia, forfeiture by De Becker of the rights set out in Article 123 sexies of the Belgian Penal Code.',\n",
       "  '2. The Brussels Military Court, to which De Becker appealed, while confirming the facts and the Applicant ’ s criminal intent, admitted the existence of extenuating circumstances, namely the Applicant ’ s opposition to the \"annexionist and separatist\" intentions of the occupant, which had led to his arrest in 1943 and his deportation to Germany for a period of two years. In its judgment of 14th June 1947 the Court commuted the death penalty to one of life imprisonment. It confirmed the judgment in all other respects, including the forfeiture of the rights enumerated in Article 123 sexies of the Penal Code.',\n",
       "  '3. Loss of civil and political rights for offences against the external security of the State were introduced into the Belgian Penal Code by the Legislative Decree of 6th May 1944, whose Article 2 provided as follows:',\n",
       "  '\"The following provisions shall be added to Vol. II, Section 1, Chapter II, of the Penal Code:',\n",
       "  '1. An Article 123 sexies worded as follows:',\n",
       "  'Any person sentenced to a penalty exceeding five years ’ imprisonment for an offence or attempted offence under Vol. II, Section 1, Chapter II, of the Penal Code or Articles 17 and 18 of the Military Penal Code, committed in time of war, shall, ipso jure, be deprived for life of the following rights:',\n",
       "  '(a) the rights set out in Article 31 of the Penal Code, including the right to vote and the right to be elected;',\n",
       "  '(b) the right to appear on any roll of barristers, honorary counsel or probationary barristers;',\n",
       "  '(c) the right to take part in any capacity whatsoever in instruction provided by a public or private establishment;',\n",
       "  '(d) the right to receive remuneration from the State as a minister of religion;',\n",
       "  '(e) the right to have a proprietary interest in or to take part in any capacity whatsoever in the administration, editing, printing or distribution of a newspaper or any other publication;',\n",
       "  '(f) the right to take part in organising or managing any cultural, philanthropic or sporting activity or any public entertainment;',\n",
       "  '(g) the right to have proprietary interest in, or to be associated with the administration or any other aspect of the activity of any undertaking concerned with theatrical production, films or broadcasting;',\n",
       "  '(h) the right to exercise the functions of director and/or manager or authorised representative of a private company, limited shareholding partnership, co-operative society or credit union; the functions of manager of a Belgian establishment, under Article 198 (2) of the consolidated Commercial Companies Acts; to follow the profession of stockbroker, broker ’ s agent or bank auditor, the profession of banker, or exercise the functions of director, governor, manager or authorised representative of a bank as defined in Royal Decree No. 185 of 9th July 1935, or those of manager of the Belgian branches of foreign banks specified in Article 6 of Royal Decree No. 185 of 9th July 1935;',\n",
       "  '(i) the right to be associated in any way with the administration, management or direction of a professional association or a non-profit-making association;',\n",
       "  '(j) the right to be a leader of a political association.',\n",
       "  '2. An Article 123 septies worded as follows:',\n",
       "  'Any person sentenced to a correctional penalty of eight days or more for an offence or attempted offence mentioned in Article 123 sexies shall ipso jure be temporarily debarred from exercising his right to vote, to stand for election or to be elected.',\n",
       "  'The said disability shall cease ten years after conviction if the sentence was of less than one month ’ s imprisonment, and twenty years after conviction if the sentence was of one month ’ s imprisonment or more.',\n",
       "  'If the correctional penalty exceeds one year ’ s imprisonment, the convicted person shall in addition be debarred ipso jure from exercising the other rights referred to in Article 123 sexies.',\n",
       "  'Suspension of the exercise of these other rights shall cease ten years after conviction where the sentence was less than three years ’ imprisonment and twenty years after conviction where the sentence was three years ’ imprisonment or more.\"',\n",
       "  '4. The report to the Council on the Legislative Decree of 6th May 1944 contains the following explanations:',\n",
       "  '\"Article 2 also provides for the prohibition or suspension of the exercise of certain rights by persons convicted of crimes against the external security of the State.',\n",
       "  'Such prohibition and suspension following upon conviction of an offence against the external security of the State constitute preventive measures vis-à-vis those persons who have contributed to placing their country in peril. Such persons are removed, for a period which varies according to the seriousness of the offence, from all activities in the national life where their action or influence might revive that peril ...\".',\n",
       "  '\"... Thus, unlike the deprivation or suspension of rights prescribed in Articles 31 et seq. of the Penal Code, those prescribed in Article 2 (1) and (2) (123 sexies and 123 septies) of the draft are not penalties. They are measures of a civil character, originating in the law itself.',\n",
       "  'The rights, the exercise of which is prohibited for life or suspended, are listed in Article 2 (1) (123 sexies).',\n",
       "  'Paragraphs (b), (c), (d), (e) and (f) safeguard the nation ’ s spiritual, cultural and scientific heritage ...\"',\n",
       "  '5. A first amendment to the above- mentioned provision was made by Article 10 of the Legislative Decree of 19th September 1945, which was designed to increase the severity of the measures by deleting the words \"to imprisonment\" (\" à une peine criminelle \") in Article 123 sexies and by repealing Article 123 septies. The clause was worded as follows:',\n",
       "  '\"1. The words\" à une peine criminelle\" shall be deleted from paragraph 1 of Article 123 sexies of the Penal Code. The deprivation prescribed in the said article as amended shall apply ipso jure to any conviction pronounced since 27th August 1939.',\n",
       "  '2. Article 123 septies of the Penal Code is hereby repealed.\"',\n",
       "  'This was the clause in force when De Becker was tried and sentenced.',\n",
       "  '6. In 1950, as a measure of clemency, the sentence of life imprisonment was reduced to seventeen years.',\n",
       "  'On 22nd February 1951, De Becker was conditionally released on making a \"declaration\" to the effect that he voluntarily undertook to take up residence in France within one month of his release and that he would not engage in politics. After his release, the Applicant took up residence in Paris.',\n",
       "  'Subsequently, De Becker made several unsuccessful requests for the ban to be lifted on his residing in Belgium and for the professional disabilities inflicted on him under Article 123 sexies of the Penal Code to be cancelled. He succeeded, however, in establishing legal domicile in Belgium.',\n",
       "  'II',\n",
       "  '7. On 1st September 1956, De Becker lodged with the Commission an application against Belgium.',\n",
       "  'First, De Becker contended that the restrictions imposed on him under Article 123 sexies of the Belgian Penal Code were an infringement of two Articles of the Convention. The first of these was Article 7 (art. 7), which lays down the principle that crimes and offences must be defined by legislation; but Article 123 sexies had been introduced by retroactive decree. Secondly, by preventing the Applicant from exercising his profession as a journalist and writer, the imposition of these restrictions also contravened Article 10 (art. 10), which guarantees every person the right to freedom of expression. In general, too, these restrictions were contrary to human dignity since their effect was to leave the Applicant with four courses which were equally unacceptable: to refrain from any expression at all, to express himself under a pseudonym, to write abroad and renounce any circulation in Belgium - which would hardly be acceptable to his publishers - or, lastly, to disregard the injunction and expose himself to a further term of imprisonment under Article 123 nonies of the Penal Code. Under that clause, \"any person who, notwithstanding the prohibition resulting from the application of Article 123 sexies ... exercises, either directly or through another person, one of the rights listed in that Article, shall on conviction be punished by one to three years ’ imprisonment\" and by a fine.',\n",
       "  'De Becker also complained of what he termed his de facto exile. There is no provision for such exile in either the Belgian law or the Constitution; it results solely from the terms on which the Applicant was conditionally released on 22nd February 1951. The Applicant submitted that it was incompatible with Article 5 (art. 5) of the Convention, according to which \"everyone has the right to liberty and security of person\", and with Article 9 of the Universal Declaration of Human Rights, which proclaims that \"no one shall be submitted to arbitrary arrest, detention or exile\". De Becker further asserted that he had given an undertaking to reside abroad under moral pressure alone, namely under the threat that his release might be refused and also because he had been led to believe that his banishment would rapidly be terminated. Similarly, he had contrived to respect that undertaking in order to avoid again being imprisoned. His status as a \"de facto exile\" has now lasted for several years, and since the Belgian authorities show no readiness to terminate it, may well continue legally until 14th July 1973, which is the date set for his final discharge.',\n",
       "  'The Applicant accordingly asked for recognition:',\n",
       "  '- of the right to reside in Belgium and',\n",
       "  '- of the right to express his ideas by all lawful means, in accordance with the spirit of the Convention (in particular, of Article 17) (art. 17).',\n",
       "  'He asked the Commission to invite the Belgian Government, preferably under the terms of a friendly settlement (Article 28 (b) of the Convention) (art. 28-b), to lift the measures of which he complained and, in so far as this might necessitate certain legislative steps, to suspend these measures in the meanwhile.',\n",
       "  'III',\n",
       "  '8. The Commission, after declaring the Application inadmissible in so far as it concerned the complaint of \"de facto exile\" and the question of the compatibility of Article 123 sexies of the Belgian Penal Code with Article 7 (art. 7) of the Convention (which prohibits retroactivity of the criminal law) decided on 9th June 1958 to declare admissible the part of the Application that disputed the compatibility of Article 123 sexies of the Belgian Penal Code with Article 10 (art. 10) of the Convention and in regard to the period subsequent to 14th June 1955.',\n",
       "  'The Commission recognised:',\n",
       "  '- in regard to its competence ratione temporis that the Applicant had found himself placed in a continuing situation which had no doubt originated before the entry into force of the Convention in respect of Belgium (14th June 1955), but which had continued after that date, since the forfeitures in question had been imposed \"for life\";',\n",
       "  '- that all domestic remedies (Article 26 of the Convention) (art. 26) had been exhausted;',\n",
       "  '- that the six months ’ time-limit stipulated in Article 26 (art. 26) of the Convention was not applicable in that case; and lastly,',\n",
       "  '- that the Applicant ’ s complaint regarding the compatibility of Article 123 sexies of the Belgian Penal Code with Article 10 (art. 10) of the Convention was not manifestly ill-founded (Article 27, paragraph 2, of the Convention) (art. 27-2).',\n",
       "  '9. The Commission examined the part of the Application that has been declared admissible under the procedure referred to in Articles 28 and 29 (art. 28, art. 29) of the Convention. In the absence of a friendly settlement, the Commission drew up the Report provided for in Article 31 (art. 31) of the Convention.',\n",
       "  '10. As stated in that Report and in the first Memorial filed in the course of the present procedure the Commission had to consider four main questions:',\n",
       "  '(a) Is the compatibility of Article 123 sexies, paragraphs (e), (f) and (g), of Belgian Penal Code with the provisions of the Convention to be judged in the light of Article 10 (art. 10) to the Convention or in the light of Articles 2 to 7 (art. 2, art. 3, art. 4, art. 5, art. 6, art. 7)? In other words, is Article 10 (art. 10) applicable here?',\n",
       "  '(b) If so, are paragraphs (e), (f ) and (g) of Article 123 sexies compatible with Article 10 (art. 10) of the Convention?',\n",
       "  '(c) If not, is the breach of Article 10 (art. 10) covered by Article 15 (art. 15), or',\n",
       "  '(d) by Article 17 (art. 17) of the Convention?',\n",
       "  '11. As regards the first of these questions, the Commission, in its Report (paragraph 263), expressed the unanimous opinion that \"it is Article 10 (art. 10), not Articles 2, 5 and 4 (art. 2, art. 5, art. 4), to which reference has to be made in considering the compatibility or otherwise of Article 123 sexies with the provisions of the Convention\".',\n",
       "  'As regards the second question, the Commission, by eleven votes to one, expressed the opinion that paragraphs (e), (f) and (g) of Article 123 sexies, in so far as they affect freedom of expression, are not fully justifiable under the Convention, \"whether they be regarded as providing for penal sanctions or for preventive measures in the interests of public security. They are not justifiable in so far as the deprivation of freedom of expression in regard to non-political matters, which they contain, is imposed inflexibly for life without any provision for its relaxation when with the passage of time public morale and public order have been re-established and the continued imposition of that particular incapacity has ceased to be a measure ‘ necessary in a democratic society ’ within the meaning of Article 10, paragraph 2 (art. 10-2), of the Convention.\"',\n",
       "  'As regards the third and fourth questions, the Commission expressed the unanimous opinion that neither Article 15 (art. 15) nor Article 17 (art. 17) of the Convention was applicable to the present case.',\n",
       "  'IV',\n",
       "  '12. In its request dated 28th April 1960 referring the matter to the Court, the Commission pointed out that the Belgian Government had referred on several occasions to the existence of proposals and draft legislation directed towards amending Article 123 sexies or mitigating its application.',\n",
       "  'The Belgian Government supplied the Court with full information on this subject and added the relevant parliamentary papers to the file.',\n",
       "  'This material shows that, from 1948 onwards, various proposals and bills were submitted to the Belgian legislature with a view to mitigating the effects of the disabilities prescribed by Article 123 sexies.',\n",
       "  '13. The Act of 14th June 1948 ( Article 10) amended Article 123 sexies: in contradistinction to the 1945 Act it provided that the disabilities prescribed by that Article should only affect persons upon whom a criminal sentence had been passed.',\n",
       "  'The 1948 Act also introduced an Article 123 septies worded as follows:',\n",
       "  '\"Courts shall be empowered to impose the total or partial forfeiture, for life or for a period, of the rights listed in the preceding Article upon persons sentenced to a correctional penalty or to less than five years ’ criminal detention for an offence or attempted offence covered by the said Article.\"',\n",
       "  '14. Article 5 of the Act of 29th February 1952 made a further change, limiting the application of Article 123 sexies to persons sentenced \"to more than five years ’ detention\", and stipulating that Article 123 septies would in future cover only those sentenced either to a correctional penalty or to less than five years ’ criminal detention.',\n",
       "  '15. Fresh initiatives were subsequently taken in the mood of conciliation either by the Belgian Government or by Parliament with a view to mitigating the system of professional disabilities introduced by Article 123 sexies of the Belgian Penal Code.',\n",
       "  'On 15th January 1957 a bill - known as the \"Lilar Bill\", after the Minister who initiated it - was introduced in Parliament with the object inter alia of revising Article 123 sexies \"in order to rectify situations which it is undesirable to prolong\".',\n",
       "  'The bill was amended several times during the parliamentary proceedings.',\n",
       "  '16. The European Commission of Human Rights adopted its Report on the De Becker case on 8th January 1960. On 1st February 1960 the Report was transmitted to the Committee of Ministers.',\n",
       "  'While the \"Lilar Bill\" was being studied by the Belgian Parliament, the Commission bound by Articles 32 and 47 (art. 32, art. 47) of the Convention, referred the case to the Court on 28th April 1960, pointing out at the same time that steps were being taken in the Belgian Parliament to amend Article 123 sexies.',\n",
       "  '17. In its Memorial addressed to the Court on 22nd December 1960, the',\n",
       "  'Commission, after stating its opinion on the case, mentioned that it had received no fresh information about the proceedings in the Belgian Parliament relating to the Bill to amend Article 123 sexies.',\n",
       "  'The Commission emphasised, however, that \"it will be for the Court to take into account such developments as may occur in Belgian legislation\".',\n",
       "  'Subject to that reservation, and in those circumstances, the Commission, in its Memorial of 22nd December 1960, made the following submissions:',\n",
       "  '\"May it please the Court to decide:',\n",
       "  '(a) whether the compatibility of Article 123 sexies of the Belgian Penal Code with the provisions of the Convention should be determined with relation to Article 10 (art. 10) or, rather, with relation to Articles 2 to 7 (art. 2, art. 3, art. 4, art. 5, art. 6, art. 7). In other words, whether Article 10 (art. 10) is applicable in the present case;',\n",
       "  'b) in the affirmative, whether paragraphs (e), (f) and (g) of Article 123 sexies are compatible with Article 10 (art. 10) of the Convention;',\n",
       "  '(c) if there has been a breach of Article 10 (art. 10), whether this breach is covered by Article 15 (art. 15)',\n",
       "  'or',\n",
       "  '(d) by Article 17 (art. 17) of the Convention.\"',\n",
       "  '18. The Belgian Government, after reaffirming the standpoint which it had maintained before the Commission throughout the proceedings, namely that Article 123 sexies was fully compatible with the terms of the Convention, made the following submissions in its Counter-Memorial of 27th February 1961 :',\n",
       "  '\"May it please the Court to decide that Article 123 sexies of the Belgian Penal Code is compatible with the terms of the Convention for the Protection of Human Rights and Fundamental Freedoms.\"',\n",
       "  '19. The \"Lilar Bill\", taken up again in 1960 by the efforts of Mr. Vermeylen, the Minister of Justice, became the Act of 30th June 1961 amending Article 123 sexie of the Belgian Penal Code.',\n",
       "  'This Act, insofar as it concerns the De Becker case, is worded as follows:',\n",
       "  '30th June 1961, Civic Black Lists Act, ( Loi relative à l ’ épuration civique )',\n",
       "  'SECTION 1',\n",
       "  'Amendments to the Penal Code and the Military Penal Code',\n",
       "  'Article 1. Articles 123 sexies, septies, octies and nonies of the Penal Code are replaced by the following provisions:',\n",
       "  'Article 123 sexies, paragraph 1',\n",
       "  'By derogation from Articles 31 and 32, death sentences or sentences to hard labour, life or rigorous (extraordinaire) imprisonment for an offence or attempted offence punishable under Volume II, Section 1, Chapter II of the Penal Code and committed in time of war shall not include a prohibition on the accused against exercising the rights enumerated therein but shall ipso jure entail deprivation for life of:',\n",
       "  '1 o the rights enumerated in the said Article 31, including the rights to vote, to elect or to be elected;',\n",
       "  '...',\n",
       "  '6 o the right to participate, in any capacity whatsoever, in the ownership, administration, editing, printing or distribution of a newspaper or of any publication if such participation has a political character;',\n",
       "  '7 o the right to participate in the management or administration of any cultural, philanthropic or sporting activity or any public entertainment if such participation has a political character;',\n",
       "  '8 o the right to participate in the ownership or administration or any other aspect whatsoever of any undertaking concerned with theatrical production, films or broadcasting if such participation has a political character;',\n",
       "  '...',\n",
       "  'Paragraph 2',\n",
       "  '...',\n",
       "  'The sentence may entail deprivation of rights for a period of ten to twenty years if the penalty is rigorous imprisonment ( réclusion ) or ordinary detention or for a period of five to ten years if the penalty is correctional. The period of deprivation laid down in the judgment or sentence shall run from the day on which the sentence, whether delivered after a full hearing or in absentia, becomes res judicata.',\n",
       "  'Article 123 septies, paragraph 1',\n",
       "  'Any person sentenced to deprivation of rights under Article 123 sexies may apply for restitution of the rights enumerated in paragraphs 6 and 9 on condition that the said person:',\n",
       "  '1 o is not under detention in execution of a penalty, and is not a fugitive from justice nor in rebellion against the law ( fugitif ou latitant );',\n",
       "  '2 o has paid the fines inflicted on him and acquitted himself of all restitutions, damages and costs payments to which he has been sentenced (the court may, however, release him from this condition if he can prove that he cannot meet such payments either by reason of poverty or for any other reason not imputable to him) and on condition that;',\n",
       "  '3 o twenty years have elapsed since the sentence was passed, in the case of life deprivation of rights, ten years in the case of deprivation for a period of ten to twenty years following a sentence to a term of rigorous or ordinary imprisonment, or five years in the case of deprivation for a period of five to ten years following a sentence to a correctional penalty.',\n",
       "  'Paragraph 2',\n",
       "  'The application shall be made by registered letter addressed to the Public Prosecutor ( Procureur du Roi ) of the domicile or place of residence of the individual concerned, or, if the latter has neither domicile nor residence in Belgium, to the Public Prosecutor of the Brussels arrondissement.',\n",
       "  'The Public Prosecutor shall obtain such information as he considers necessary and submit the application to the Court of first instance.',\n",
       "  'On receiving a summons, under registered postal cover, from the Public Prosecutor, the individual concerned shall appear before the Court sitting in private ( Chambre du Conseil ), either in person or represented by an officer of the Court ( avoué ) or by Counsel briefed by the Applicant ( avocat porteur des pièces ). The summons shall indicate the Chamber before which the application will be heard and the date and time at which the Applicant is to appear. There shall be an interval of at least a week between the date of notification and the date of the hearing. The date of notification shall be the date of posting the summons. If, after notification, the applicant fails to appear either in person or represented by his Counsel or by an officer of the Court, the Court may adjourn the case before sitting on the application, so as to allow the Public Prosecutor ( ministère public) time to issue a new summons. The record of the case as kept by the Public Prosecutor shall be filed with the Clerk of Court at least a week before the date fixed for the hearing. The hearing procedure shall be the same as in a correctional case.',\n",
       "  'There shall be no appeal from the judgment of the Court. If the application is rejected in whole or in part it cannot be renewed until two years have elapsed, since the date of the said judgment.',\n",
       "  '...',\n",
       "  'Paragraph 3',\n",
       "  'Restitution of rights forfeited as a result of a sentence under the preceding Article shall not be retrospective.',\n",
       "  'Article 123 octies',\n",
       "  '...',\n",
       "  'Article 123 nonies',\n",
       "  '...',\n",
       "  'Article 2',\n",
       "  '...',\n",
       "  'Article 3. The Civic Black Lists Act of 14th June 1948 and the Civic Black Lists (Amendment) Act of 29th February 1952 are hereby repealed.',\n",
       "  'SECTION 2',\n",
       "  'Interim Measures',\n",
       "  'Article 4. Within the limits indicated below, deprivations of civil and political rights incurred before the present Act enters into force and in respect of offences committed between 26th August 1939 and 15th June 1949 shall be maintained:',\n",
       "  'Paragraph 1',\n",
       "  'All deprivations of civil and political rights incurred under paragraphs 1 or 2 of Article 1 of the Legislative Decree of 19th September 1945 (Civic Black Lists Act), or by inscription on the lists of the Military Prosecutor ( auditeur militaire ) in virtue of the said Legislative Decree or of the Act of 14th June 1948, or in virtue of Article 7 of the said Legislative Decree or of Article 7, paragraph 1 of the said Act, are hereby terminated.',\n",
       "  'Paragraph 2',\n",
       "  '...',\n",
       "  'Paragraph 3',\n",
       "  '...',\n",
       "  'Paragraph 4',\n",
       "  '...',\n",
       "  'Paragraph 5',\n",
       "  'Persons sentenced to deprivation of liberty for a period of more than twenty years may apply to the Court for total or partial restitution of the rights enumerated in sub-paragraphs 6 and 9 of paragraph 1 of Article 123 sexies of the Penal Code. The admissibility of such applications shall be subject to the conditions laid down in Article 123 septies of the Penal Code and the procedure shall be that defined in paragraph 2 of the said Article.',\n",
       "  'Paragraph 6',\n",
       "  'For the purposes of the present interim measures, heavier sentences shall be assimilated to the penalties referred to above, if they have been reduced to the equivalent of the latter by act of clemency.',\n",
       "  'Paragraph 7',\n",
       "  'Deprivations of rights under Article 123 sexies (e), (f) and (g) of the Penal Code, as worded before the present Act came into force, shall be maintained only insofar as the participation envisaged therein is of a political character; the deprivation mentioned under (h) shall no longer be applicable.',\n",
       "  'Paragraph 8',\n",
       "  'The provisions made under the preceding paragraphs shall quash all future effect of these deprivations but shall not restore to those concerned any title, rank, office, employment or public position of which they have been stripped; nor shall they restore to such persons the status of avocat, avocat stagiaire or avocat honoraire (barrister, probationary barrister or honorary counsel) if they have been deprived of such status.\"',\n",
       "  '20. At the public hearing on 3rd July 1961, the Agent of the Belgian Government maintained that, in its earlier form, Article 123 sexies was fully justified and that De Becker ’ s criticisms were without foundation. The Agent of the Belgian Government also submitted that the Court had to consider the case on the basis of the Act of 30th June 1961 and that no one could deny that, by virtue of the temporary measures of the said Act, De Becker had achieved the purpose of his Application; that even in the matter of \"political expression\" it was possible for De Becker to have recourse to the ordinary courts of his country to recover the remaining rights of which he has been deprived. Consequently - in the opinion of the Belgian Government - the Applicant had no interest in the continuance of proceedings arising from his Application. Accordingly, at the hearing of 3rd July 1961 the Agent of the Belgian Government submitted new conclusions as follows:',\n",
       "  '\"May it please the Court,',\n",
       "  '1. To rule that in view of present Belgian legislation the Applicant De Becker has no interest in further proceedings on his application;',\n",
       "  '2. To rule that in determining the compatibility of Article 123 sexies of the Belgian Penal Code with the provisions of the Convention, both in regard to the past and the future, the provisions of the Act of 30th June 1961 must be taken into account;',\n",
       "  '3. To state that there is no incompatibility between the said Article 123 sexies and the provisions of the Convention.\"',\n",
       "  '21. The hearing having been adjourned, the Commission submitted on 21st August 1961 a Memorial in which it gave its views on the Act of 30th June 1961. In this Memorial the Commission - while maintaining its view that the former Article 123 sexies was not fully compatible with the Convention - concluded that the Act of 30th June 1961, in so far as it is applicable to De Becker, satisfied at least that part of the Application which the Commission had recognised as being admissible. In its Memorial of 21st August 1961 and at the hearing of 5th October 1961, the Commission adopted the following conclusions:',\n",
       "  '\"May it please the Court, while confirming the view expressed by the Commission on the subject of the former Article 123 sexies of the Belgian Penal Code, to note that the limitations maintained by the Act of 30th June 1961 as regards freedom of expression, in so far as these apply to Mr. De Becker, do not go beyond the ‘ formalities, conditions, restrictions or penalties ’ authorised in Article 10, paragraph 2 (art. 10-2) of the Convention.\"',\n",
       "  '22. At the hearing on 5th October 1961, the Agent of the Belgian Government emphasised that the views of the Commission and the Belgian Government were identical concerning the compatibility with the Convention of Article 123 sexies of the Belgian Penal Code, as amended and superseded by the Act of 30th June 1961; he recalled that parliamentary work on the Act had begun as long ago as 1952 and he recognised that the opinion of the Commission had contributed to this task of law-making.',\n",
       "  'With regard to the past the Agent of the Belgian Government submitted that there was no longer any need for the Court to give a ruling on the request of the Commission concerning the former Article 123 sexies, whether it be to confirm the opinion of the Commission on this point or to reject it, as previously by the Belgian Government. The Agent of the Belgian Government added that there was no longer a single person in Belgium to whom the provisions of the former Article 123 sexies were applicable. The Agent of the Belgian Government went on to say that the Commission could not insist upon the Court giving its opinion regarding the past unless the Court assumed that the legislative changes of 30th June 1961 were late in taking place. The Agent pointed out that it was not the Court ’ s function to see whether these legislative changes were timely or not; if however, the Court did not share this point of view, the Belgian Government must be given an opportunity of replying to the arguments by which the Commission sought to justify its opinion.',\n",
       "  'The conclusions submitted by the Agent of the Belgian Government at the hearing of 5th October 1961 were as follows:',\n",
       "  '\"May it please the Court',\n",
       "  'Disregarding all other fuller or contrary submissions,',\n",
       "  'To state that there is no incompatibility between Article 123 sexies of the Belgian Penal Code, now supplemented and replaced by the Law of 30th June 1961, and the provisions of the Convention; Insofar as former Article 123 sexies of the same Code is concerned, to state that, in view of these circumstances, there is no further need to deal with any application concerning it.\"',\n",
       "  '23. At the same hearing of 5th October 1961 the Commission maintained that, in asking the Court to confirm the Commission ’ s opinion regarding the effect of applying the former Article 123 sexies to De Becker, it was asking the Court to state that De Becker had been the victim of a violation of Article 10 (art. 10) of the Convention between the entry into force of the Convention with respect to Belgium and promulgation of the Act of 30th June 1961.',\n",
       "  'The Commission submitted:',\n",
       "  '\"May it please the Court,',\n",
       "  'To say whether during the whole or part of the period between the entry into force of the Convention ( 14th June 1955 ) and the Act of 30th June 1961, the Applicant was the victim of a violation of Article 10 (art. 10) of the Convention.\"',\n",
       "  '24. After the hearing of 5th October 1961 De Becker addressed a memorandum to the Commission in which he stated that he considered \"that his Application to the Commission of Human Rights requesting the restitution of the right of free expression of which he was deprived under the former Article 123 sexies of the Belgian Penal Code has been met by the adoption in the Belgian Parliament of the Act of 30th June 1961\" and that he recognised that it \"gives everyone the possibility of regaining his or her full rights of free expression including that of political expression\". For this reason De Becker, at the end of the memorandum, said that he \"now regards it as unnecessary further to proceed with this case and withdraws his Application\". The Commission transmitted the text of the memorandum to the Court on 7th October 1961.',\n",
       "  '25. On 22nd January 1962 the Commission sent to the Court a memorandum dated 15th January 1962, entitled \"Reconsideration by the Commission of its Conclusions, having regard to the Applicant ’ s letter of 5th October 1961 \". Having regard to the new situation arising out of De Becker ’ s memorandum of 5th October 1961, the Commission, in its own memorandum, stated, inter alia, that neither the general interests of European public order nor the particular interest of the individual in the present case required it to ask the Court to pronounce on the question whether or not De Becker was the victim of a violation of the Convention in the period between the entry into force of the Convention with respect to Belgium and the entry into force of the Act of 30th June 1961. The Commission therefore emphasised that it wished to withdraw the submission made to the Court by the delegates of the Commission at the hearing on 5th October 1961, asking the Court to pronounce upon that question. The final submissions of the Commission, set forth in the above-mentioned memorandum, read as follows:',\n",
       "  '\"Accordingly, the Commission believes that the appropriate course for it to adopt on this question is to confine itself to submitting its point of view to the Court, which is as follows:',\n",
       "  '1. If the Court should consider that, in the situation which now exists in the case, the appropriate course is to terminate the proceedings and strike the case off the list on the basis of the Applicant ’ s interests having been met, the Commission, since it considers the provisions of the Belgian Penal Code now applicable to Mr. De Becker to be in conformity with the Convention, would not wish to oppose such a solution;',\n",
       "  '2. If the Court, however, were to consider that the general question of the interpretation and application of the Convention, to which attention has been drawn above, is of such a nature as to make it desirable for the Court to pronounce upon the compatibility with the Convention of the provisions of Article 123 sexies of the Belgian Penal Code, as modified and supplemented by the Law of 30th June 1961 and as now applicable to Mr. De Becker, the Commission would wish to ask the Court to decide:',\n",
       "  '(a) whether the compatibility with the Convention of Article 123 sexies of the Belgian Penal Code as amended and supplemented by the Law of 30th June 1961, should be determined with relation to Article 10 (art. 10) or, rather, with relation to Articles 2 to 7 (art. 2, art. 3, art. 4, art. 5, art. 6, art. 7), in other words, whether Article 10 (art. 10) is applicable in the present case;',\n",
       "  '(b) in the affirmative, whether paragraphs (e), (f) and (g) of Article 123 sexies, as amended, are compatible with Article 10 (art. 10) of the Convention;',\n",
       "  'and in deciding these questions, the Commission asks the Court:',\n",
       "  '(a) for the reasons stated in paragraph 263 of the Commission ’ s Report, to confirm its opinion that the powers of States to inflict penal sanctions and apply preventive measures recognised in Articles 2 to 7 (art. 2, art. 3, art. 4, art. 5, art. 6, art. 7) of the Convention do not of themselves suffice to justify the deprivation of freedom of expression in political matters now imposed on Mr. De Becker by Article 123 sexies and the Law of 30th June 1961; and that it is by reference to the provisions of Article 10 (art. 10) that the compatibility with the Convention of this restriction on his freedom of expression has to be appreciated;',\n",
       "  '(b) for the reasons stated in the Commission ’ s memorandum of 21st August 1961, to confirm its opinion that \"the limitations maintained by the Act of 30th June 1961 as regards freedom of expression, in so far as these apply to Mr. De Becker, do not go beyond the ‘ formalities, conditions, restrictions or penalties ’ authorised in Article 10, paragraph 2 (art. 10-2), of the Convention\".\"',\n",
       "  '26. The Belgian Government in its turn, in a memorandum deposited on 15th February 1962, said it shared the Commission ’ s opinion that the case could be struck off the list. In addition, the Belgian Government pointed out that, in the unlikely event of the Court nevertheless retaining the case for judgment, the difference of opinion between the Commission and the Belgian Government as to the compatibility of the new Act with Articles 2 to 7 (art. 2, art. 3, art. 4, art. 5, art. 6, art. 7) of the Convention rather than with Article 10 (art. 10), could only give rise to a purely academic argument, since the Commission and the Belgian Government both agreed that \"the restrictions on freedom of expression retained by the Act of 30th June 1961 in so far as they apply to Mr. De Becker in no case go beyond the formalities, conditions, restrictions or penalties permitted by paragraph 2 of Article 10 (art. 10-2) of the Convention\".',\n",
       "  'The Belgian Government accordingly requested the Court:',\n",
       "  '\"May it please the Court,',\n",
       "  'Setting aside all other fuller or contrary submissions, to strike the case off the list; or, failing that, to declare that no incompatibility exists between the provisions of the Convention and Article 123 sexies of the Belgian Penal Code as amended and supplemented by the Act of 30th June 1961 and as applicable at the present time to Mr. De Becker.\"',\n",
       "  '27. At the hearing of 19th February 1962 and, in particular, as regards the request that the case be struck off the list, the Agent of the Belgian Government was in favour of striking the case off the list as he found this solution to be logical and reasonable if one took into account that, in these proceedings, the Court was concerned with the submissions which affected the Applicant and the judgment should not, therefore, contain any appreciation of the merits.',\n",
       "  '28. At the same hearing on 19th February 1962, the Principal Delegate of the Commission submitted that it would be difficult to strike the case off the list if the Court had any doubts regarding the compatibility of a permanent loss of freedom of expression on political matters with Article 10 (art. 10) of the Convention: in spite, however, of the judicial recourse provided for in Section 4, paragraph (4), the Act of 30th June 1961 did not wholly exclude the possibility of such a permanent or perpetual loss: if, therefore, the Court was not absolutely convinced of the lawfulness of this particular restriction on the freedom of expression, the new Act of 30th June 1961 would still give rise to certain problems in regard to Article 10 (art. 10) of the Convention: in that event the Court would be justified in hesitating to strike the case off the list, in spite of De Becker ’ s declaration of \"discontinuance\" of 5th October 1961. The Principal Delegate of the Commission added that in this connection De Becker ’ s memorandum of 5th October 1961 should not be the only factor to be taken into account, although it was a factor of great weight. In the opinion of the Commission that declaration was not binding upon the Commission or the Court. If the Commission nonetheless thought that the case should be struck off the list, it did so because of its own conviction that the new legislation, as it applied to De Becker, was not at variance with the Convention. The Principal Delegate of the Commission went on to express the hope that the Court, in the event of its striking the case off the list, would avoid giving, in the reasons for its decision, the impression that the case brought before the Court had ceased to have any purpose for the only reason that the person who was the author of the Application before the Commission had declared that he wished to withdraw his Application.',\n",
       "  '29. Finally, the Principal Delegate and the Agent of the Belgian Government both confirmed, at the hearing of 19th February 1962, their own ultimate conclusions which are set forth in paragraphs 25 and 26 above.'],\n",
       " 'law': ['AS TO THE REQUEST AS TO STRIKE THE CASE OUT OF THE LIST',\n",
       "  '1. Whereas the case was referred to the Court by the Commission following the Report drawn up by the Commission in pursuance of Article 31 (art. 31) of the Convention; whereas the Commission ’ s request relates to the Application of De Becker, who claimed to be the victim of a violation by the Belgian Government of his right, under the European Convention, to freedom of expression, allegedly disregarded by Article 123 sexies of the Belgian Penal Code – which was applied to him - in that it prevented him from exercising his profession of journalist and author;',\n",
       "  '2. Whereas two events have occurred since the first exchange between the Commission and the Belgian Government of memorials before the Court, first, the promulgation on 30th June 1961 of the Belgian Act on civic screening, which amended Article 123 sexies of the Belgian Penal Code, and secondly, the letter addressed to the Commission on 5th October 1961 in which the Applicant, finding that his Application before the Commission has been met by the Act of 30th June 1961, states that he regards it as \"unnecessary further to proceed with this case and withdraws his Application\".',\n",
       "  '3. Whereas with regard to the Act of 30th June 1961, the Commission found in its final Conclusions \"that the limitations maintained by the Act of 30th June 1961 as regards freedom of expression, in so far as these apply to Mr. De Becker, do not go beyond the ‘ formalities, conditions, restrictions or penalties ’ authorised in Article 10, paragraph 2 (art. 10-2), of the Convention.\"',\n",
       "  '4. Whereas, with regard to the letter from De Becker, the statement therein contained, coming from an individual who is not entitled under the Convention to bring a case before the Court (Articles 44 and 48 of the Convention) (art. 44, art. 48), cannot possess the legal character or produce the effects of a notice of discontinuance of the present proceedings, as provided for in Rule 47 of the Rules of Court; whereas furthermore it is not binding on the Commission, which, as the defender of the public interest, had a duty to take the statement into account if it considered that it was a means of enlightening the Court on the points at issue;',\n",
       "  '5. Whereas the Commission did make known to the Court on 7th October 1961 the statement it had just received from De Becker, but insisted, at the hearing of 19th February 1962, that its ground for proposing that the case be struck off the list of the Court was, irrespective of the said statement, that, in its view, the Belgian Act of 30th June 1961 was in conformity with the requirements of the Convention, although the distinction between political and non-political participation in various activities relating to publication might give rise to certain problems of interpretation; whereas in its final Conclusions the Commission stated that \"if the Court should consider that, in the situation which now exists in the case, the appropriate course is to terminate the proceedings and strike the case off the list on the basis of the Applicant ’ s interests having been met, the Commission, since it considers the provisions of the Belgian Penal Code now applicable to De Becker to be in conformity with the Convention, would not wish to oppose such a solution\";',\n",
       "  '6. Whereas, lastly, the Commission, in its final Conclusions, has withdrawn its request made at the hearing of 5th October 1961 for a ruling as to whether the Applicant was the victim of a violation of the Convention during the period from 14th June 1955 when the Convention entered into force in regard to Belgium, and the entry into force of the Act of 30th June 1961;',\n",
       "  '7. Whereas the Belgian Government, too, in its final Conclusions adopted the opinion of the Commission and, as its principal submission, requested the Court \"to strike the case off the list\";',\n",
       "  '8. Whereas, with regard to the withdrawal by the Commission of its request relating to the period between 14th June 1955 and 30th June 1961, the Belgian Government has approved the said withdrawal, while maintaining that the former Article 123 sexies of the Belgian Penal Code was never in conflict with the provisions of the Convention;',\n",
       "  '9. Whereas, therefore, on the day the oral proceedings terminated, the two bodies appearing submitted to the Court final Conclusions which, though differently formulated, are concordant in that they ask that the case be struck off the list; whereas it follows from all the facts and submissions mentioned above that the proceedings instituted before the Court no longer have any purpose, following the amendment of Article 123 sexies by an Act of the Belgian State, Party to the case, and whereas, on general principles, it is fitting to comply with the request to strike off the list;',\n",
       "  '10. Whereas, however, Article 19 (art. 19) of the Convention confers on the Court a general responsibility to ensure the observance of the engagements undertaken by the High Contracting Parties to the Convention; whereas, for that purpose and in the special cases of discontinuance by the Party which brought the case before the Court (Rule 47, para. 1, of the Rules of Court) or of friendly settlement reached during the proceedings (Article 28 of the Convention and Rule 47, para. 3) (art. 28), it is provided that the Court, before striking a case off its list, is bound to satisfy itself, after having obtained the opinion of the Commission, that there is no objection thereto, in which event it may strike out the case only by means of a reasoned judgment;',\n",
       "  '11. Whereas the provisions referred to above do not directly cover the present case, where the request to strike the case off the list has been made by both sides - having regard to an Act of the Belgian State, a Party, which Act is recognised by the Commission as complying with the requirements of the Convention - but cover particular aspects of the Court ’ s supervisory duty;',\n",
       "  '12. Whereas the Court should therefore satisfy itself as to whether there are any grounds, such as might, in the person of De Becker, jeopardise the observance of the Human Rights set forth in the Convention, oppose the removal of the case from the list or oblige the Court to decide - as in the case covered by Rule 47, para. 2, of the Rules of Court - to proceed with the consideration of the case ex officio notwithstanding the latest conclusions of the Belgian Government and the Commission; whereas the Court must satisfy itself successively whether it should proceed with the case;',\n",
       "  '(a) as to whether De Becker was the victim of a violation of the Convention between the entry into force of the Convention with respect to Belgium and the entry into force of the Act of 30th June 1961;',\n",
       "  '(b) as to De Becker ’ s freedom of expression in the light of the provisions of Article 123 sexies of the Penal Code, as worded in the Act of 30th June 1961;',\n",
       "  '13. Whereas, with regard to the first question, the Court has no reason not to allow the concordant requests of the Commission and the Belgian Government that this question be not examined as to substance; whereas, although up to and including the hearing of 5th October 1961 there existed a divergence - already mentioned in the part of this judgment relating to the \"facts\" - between the views of the Commission and those of the Belgian Government as to whether former Article 123 sexies of the Belgian Penal Code had remained fully justified after ratification of the Convention by Belgium, the modification of the text of this Article which had in the meantime taken place has deprived this divergence of any interest - other than historic; whereas the Commission and the Belgian Government well understood this, as is shown in their final conclusions; whereas, moreover,',\n",
       "  'De Becker, in the letter of 5th October 1961, which there is no reason to believe does not express the free will of its author, regarded it as \"unnecessary further to proceed with this case\" and made no reservation or request for compensation in respect of the past; whereas, therefore, the Court considers that there is no need for it to give a decision on this question;',\n",
       "  '14. Whereas, with regard to the question of De Becker ’ s freedom of expression in the light of the provisions of Article 123 sexies of the Belgian Penal Code, as applicable to him under the Act of 30th June 1961; whereas the Belgian Government submitted that in the present state of legislation the Applicant regarded it as unnecessary to proceed with his Application and that there was no incompatibility between Article 123 sexies and the provisions of the Convention; whereas on 5th October 1961, that is to say prior to any statement by De Becker, the Commission, convinced of this compatibility, requested the Court to find that \"the limitations maintained by the Act of 30th June 1961 as regards freedom of expression, in so far as these apply to De Becker, do not go beyond the ‘ formalities, conditions, restrictions or penalties ’ authorised in Article 10, paragraph 2 (art. 10-2), of the Convention\"; whereas, in his turn De Becker, in his memorandum of 5th October 1961 addressed to the Commission, recognised that the Belgian Act of 30th June 1961 \"gives everyone the possibility of regaining his or her full rights of free expression including that of political expression\"; whereas the Court observes incidentally, though it has no bearing on its decision, that such recognition is all the more significant since it emanates from a person who had been sentenced for betraying his country and assisting an enemy whose victory would have led to the abolition of freedom of expression and would have made it impossible to implement any international instrument for the protection of human rights; Whereas it is true that in spite of its \"profound conviction\" that Belgian legislation complied with the Convention in regard to De Becker ’ s freedom of expression, the Commission expressed the opinion that the new Act seemed to raise a question of general importance in respect of the interpretation and implementation of the Convention, namely to what extent and in what circumstances an individual may be deprived of his right to freedom of expression in political matters in pursuance of a penal sanction or a preventive measure; whereas for this reason the Commission suggested, rather than asked, that this part of the case be struck off the list, in order to respect the Court ’ s right of appreciation; But whereas, although an individual who has lodged an application with the Commission has no right to bring a case before the Court, no one should forget the origins of a case such as this one brought before the Court by the Commission which had been petitioned in pursuance of Article 25 (art. 25) of the Convention on foot of an allegation that the rights of an individual Applicant were violated as a result of the application to him of legislative provisions in force in his country; whereas the Court is not called upon, under Articles 19 and 25 (art. 19, art. 25) of the Convention, to give a decision on an abstract problem relating to the compatibility of that Act with the provisions of the Convention, but on the specific case of the application of such an Act to the Applicant and to the extent to which the latter would, as a result, be prevented from exercising one of the rights guaranteed by the Convention;',\n",
       "  '15. Whereas, therefore, were implementation of the new Belgian Act to raise problems of interpretation, it would not be incumbent upon the Court - since in the present instance striking the case off the list as requested by both the Belgian Government, as a Party to the case, and the Commission is not likely to prejudice the fundamental freedoms of the author of the original application - to give ex officio a decision on such problems;',\n",
       "  '16. Whereas, finally, no particular circumstance of the De Becker case justifies it being kept on the list in opposition to the concordant submissions of the Commission and the Belgian Government, and whereas, therefore, there is no need to proceed ex officio with the case;',\n",
       "  '17. Whereas there is accordingly no cause to examine the subsidiary conclusions of the Commission or of the Belgian Government;']}"
      ]
     },
     "execution_count": 3,
     "metadata": {},
     "output_type": "execute_result"
    }
   ],
   "source": [
    "ecthr_dataset[0]"
   ]
  },
  {
   "cell_type": "code",
   "execution_count": 4,
   "id": "7bdce797",
   "metadata": {},
   "outputs": [
    {
     "data": {
      "text/plain": [
       "Dataset({\n",
       "    features: ['appno', 'date', 'citations', 'facts', 'law'],\n",
       "    num_rows: 7000\n",
       "})"
      ]
     },
     "execution_count": 4,
     "metadata": {},
     "output_type": "execute_result"
    }
   ],
   "source": [
    "ecthr_workshop = ecthr_dataset.filter(lambda x: len(x['citations']) > 5)\n",
    "current_ecthr_workshop = ecthr_workshop.select(range(7000))\n",
    "current_ecthr_workshop"
   ]
  },
  {
   "cell_type": "code",
   "execution_count": 5,
   "id": "422151c8",
   "metadata": {},
   "outputs": [],
   "source": [
    "import ipdb\n",
    "\n",
    "\n",
    "def construct_prev_text_gold_text(record):\n",
    "    \n",
    "    facts = record['facts']\n",
    "    gold_text = record['law']\n",
    "    citations = record['citations']\n",
    "    prev_text = ' '.join(facts)\n",
    "    all_potential_gold_text = windowed_complete(gold_text, 2)\n",
    "    all_potential_gold_text = [(' '.join(beginning), ' '.join(sents)) for beginning, sents, _ in all_potential_gold_text]\n",
    "    for potential_prev_text, potential_gold_text in all_potential_gold_text:\n",
    "        existing_citations = [citation for citation in citations if citation in potential_gold_text]\n",
    "        if len(existing_citations) >= 2: # same as clerc\n",
    "            prev_text = ' '.join([prev_text, potential_prev_text])\n",
    "            return {\n",
    "                \"prev_text\": prev_text,\n",
    "                \"gold_text\": potential_gold_text,\n",
    "                \"citations\": existing_citations\n",
    "                }\n",
    "    return {\n",
    "        \"prev_text\": prev_text,\n",
    "        \"gold_text\": None,\n",
    "        \"citations\": citations\n",
    "    }\n",
    "    \n",
    "current_ecthr_workshop = current_ecthr_workshop.map(construct_prev_text_gold_text, num_proc=num_proc)"
   ]
  },
  {
   "cell_type": "code",
   "execution_count": 6,
   "id": "f015cc7e",
   "metadata": {},
   "outputs": [
    {
     "data": {
      "text/plain": [
       "Dataset({\n",
       "    features: ['appno', 'prev_text', 'gold_text', 'citations'],\n",
       "    num_rows: 6000\n",
       "})"
      ]
     },
     "execution_count": 6,
     "metadata": {},
     "output_type": "execute_result"
    }
   ],
   "source": [
    "current_ecthr_workshop = current_ecthr_workshop.filter(lambda x: x['gold_text'] is not None)\n",
    "current_ecthr_workshop = current_ecthr_workshop.select_columns(['appno', 'prev_text', 'gold_text', 'citations'])\n",
    "current_ecthr_workshop = current_ecthr_workshop.select(range(6000))\n",
    "current_ecthr_workshop"
   ]
  },
  {
   "cell_type": "code",
   "execution_count": 7,
   "id": "df46ace6",
   "metadata": {},
   "outputs": [
    {
     "data": {
      "text/plain": [
       "DatasetDict({\n",
       "    train: Dataset({\n",
       "        features: ['appno', 'previous_text', 'gold_text', 'citations'],\n",
       "        num_rows: 5000\n",
       "    })\n",
       "    test: Dataset({\n",
       "        features: ['appno', 'previous_text', 'gold_text', 'citations'],\n",
       "        num_rows: 1000\n",
       "    })\n",
       "})"
      ]
     },
     "execution_count": 7,
     "metadata": {},
     "output_type": "execute_result"
    }
   ],
   "source": [
    "split_current_ecthr_workshop = current_ecthr_workshop.train_test_split(test_size=0.16651)\n",
    "split_current_ecthr_workshop = split_current_ecthr_workshop.rename_column('prev_text', 'previous_text')\n",
    "split_current_ecthr_workshop"
   ]
  },
  {
   "cell_type": "code",
   "execution_count": 8,
   "id": "4bf4ad1d",
   "metadata": {},
   "outputs": [
    {
     "data": {
      "text/plain": [
       "DatasetDict({\n",
       "    train: Dataset({\n",
       "        features: ['appno', 'previous_text', 'gold_text', 'citations'],\n",
       "        num_rows: 5000\n",
       "    })\n",
       "    test: Dataset({\n",
       "        features: ['appno', 'previous_text', 'gold_text', 'citations'],\n",
       "        num_rows: 1000\n",
       "    })\n",
       "})"
      ]
     },
     "execution_count": 8,
     "metadata": {},
     "output_type": "execute_result"
    }
   ],
   "source": [
    "split_current_ecthr_workshop"
   ]
  },
  {
   "cell_type": "code",
   "execution_count": 9,
   "id": "ffdc7e03",
   "metadata": {},
   "outputs": [
    {
     "data": {
      "application/vnd.jupyter.widget-view+json": {
       "model_id": "57274354ce8d4604804faf3de3dd49c8",
       "version_major": 2,
       "version_minor": 0
      },
      "text/plain": [
       "Uploading the dataset shards:   0%|          | 0/1 [00:00<?, ?it/s]"
      ]
     },
     "metadata": {},
     "output_type": "display_data"
    },
    {
     "data": {
      "application/vnd.jupyter.widget-view+json": {
       "model_id": "ec67f19fb8df49e0a3d8c3fab90c8e83",
       "version_major": 2,
       "version_minor": 0
      },
      "text/plain": [
       "Creating parquet from Arrow format:   0%|          | 0/5 [00:00<?, ?ba/s]"
      ]
     },
     "metadata": {},
     "output_type": "display_data"
    },
    {
     "data": {
      "application/vnd.jupyter.widget-view+json": {
       "model_id": "6f275680dfaf4b0eae3bedb06474b7dd",
       "version_major": 2,
       "version_minor": 0
      },
      "text/plain": [
       "Uploading the dataset shards:   0%|          | 0/1 [00:00<?, ?it/s]"
      ]
     },
     "metadata": {},
     "output_type": "display_data"
    },
    {
     "data": {
      "application/vnd.jupyter.widget-view+json": {
       "model_id": "6e7aed96e0824472ae0dcea8ea49ff10",
       "version_major": 2,
       "version_minor": 0
      },
      "text/plain": [
       "Creating parquet from Arrow format:   0%|          | 0/1 [00:00<?, ?ba/s]"
      ]
     },
     "metadata": {},
     "output_type": "display_data"
    },
    {
     "data": {
      "application/vnd.jupyter.widget-view+json": {
       "model_id": "9300d1127b1d4567976d9e58f179aac4",
       "version_major": 2,
       "version_minor": 0
      },
      "text/plain": [
       "README.md:   0%|          | 0.00/528 [00:00<?, ?B/s]"
      ]
     },
     "metadata": {},
     "output_type": "display_data"
    },
    {
     "data": {
      "text/plain": [
       "CommitInfo(commit_url='https://huggingface.co/datasets/ylkhayat/ECHR-generation-workshop/commit/35f02732a99b1e447bac4b5ee763aa2d845ac88c', commit_message='Upload dataset', commit_description='', oid='35f02732a99b1e447bac4b5ee763aa2d845ac88c', pr_url=None, repo_url=RepoUrl('https://huggingface.co/datasets/ylkhayat/ECHR-generation-workshop', endpoint='https://huggingface.co', repo_type='dataset', repo_id='ylkhayat/ECHR-generation-workshop'), pr_revision=None, pr_num=None)"
      ]
     },
     "execution_count": 9,
     "metadata": {},
     "output_type": "execute_result"
    }
   ],
   "source": [
    "\n",
    "echr_workshop_hf_name = f\"ECHR-generation-workshop\"\n",
    "split_current_ecthr_workshop.push_to_hub(f\"ylkhayat/{echr_workshop_hf_name}\", data_dir=\"data\")"
   ]
  },
  {
   "cell_type": "code",
   "execution_count": 10,
   "id": "705973ac-28f0-4af6-8799-80d6ffe230ea",
   "metadata": {},
   "outputs": [],
   "source": [
    "from pymongo import MongoClient\n",
    "import re\n",
    "import pandas as pd\n",
    "\n",
    "# db connection setup\n",
    "URI = \"mongodb://%s:%s@f27se1.in.tum.de:27017/echr\" % (\"echr_read\", \"echr_read\")# local\n",
    "# URI = \"mongodb://%s:%s@localhost:27017/echr\" % (\"echr_read\", \"echr_read\") # server\n",
    "client = MongoClient(URI)\n",
    "database = client['echr']\n",
    "# db setup\n",
    "hejud = database[\"hejud\"]"
   ]
  },
  {
   "cell_type": "code",
   "execution_count": 11,
   "id": "0ccdebac-1123-42ff-bf54-7376d9c1b819",
   "metadata": {},
   "outputs": [
    {
     "data": {
      "text/plain": [
       "['_id',\n",
       " 'originatingbody',\n",
       " 'ECHRRanking',\n",
       " 'appnoparts',\n",
       " 'representedby',\n",
       " 'sharepointid',\n",
       " 'typedescription',\n",
       " 'resolutionnumber',\n",
       " 'nonviolation',\n",
       " 'scl',\n",
       " 'organisations',\n",
       " 'documentcollectionid',\n",
       " 'judges',\n",
       " 'courts',\n",
       " 'conclusion',\n",
       " 'documentcollectionid2',\n",
       " 'meetingnumber',\n",
       " 'externalsources',\n",
       " 'doctypebranch',\n",
       " 'appno',\n",
       " 'respondent',\n",
       " 'application',\n",
       " 'importance',\n",
       " 'extractedappno',\n",
       " 'kpdateAsText',\n",
       " 'rulesofcourt',\n",
       " 'ecli',\n",
       " 'isplaceholder',\n",
       " 'Rank',\n",
       " 'violation',\n",
       " 'publishedby',\n",
       " 'judgementdate',\n",
       " 'dmdocnumber',\n",
       " 'sclappnos',\n",
       " 'separateopinion',\n",
       " 'doctype',\n",
       " 'languageisocode',\n",
       " 'introductiondate',\n",
       " 'reportdate',\n",
       " 'kpthesaurus',\n",
       " 'issue',\n",
       " 'applicability',\n",
       " 'languagenumber',\n",
       " 'docname',\n",
       " 'article',\n",
       " 'counter',\n",
       " 'kpdate',\n",
       " 'doctext_html',\n",
       " 'doctext_pdf',\n",
       " 'scl_array',\n",
       " 'doc_text',\n",
       " 'pdf',\n",
       " 'html',\n",
       " 'START',\n",
       " 'PROCEDURE',\n",
       " 'INTRODUCTION',\n",
       " 'PROCEDURE_AND_FACTS',\n",
       " 'FACTS',\n",
       " 'RELEVANT_LEGAL_FRAMEWORK',\n",
       " 'RELEVANT_DOMESTIC_LAW',\n",
       " 'LAW',\n",
       " 'PROCEEDINGS_BEFORE_THE_COMMISSION',\n",
       " 'FINAL_SUBMISSIONS_MADE_TO_THE_COURT_BY_THE_GOVERNMENT',\n",
       " 'FINAL_SUBMISSIONS_TO_THE_COURT',\n",
       " 'COURT_CONCLUSION',\n",
       " 'SEPARATE_OPINION',\n",
       " 'SUPPLEMENTARY_OBSERVATIONS',\n",
       " 'FULL_TEXT',\n",
       " 'sentences',\n",
       " 'FACTS_segmented',\n",
       " 'FACTS_segmented_no_headers',\n",
       " 'FACTS_segmented_new',\n",
       " 'FACTS_segmented_no_headers_new',\n",
       " 'PCR_FACTS',\n",
       " 'PCR_REMAINDER',\n",
       " 'PCR_CONCLUSION',\n",
       " 'PCR_REMAINDER_REMAINDER',\n",
       " 'SCL_EXTRACTIONS',\n",
       " 'articles_from_conclusion',\n",
       " 'articles_from_header_sentences',\n",
       " 'articles_merged',\n",
       " 'V_DOT_EXTRACTIONS',\n",
       " 'SCL_APPNO_DIRECT',\n",
       " 'APPNO_DIRECT',\n",
       " 'APPNOS_MERGE',\n",
       " 'APPNOS_MERGE2',\n",
       " 'split_votes']"
      ]
     },
     "execution_count": 11,
     "metadata": {},
     "output_type": "execute_result"
    }
   ],
   "source": [
    "# Overview of all of the fields currently available. Some post-processing fields are optional, so not all documents have them.\n",
    "['_id', 'originatingbody', 'ECHRRanking', 'appnoparts', 'representedby', 'sharepointid', 'typedescription', 'resolutionnumber', 'nonviolation', 'scl', 'organisations', 'documentcollectionid', 'judges', 'courts', 'conclusion', 'documentcollectionid2', 'meetingnumber', 'externalsources', 'doctypebranch', 'appno', 'respondent', 'application', 'importance', 'extractedappno', 'kpdateAsText', 'rulesofcourt', 'ecli', 'isplaceholder', 'Rank', 'violation', 'publishedby', 'judgementdate', 'dmdocnumber', 'sclappnos', 'separateopinion', 'doctype', 'languageisocode', 'introductiondate', 'reportdate', 'kpthesaurus', 'issue', 'applicability', 'languagenumber', 'docname', 'article', 'counter', 'kpdate', 'doctext_html', 'doctext_pdf', 'scl_array', 'doc_text', 'pdf', 'html', 'START', 'PROCEDURE', 'INTRODUCTION', 'PROCEDURE_AND_FACTS', 'FACTS', 'RELEVANT_LEGAL_FRAMEWORK', 'RELEVANT_DOMESTIC_LAW', 'LAW', 'PROCEEDINGS_BEFORE_THE_COMMISSION', 'FINAL_SUBMISSIONS_MADE_TO_THE_COURT_BY_THE_GOVERNMENT', 'FINAL_SUBMISSIONS_TO_THE_COURT', 'COURT_CONCLUSION', 'SEPARATE_OPINION', 'SUPPLEMENTARY_OBSERVATIONS', 'FULL_TEXT', 'sentences', 'FACTS_segmented', 'FACTS_segmented_no_headers', 'FACTS_segmented_new', 'FACTS_segmented_no_headers_new', 'PCR_FACTS', 'PCR_REMAINDER', 'PCR_CONCLUSION', 'PCR_REMAINDER_REMAINDER', 'SCL_EXTRACTIONS', 'articles_from_conclusion', 'articles_from_header_sentences', 'articles_merged', 'V_DOT_EXTRACTIONS', 'SCL_APPNO_DIRECT', 'APPNO_DIRECT', 'APPNOS_MERGE', 'APPNOS_MERGE2', 'split_votes']"
   ]
  },
  {
   "cell_type": "code",
   "execution_count": null,
   "id": "ddb986d7",
   "metadata": {},
   "outputs": [
    {
     "name": "stderr",
     "output_type": "stream",
     "text": [
      "0it [00:00, ?it/s]"
     ]
    },
    {
     "name": "stderr",
     "output_type": "stream",
     "text": [
      "3413it [00:03, 1013.77it/s]\n"
     ]
    }
   ],
   "source": [
    "all_citations = split_current_ecthr_workshop['train']['citations'] + split_current_ecthr_workshop['test']['citations']\n",
    "all_appnos = split_current_ecthr_workshop['train']['appno'] + split_current_ecthr_workshop['test']['appno']\n",
    "all_set_citations = set([item for sublist in all_citations for item in sublist])\n",
    "all_set_appnos = set(all_appnos)\n",
    "all_citations_dict_text = {}\n",
    "for doc in tqdm(hejud.find({\"appno\": {\"$in\": list(all_set_citations)}})):\n",
    "    full_text = ' '.join(doc['sentences'])\n",
    "    for app_no in doc['appno']:\n",
    "        all_citations_dict_text[app_no] = full_text\n",
    "\n",
    "\n"
   ]
  },
  {
   "cell_type": "code",
   "execution_count": 14,
   "id": "a6bee852",
   "metadata": {},
   "outputs": [
    {
     "data": {
      "application/vnd.jupyter.widget-view+json": {
       "model_id": "aaae9759adcb4fcc8b9d32a322a892e3",
       "version_major": 2,
       "version_minor": 0
      },
      "text/plain": [
       "Map (num_proc=43):   0%|          | 0/5000 [00:00<?, ? examples/s]"
      ]
     },
     "metadata": {},
     "output_type": "display_data"
    },
    {
     "data": {
      "application/vnd.jupyter.widget-view+json": {
       "model_id": "3340c61b337d4d069ebbae9365561432",
       "version_major": 2,
       "version_minor": 0
      },
      "text/plain": [
       "Map (num_proc=43):   0%|          | 0/1000 [00:00<?, ? examples/s]"
      ]
     },
     "metadata": {},
     "output_type": "display_data"
    }
   ],
   "source": [
    "def get_citation_text(record):\n",
    "    citations = record['citations']\n",
    "    new_citations = []\n",
    "    for citation in citations:\n",
    "        citation_text = all_citations_dict_text[citation]\n",
    "        if not citation_text:\n",
    "            raise ValueError(f\"[!] oh no! {citation} not found!\")\n",
    "        new_citations.append([citation, citation_text])\n",
    "    return { \"citations\": new_citations }\n",
    "        \n",
    "split_current_ecthr_workshop = split_current_ecthr_workshop.map(get_citation_text, num_proc=num_proc)"
   ]
  },
  {
   "cell_type": "code",
   "execution_count": 18,
   "id": "dadd8492",
   "metadata": {},
   "outputs": [
    {
     "data": {
      "application/vnd.jupyter.widget-view+json": {
       "model_id": "12c2128bbbda4a8084d3ec548812a832",
       "version_major": 2,
       "version_minor": 0
      },
      "text/plain": [
       "Uploading the dataset shards:   0%|          | 0/3 [00:00<?, ?it/s]"
      ]
     },
     "metadata": {},
     "output_type": "display_data"
    },
    {
     "data": {
      "application/vnd.jupyter.widget-view+json": {
       "model_id": "bba9d910e702419ab021d32498b8cb53",
       "version_major": 2,
       "version_minor": 0
      },
      "text/plain": [
       "Creating parquet from Arrow format:   0%|          | 0/2 [00:00<?, ?ba/s]"
      ]
     },
     "metadata": {},
     "output_type": "display_data"
    },
    {
     "data": {
      "application/vnd.jupyter.widget-view+json": {
       "model_id": "73e53c0e8c9948d9ba2bbd27af1137b7",
       "version_major": 2,
       "version_minor": 0
      },
      "text/plain": [
       "Creating parquet from Arrow format:   0%|          | 0/2 [00:00<?, ?ba/s]"
      ]
     },
     "metadata": {},
     "output_type": "display_data"
    },
    {
     "data": {
      "application/vnd.jupyter.widget-view+json": {
       "model_id": "408cf348143641ce9202ecf6faa4a615",
       "version_major": 2,
       "version_minor": 0
      },
      "text/plain": [
       "Creating parquet from Arrow format:   0%|          | 0/2 [00:00<?, ?ba/s]"
      ]
     },
     "metadata": {},
     "output_type": "display_data"
    },
    {
     "data": {
      "application/vnd.jupyter.widget-view+json": {
       "model_id": "4fefb2b0c34f421298a3739c504fecd4",
       "version_major": 2,
       "version_minor": 0
      },
      "text/plain": [
       "Uploading the dataset shards:   0%|          | 0/1 [00:00<?, ?it/s]"
      ]
     },
     "metadata": {},
     "output_type": "display_data"
    },
    {
     "data": {
      "application/vnd.jupyter.widget-view+json": {
       "model_id": "b8743a045e8c41d1832ee70eb5df8970",
       "version_major": 2,
       "version_minor": 0
      },
      "text/plain": [
       "Creating parquet from Arrow format:   0%|          | 0/1 [00:00<?, ?ba/s]"
      ]
     },
     "metadata": {},
     "output_type": "display_data"
    },
    {
     "data": {
      "application/vnd.jupyter.widget-view+json": {
       "model_id": "46e55f91912c4ec0b018c7ffcf8f332b",
       "version_major": 2,
       "version_minor": 0
      },
      "text/plain": [
       "README.md:   0%|          | 0.00/528 [00:00<?, ?B/s]"
      ]
     },
     "metadata": {},
     "output_type": "display_data"
    },
    {
     "data": {
      "text/plain": [
       "CommitInfo(commit_url='https://huggingface.co/datasets/ylkhayat/ECHR-generation-workshop/commit/1a6f34611f697db0faae17f21657821c5059696f', commit_message='Upload dataset', commit_description='', oid='1a6f34611f697db0faae17f21657821c5059696f', pr_url=None, repo_url=RepoUrl('https://huggingface.co/datasets/ylkhayat/ECHR-generation-workshop', endpoint='https://huggingface.co', repo_type='dataset', repo_id='ylkhayat/ECHR-generation-workshop'), pr_revision=None, pr_num=None)"
      ]
     },
     "execution_count": 18,
     "metadata": {},
     "output_type": "execute_result"
    }
   ],
   "source": [
    "split_current_ecthr_workshop.push_to_hub(f\"ylkhayat/{echr_workshop_hf_name}\", data_dir=\"data\")"
   ]
  },
  {
   "cell_type": "code",
   "execution_count": 13,
   "id": "417d8804",
   "metadata": {},
   "outputs": [],
   "source": [
    "import json\n",
    "\n",
    "\n",
    "with open(\"all_citations_dict_text.jsonl\", \"w\") as f:\n",
    "    for key, value in all_citations_dict_text.items():\n",
    "        f.write(json.dumps({key: value}) + '\\n')"
   ]
  },
  {
   "cell_type": "code",
   "execution_count": null,
   "id": "ab3d81fe-73aa-4db4-9858-0184177ad0ff",
   "metadata": {},
   "outputs": [],
   "source": [
    "# Getting an example document. NOTE (!!!): Because not all documents include all fields, might need to rerun this to find\n",
    "# a useful document.\n",
    "# doc = hejud.find_one() # one way, doesn't randomly sample\n",
    "\n",
    "# Sample at random:\n",
    "docs = hejud.aggregate([{ '$sample': { 'size': 25 } }])\n",
    "docs = list(docs)\n",
    "\n",
    "\n",
    "for doc in docs:\n",
    "    print('THE LAW' in doc['PCR_REMAINDER_REMAINDER'])\n",
    "doc = docs[0]"
   ]
  },
  {
   "cell_type": "code",
   "execution_count": null,
   "id": "74cf1e6b-c9d4-4ad1-becb-dd9394ad5163",
   "metadata": {},
   "outputs": [],
   "source": [
    "# Note: Earlier ones are original from the database. Fields post 'START' field have been added in postprocessing. Rashid's work begins\n",
    "# at field 'sentences' and those are the most accurate.\n",
    "print(doc.keys())"
   ]
  },
  {
   "cell_type": "code",
   "execution_count": null,
   "id": "ea67051f-bc64-4554-9d15-dd16c8f01489",
   "metadata": {},
   "outputs": [],
   "source": [
    "# From the original metadata, the most important fields when working with ECHR data are:\n",
    "print(doc['_id'])\n",
    "print(doc['appno'])\n",
    "print(doc['docname'])"
   ]
  },
  {
   "cell_type": "code",
   "execution_count": 22,
   "id": "4df137a2-cc74-45ca-8fcf-97006fe1c72d",
   "metadata": {},
   "outputs": [],
   "source": [
    "# The db is structured into docs which mirror the pages on the HUDOC website. A case has a unique application number,\n",
    "# but can be linked to multiple such documents if there were revisions."
   ]
  },
  {
   "cell_type": "code",
   "execution_count": 23,
   "id": "b265b2e0-2d0e-4f40-a9a4-783209eaec5a",
   "metadata": {},
   "outputs": [],
   "source": [
    "# I have parsed the html carefully and the resulting fields are the fairest compromise between granularity and\n",
    "# error rate. Unfortunately, the documents had deceptively similar, but not perfectly consistent structure. I\n",
    "# handled as many exceptions as possible.\n",
    "\n",
    "# Overall, the lowest common denominator was to preserve sentence level splits, where a sentence is most commonly a paragraph\n",
    "# from the case. A paragraph typically begins with a number, other than the document and section headers. Note that subparagraphs\n",
    "# can include their own numbering systems."
   ]
  },
  {
   "cell_type": "code",
   "execution_count": null,
   "id": "99dc4f5a-28fe-4afe-ab23-dcf16929ee2e",
   "metadata": {},
   "outputs": [],
   "source": [
    "# In the event that you would like to draw upon the original html, refer to:\n",
    "print(doc['html'])"
   ]
  },
  {
   "cell_type": "code",
   "execution_count": null,
   "id": "a3988b65-08a9-486c-9991-9bf74f4470b7",
   "metadata": {},
   "outputs": [],
   "source": [
    "# Most likely, you would like to access one abstraction level higher: the sentence level plain text.\n",
    "# This is preserved as a list of strings.\n",
    "\n",
    "print(doc['sentences'])"
   ]
  },
  {
   "cell_type": "code",
   "execution_count": null,
   "id": "00771270-ebb5-4216-957a-916c59dbd3c9",
   "metadata": {},
   "outputs": [],
   "source": [
    "# The advantage of the ECHR judgements is that they have distinct sections for facts, legal reasoning, etc.\n",
    "# The breakpoints are somewhat regular (common headers), and I handled most exceptions. The following fields encode lists\n",
    "# of strings for each section:\n",
    "print([doc_key for doc_key in doc.keys() if \"REMAINDER\" in doc_key])\n",
    "# Facts\n",
    "print(doc['PCR_FACTS'])\n",
    "# Law\n",
    "print(doc['PCR_REMAINDER_REMAINDER'])\n",
    "# Conclusion\n",
    "print(doc['PCR_CONCLUSION'])"
   ]
  },
  {
   "cell_type": "code",
   "execution_count": null,
   "id": "4a40cc6e-6556-4ed8-bf87-82c0f6a61908",
   "metadata": {},
   "outputs": [],
   "source": [
    "# ECHR judgements cite prior cases if they are relevant. The citation structure is only somewhat consistent.\n",
    "# A lot of effort was invested to parse a citation graph accross the documents. The precision and recall are 0.86 and 0.89 respectively.\n",
    "# The various mining strategies and their precursors are stored in the following fields:\n",
    "\n",
    "# Strasbourg case law citations (the scrape included these citations in a metadata page, which appear to be manually extracted from the doc.\n",
    "# Some include appnos, which we stored in APPNO_DIRECT. Others required more sophisticated, error prone matching.\n",
    "# print(doc['SCL_EXTRACTIONS'])\n",
    "# print(doc['SCL_APPNO_DIRECT'])\n",
    "\n",
    "# Citations from the text, whenever v. occured. Not all citations included a defendant, so v. was not a sufficient indicator of a citation.\n",
    "# print(doc['V_DOT_EXTRACTIONS'])\n",
    "\n",
    "# Citations where the appnos are mentioned. Also not consistently available. Occasionally erroneous when referring to a different case\n",
    "# numbering system, like from a national court (mostly dealt with).\n",
    "# print(doc['APPNO_DIRECT'])\n",
    "\n",
    "\n",
    "# A merged set of these strategies. This is the final list of cases cited by a given case.\n",
    "# print(doc['APPNOS_MERGE'])\n",
    "print(doc['APPNOS_MERGE2'])\n",
    "# print(doc['APPNO_DIRECT'])\n"
   ]
  },
  {
   "cell_type": "code",
   "execution_count": null,
   "id": "a9aca55c-ac5f-4c11-8396-d646845e6fd1",
   "metadata": {},
   "outputs": [],
   "source": [
    "# Judgements are made at the article level for each article that is believed to be violated.\n",
    "# The list of such alleged article violations has been mined and stored at:\n",
    "print(doc['articles_merged'])\n",
    "\n",
    "# The set originates from to mining strategies of different sections. For the components, see:\n",
    "# print(doc['articles_from_conclusion'])\n",
    "# print(doc['articles_from_header_sentences'])"
   ]
  },
  {
   "cell_type": "code",
   "execution_count": null,
   "id": "f28ab7ba-589c-430e-a477-7ed2c404a420",
   "metadata": {},
   "outputs": [],
   "source": [
    "# Judgements are made by a vote of multiple judges for each article. The outcome of these votes has been mined and stored at:\n",
    "print(doc['split_votes'])"
   ]
  },
  {
   "cell_type": "code",
   "execution_count": null,
   "id": "ace4ce66-0093-4682-95a7-c3eb2aac96ba",
   "metadata": {},
   "outputs": [],
   "source": []
  }
 ],
 "metadata": {
  "kernelspec": {
   "display_name": "retrieval",
   "language": "python",
   "name": "python3"
  },
  "language_info": {
   "codemirror_mode": {
    "name": "ipython",
    "version": 3
   },
   "file_extension": ".py",
   "mimetype": "text/x-python",
   "name": "python",
   "nbconvert_exporter": "python",
   "pygments_lexer": "ipython3",
   "version": "3.10.15"
  }
 },
 "nbformat": 4,
 "nbformat_minor": 5
}
