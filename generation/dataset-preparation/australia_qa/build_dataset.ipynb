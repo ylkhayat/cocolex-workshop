{
 "cells": [
  {
   "cell_type": "code",
   "execution_count": null,
   "metadata": {},
   "outputs": [],
   "source": [
    "from datasets import load_dataset\n",
    "\n",
    "dataset = load_dataset(\"umarbutler/open-australian-legal-qa\")\n",
    "documents_dataset = load_dataset(\"umarbutler/open-australian-legal-corpus\")"
   ]
  },
  {
   "cell_type": "code",
   "execution_count": null,
   "metadata": {},
   "outputs": [],
   "source": [
    "dataset"
   ]
  },
  {
   "cell_type": "code",
   "execution_count": null,
   "metadata": {},
   "outputs": [],
   "source": [
    "from tqdm import tqdm\n",
    "\n",
    "corpus_dict = {item['version_id']: item['text'] for item in tqdm(documents_dataset['corpus'])}"
   ]
  },
  {
   "cell_type": "code",
   "execution_count": null,
   "metadata": {},
   "outputs": [],
   "source": [
    "import json\n",
    "\n",
    "print(json.dumps(dataset['train'][1], indent=2))"
   ]
  },
  {
   "cell_type": "code",
   "execution_count": 36,
   "metadata": {},
   "outputs": [],
   "source": [
    "from datasets import DatasetDict\n",
    "\n",
    "dataset = DatasetDict({\n",
    "    'test': dataset['train']\n",
    "})"
   ]
  },
  {
   "cell_type": "code",
   "execution_count": null,
   "metadata": {},
   "outputs": [],
   "source": [
    "# import spacy\n",
    "import os\n",
    "import re\n",
    "\n",
    "num_proc=os.cpu_count()\n",
    "\n",
    "# from more_itertools import windowed\n",
    "# nlp = spacy.load(\"en_core_web_sm\")\n",
    "\n",
    "# def chunk_document(document):\n",
    "#     doc = nlp(document)\n",
    "#     sentences = [sent.text for sent in doc.sents]\n",
    "#     return sentences\n",
    "\n",
    "def process_record(record):\n",
    "    gold_text = record['answer']\n",
    "    source = record['source']\n",
    "    previous_text = record['question']\n",
    "    document_id = source['version_id']\n",
    "    source_citation = source['citation']\n",
    "    if document_id not in corpus_dict:\n",
    "        return {\n",
    "            'previous_text': previous_text,\n",
    "            'gold_text': gold_text,\n",
    "            'citations': [[source_citation, \"\"]],\n",
    "            'valid': False, \n",
    "        }\n",
    "    document = re.sub(r'\\n+', '\\n', corpus_dict[document_id])\n",
    "    citations = [[source_citation, document]]\n",
    "    # sentences = chunk_document(source_document)\n",
    "    # oracle_documents_passages = []\n",
    "    # for sentence in windowed(sentences, 5, fillvalue=\"\", step=2):\n",
    "    #     section = \" \".join([s for s in sentence if (s is not None and len(s.strip()) > 0)])\n",
    "    #     oracle_documents_passages.append([document_id, section])\n",
    "    return {\n",
    "        'previous_text': previous_text,\n",
    "        'gold_text': gold_text,\n",
    "        'citations': citations,\n",
    "        'valid': True,\n",
    "        # 'oracle_documents_passages': oracle_documents_passages,\n",
    "    }\n",
    "\n",
    "dataset = dataset.map(process_record, num_proc=num_proc)"
   ]
  },
  {
   "cell_type": "code",
   "execution_count": null,
   "metadata": {},
   "outputs": [],
   "source": [
    "dataset = dataset.map(lambda _, idx: {'docid': str(idx + 1)}, with_indices=True)"
   ]
  },
  {
   "cell_type": "code",
   "execution_count": null,
   "metadata": {},
   "outputs": [],
   "source": [
    "new_dataset = DatasetDict({\n",
    "    'train': dataset['test'].filter(lambda x: not x['valid']),\n",
    "    'test': dataset['test'].filter(lambda x: x['valid'])\n",
    "})\n",
    "new_dataset"
   ]
  },
  {
   "cell_type": "code",
   "execution_count": null,
   "metadata": {},
   "outputs": [],
   "source": [
    "new_dataset = new_dataset.select_columns(['docid', 'previous_text', 'gold_text', 'citations'])\n",
    "new_dataset"
   ]
  },
  {
   "cell_type": "code",
   "execution_count": null,
   "metadata": {},
   "outputs": [],
   "source": [
    "new_dataset.push_to_hub(\"ylkhayat/OAL_QA-generation-workshop\", data_dir=\"data\")"
   ]
  }
 ],
 "metadata": {
  "kernelspec": {
   "display_name": "retrieval",
   "language": "python",
   "name": "python3"
  },
  "language_info": {
   "codemirror_mode": {
    "name": "ipython",
    "version": 3
   },
   "file_extension": ".py",
   "mimetype": "text/x-python",
   "name": "python",
   "nbconvert_exporter": "python",
   "pygments_lexer": "ipython3",
   "version": "3.10.15"
  }
 },
 "nbformat": 4,
 "nbformat_minor": 2
}
