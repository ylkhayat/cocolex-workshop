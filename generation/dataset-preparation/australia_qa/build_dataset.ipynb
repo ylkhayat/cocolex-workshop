{
 "cells": [
  {
   "cell_type": "code",
   "execution_count": 1,
   "metadata": {},
   "outputs": [
    {
     "data": {
      "application/vnd.jupyter.widget-view+json": {
       "model_id": "63277e0980ff40c49cd9b1458cc2c54a",
       "version_major": 2,
       "version_minor": 0
      },
      "text/plain": [
       "README.md:   0%|          | 0.00/9.11k [00:00<?, ?B/s]"
      ]
     },
     "metadata": {},
     "output_type": "display_data"
    },
    {
     "data": {
      "application/vnd.jupyter.widget-view+json": {
       "model_id": "6f2e9f09573b4524a21bb4344882e75c",
       "version_major": 2,
       "version_minor": 0
      },
      "text/plain": [
       "qa.jsonl:   0%|          | 0.00/13.5M [00:00<?, ?B/s]"
      ]
     },
     "metadata": {},
     "output_type": "display_data"
    },
    {
     "data": {
      "application/vnd.jupyter.widget-view+json": {
       "model_id": "795a494daf094081bd8a99ef51643aa2",
       "version_major": 2,
       "version_minor": 0
      },
      "text/plain": [
       "Generating train split: 0 examples [00:00, ? examples/s]"
      ]
     },
     "metadata": {},
     "output_type": "display_data"
    },
    {
     "data": {
      "application/vnd.jupyter.widget-view+json": {
       "model_id": "e544113c8e1a426fb70ecbd0954448c7",
       "version_major": 2,
       "version_minor": 0
      },
      "text/plain": [
       "README.md:   0%|          | 0.00/15.6k [00:00<?, ?B/s]"
      ]
     },
     "metadata": {},
     "output_type": "display_data"
    },
    {
     "data": {
      "application/vnd.jupyter.widget-view+json": {
       "model_id": "48af0d91b778412482ffa7def56c9afe",
       "version_major": 2,
       "version_minor": 0
      },
      "text/plain": [
       "corpus.jsonl:   0%|          | 0.00/9.31G [00:00<?, ?B/s]"
      ]
     },
     "metadata": {},
     "output_type": "display_data"
    },
    {
     "data": {
      "application/vnd.jupyter.widget-view+json": {
       "model_id": "124b732fa0924535a61b24b3f04f1861",
       "version_major": 2,
       "version_minor": 0
      },
      "text/plain": [
       "Generating corpus split:   0%|          | 0/229122 [00:00<?, ? examples/s]"
      ]
     },
     "metadata": {},
     "output_type": "display_data"
    },
    {
     "data": {
      "application/vnd.jupyter.widget-view+json": {
       "model_id": "1a743b1245444fd98099911d05096c11",
       "version_major": 2,
       "version_minor": 0
      },
      "text/plain": [
       "Loading dataset shards:   0%|          | 0/19 [00:00<?, ?it/s]"
      ]
     },
     "metadata": {},
     "output_type": "display_data"
    }
   ],
   "source": [
    "from datasets import load_dataset\n",
    "\n",
    "dataset = load_dataset(\"umarbutler/open-australian-legal-qa\")\n",
    "documents_dataset = load_dataset(\"umarbutler/open-australian-legal-corpus\")"
   ]
  },
  {
   "cell_type": "code",
   "execution_count": 3,
   "metadata": {},
   "outputs": [
    {
     "data": {
      "text/plain": [
       "DatasetDict({\n",
       "    train: Dataset({\n",
       "        features: ['question', 'answer', 'text', 'prompt', 'source'],\n",
       "        num_rows: 2124\n",
       "    })\n",
       "})"
      ]
     },
     "execution_count": 3,
     "metadata": {},
     "output_type": "execute_result"
    }
   ],
   "source": [
    "dataset"
   ]
  },
  {
   "cell_type": "code",
   "execution_count": 7,
   "metadata": {},
   "outputs": [
    {
     "name": "stderr",
     "output_type": "stream",
     "text": [
      "100%|██████████| 229122/229122 [00:31<00:00, 7347.17it/s]\n"
     ]
    }
   ],
   "source": [
    "from tqdm import tqdm\n",
    "\n",
    "corpus_dict = {item['version_id']: item['text'] for item in tqdm(documents_dataset['corpus'])}"
   ]
  },
  {
   "cell_type": "code",
   "execution_count": 4,
   "metadata": {},
   "outputs": [
    {
     "name": "stdout",
     "output_type": "stream",
     "text": [
      "{\n",
      "  \"question\": \"In the case of Nasr v NRMA Insurance [2006] NSWSC 1018, why was the plaintiff's appeal lodged out of time?\",\n",
      "  \"answer\": \"In Nasr v NRMA Insurance [2006] NSWSC 1018, the plaintiff's appeal was lodged out of time because the summons was filed on 8 June 2006, seven months after the decision of the Local Court was made on 4 October 2005. No explanation was provided for this delay.\",\n",
      "  \"text\": \"Question: In the case of Nasr v NRMA Insurance [2006] NSWSC 1018, why was the plaintiff's appeal lodged out of time?\\nAnswer: In Nasr v NRMA Insurance [2006] NSWSC 1018, the plaintiff's appeal was lodged out of time because the summons was filed on 8 June 2006, seven months after the decision of the Local Court was made on 4 October 2005. No explanation was provided for this delay.\",\n",
      "  \"prompt\": \"# Snippet\\nThe snippet from an Australian legal document from which you must synthesise a question and answer is provided below.\\n<document_metadata>\\n<document_title>Nasr v NRMA Insurance [2006] NSWSC 1018</document_title>\\n<document_jurisdiction>New South Wales</document_jurisdiction>\\n<document_type>Decision</document_type>\\n</document_metadata>\\n<snippet>\\n 3 The plaintiff claims that he was overseas when the Local Court struck out his case against the NRMA and they (the NRMA) rejected payment of his claim for his car after it was burnt on 6 July 2004. There are no grounds of appeal in his summons but it may be that he could have submitted that he was denied procedural fairness or natural justice. 4 This appeal has been lodged out of time. The decision of the Local Court was made on 4 October 2005. The summons was filed on 8 June 2006, some seven months out of time. No explanation has been provided for this delay. In these circumstances this Court cannot grant an extension of time in which to lodge this appeal. The Local Court proceedings 5 The Local Court file was not before this Court. There are four letters from the Local Court in evidence. The statement of claim is not before this Court. However, it seems that Mr Nasr sued the NRMA because it denied to pay a claim he made pursuant to his motor vehicle insurance policy and he was seeking damages. Doing the best I can, it appears that Mr Nasr sought and was granted a number of adjournments while he was overseas in China. \\n</snippet>\\n\\n# Format\\nYou must format your response as follows:\\n<format>\\n# Question\\n{A question related to the snippet, or a topic discussed therein.}\\n\\n# Answer\\n{The answer to the question, extracted from the snippet.}\\n</format>\\n\\n# Instructions\\nYou must act as a question-and-answer synthesiser that takes a snippet from an Australian legal document and synthesises a question related to the snippet, or a topic discussed therein, and an answer to that question, extracted from the snippet.\\n\\nYour question must be decontextualised and standalone from the snippet. If the question pertains to a particular jurisdiction or document, it must state that explicitly (eg, 'In Victoria, is it lawful for ...?', 'What did the Court decide in Mabo v Queensland (No 2) [1992] HCA 23?', etc...).\\n\\nYour answer must also be decontextualised and standalone from the snippet. It must reference the document from which it came (eg, 'Under the Crimes Act 1958 (Vic), ...', 'In Mabo v Queensland (No 2) [1992] HCA 23, the Court decided ...', etc...), not the snippet itself. It must be capable of being understood on its own and without reference to the snippet or its source document.\\n\\nWhen referring to a document (eg, the Crimes Act) or a part thereof (eg, Paragraph 1), or to a person (eg, the Minister), organisation (eg, the Department) or concept (eg, the rule of law), you must refer to it by its full name (eg, the Crimes Act 1958 (Vic) instead of the Crimes Act, Paragraph 1 of ABC v XYZ instead of Paragraph 1, the Commonwealth Minister for Finance instead of the Minister).\\n\\nIf it is not possible to synthesise a question and answer from the snippet, you must respond with `<!no_qa!>`. Otherwise, your response must conform to the provided format.\",\n",
      "  \"source\": {\n",
      "    \"version_id\": \"nsw_caselaw:549fc6183004262463bb648a\",\n",
      "    \"type\": \"decision\",\n",
      "    \"jurisdiction\": \"new_south_wales\",\n",
      "    \"source\": \"nsw_caselaw\",\n",
      "    \"citation\": \"Nasr v NRMA Insurance [2006] NSWSC 1018\",\n",
      "    \"url\": \"https://www.caselaw.nsw.gov.au/decision/549fc6183004262463bb648a\",\n",
      "    \"text\": \" 3 The plaintiff claims that he was overseas when the Local Court struck out his case against the NRMA and they (the NRMA) rejected payment of his claim for his car after it was burnt on 6 July 2004. There are no grounds of appeal in his summons but it may be that he could have submitted that he was denied procedural fairness or natural justice. 4 This appeal has been lodged out of time. The decision of the Local Court was made on 4 October 2005. The summons was filed on 8 June 2006, some seven months out of time. No explanation has been provided for this delay. In these circumstances this Court cannot grant an extension of time in which to lodge this appeal. The Local Court proceedings 5 The Local Court file was not before this Court. There are four letters from the Local Court in evidence. The statement of claim is not before this Court. However, it seems that Mr Nasr sued the NRMA because it denied to pay a claim he made pursuant to his motor vehicle insurance policy and he was seeking damages. Doing the best I can, it appears that Mr Nasr sought and was granted a number of adjournments while he was overseas in China. \"\n",
      "  }\n",
      "}\n"
     ]
    }
   ],
   "source": [
    "import json\n",
    "\n",
    "print(json.dumps(dataset['train'][0], indent=2))"
   ]
  },
  {
   "cell_type": "code",
   "execution_count": null,
   "metadata": {},
   "outputs": [],
   "source": [
    "import spacy\n",
    "from datasets import DatasetDict\n",
    "import os\n",
    "\n",
    "num_proc=os.cpu_count()\n",
    "\n",
    "from more_itertools import windowed\n",
    "nlp = spacy.load(\"en_core_web_sm\")\n",
    "\n",
    "def chunk_document(document):\n",
    "    doc = nlp(document)\n",
    "    sentences = [sent.text for sent in doc.sents]\n",
    "    return sentences\n",
    "\n",
    "def process_record(record):\n",
    "    document = record['context']\n",
    "    gold_text = record['answer']\n",
    "    source = record['source']\n",
    "    citations = [[source['version_id'], ]]\n",
    "    sentences = chunk_document(document)\n",
    "    oracle_documents_passages = []\n",
    "    for sentence in windowed(sentences, 5, fillvalue=\"\", step=2):\n",
    "        section = \" \".join([s for s in sentence if (s is not None and len(s.strip()) > 0)])\n",
    "        oracle_documents_passages.append([document_id, section])\n",
    "    \n",
    "    return {\n",
    "        'previous_text': record['question'],\n",
    "        'gold_text': gold_text,\n",
    "        'citations': citations,\n",
    "        'oracle_documents_passages': oracle_documents_passages,\n",
    "    }\n",
    "\n",
    "dataset_train = dataset['train'].select(range(1000))\n",
    "dataset_test = dataset['test']\n",
    "\n",
    "dataset = DatasetDict({\n",
    "    'train': dataset_train,\n",
    "    'test': dataset_test,\n",
    "})\n",
    "dataset = dataset.map(process_record, num_proc=num_proc)"
   ]
  }
 ],
 "metadata": {
  "kernelspec": {
   "display_name": "retrieval",
   "language": "python",
   "name": "python3"
  },
  "language_info": {
   "codemirror_mode": {
    "name": "ipython",
    "version": 3
   },
   "file_extension": ".py",
   "mimetype": "text/x-python",
   "name": "python",
   "nbconvert_exporter": "python",
   "pygments_lexer": "ipython3",
   "version": "3.10.15"
  }
 },
 "nbformat": 4,
 "nbformat_minor": 2
}
